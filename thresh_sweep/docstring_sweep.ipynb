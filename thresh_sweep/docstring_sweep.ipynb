{
 "cells": [
  {
   "cell_type": "code",
   "execution_count": 7,
   "id": "2861525f-e65f-4dc8-9774-84a5a292a2e5",
   "metadata": {},
   "outputs": [
    {
     "name": "stdout",
     "output_type": "stream",
     "text": [
      "The autoreload extension is already loaded. To reload it, use:\n",
      "  %reload_ext autoreload\n",
      "cpu\n"
     ]
    },
    {
     "name": "stderr",
     "output_type": "stream",
     "text": [
      "/var/folders/tn/nyh0947d6sngjfvtp7hbb0jr0000gn/T/ipykernel_76242/1557166804.py:8: DeprecationWarning: `magic(...)` is deprecated since IPython 0.13 (warning added in 8.1), use run_line_magic(magic_name, parameter_s).\n",
      "  ipython.magic('load_ext autoreload')\n",
      "/var/folders/tn/nyh0947d6sngjfvtp7hbb0jr0000gn/T/ipykernel_76242/1557166804.py:9: DeprecationWarning: `magic(...)` is deprecated since IPython 0.13 (warning added in 8.1), use run_line_magic(magic_name, parameter_s).\n",
      "  ipython.magic('autoreload 2')\n"
     ]
    }
   ],
   "source": [
    "import os\n",
    "import sys\n",
    "sys.path.append('/Automatic-Circuit-Discovery/')\n",
    "sys.path.append('..')\n",
    "import IPython\n",
    "ipython = get_ipython()\n",
    "if ipython is not None:\n",
    "    ipython.magic('load_ext autoreload')\n",
    "    ipython.magic('autoreload 2')\n",
    "import torch as t\n",
    "from torch import Tensor\n",
    "import numpy as np\n",
    "import matplotlib.pyplot as plt\n",
    "import json\n",
    "\n",
    "from acdc.TLACDCExperiment import TLACDCExperiment\n",
    "from acdc.docstring.utils import get_all_docstring_things\n",
    "from utils.prune_utils import get_3_caches, split_layers_and_heads\n",
    "from ACDCPPExperiment import ACDCPPExperiment\n",
    "device = t.device(\"cuda\" if t.cuda.is_available() else \"cpu\")\n",
    "print(device)"
   ]
  },
  {
   "cell_type": "code",
   "execution_count": 8,
   "id": "5306b51d-26b3-47b8-9c08-f77b6a9350ff",
   "metadata": {},
   "outputs": [
    {
     "name": "stdout",
     "output_type": "stream",
     "text": [
      "Loaded pretrained model attn-only-4l into HookedTransformer\n",
      "Moving model to device:  cpu\n"
     ]
    }
   ],
   "source": [
    "all_docstring_items = get_all_docstring_things(num_examples=40, seq_len=5, device=device, metric_name='docstring_metric', correct_incorrect_wandb=False)\n",
    "\n",
    "tl_model = all_docstring_items.tl_model\n",
    "validation_metric = all_docstring_items.validation_metric\n",
    "validation_data = all_docstring_items.validation_data\n",
    "validation_labels = all_docstring_items.validation_labels\n",
    "validation_patch_data = all_docstring_items.validation_patch_data\n",
    "test_metrics = all_docstring_items.test_metrics\n",
    "test_data = all_docstring_items.test_data\n",
    "test_labels = all_docstring_items.test_labels\n",
    "test_patch_data = all_docstring_items.test_patch_data"
   ]
  },
  {
   "cell_type": "code",
   "execution_count": 9,
   "id": "15465560-54a2-4433-8c8a-e13a152849e5",
   "metadata": {},
   "outputs": [],
   "source": [
    "def abs_docstring_metric(logits):\n",
    "    return -abs(test_metrics['docstring_metric'](logits))"
   ]
  },
  {
   "cell_type": "markdown",
   "id": "dd81216c",
   "metadata": {},
   "source": [
    "# ACDC++ run"
   ]
  },
  {
   "cell_type": "code",
   "execution_count": 10,
   "id": "714a757d",
   "metadata": {},
   "outputs": [
    {
     "name": "stdout",
     "output_type": "stream",
     "text": [
      "ACDCPP_THRESHOLDS=array([0.00000000e+00, 2.38284811e-05, 6.82082755e-05, 1.50934298e-04,\n",
      "       2.18203088e-04, 3.29843082e-04, 4.79909359e-04, 6.15596189e-04,\n",
      "       7.34498259e-04, 9.68689215e-04, 1.22944312e-03, 1.50710775e-03,\n",
      "       1.85378385e-03, 2.22017476e-03, 2.56084721e-03, 2.89705396e-03,\n",
      "       3.27157741e-03, 3.67312180e-03, 4.13499493e-03, 4.58357995e-03,\n",
      "       5.22358762e-03, 5.91202918e-03, 6.79141749e-03, 7.49874394e-03,\n",
      "       8.78367666e-03, 1.01053845e-02, 1.13945547e-02, 1.32022006e-02,\n",
      "       1.55601408e-02, 1.83076523e-02, 2.12819129e-02, 2.54760347e-02,\n",
      "       3.21723744e-02, 4.07917686e-02, 5.32582477e-02, 6.67442381e-02,\n",
      "       1.04569145e-01, 2.13512376e-01, 7.12125480e-01, 4.55413389e+00])\n",
      "ACDC_THRESHOLDS=array([0.08, 0.08, 0.08, 0.08, 0.08, 0.08, 0.08, 0.08, 0.08, 0.08, 0.08,\n",
      "       0.08, 0.08, 0.08, 0.08, 0.08, 0.08, 0.08, 0.08, 0.08, 0.08, 0.08,\n",
      "       0.08, 0.08, 0.08, 0.08, 0.08, 0.08, 0.08, 0.08, 0.08, 0.08, 0.08,\n",
      "       0.08, 0.08, 0.08, 0.08, 0.08, 0.08, 0.08])\n"
     ]
    }
   ],
   "source": [
    "RUN_NAME = \"docstring_abs_lin_num_passes\"\n",
    "\n",
    "ACDCPP_THRESHOLDS = np.array([0.00000000e+00, 2.38284811e-05, 6.82082755e-05, 1.50934298e-04,\n",
    "       2.18203088e-04, 3.29843082e-04, 4.79909359e-04, 6.15596189e-04,\n",
    "       7.34498259e-04, 9.68689215e-04, 1.22944312e-03, 1.50710775e-03,\n",
    "       1.85378385e-03, 2.22017476e-03, 2.56084721e-03, 2.89705396e-03,\n",
    "       3.27157741e-03, 3.67312180e-03, 4.13499493e-03, 4.58357995e-03,\n",
    "       5.22358762e-03, 5.91202918e-03, 6.79141749e-03, 7.49874394e-03,\n",
    "       8.78367666e-03, 1.01053845e-02, 1.13945547e-02, 1.32022006e-02,\n",
    "       1.55601408e-02, 1.83076523e-02, 2.12819129e-02, 2.54760347e-02,\n",
    "       3.21723744e-02, 4.07917686e-02, 5.32582477e-02, 6.67442381e-02,\n",
    "       1.04569145e-01, 2.13512376e-01, 7.12125480e-01, 4.55413389e+00])\n",
    "ACDC_THRESHOLDS = 0.08 * np.ones(len(ACDCPP_THRESHOLDS))\n",
    "\n",
    "print(f\"{ACDCPP_THRESHOLDS=}\")\n",
    "print(f\"{ACDC_THRESHOLDS=}\")"
   ]
  },
  {
   "cell_type": "code",
   "execution_count": null,
   "id": "c8fbc8ea",
   "metadata": {},
   "outputs": [],
   "source": [
    "combined_exp = ACDCPPExperiment(\n",
    "    tl_model,\n",
    "    test_data,\n",
    "    test_patch_data,\n",
    "    acdc_metric=test_metrics['docstring_metric'],\n",
    "    acdcpp_metric=abs_docstring_metric,\n",
    "    acdc_thresholds=ACDC_THRESHOLDS,\n",
    "    acdcpp_thresholds=ACDCPP_THRESHOLDS,\n",
    "    run_name=RUN_NAME,\n",
    "    verbose=False,\n",
    "    attr_absolute_val=True,\n",
    "    save_graphs_after=0,\n",
    "    pruning_mode='edge',\n",
    "    no_pruned_nodes_attr=1,\n",
    "    thresholds_combined=False,\n",
    ")\n",
    "present_edge_attrs, num_passes, acdcpp_attrs = combined_exp.run()"
   ]
  }
 ],
 "metadata": {
  "kernelspec": {
   "display_name": "Python 3 (ipykernel)",
   "language": "python",
   "name": "python3"
  },
  "language_info": {
   "codemirror_mode": {
    "name": "ipython",
    "version": 3
   },
   "file_extension": ".py",
   "mimetype": "text/x-python",
   "name": "python",
   "nbconvert_exporter": "python",
   "pygments_lexer": "ipython3",
   "version": "3.10.0"
  }
 },
 "nbformat": 4,
 "nbformat_minor": 5
}
