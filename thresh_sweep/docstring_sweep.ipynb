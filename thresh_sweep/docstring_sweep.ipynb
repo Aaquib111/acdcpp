{
 "cells": [
  {
   "cell_type": "code",
   "execution_count": 6,
   "id": "2861525f-e65f-4dc8-9774-84a5a292a2e5",
   "metadata": {},
   "outputs": [
    {
     "name": "stdout",
     "output_type": "stream",
     "text": [
      "The autoreload extension is already loaded. To reload it, use:\n",
      "  %reload_ext autoreload\n",
      "cpu\n"
     ]
    },
    {
     "name": "stderr",
     "output_type": "stream",
     "text": [
      "/var/folders/tn/nyh0947d6sngjfvtp7hbb0jr0000gn/T/ipykernel_40088/1557166804.py:8: DeprecationWarning: `magic(...)` is deprecated since IPython 0.13 (warning added in 8.1), use run_line_magic(magic_name, parameter_s).\n",
      "  ipython.magic('load_ext autoreload')\n",
      "/var/folders/tn/nyh0947d6sngjfvtp7hbb0jr0000gn/T/ipykernel_40088/1557166804.py:9: DeprecationWarning: `magic(...)` is deprecated since IPython 0.13 (warning added in 8.1), use run_line_magic(magic_name, parameter_s).\n",
      "  ipython.magic('autoreload 2')\n"
     ]
    }
   ],
   "source": [
    "import os\n",
    "import sys\n",
    "sys.path.append('/Automatic-Circuit-Discovery/')\n",
    "sys.path.append('..')\n",
    "import IPython\n",
    "ipython = get_ipython()\n",
    "if ipython is not None:\n",
    "    ipython.magic('load_ext autoreload')\n",
    "    ipython.magic('autoreload 2')\n",
    "import torch as t\n",
    "from torch import Tensor\n",
    "import numpy as np\n",
    "import matplotlib.pyplot as plt\n",
    "import json\n",
    "\n",
    "from acdc.TLACDCExperiment import TLACDCExperiment\n",
    "from acdc.docstring.utils import get_all_docstring_things\n",
    "from utils.prune_utils import get_3_caches, split_layers_and_heads\n",
    "from ACDCPPExperiment import ACDCPPExperiment\n",
    "device = t.device(\"cuda\" if t.cuda.is_available() else \"cpu\")\n",
    "print(device)"
   ]
  },
  {
   "cell_type": "code",
   "execution_count": 7,
   "id": "5306b51d-26b3-47b8-9c08-f77b6a9350ff",
   "metadata": {},
   "outputs": [
    {
     "name": "stdout",
     "output_type": "stream",
     "text": [
      "Loaded pretrained model attn-only-4l into HookedTransformer\n",
      "Moving model to device:  cpu\n"
     ]
    }
   ],
   "source": [
    "all_docstring_items = get_all_docstring_things(num_examples=40, seq_len=5, device=device, metric_name='docstring_metric', correct_incorrect_wandb=False)\n",
    "\n",
    "tl_model = all_docstring_items.tl_model\n",
    "validation_metric = all_docstring_items.validation_metric\n",
    "validation_data = all_docstring_items.validation_data\n",
    "validation_labels = all_docstring_items.validation_labels\n",
    "validation_patch_data = all_docstring_items.validation_patch_data\n",
    "test_metrics = all_docstring_items.test_metrics\n",
    "test_data = all_docstring_items.test_data\n",
    "test_labels = all_docstring_items.test_labels\n",
    "test_patch_data = all_docstring_items.test_patch_data"
   ]
  },
  {
   "cell_type": "code",
   "execution_count": 8,
   "id": "15465560-54a2-4433-8c8a-e13a152849e5",
   "metadata": {},
   "outputs": [],
   "source": [
    "def abs_docstring_metric(logits):\n",
    "    return -abs(test_metrics['docstring_metric'](logits))"
   ]
  },
  {
   "cell_type": "markdown",
   "id": "dd81216c",
   "metadata": {},
   "source": [
    "# ACDC++ run"
   ]
  },
  {
   "cell_type": "code",
   "execution_count": 9,
   "id": "714a757d",
   "metadata": {},
   "outputs": [
    {
     "name": "stdout",
     "output_type": "stream",
     "text": [
      "ACDCPP_THRESHOLDS=array([0.75])\n",
      "ACDC_THRESHOLDS=array([0.75])\n"
     ]
    }
   ],
   "source": [
    "RUN_NAME = \"docstring_absval_edge\"\n",
    "acdcpp_docstring_convergence_thresh = 1#0.03\n",
    "acdc_paper_thresh = 1#0.067\n",
    "num_thresholds = 1#5\n",
    "\n",
    "ACDCPP_THRESHOLDS = np.linspace(\n",
    "    0.75 * acdcpp_docstring_convergence_thresh,\n",
    "    1.25 * acdcpp_docstring_convergence_thresh,\n",
    "    num_thresholds\n",
    ")\n",
    "ACDC_THRESHOLDS = np.linspace(\n",
    "    0.75 * acdc_paper_thresh,\n",
    "    1.25 * acdc_paper_thresh,\n",
    "    num_thresholds\n",
    ")\n",
    "\n",
    "print(f\"{ACDCPP_THRESHOLDS=}\")\n",
    "print(f\"{ACDC_THRESHOLDS=}\")"
   ]
  },
  {
   "cell_type": "code",
   "execution_count": 10,
   "id": "c8fbc8ea",
   "metadata": {},
   "outputs": [
    {
     "name": "stderr",
     "output_type": "stream",
     "text": [
      "WARNING:root:cache_all is deprecated and will eventually be removed, use add_caching_hooks or run_with_cache\n",
      "WARNING:root:cache_all is deprecated and will eventually be removed, use add_caching_hooks or run_with_cache\n"
     ]
    },
    {
     "name": "stdout",
     "output_type": "stream",
     "text": [
      "self.current_node=TLACDCInterpNode(blocks.3.hook_resid_post, [:])\n"
     ]
    },
    {
     "name": "stderr",
     "output_type": "stream",
     "text": [
      "Edge pruning: 100%|██████████| 193/193 [00:00<00:00, 260.38it/s]\n"
     ]
    },
    {
     "ename": "TypeError",
     "evalue": "ACDCPPExperiment.convert_to_torch_index() takes 1 positional argument but 2 were given",
     "output_type": "error",
     "traceback": [
      "\u001b[0;31m---------------------------------------------------------------------------\u001b[0m",
      "\u001b[0;31mTypeError\u001b[0m                                 Traceback (most recent call last)",
      "\u001b[1;32m/Users/canrager/acdcpp/thresh_sweep/docstring_sweep.ipynb Cell 6\u001b[0m line \u001b[0;36m1\n\u001b[1;32m      <a href='vscode-notebook-cell:/Users/canrager/acdcpp/thresh_sweep/docstring_sweep.ipynb#W5sZmlsZQ%3D%3D?line=0'>1</a>\u001b[0m combined_exp \u001b[39m=\u001b[39m ACDCPPExperiment(\n\u001b[1;32m      <a href='vscode-notebook-cell:/Users/canrager/acdcpp/thresh_sweep/docstring_sweep.ipynb#W5sZmlsZQ%3D%3D?line=1'>2</a>\u001b[0m     tl_model,\n\u001b[1;32m      <a href='vscode-notebook-cell:/Users/canrager/acdcpp/thresh_sweep/docstring_sweep.ipynb#W5sZmlsZQ%3D%3D?line=2'>3</a>\u001b[0m     test_data,\n\u001b[0;32m   (...)\u001b[0m\n\u001b[1;32m     <a href='vscode-notebook-cell:/Users/canrager/acdcpp/thresh_sweep/docstring_sweep.ipynb#W5sZmlsZQ%3D%3D?line=13'>14</a>\u001b[0m     no_pruned_nodes_attr\u001b[39m=\u001b[39m\u001b[39m1\u001b[39m,\n\u001b[1;32m     <a href='vscode-notebook-cell:/Users/canrager/acdcpp/thresh_sweep/docstring_sweep.ipynb#W5sZmlsZQ%3D%3D?line=14'>15</a>\u001b[0m )\n\u001b[0;32m---> <a href='vscode-notebook-cell:/Users/canrager/acdcpp/thresh_sweep/docstring_sweep.ipynb#W5sZmlsZQ%3D%3D?line=15'>16</a>\u001b[0m present_edge_attrs, num_passes, acdcpp_attrs \u001b[39m=\u001b[39m combined_exp\u001b[39m.\u001b[39;49mrun()\n",
      "File \u001b[0;32m~/acdcpp/thresh_sweep/../ACDCPPExperiment.py:182\u001b[0m, in \u001b[0;36mACDCPPExperiment.run\u001b[0;34m(self, save_after_acdcpp, save_after_acdc)\u001b[0m\n\u001b[1;32m    180\u001b[0m acdcpp_attrs \u001b[39m=\u001b[39m \u001b[39mself\u001b[39m\u001b[39m.\u001b[39mrun_acdcpp(exp)\n\u001b[1;32m    181\u001b[0m \u001b[39mif\u001b[39;00m save_after_acdcpp:\n\u001b[0;32m--> 182\u001b[0m     \u001b[39mself\u001b[39;49m\u001b[39m.\u001b[39;49msave_acdcpp_edge_attributions(acdcpp_attrs)\n\u001b[1;32m    184\u001b[0m \u001b[39m# Sweep through ACDC++ and ACDC thresholds\u001b[39;00m\n\u001b[1;32m    185\u001b[0m os\u001b[39m.\u001b[39mmakedirs(\u001b[39mf\u001b[39m\u001b[39m'\u001b[39m\u001b[39mims/\u001b[39m\u001b[39m{\u001b[39;00m\u001b[39mself\u001b[39m\u001b[39m.\u001b[39mrun_name\u001b[39m}\u001b[39;00m\u001b[39m'\u001b[39m, exist_ok\u001b[39m=\u001b[39m\u001b[39mTrue\u001b[39;00m)\n",
      "File \u001b[0;32m~/acdcpp/thresh_sweep/../ACDCPPExperiment.py:171\u001b[0m, in \u001b[0;36mACDCPPExperiment.save_acdcpp_edge_attributions\u001b[0;34m(self, acdcpp_attr)\u001b[0m\n\u001b[1;32m    169\u001b[0m cleaned_attrs \u001b[39m=\u001b[39m []\n\u001b[1;32m    170\u001b[0m \u001b[39mfor\u001b[39;00m ((e1, i1, _), (e2, i2, _)), attr \u001b[39min\u001b[39;00m acdcpp_attr\u001b[39m.\u001b[39mitems():\n\u001b[0;32m--> 171\u001b[0m     cleaned_attrs\u001b[39m.\u001b[39mappend([e1, \u001b[39mself\u001b[39;49m\u001b[39m.\u001b[39;49mconvert_to_torch_index(\u001b[39mstr\u001b[39;49m(i1)), e2, \u001b[39mself\u001b[39m\u001b[39m.\u001b[39mconvert_to_torch_index(\u001b[39mstr\u001b[39m(i2)), attr])\n\u001b[1;32m    173\u001b[0m \u001b[39mwith\u001b[39;00m \u001b[39mopen\u001b[39m(\u001b[39mf\u001b[39m\u001b[39m'\u001b[39m\u001b[39mres/\u001b[39m\u001b[39m{\u001b[39;00m\u001b[39mself\u001b[39m\u001b[39m.\u001b[39mrun_name\u001b[39m}\u001b[39;00m\u001b[39m/acdcpp_only_attrs.json\u001b[39m\u001b[39m'\u001b[39m, \u001b[39m'\u001b[39m\u001b[39mw\u001b[39m\u001b[39m'\u001b[39m) \u001b[39mas\u001b[39;00m f:\n\u001b[1;32m    174\u001b[0m     json\u001b[39m.\u001b[39mdump(cleaned_attrs, f)\n",
      "\u001b[0;31mTypeError\u001b[0m: ACDCPPExperiment.convert_to_torch_index() takes 1 positional argument but 2 were given"
     ]
    }
   ],
   "source": [
    "combined_exp = ACDCPPExperiment(\n",
    "    tl_model,\n",
    "    test_data,\n",
    "    test_patch_data,\n",
    "    acdc_metric=test_metrics['docstring_metric'],\n",
    "    acdcpp_metric=abs_docstring_metric,\n",
    "    acdc_thresholds=ACDC_THRESHOLDS,\n",
    "    acdcpp_thresholds=ACDCPP_THRESHOLDS,\n",
    "    run_name=RUN_NAME,\n",
    "    verbose=False,\n",
    "    attr_absolute_val=True,\n",
    "    save_graphs_after=0,\n",
    "    pruning_mode='edge',\n",
    "    no_pruned_nodes_attr=1,\n",
    ")\n",
    "present_edge_attrs, num_passes, acdcpp_attrs = combined_exp.run()"
   ]
  },
  {
   "cell_type": "code",
   "execution_count": null,
   "id": "a2083a3e",
   "metadata": {},
   "outputs": [],
   "source": []
  }
 ],
 "metadata": {
  "kernelspec": {
   "display_name": "Python 3 (ipykernel)",
   "language": "python",
   "name": "python3"
  },
  "language_info": {
   "codemirror_mode": {
    "name": "ipython",
    "version": 3
   },
   "file_extension": ".py",
   "mimetype": "text/x-python",
   "name": "python",
   "nbconvert_exporter": "python",
   "pygments_lexer": "ipython3",
   "version": "3.10.0"
  }
 },
 "nbformat": 4,
 "nbformat_minor": 5
}
