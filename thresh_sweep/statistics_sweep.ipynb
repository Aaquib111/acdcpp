{
 "cells": [
  {
   "cell_type": "code",
   "execution_count": 1,
   "id": "13505555-be2a-4ec7-b84e-e3b9ef928948",
   "metadata": {},
   "outputs": [
    {
     "name": "stderr",
     "output_type": "stream",
     "text": [
      "/Users/canrager/.pyenv/versions/acdc_env/envs/acdcpp_env/lib/python3.10/site-packages/tqdm/auto.py:21: TqdmWarning: IProgress not found. Please update jupyter and ipywidgets. See https://ipywidgets.readthedocs.io/en/stable/user_install.html\n",
      "  from .autonotebook import tqdm as notebook_tqdm\n"
     ]
    },
    {
     "name": "stdout",
     "output_type": "stream",
     "text": [
      "cpu\n"
     ]
    }
   ],
   "source": [
    "import sys\n",
    "sys.path.append('/Automatic-Circuit-Discovery/')\n",
    "sys.path.append('..')\n",
    "import os\n",
    "import re\n",
    "import json\n",
    "import pandas as pd\n",
    "import torch as t\n",
    "import numpy as np\n",
    "import matplotlib.pyplot as plt\n",
    "import matplotlib as mpl\n",
    "import plotly.express as px\n",
    "mpl.rcParams['axes.spines.right'] = False\n",
    "mpl.rcParams['axes.spines.top'] = False\n",
    "plt.style.use('seaborn-v0_8-paper')\n",
    "pd.options.display.max_colwidth = 100\n",
    "\n",
    "from acdc.docstring.utils import get_docstring_subgraph_true_edges\n",
    "\n",
    "device = t.device(\"cuda\" if t.cuda.is_available() else \"cpu\")\n",
    "print(device)"
   ]
  },
  {
   "cell_type": "markdown",
   "id": "d4dc6983",
   "metadata": {},
   "source": [
    "# Load experiment and results"
   ]
  },
  {
   "cell_type": "code",
   "execution_count": 2,
   "id": "f2b031c5",
   "metadata": {},
   "outputs": [],
   "source": [
    "EXP_NAME = 'docstring_abs_youdens_peak'\n",
    "with open(f'./res/{EXP_NAME}/present_edge_attrs.json', 'r') as f:\n",
    "    present_edge_attrs = json.load(f)\n",
    "\n",
    "with open(f'./res/{EXP_NAME}/num_passes.json', 'r') as f:\n",
    "    num_passes = json.load(f)"
   ]
  },
  {
   "cell_type": "code",
   "execution_count": 3,
   "id": "f3f47138",
   "metadata": {},
   "outputs": [
    {
     "name": "stdout",
     "output_type": "stream",
     "text": [
      "Loaded pretrained model attn-only-4l into HookedTransformer\n",
      "Moving model to device:  cpu\n"
     ]
    },
    {
     "name": "stderr",
     "output_type": "stream",
     "text": [
      "WARNING:root:cache_all is deprecated and will eventually be removed, use add_caching_hooks or run_with_cache\n",
      "WARNING:root:cache_all is deprecated and will eventually be removed, use add_caching_hooks or run_with_cache\n"
     ]
    },
    {
     "name": "stdout",
     "output_type": "stream",
     "text": [
      "self.current_node=TLACDCInterpNode(blocks.3.hook_resid_post, [:])\n"
     ]
    }
   ],
   "source": [
    "from acdc.docstring.utils import get_all_docstring_things\n",
    "from acdc.TLACDCExperiment import TLACDCExperiment\n",
    "all_docstring_items = get_all_docstring_things(num_examples=40, seq_len=5, device=device, metric_name='docstring_metric', correct_incorrect_wandb=False)\n",
    "\n",
    "model = all_docstring_items.tl_model\n",
    "test_metrics = all_docstring_items.test_metrics['docstring_metric']\n",
    "test_data = all_docstring_items.test_data\n",
    "test_patch_data = all_docstring_items.test_patch_data\n",
    "\n",
    "exp = TLACDCExperiment(\n",
    "            model=model,\n",
    "            threshold=0,\n",
    "            ds=test_data,\n",
    "            ref_ds=test_patch_data,\n",
    "            metric=test_metrics,\n",
    "            run_name=None,\n",
    "        )\n",
    "exp.model.reset_hooks()\n",
    "exp.setup_model_hooks(\n",
    "    add_sender_hooks=True,\n",
    "    add_receiver_hooks=True,\n",
    "    doing_acdc_runs=False\n",
    ")\n",
    "\n",
    "del all_docstring_items"
   ]
  },
  {
   "cell_type": "markdown",
   "id": "f1137172",
   "metadata": {},
   "source": [
    "# All edges and ground truth eges"
   ]
  },
  {
   "cell_type": "code",
   "execution_count": 4,
   "id": "fd06906f",
   "metadata": {},
   "outputs": [],
   "source": [
    "def convert_to_torch_index(index_list):\n",
    "    return ''.join(['None' if i == ':' else i for i in index_list])\n",
    "\n",
    "def get_all_edges(exp):\n",
    "    all_edges = set()\n",
    "    for child_name in exp.corr.edges:\n",
    "        for child_idx in exp.corr.edges[child_name]:\n",
    "            child_idx_converted = convert_to_torch_index(str(child_idx))\n",
    "            for parent_name in exp.corr.edges[child_name][child_idx]:\n",
    "                for parent_idx in exp.corr.edges[child_name][child_idx][parent_name]:\n",
    "                    parent_idx_converted = convert_to_torch_index(str(parent_idx))\n",
    "                    all_edges.add(f'{parent_name}{parent_idx_converted}{child_name}{child_idx_converted}')\n",
    "    return all_edges\n",
    "\n",
    "all_edges = get_all_edges(exp)"
   ]
  },
  {
   "cell_type": "code",
   "execution_count": 5,
   "id": "feff12e7-8baa-48dd-9807-267b043989de",
   "metadata": {
    "scrolled": true
   },
   "outputs": [],
   "source": [
    "# EDGES ground truth\n",
    "true_edges_tuples = get_docstring_subgraph_true_edges()\n",
    "true_edges = set()\n",
    "replace_parens = lambda tup: str(tup).replace('(', '[').replace(')', ']').replace('[None,]', '[None]')\n",
    "\n",
    "for child_name, child_idx, parent_name, parent_idx in true_edges_tuples:\n",
    "    true_edges.add(f'{parent_name}{replace_parens(parent_idx)}{child_name}{replace_parens(child_idx)}')"
   ]
  },
  {
   "cell_type": "code",
   "execution_count": 6,
   "id": "021decb6",
   "metadata": {},
   "outputs": [],
   "source": [
    "# pruned_edges, true_edges should all be in all_edges\n",
    "def test_all_edges(pruned_edges, verbose=False):\n",
    "    for pruned_edge in pruned_edges:\n",
    "        if not pruned_edge in all_edges:\n",
    "            print(pruned_edge)\n",
    "    if verbose:\n",
    "        print('Pruned edge test complete')\n",
    "    for true_edge in true_edges:\n",
    "        if not true_edge in all_edges:\n",
    "            print(true_edge)\n",
    "    if verbose:\n",
    "        print('True edge test complete')"
   ]
  },
  {
   "cell_type": "code",
   "execution_count": 7,
   "id": "3f655c2a",
   "metadata": {},
   "outputs": [
    {
     "data": {
      "text/html": [
       "<div>\n",
       "<style scoped>\n",
       "    .dataframe tbody tr th:only-of-type {\n",
       "        vertical-align: middle;\n",
       "    }\n",
       "\n",
       "    .dataframe tbody tr th {\n",
       "        vertical-align: top;\n",
       "    }\n",
       "\n",
       "    .dataframe thead th {\n",
       "        text-align: right;\n",
       "    }\n",
       "</style>\n",
       "<table border=\"1\" class=\"dataframe\">\n",
       "  <thead>\n",
       "    <tr style=\"text-align: right;\">\n",
       "      <th></th>\n",
       "      <th>pp_thresh</th>\n",
       "      <th>acdc_thresh</th>\n",
       "      <th>pp_thresh_str</th>\n",
       "      <th>acdc_thresh_str</th>\n",
       "      <th>tpr</th>\n",
       "      <th>tnr</th>\n",
       "      <th>fpr</th>\n",
       "      <th>fnr</th>\n",
       "      <th>youdens</th>\n",
       "      <th>num_passes</th>\n",
       "    </tr>\n",
       "  </thead>\n",
       "  <tbody>\n",
       "    <tr>\n",
       "      <th>0</th>\n",
       "      <td>0.0340</td>\n",
       "      <td>0.060</td>\n",
       "      <td>0.034</td>\n",
       "      <td>0.06</td>\n",
       "      <td>0.648649</td>\n",
       "      <td>0.979805</td>\n",
       "      <td>0.020195</td>\n",
       "      <td>0.351351</td>\n",
       "      <td>0.63</td>\n",
       "      <td>112</td>\n",
       "    </tr>\n",
       "    <tr>\n",
       "      <th>1</th>\n",
       "      <td>0.0340</td>\n",
       "      <td>0.095</td>\n",
       "      <td>0.034</td>\n",
       "      <td>0.095</td>\n",
       "      <td>0.621622</td>\n",
       "      <td>0.990251</td>\n",
       "      <td>0.009749</td>\n",
       "      <td>0.378378</td>\n",
       "      <td>0.61</td>\n",
       "      <td>96</td>\n",
       "    </tr>\n",
       "    <tr>\n",
       "      <th>2</th>\n",
       "      <td>0.0340</td>\n",
       "      <td>0.130</td>\n",
       "      <td>0.034</td>\n",
       "      <td>0.13</td>\n",
       "      <td>0.486486</td>\n",
       "      <td>0.997214</td>\n",
       "      <td>0.002786</td>\n",
       "      <td>0.513514</td>\n",
       "      <td>0.48</td>\n",
       "      <td>80</td>\n",
       "    </tr>\n",
       "    <tr>\n",
       "      <th>3</th>\n",
       "      <td>0.0340</td>\n",
       "      <td>0.165</td>\n",
       "      <td>0.034</td>\n",
       "      <td>0.165</td>\n",
       "      <td>0.297297</td>\n",
       "      <td>1.000000</td>\n",
       "      <td>0.000000</td>\n",
       "      <td>0.702703</td>\n",
       "      <td>0.30</td>\n",
       "      <td>55</td>\n",
       "    </tr>\n",
       "    <tr>\n",
       "      <th>4</th>\n",
       "      <td>0.0340</td>\n",
       "      <td>0.200</td>\n",
       "      <td>0.034</td>\n",
       "      <td>0.2</td>\n",
       "      <td>0.297297</td>\n",
       "      <td>1.000000</td>\n",
       "      <td>0.000000</td>\n",
       "      <td>0.702703</td>\n",
       "      <td>0.30</td>\n",
       "      <td>55</td>\n",
       "    </tr>\n",
       "    <tr>\n",
       "      <th>5</th>\n",
       "      <td>0.0398</td>\n",
       "      <td>0.060</td>\n",
       "      <td>0.0397</td>\n",
       "      <td>0.06</td>\n",
       "      <td>0.891892</td>\n",
       "      <td>0.979805</td>\n",
       "      <td>0.020195</td>\n",
       "      <td>0.108108</td>\n",
       "      <td>0.87</td>\n",
       "      <td>120</td>\n",
       "    </tr>\n",
       "    <tr>\n",
       "      <th>6</th>\n",
       "      <td>0.0398</td>\n",
       "      <td>0.095</td>\n",
       "      <td>0.0397</td>\n",
       "      <td>0.095</td>\n",
       "      <td>0.864865</td>\n",
       "      <td>0.989554</td>\n",
       "      <td>0.010446</td>\n",
       "      <td>0.135135</td>\n",
       "      <td>0.85</td>\n",
       "      <td>108</td>\n",
       "    </tr>\n",
       "    <tr>\n",
       "      <th>7</th>\n",
       "      <td>0.0398</td>\n",
       "      <td>0.130</td>\n",
       "      <td>0.0397</td>\n",
       "      <td>0.13</td>\n",
       "      <td>0.783784</td>\n",
       "      <td>0.990947</td>\n",
       "      <td>0.009053</td>\n",
       "      <td>0.216216</td>\n",
       "      <td>0.77</td>\n",
       "      <td>98</td>\n",
       "    </tr>\n",
       "    <tr>\n",
       "      <th>8</th>\n",
       "      <td>0.0398</td>\n",
       "      <td>0.165</td>\n",
       "      <td>0.0397</td>\n",
       "      <td>0.165</td>\n",
       "      <td>0.702703</td>\n",
       "      <td>0.995125</td>\n",
       "      <td>0.004875</td>\n",
       "      <td>0.297297</td>\n",
       "      <td>0.70</td>\n",
       "      <td>83</td>\n",
       "    </tr>\n",
       "    <tr>\n",
       "      <th>9</th>\n",
       "      <td>0.0398</td>\n",
       "      <td>0.200</td>\n",
       "      <td>0.0397</td>\n",
       "      <td>0.2</td>\n",
       "      <td>0.594595</td>\n",
       "      <td>0.996518</td>\n",
       "      <td>0.003482</td>\n",
       "      <td>0.405405</td>\n",
       "      <td>0.59</td>\n",
       "      <td>70</td>\n",
       "    </tr>\n",
       "    <tr>\n",
       "      <th>10</th>\n",
       "      <td>0.0456</td>\n",
       "      <td>0.060</td>\n",
       "      <td>0.0455</td>\n",
       "      <td>0.06</td>\n",
       "      <td>0.891892</td>\n",
       "      <td>0.980501</td>\n",
       "      <td>0.019499</td>\n",
       "      <td>0.108108</td>\n",
       "      <td>0.87</td>\n",
       "      <td>111</td>\n",
       "    </tr>\n",
       "    <tr>\n",
       "      <th>11</th>\n",
       "      <td>0.0456</td>\n",
       "      <td>0.095</td>\n",
       "      <td>0.0455</td>\n",
       "      <td>0.095</td>\n",
       "      <td>0.891892</td>\n",
       "      <td>0.989554</td>\n",
       "      <td>0.010446</td>\n",
       "      <td>0.108108</td>\n",
       "      <td>0.88</td>\n",
       "      <td>104</td>\n",
       "    </tr>\n",
       "    <tr>\n",
       "      <th>12</th>\n",
       "      <td>0.0456</td>\n",
       "      <td>0.130</td>\n",
       "      <td>0.0455</td>\n",
       "      <td>0.13</td>\n",
       "      <td>0.864865</td>\n",
       "      <td>0.990947</td>\n",
       "      <td>0.009053</td>\n",
       "      <td>0.135135</td>\n",
       "      <td>0.86</td>\n",
       "      <td>102</td>\n",
       "    </tr>\n",
       "    <tr>\n",
       "      <th>13</th>\n",
       "      <td>0.0456</td>\n",
       "      <td>0.165</td>\n",
       "      <td>0.0455</td>\n",
       "      <td>0.165</td>\n",
       "      <td>0.783784</td>\n",
       "      <td>0.991643</td>\n",
       "      <td>0.008357</td>\n",
       "      <td>0.216216</td>\n",
       "      <td>0.78</td>\n",
       "      <td>94</td>\n",
       "    </tr>\n",
       "    <tr>\n",
       "      <th>14</th>\n",
       "      <td>0.0456</td>\n",
       "      <td>0.200</td>\n",
       "      <td>0.0455</td>\n",
       "      <td>0.2</td>\n",
       "      <td>0.756757</td>\n",
       "      <td>0.997214</td>\n",
       "      <td>0.002786</td>\n",
       "      <td>0.243243</td>\n",
       "      <td>0.75</td>\n",
       "      <td>85</td>\n",
       "    </tr>\n",
       "    <tr>\n",
       "      <th>15</th>\n",
       "      <td>0.0513</td>\n",
       "      <td>0.060</td>\n",
       "      <td>0.0513</td>\n",
       "      <td>0.06</td>\n",
       "      <td>0.891892</td>\n",
       "      <td>0.986072</td>\n",
       "      <td>0.013928</td>\n",
       "      <td>0.108108</td>\n",
       "      <td>0.88</td>\n",
       "      <td>101</td>\n",
       "    </tr>\n",
       "    <tr>\n",
       "      <th>16</th>\n",
       "      <td>0.0513</td>\n",
       "      <td>0.095</td>\n",
       "      <td>0.0513</td>\n",
       "      <td>0.095</td>\n",
       "      <td>0.891892</td>\n",
       "      <td>0.990251</td>\n",
       "      <td>0.009749</td>\n",
       "      <td>0.108108</td>\n",
       "      <td>0.88</td>\n",
       "      <td>97</td>\n",
       "    </tr>\n",
       "    <tr>\n",
       "      <th>17</th>\n",
       "      <td>0.0513</td>\n",
       "      <td>0.130</td>\n",
       "      <td>0.0513</td>\n",
       "      <td>0.13</td>\n",
       "      <td>0.864865</td>\n",
       "      <td>0.990251</td>\n",
       "      <td>0.009749</td>\n",
       "      <td>0.135135</td>\n",
       "      <td>0.86</td>\n",
       "      <td>97</td>\n",
       "    </tr>\n",
       "    <tr>\n",
       "      <th>18</th>\n",
       "      <td>0.0513</td>\n",
       "      <td>0.165</td>\n",
       "      <td>0.0513</td>\n",
       "      <td>0.165</td>\n",
       "      <td>0.864865</td>\n",
       "      <td>0.990947</td>\n",
       "      <td>0.009053</td>\n",
       "      <td>0.135135</td>\n",
       "      <td>0.86</td>\n",
       "      <td>97</td>\n",
       "    </tr>\n",
       "    <tr>\n",
       "      <th>19</th>\n",
       "      <td>0.0513</td>\n",
       "      <td>0.200</td>\n",
       "      <td>0.0513</td>\n",
       "      <td>0.2</td>\n",
       "      <td>0.648649</td>\n",
       "      <td>0.998607</td>\n",
       "      <td>0.001393</td>\n",
       "      <td>0.351351</td>\n",
       "      <td>0.65</td>\n",
       "      <td>66</td>\n",
       "    </tr>\n",
       "    <tr>\n",
       "      <th>20</th>\n",
       "      <td>0.0571</td>\n",
       "      <td>0.060</td>\n",
       "      <td>0.0571</td>\n",
       "      <td>0.06</td>\n",
       "      <td>0.891892</td>\n",
       "      <td>0.983983</td>\n",
       "      <td>0.016017</td>\n",
       "      <td>0.108108</td>\n",
       "      <td>0.88</td>\n",
       "      <td>97</td>\n",
       "    </tr>\n",
       "    <tr>\n",
       "      <th>21</th>\n",
       "      <td>0.0571</td>\n",
       "      <td>0.095</td>\n",
       "      <td>0.0571</td>\n",
       "      <td>0.095</td>\n",
       "      <td>0.891892</td>\n",
       "      <td>0.990251</td>\n",
       "      <td>0.009749</td>\n",
       "      <td>0.108108</td>\n",
       "      <td>0.88</td>\n",
       "      <td>91</td>\n",
       "    </tr>\n",
       "    <tr>\n",
       "      <th>22</th>\n",
       "      <td>0.0571</td>\n",
       "      <td>0.130</td>\n",
       "      <td>0.0571</td>\n",
       "      <td>0.13</td>\n",
       "      <td>0.864865</td>\n",
       "      <td>0.992340</td>\n",
       "      <td>0.007660</td>\n",
       "      <td>0.135135</td>\n",
       "      <td>0.86</td>\n",
       "      <td>88</td>\n",
       "    </tr>\n",
       "    <tr>\n",
       "      <th>23</th>\n",
       "      <td>0.0571</td>\n",
       "      <td>0.165</td>\n",
       "      <td>0.0571</td>\n",
       "      <td>0.165</td>\n",
       "      <td>0.864865</td>\n",
       "      <td>0.992340</td>\n",
       "      <td>0.007660</td>\n",
       "      <td>0.135135</td>\n",
       "      <td>0.86</td>\n",
       "      <td>88</td>\n",
       "    </tr>\n",
       "    <tr>\n",
       "      <th>24</th>\n",
       "      <td>0.0571</td>\n",
       "      <td>0.200</td>\n",
       "      <td>0.0571</td>\n",
       "      <td>0.2</td>\n",
       "      <td>0.756757</td>\n",
       "      <td>0.995125</td>\n",
       "      <td>0.004875</td>\n",
       "      <td>0.243243</td>\n",
       "      <td>0.75</td>\n",
       "      <td>78</td>\n",
       "    </tr>\n",
       "    <tr>\n",
       "      <th>25</th>\n",
       "      <td>0.0629</td>\n",
       "      <td>0.060</td>\n",
       "      <td>0.0628</td>\n",
       "      <td>0.06</td>\n",
       "      <td>0.891892</td>\n",
       "      <td>0.983983</td>\n",
       "      <td>0.016017</td>\n",
       "      <td>0.108108</td>\n",
       "      <td>0.88</td>\n",
       "      <td>93</td>\n",
       "    </tr>\n",
       "    <tr>\n",
       "      <th>26</th>\n",
       "      <td>0.0629</td>\n",
       "      <td>0.095</td>\n",
       "      <td>0.0628</td>\n",
       "      <td>0.095</td>\n",
       "      <td>0.891892</td>\n",
       "      <td>0.990947</td>\n",
       "      <td>0.009053</td>\n",
       "      <td>0.108108</td>\n",
       "      <td>0.88</td>\n",
       "      <td>84</td>\n",
       "    </tr>\n",
       "    <tr>\n",
       "      <th>27</th>\n",
       "      <td>0.0629</td>\n",
       "      <td>0.130</td>\n",
       "      <td>0.0628</td>\n",
       "      <td>0.13</td>\n",
       "      <td>0.864865</td>\n",
       "      <td>0.992340</td>\n",
       "      <td>0.007660</td>\n",
       "      <td>0.135135</td>\n",
       "      <td>0.86</td>\n",
       "      <td>84</td>\n",
       "    </tr>\n",
       "    <tr>\n",
       "      <th>28</th>\n",
       "      <td>0.0629</td>\n",
       "      <td>0.165</td>\n",
       "      <td>0.0628</td>\n",
       "      <td>0.165</td>\n",
       "      <td>0.864865</td>\n",
       "      <td>0.992340</td>\n",
       "      <td>0.007660</td>\n",
       "      <td>0.135135</td>\n",
       "      <td>0.86</td>\n",
       "      <td>84</td>\n",
       "    </tr>\n",
       "    <tr>\n",
       "      <th>29</th>\n",
       "      <td>0.0629</td>\n",
       "      <td>0.200</td>\n",
       "      <td>0.0628</td>\n",
       "      <td>0.2</td>\n",
       "      <td>0.756757</td>\n",
       "      <td>0.995125</td>\n",
       "      <td>0.004875</td>\n",
       "      <td>0.243243</td>\n",
       "      <td>0.75</td>\n",
       "      <td>74</td>\n",
       "    </tr>\n",
       "    <tr>\n",
       "      <th>30</th>\n",
       "      <td>0.0687</td>\n",
       "      <td>0.060</td>\n",
       "      <td>0.0686</td>\n",
       "      <td>0.06</td>\n",
       "      <td>0.864865</td>\n",
       "      <td>0.988162</td>\n",
       "      <td>0.011838</td>\n",
       "      <td>0.135135</td>\n",
       "      <td>0.85</td>\n",
       "      <td>82</td>\n",
       "    </tr>\n",
       "    <tr>\n",
       "      <th>31</th>\n",
       "      <td>0.0687</td>\n",
       "      <td>0.095</td>\n",
       "      <td>0.0686</td>\n",
       "      <td>0.095</td>\n",
       "      <td>0.864865</td>\n",
       "      <td>0.990251</td>\n",
       "      <td>0.009749</td>\n",
       "      <td>0.135135</td>\n",
       "      <td>0.86</td>\n",
       "      <td>80</td>\n",
       "    </tr>\n",
       "    <tr>\n",
       "      <th>32</th>\n",
       "      <td>0.0687</td>\n",
       "      <td>0.130</td>\n",
       "      <td>0.0686</td>\n",
       "      <td>0.13</td>\n",
       "      <td>0.702703</td>\n",
       "      <td>0.992340</td>\n",
       "      <td>0.007660</td>\n",
       "      <td>0.297297</td>\n",
       "      <td>0.70</td>\n",
       "      <td>66</td>\n",
       "    </tr>\n",
       "    <tr>\n",
       "      <th>33</th>\n",
       "      <td>0.0687</td>\n",
       "      <td>0.165</td>\n",
       "      <td>0.0686</td>\n",
       "      <td>0.165</td>\n",
       "      <td>0.621622</td>\n",
       "      <td>0.993036</td>\n",
       "      <td>0.006964</td>\n",
       "      <td>0.378378</td>\n",
       "      <td>0.61</td>\n",
       "      <td>58</td>\n",
       "    </tr>\n",
       "    <tr>\n",
       "      <th>34</th>\n",
       "      <td>0.0687</td>\n",
       "      <td>0.200</td>\n",
       "      <td>0.0686</td>\n",
       "      <td>0.2</td>\n",
       "      <td>0.594595</td>\n",
       "      <td>0.995822</td>\n",
       "      <td>0.004178</td>\n",
       "      <td>0.405405</td>\n",
       "      <td>0.59</td>\n",
       "      <td>56</td>\n",
       "    </tr>\n",
       "    <tr>\n",
       "      <th>35</th>\n",
       "      <td>0.0744</td>\n",
       "      <td>0.060</td>\n",
       "      <td>0.0744</td>\n",
       "      <td>0.06</td>\n",
       "      <td>0.810811</td>\n",
       "      <td>0.989554</td>\n",
       "      <td>0.010446</td>\n",
       "      <td>0.189189</td>\n",
       "      <td>0.80</td>\n",
       "      <td>68</td>\n",
       "    </tr>\n",
       "    <tr>\n",
       "      <th>36</th>\n",
       "      <td>0.0744</td>\n",
       "      <td>0.095</td>\n",
       "      <td>0.0744</td>\n",
       "      <td>0.095</td>\n",
       "      <td>0.729730</td>\n",
       "      <td>0.991643</td>\n",
       "      <td>0.008357</td>\n",
       "      <td>0.270270</td>\n",
       "      <td>0.72</td>\n",
       "      <td>63</td>\n",
       "    </tr>\n",
       "    <tr>\n",
       "      <th>37</th>\n",
       "      <td>0.0744</td>\n",
       "      <td>0.130</td>\n",
       "      <td>0.0744</td>\n",
       "      <td>0.13</td>\n",
       "      <td>0.702703</td>\n",
       "      <td>0.992340</td>\n",
       "      <td>0.007660</td>\n",
       "      <td>0.297297</td>\n",
       "      <td>0.70</td>\n",
       "      <td>63</td>\n",
       "    </tr>\n",
       "    <tr>\n",
       "      <th>38</th>\n",
       "      <td>0.0744</td>\n",
       "      <td>0.165</td>\n",
       "      <td>0.0744</td>\n",
       "      <td>0.165</td>\n",
       "      <td>0.621622</td>\n",
       "      <td>0.992340</td>\n",
       "      <td>0.007660</td>\n",
       "      <td>0.378378</td>\n",
       "      <td>0.61</td>\n",
       "      <td>59</td>\n",
       "    </tr>\n",
       "    <tr>\n",
       "      <th>39</th>\n",
       "      <td>0.0744</td>\n",
       "      <td>0.200</td>\n",
       "      <td>0.0744</td>\n",
       "      <td>0.2</td>\n",
       "      <td>0.594595</td>\n",
       "      <td>0.995822</td>\n",
       "      <td>0.004178</td>\n",
       "      <td>0.405405</td>\n",
       "      <td>0.59</td>\n",
       "      <td>54</td>\n",
       "    </tr>\n",
       "    <tr>\n",
       "      <th>40</th>\n",
       "      <td>0.0802</td>\n",
       "      <td>0.060</td>\n",
       "      <td>0.0802</td>\n",
       "      <td>0.06</td>\n",
       "      <td>0.810811</td>\n",
       "      <td>0.990251</td>\n",
       "      <td>0.009749</td>\n",
       "      <td>0.189189</td>\n",
       "      <td>0.80</td>\n",
       "      <td>65</td>\n",
       "    </tr>\n",
       "    <tr>\n",
       "      <th>41</th>\n",
       "      <td>0.0802</td>\n",
       "      <td>0.095</td>\n",
       "      <td>0.0802</td>\n",
       "      <td>0.095</td>\n",
       "      <td>0.729730</td>\n",
       "      <td>0.990947</td>\n",
       "      <td>0.009053</td>\n",
       "      <td>0.270270</td>\n",
       "      <td>0.72</td>\n",
       "      <td>60</td>\n",
       "    </tr>\n",
       "    <tr>\n",
       "      <th>42</th>\n",
       "      <td>0.0802</td>\n",
       "      <td>0.130</td>\n",
       "      <td>0.0802</td>\n",
       "      <td>0.13</td>\n",
       "      <td>0.648649</td>\n",
       "      <td>0.992340</td>\n",
       "      <td>0.007660</td>\n",
       "      <td>0.351351</td>\n",
       "      <td>0.64</td>\n",
       "      <td>53</td>\n",
       "    </tr>\n",
       "    <tr>\n",
       "      <th>43</th>\n",
       "      <td>0.0802</td>\n",
       "      <td>0.165</td>\n",
       "      <td>0.0802</td>\n",
       "      <td>0.165</td>\n",
       "      <td>0.621622</td>\n",
       "      <td>0.993036</td>\n",
       "      <td>0.006964</td>\n",
       "      <td>0.378378</td>\n",
       "      <td>0.61</td>\n",
       "      <td>53</td>\n",
       "    </tr>\n",
       "    <tr>\n",
       "      <th>44</th>\n",
       "      <td>0.0802</td>\n",
       "      <td>0.200</td>\n",
       "      <td>0.0802</td>\n",
       "      <td>0.2</td>\n",
       "      <td>0.594595</td>\n",
       "      <td>0.997214</td>\n",
       "      <td>0.002786</td>\n",
       "      <td>0.405405</td>\n",
       "      <td>0.59</td>\n",
       "      <td>46</td>\n",
       "    </tr>\n",
       "    <tr>\n",
       "      <th>45</th>\n",
       "      <td>0.0860</td>\n",
       "      <td>0.060</td>\n",
       "      <td>0.086</td>\n",
       "      <td>0.06</td>\n",
       "      <td>0.729730</td>\n",
       "      <td>0.990251</td>\n",
       "      <td>0.009749</td>\n",
       "      <td>0.270270</td>\n",
       "      <td>0.72</td>\n",
       "      <td>59</td>\n",
       "    </tr>\n",
       "    <tr>\n",
       "      <th>46</th>\n",
       "      <td>0.0860</td>\n",
       "      <td>0.095</td>\n",
       "      <td>0.086</td>\n",
       "      <td>0.095</td>\n",
       "      <td>0.729730</td>\n",
       "      <td>0.991643</td>\n",
       "      <td>0.008357</td>\n",
       "      <td>0.270270</td>\n",
       "      <td>0.72</td>\n",
       "      <td>59</td>\n",
       "    </tr>\n",
       "    <tr>\n",
       "      <th>47</th>\n",
       "      <td>0.0860</td>\n",
       "      <td>0.130</td>\n",
       "      <td>0.086</td>\n",
       "      <td>0.13</td>\n",
       "      <td>0.702703</td>\n",
       "      <td>0.993036</td>\n",
       "      <td>0.006964</td>\n",
       "      <td>0.297297</td>\n",
       "      <td>0.70</td>\n",
       "      <td>56</td>\n",
       "    </tr>\n",
       "    <tr>\n",
       "      <th>48</th>\n",
       "      <td>0.0860</td>\n",
       "      <td>0.165</td>\n",
       "      <td>0.086</td>\n",
       "      <td>0.165</td>\n",
       "      <td>0.648649</td>\n",
       "      <td>0.993036</td>\n",
       "      <td>0.006964</td>\n",
       "      <td>0.351351</td>\n",
       "      <td>0.64</td>\n",
       "      <td>52</td>\n",
       "    </tr>\n",
       "    <tr>\n",
       "      <th>49</th>\n",
       "      <td>0.0860</td>\n",
       "      <td>0.200</td>\n",
       "      <td>0.086</td>\n",
       "      <td>0.2</td>\n",
       "      <td>0.594595</td>\n",
       "      <td>0.997214</td>\n",
       "      <td>0.002786</td>\n",
       "      <td>0.405405</td>\n",
       "      <td>0.59</td>\n",
       "      <td>45</td>\n",
       "    </tr>\n",
       "  </tbody>\n",
       "</table>\n",
       "</div>"
      ],
      "text/plain": [
       "    pp_thresh  acdc_thresh pp_thresh_str acdc_thresh_str       tpr       tnr  \\\n",
       "0      0.0340        0.060         0.034            0.06  0.648649  0.979805   \n",
       "1      0.0340        0.095         0.034           0.095  0.621622  0.990251   \n",
       "2      0.0340        0.130         0.034            0.13  0.486486  0.997214   \n",
       "3      0.0340        0.165         0.034           0.165  0.297297  1.000000   \n",
       "4      0.0340        0.200         0.034             0.2  0.297297  1.000000   \n",
       "5      0.0398        0.060        0.0397            0.06  0.891892  0.979805   \n",
       "6      0.0398        0.095        0.0397           0.095  0.864865  0.989554   \n",
       "7      0.0398        0.130        0.0397            0.13  0.783784  0.990947   \n",
       "8      0.0398        0.165        0.0397           0.165  0.702703  0.995125   \n",
       "9      0.0398        0.200        0.0397             0.2  0.594595  0.996518   \n",
       "10     0.0456        0.060        0.0455            0.06  0.891892  0.980501   \n",
       "11     0.0456        0.095        0.0455           0.095  0.891892  0.989554   \n",
       "12     0.0456        0.130        0.0455            0.13  0.864865  0.990947   \n",
       "13     0.0456        0.165        0.0455           0.165  0.783784  0.991643   \n",
       "14     0.0456        0.200        0.0455             0.2  0.756757  0.997214   \n",
       "15     0.0513        0.060        0.0513            0.06  0.891892  0.986072   \n",
       "16     0.0513        0.095        0.0513           0.095  0.891892  0.990251   \n",
       "17     0.0513        0.130        0.0513            0.13  0.864865  0.990251   \n",
       "18     0.0513        0.165        0.0513           0.165  0.864865  0.990947   \n",
       "19     0.0513        0.200        0.0513             0.2  0.648649  0.998607   \n",
       "20     0.0571        0.060        0.0571            0.06  0.891892  0.983983   \n",
       "21     0.0571        0.095        0.0571           0.095  0.891892  0.990251   \n",
       "22     0.0571        0.130        0.0571            0.13  0.864865  0.992340   \n",
       "23     0.0571        0.165        0.0571           0.165  0.864865  0.992340   \n",
       "24     0.0571        0.200        0.0571             0.2  0.756757  0.995125   \n",
       "25     0.0629        0.060        0.0628            0.06  0.891892  0.983983   \n",
       "26     0.0629        0.095        0.0628           0.095  0.891892  0.990947   \n",
       "27     0.0629        0.130        0.0628            0.13  0.864865  0.992340   \n",
       "28     0.0629        0.165        0.0628           0.165  0.864865  0.992340   \n",
       "29     0.0629        0.200        0.0628             0.2  0.756757  0.995125   \n",
       "30     0.0687        0.060        0.0686            0.06  0.864865  0.988162   \n",
       "31     0.0687        0.095        0.0686           0.095  0.864865  0.990251   \n",
       "32     0.0687        0.130        0.0686            0.13  0.702703  0.992340   \n",
       "33     0.0687        0.165        0.0686           0.165  0.621622  0.993036   \n",
       "34     0.0687        0.200        0.0686             0.2  0.594595  0.995822   \n",
       "35     0.0744        0.060        0.0744            0.06  0.810811  0.989554   \n",
       "36     0.0744        0.095        0.0744           0.095  0.729730  0.991643   \n",
       "37     0.0744        0.130        0.0744            0.13  0.702703  0.992340   \n",
       "38     0.0744        0.165        0.0744           0.165  0.621622  0.992340   \n",
       "39     0.0744        0.200        0.0744             0.2  0.594595  0.995822   \n",
       "40     0.0802        0.060        0.0802            0.06  0.810811  0.990251   \n",
       "41     0.0802        0.095        0.0802           0.095  0.729730  0.990947   \n",
       "42     0.0802        0.130        0.0802            0.13  0.648649  0.992340   \n",
       "43     0.0802        0.165        0.0802           0.165  0.621622  0.993036   \n",
       "44     0.0802        0.200        0.0802             0.2  0.594595  0.997214   \n",
       "45     0.0860        0.060         0.086            0.06  0.729730  0.990251   \n",
       "46     0.0860        0.095         0.086           0.095  0.729730  0.991643   \n",
       "47     0.0860        0.130         0.086            0.13  0.702703  0.993036   \n",
       "48     0.0860        0.165         0.086           0.165  0.648649  0.993036   \n",
       "49     0.0860        0.200         0.086             0.2  0.594595  0.997214   \n",
       "\n",
       "         fpr       fnr  youdens  num_passes  \n",
       "0   0.020195  0.351351     0.63         112  \n",
       "1   0.009749  0.378378     0.61          96  \n",
       "2   0.002786  0.513514     0.48          80  \n",
       "3   0.000000  0.702703     0.30          55  \n",
       "4   0.000000  0.702703     0.30          55  \n",
       "5   0.020195  0.108108     0.87         120  \n",
       "6   0.010446  0.135135     0.85         108  \n",
       "7   0.009053  0.216216     0.77          98  \n",
       "8   0.004875  0.297297     0.70          83  \n",
       "9   0.003482  0.405405     0.59          70  \n",
       "10  0.019499  0.108108     0.87         111  \n",
       "11  0.010446  0.108108     0.88         104  \n",
       "12  0.009053  0.135135     0.86         102  \n",
       "13  0.008357  0.216216     0.78          94  \n",
       "14  0.002786  0.243243     0.75          85  \n",
       "15  0.013928  0.108108     0.88         101  \n",
       "16  0.009749  0.108108     0.88          97  \n",
       "17  0.009749  0.135135     0.86          97  \n",
       "18  0.009053  0.135135     0.86          97  \n",
       "19  0.001393  0.351351     0.65          66  \n",
       "20  0.016017  0.108108     0.88          97  \n",
       "21  0.009749  0.108108     0.88          91  \n",
       "22  0.007660  0.135135     0.86          88  \n",
       "23  0.007660  0.135135     0.86          88  \n",
       "24  0.004875  0.243243     0.75          78  \n",
       "25  0.016017  0.108108     0.88          93  \n",
       "26  0.009053  0.108108     0.88          84  \n",
       "27  0.007660  0.135135     0.86          84  \n",
       "28  0.007660  0.135135     0.86          84  \n",
       "29  0.004875  0.243243     0.75          74  \n",
       "30  0.011838  0.135135     0.85          82  \n",
       "31  0.009749  0.135135     0.86          80  \n",
       "32  0.007660  0.297297     0.70          66  \n",
       "33  0.006964  0.378378     0.61          58  \n",
       "34  0.004178  0.405405     0.59          56  \n",
       "35  0.010446  0.189189     0.80          68  \n",
       "36  0.008357  0.270270     0.72          63  \n",
       "37  0.007660  0.297297     0.70          63  \n",
       "38  0.007660  0.378378     0.61          59  \n",
       "39  0.004178  0.405405     0.59          54  \n",
       "40  0.009749  0.189189     0.80          65  \n",
       "41  0.009053  0.270270     0.72          60  \n",
       "42  0.007660  0.351351     0.64          53  \n",
       "43  0.006964  0.378378     0.61          53  \n",
       "44  0.002786  0.405405     0.59          46  \n",
       "45  0.009749  0.270270     0.72          59  \n",
       "46  0.008357  0.270270     0.72          59  \n",
       "47  0.006964  0.297297     0.70          56  \n",
       "48  0.006964  0.351351     0.64          52  \n",
       "49  0.002786  0.405405     0.59          45  "
      ]
     },
     "execution_count": 7,
     "metadata": {},
     "output_type": "execute_result"
    }
   ],
   "source": [
    "data = []\n",
    "for pp_thresh in present_edge_attrs.keys():\n",
    "    for acdc_thresh in present_edge_attrs[pp_thresh].keys():\n",
    "        # Read set of present edges after applying AP and ACDC\n",
    "        present_edges = set()\n",
    "        for (child_name, child_idx, parent_name, parent_idx, attr) in present_edge_attrs[pp_thresh][acdc_thresh]: # sorry, messed up parent child indexing convention\n",
    "            present_edges.add(f'{parent_name}{replace_parens(parent_idx)}{child_name}{replace_parens(child_idx)}')\n",
    "            # present_edges.add(f'{parent_name}{parent_idx}{child_name}{child_idx}')\n",
    "        test_all_edges(present_edges)\n",
    "\n",
    "        # Calc stats\n",
    "        tp = len(present_edges.intersection(true_edges))\n",
    "        tn = len((all_edges - present_edges).intersection(all_edges - true_edges))\n",
    "        fp = len(present_edges - true_edges)\n",
    "        fn = len(true_edges - present_edges)\n",
    "\n",
    "        tpr = tp / (tp + fn)\n",
    "        tnr = tn / (tn + fp)\n",
    "        fpr = 1 - tnr\n",
    "        fnr = 1 - tpr\n",
    "\n",
    "        pp_thr = np.round(float(pp_thresh), 4)\n",
    "        acdc_thr = np.round(float(acdc_thresh), 4)\n",
    "        pp_thr_str = pp_thresh[:6]\n",
    "        acdc_thr_str = acdc_thresh[:6]\n",
    "        ap_youdens = np.round(tpr-fpr, 2)\n",
    "        passes = num_passes[pp_thresh][acdc_thresh]\n",
    "\n",
    "        data.append([pp_thr, acdc_thr, pp_thr_str, acdc_thr_str, tpr, tnr, fpr, fnr, ap_youdens, passes])\n",
    "\n",
    "df = pd.DataFrame(data, columns=['pp_thresh', 'acdc_thresh', 'pp_thresh_str', 'acdc_thresh_str', 'tpr', 'tnr', 'fpr', 'fnr', 'youdens', 'num_passes'])\n",
    "df"
   ]
  },
  {
   "attachments": {
    "68b7dd2d-1ba3-46c1-be05-dbec2927f499.png": {
     "image/png": "[encoded data removed]"
    }
   },
   "cell_type": "markdown",
   "id": "bf6cc3ac-8bab-403b-8258-1228253940bd",
   "metadata": {},
   "source": [
    "![image.png](attachment:68b7dd2d-1ba3-46c1-be05-dbec2927f499.png)"
   ]
  },
  {
   "cell_type": "markdown",
   "id": "e2af76df-4f2f-487a-9e2f-bcc03fa10822",
   "metadata": {},
   "source": [
    "# Youdens J metric (TPR - FPR)"
   ]
  },
  {
   "cell_type": "code",
   "execution_count": 8,
   "id": "d1f86d12",
   "metadata": {},
   "outputs": [],
   "source": [
    "ydf = df.pivot(index='acdc_thresh_str', columns='pp_thresh_str')['youdens']"
   ]
  },
  {
   "cell_type": "code",
   "execution_count": 9,
   "id": "2e1f58bc",
   "metadata": {},
   "outputs": [
    {
     "data": {
      "application/vnd.plotly.v1+json": {
       "config": {
        "plotlyServerURL": "https://plot.ly"
       },
       "data": [
        {
         "coloraxis": "coloraxis",
         "hovertemplate": "Attribution Patching threshold: %{x}<br>ACDC threshold: %{y}<br>color: %{z}<extra></extra>",
         "name": "0",
         "texttemplate": "%{z}",
         "type": "heatmap",
         "x": [
          "0.034",
          "0.0397",
          "0.0455",
          "0.0513",
          "0.0571",
          "0.0628",
          "0.0686",
          "0.0744",
          "0.0802",
          "0.086"
         ],
         "xaxis": "x",
         "y": [
          "0.06",
          "0.095",
          "0.13",
          "0.165",
          "0.2"
         ],
         "yaxis": "y",
         "z": [
          [
           0.63,
           0.87,
           0.87,
           0.88,
           0.88,
           0.88,
           0.85,
           0.8,
           0.8,
           0.72
          ],
          [
           0.61,
           0.85,
           0.88,
           0.88,
           0.88,
           0.88,
           0.86,
           0.72,
           0.72,
           0.72
          ],
          [
           0.48,
           0.77,
           0.86,
           0.86,
           0.86,
           0.86,
           0.7,
           0.7,
           0.64,
           0.7
          ],
          [
           0.3,
           0.7,
           0.78,
           0.86,
           0.86,
           0.86,
           0.61,
           0.61,
           0.61,
           0.64
          ],
          [
           0.3,
           0.59,
           0.75,
           0.65,
           0.75,
           0.75,
           0.59,
           0.59,
           0.59,
           0.59
          ]
         ]
        }
       ],
       "layout": {
        "coloraxis": {
         "colorscale": [
          [
           0,
           "rgb(103,0,31)"
          ],
          [
           0.1,
           "rgb(178,24,43)"
          ],
          [
           0.2,
           "rgb(214,96,77)"
          ],
          [
           0.3,
           "rgb(244,165,130)"
          ],
          [
           0.4,
           "rgb(253,219,199)"
          ],
          [
           0.5,
           "rgb(247,247,247)"
          ],
          [
           0.6,
           "rgb(209,229,240)"
          ],
          [
           0.7,
           "rgb(146,197,222)"
          ],
          [
           0.8,
           "rgb(67,147,195)"
          ],
          [
           0.9,
           "rgb(33,102,172)"
          ],
          [
           1,
           "rgb(5,48,97)"
          ]
         ]
        },
        "margin": {
         "t": 60
        },
        "template": {
         "data": {
          "bar": [
           {
            "error_x": {
             "color": "#2a3f5f"
            },
            "error_y": {
             "color": "#2a3f5f"
            },
            "marker": {
             "line": {
              "color": "#E5ECF6",
              "width": 0.5
             },
             "pattern": {
              "fillmode": "overlay",
              "size": 10,
              "solidity": 0.2
             }
            },
            "type": "bar"
           }
          ],
          "barpolar": [
           {
            "marker": {
             "line": {
              "color": "#E5ECF6",
              "width": 0.5
             },
             "pattern": {
              "fillmode": "overlay",
              "size": 10,
              "solidity": 0.2
             }
            },
            "type": "barpolar"
           }
          ],
          "carpet": [
           {
            "aaxis": {
             "endlinecolor": "#2a3f5f",
             "gridcolor": "white",
             "linecolor": "white",
             "minorgridcolor": "white",
             "startlinecolor": "#2a3f5f"
            },
            "baxis": {
             "endlinecolor": "#2a3f5f",
             "gridcolor": "white",
             "linecolor": "white",
             "minorgridcolor": "white",
             "startlinecolor": "#2a3f5f"
            },
            "type": "carpet"
           }
          ],
          "choropleth": [
           {
            "colorbar": {
             "outlinewidth": 0,
             "ticks": ""
            },
            "type": "choropleth"
           }
          ],
          "contour": [
           {
            "colorbar": {
             "outlinewidth": 0,
             "ticks": ""
            },
            "colorscale": [
             [
              0,
              "#0d0887"
             ],
             [
              0.1111111111111111,
              "#46039f"
             ],
             [
              0.2222222222222222,
              "#7201a8"
             ],
             [
              0.3333333333333333,
              "#9c179e"
             ],
             [
              0.4444444444444444,
              "#bd3786"
             ],
             [
              0.5555555555555556,
              "#d8576b"
             ],
             [
              0.6666666666666666,
              "#ed7953"
             ],
             [
              0.7777777777777778,
              "#fb9f3a"
             ],
             [
              0.8888888888888888,
              "#fdca26"
             ],
             [
              1,
              "#f0f921"
             ]
            ],
            "type": "contour"
           }
          ],
          "contourcarpet": [
           {
            "colorbar": {
             "outlinewidth": 0,
             "ticks": ""
            },
            "type": "contourcarpet"
           }
          ],
          "heatmap": [
           {
            "colorbar": {
             "outlinewidth": 0,
             "ticks": ""
            },
            "colorscale": [
             [
              0,
              "#0d0887"
             ],
             [
              0.1111111111111111,
              "#46039f"
             ],
             [
              0.2222222222222222,
              "#7201a8"
             ],
             [
              0.3333333333333333,
              "#9c179e"
             ],
             [
              0.4444444444444444,
              "#bd3786"
             ],
             [
              0.5555555555555556,
              "#d8576b"
             ],
             [
              0.6666666666666666,
              "#ed7953"
             ],
             [
              0.7777777777777778,
              "#fb9f3a"
             ],
             [
              0.8888888888888888,
              "#fdca26"
             ],
             [
              1,
              "#f0f921"
             ]
            ],
            "type": "heatmap"
           }
          ],
          "heatmapgl": [
           {
            "colorbar": {
             "outlinewidth": 0,
             "ticks": ""
            },
            "colorscale": [
             [
              0,
              "#0d0887"
             ],
             [
              0.1111111111111111,
              "#46039f"
             ],
             [
              0.2222222222222222,
              "#7201a8"
             ],
             [
              0.3333333333333333,
              "#9c179e"
             ],
             [
              0.4444444444444444,
              "#bd3786"
             ],
             [
              0.5555555555555556,
              "#d8576b"
             ],
             [
              0.6666666666666666,
              "#ed7953"
             ],
             [
              0.7777777777777778,
              "#fb9f3a"
             ],
             [
              0.8888888888888888,
              "#fdca26"
             ],
             [
              1,
              "#f0f921"
             ]
            ],
            "type": "heatmapgl"
           }
          ],
          "histogram": [
           {
            "marker": {
             "pattern": {
              "fillmode": "overlay",
              "size": 10,
              "solidity": 0.2
             }
            },
            "type": "histogram"
           }
          ],
          "histogram2d": [
           {
            "colorbar": {
             "outlinewidth": 0,
             "ticks": ""
            },
            "colorscale": [
             [
              0,
              "#0d0887"
             ],
             [
              0.1111111111111111,
              "#46039f"
             ],
             [
              0.2222222222222222,
              "#7201a8"
             ],
             [
              0.3333333333333333,
              "#9c179e"
             ],
             [
              0.4444444444444444,
              "#bd3786"
             ],
             [
              0.5555555555555556,
              "#d8576b"
             ],
             [
              0.6666666666666666,
              "#ed7953"
             ],
             [
              0.7777777777777778,
              "#fb9f3a"
             ],
             [
              0.8888888888888888,
              "#fdca26"
             ],
             [
              1,
              "#f0f921"
             ]
            ],
            "type": "histogram2d"
           }
          ],
          "histogram2dcontour": [
           {
            "colorbar": {
             "outlinewidth": 0,
             "ticks": ""
            },
            "colorscale": [
             [
              0,
              "#0d0887"
             ],
             [
              0.1111111111111111,
              "#46039f"
             ],
             [
              0.2222222222222222,
              "#7201a8"
             ],
             [
              0.3333333333333333,
              "#9c179e"
             ],
             [
              0.4444444444444444,
              "#bd3786"
             ],
             [
              0.5555555555555556,
              "#d8576b"
             ],
             [
              0.6666666666666666,
              "#ed7953"
             ],
             [
              0.7777777777777778,
              "#fb9f3a"
             ],
             [
              0.8888888888888888,
              "#fdca26"
             ],
             [
              1,
              "#f0f921"
             ]
            ],
            "type": "histogram2dcontour"
           }
          ],
          "mesh3d": [
           {
            "colorbar": {
             "outlinewidth": 0,
             "ticks": ""
            },
            "type": "mesh3d"
           }
          ],
          "parcoords": [
           {
            "line": {
             "colorbar": {
              "outlinewidth": 0,
              "ticks": ""
             }
            },
            "type": "parcoords"
           }
          ],
          "pie": [
           {
            "automargin": true,
            "type": "pie"
           }
          ],
          "scatter": [
           {
            "fillpattern": {
             "fillmode": "overlay",
             "size": 10,
             "solidity": 0.2
            },
            "type": "scatter"
           }
          ],
          "scatter3d": [
           {
            "line": {
             "colorbar": {
              "outlinewidth": 0,
              "ticks": ""
             }
            },
            "marker": {
             "colorbar": {
              "outlinewidth": 0,
              "ticks": ""
             }
            },
            "type": "scatter3d"
           }
          ],
          "scattercarpet": [
           {
            "marker": {
             "colorbar": {
              "outlinewidth": 0,
              "ticks": ""
             }
            },
            "type": "scattercarpet"
           }
          ],
          "scattergeo": [
           {
            "marker": {
             "colorbar": {
              "outlinewidth": 0,
              "ticks": ""
             }
            },
            "type": "scattergeo"
           }
          ],
          "scattergl": [
           {
            "marker": {
             "colorbar": {
              "outlinewidth": 0,
              "ticks": ""
             }
            },
            "type": "scattergl"
           }
          ],
          "scattermapbox": [
           {
            "marker": {
             "colorbar": {
              "outlinewidth": 0,
              "ticks": ""
             }
            },
            "type": "scattermapbox"
           }
          ],
          "scatterpolar": [
           {
            "marker": {
             "colorbar": {
              "outlinewidth": 0,
              "ticks": ""
             }
            },
            "type": "scatterpolar"
           }
          ],
          "scatterpolargl": [
           {
            "marker": {
             "colorbar": {
              "outlinewidth": 0,
              "ticks": ""
             }
            },
            "type": "scatterpolargl"
           }
          ],
          "scatterternary": [
           {
            "marker": {
             "colorbar": {
              "outlinewidth": 0,
              "ticks": ""
             }
            },
            "type": "scatterternary"
           }
          ],
          "surface": [
           {
            "colorbar": {
             "outlinewidth": 0,
             "ticks": ""
            },
            "colorscale": [
             [
              0,
              "#0d0887"
             ],
             [
              0.1111111111111111,
              "#46039f"
             ],
             [
              0.2222222222222222,
              "#7201a8"
             ],
             [
              0.3333333333333333,
              "#9c179e"
             ],
             [
              0.4444444444444444,
              "#bd3786"
             ],
             [
              0.5555555555555556,
              "#d8576b"
             ],
             [
              0.6666666666666666,
              "#ed7953"
             ],
             [
              0.7777777777777778,
              "#fb9f3a"
             ],
             [
              0.8888888888888888,
              "#fdca26"
             ],
             [
              1,
              "#f0f921"
             ]
            ],
            "type": "surface"
           }
          ],
          "table": [
           {
            "cells": {
             "fill": {
              "color": "#EBF0F8"
             },
             "line": {
              "color": "white"
             }
            },
            "header": {
             "fill": {
              "color": "#C8D4E3"
             },
             "line": {
              "color": "white"
             }
            },
            "type": "table"
           }
          ]
         },
         "layout": {
          "annotationdefaults": {
           "arrowcolor": "#2a3f5f",
           "arrowhead": 0,
           "arrowwidth": 1
          },
          "autotypenumbers": "strict",
          "coloraxis": {
           "colorbar": {
            "outlinewidth": 0,
            "ticks": ""
           }
          },
          "colorscale": {
           "diverging": [
            [
             0,
             "#8e0152"
            ],
            [
             0.1,
             "#c51b7d"
            ],
            [
             0.2,
             "#de77ae"
            ],
            [
             0.3,
             "#f1b6da"
            ],
            [
             0.4,
             "#fde0ef"
            ],
            [
             0.5,
             "#f7f7f7"
            ],
            [
             0.6,
             "#e6f5d0"
            ],
            [
             0.7,
             "#b8e186"
            ],
            [
             0.8,
             "#7fbc41"
            ],
            [
             0.9,
             "#4d9221"
            ],
            [
             1,
             "#276419"
            ]
           ],
           "sequential": [
            [
             0,
             "#0d0887"
            ],
            [
             0.1111111111111111,
             "#46039f"
            ],
            [
             0.2222222222222222,
             "#7201a8"
            ],
            [
             0.3333333333333333,
             "#9c179e"
            ],
            [
             0.4444444444444444,
             "#bd3786"
            ],
            [
             0.5555555555555556,
             "#d8576b"
            ],
            [
             0.6666666666666666,
             "#ed7953"
            ],
            [
             0.7777777777777778,
             "#fb9f3a"
            ],
            [
             0.8888888888888888,
             "#fdca26"
            ],
            [
             1,
             "#f0f921"
            ]
           ],
           "sequentialminus": [
            [
             0,
             "#0d0887"
            ],
            [
             0.1111111111111111,
             "#46039f"
            ],
            [
             0.2222222222222222,
             "#7201a8"
            ],
            [
             0.3333333333333333,
             "#9c179e"
            ],
            [
             0.4444444444444444,
             "#bd3786"
            ],
            [
             0.5555555555555556,
             "#d8576b"
            ],
            [
             0.6666666666666666,
             "#ed7953"
            ],
            [
             0.7777777777777778,
             "#fb9f3a"
            ],
            [
             0.8888888888888888,
             "#fdca26"
            ],
            [
             1,
             "#f0f921"
            ]
           ]
          },
          "colorway": [
           "#636efa",
           "#EF553B",
           "#00cc96",
           "#ab63fa",
           "#FFA15A",
           "#19d3f3",
           "#FF6692",
           "#B6E880",
           "#FF97FF",
           "#FECB52"
          ],
          "font": {
           "color": "#2a3f5f"
          },
          "geo": {
           "bgcolor": "white",
           "lakecolor": "white",
           "landcolor": "#E5ECF6",
           "showlakes": true,
           "showland": true,
           "subunitcolor": "white"
          },
          "hoverlabel": {
           "align": "left"
          },
          "hovermode": "closest",
          "mapbox": {
           "style": "light"
          },
          "paper_bgcolor": "white",
          "plot_bgcolor": "#E5ECF6",
          "polar": {
           "angularaxis": {
            "gridcolor": "white",
            "linecolor": "white",
            "ticks": ""
           },
           "bgcolor": "#E5ECF6",
           "radialaxis": {
            "gridcolor": "white",
            "linecolor": "white",
            "ticks": ""
           }
          },
          "scene": {
           "xaxis": {
            "backgroundcolor": "#E5ECF6",
            "gridcolor": "white",
            "gridwidth": 2,
            "linecolor": "white",
            "showbackground": true,
            "ticks": "",
            "zerolinecolor": "white"
           },
           "yaxis": {
            "backgroundcolor": "#E5ECF6",
            "gridcolor": "white",
            "gridwidth": 2,
            "linecolor": "white",
            "showbackground": true,
            "ticks": "",
            "zerolinecolor": "white"
           },
           "zaxis": {
            "backgroundcolor": "#E5ECF6",
            "gridcolor": "white",
            "gridwidth": 2,
            "linecolor": "white",
            "showbackground": true,
            "ticks": "",
            "zerolinecolor": "white"
           }
          },
          "shapedefaults": {
           "line": {
            "color": "#2a3f5f"
           }
          },
          "ternary": {
           "aaxis": {
            "gridcolor": "white",
            "linecolor": "white",
            "ticks": ""
           },
           "baxis": {
            "gridcolor": "white",
            "linecolor": "white",
            "ticks": ""
           },
           "bgcolor": "#E5ECF6",
           "caxis": {
            "gridcolor": "white",
            "linecolor": "white",
            "ticks": ""
           }
          },
          "title": {
           "x": 0.05
          },
          "xaxis": {
           "automargin": true,
           "gridcolor": "white",
           "linecolor": "white",
           "ticks": "",
           "title": {
            "standoff": 15
           },
           "zerolinecolor": "white",
           "zerolinewidth": 2
          },
          "yaxis": {
           "automargin": true,
           "gridcolor": "white",
           "linecolor": "white",
           "ticks": "",
           "title": {
            "standoff": 15
           },
           "zerolinecolor": "white",
           "zerolinewidth": 2
          }
         }
        },
        "xaxis": {
         "anchor": "y",
         "constrain": "domain",
         "domain": [
          0,
          1
         ],
         "scaleanchor": "y",
         "tickangle": 45,
         "title": {
          "text": "Attribution Patching threshold"
         }
        },
        "yaxis": {
         "anchor": "x",
         "autorange": "reversed",
         "constrain": "domain",
         "domain": [
          0,
          1
         ],
         "ticksuffix": "  ",
         "title": {
          "text": "ACDC threshold"
         }
        }
       }
      }
     },
     "metadata": {},
     "output_type": "display_data"
    }
   ],
   "source": [
    "fig = px.imshow(\n",
    "    ydf,\n",
    "    text_auto=True,\n",
    "    color_continuous_scale=\"RdBu\",\n",
    "    labels=dict(x=\"Attribution Patching threshold\", y=\"ACDC threshold\"),\n",
    "    )\n",
    "\n",
    "fig.update_xaxes(tickangle = 45)\n",
    "fig.update_yaxes(ticksuffix = '  ')\n",
    "fig.show()"
   ]
  },
  {
   "cell_type": "markdown",
   "id": "58b9a0f6",
   "metadata": {},
   "source": [
    "# Num passes vs Youdens metric"
   ]
  },
  {
   "cell_type": "code",
   "execution_count": 10,
   "id": "46ed4200",
   "metadata": {},
   "outputs": [
    {
     "data": {
      "text/html": [
       "<div>\n",
       "<style scoped>\n",
       "    .dataframe tbody tr th:only-of-type {\n",
       "        vertical-align: middle;\n",
       "    }\n",
       "\n",
       "    .dataframe tbody tr th {\n",
       "        vertical-align: top;\n",
       "    }\n",
       "\n",
       "    .dataframe thead th {\n",
       "        text-align: right;\n",
       "    }\n",
       "</style>\n",
       "<table border=\"1\" class=\"dataframe\">\n",
       "  <thead>\n",
       "    <tr style=\"text-align: right;\">\n",
       "      <th></th>\n",
       "      <th>num_passes</th>\n",
       "      <th>youdens</th>\n",
       "      <th>pp_thresh_between_0.04_0.07</th>\n",
       "      <th>pp_thresh</th>\n",
       "    </tr>\n",
       "  </thead>\n",
       "  <tbody>\n",
       "    <tr>\n",
       "      <th>49</th>\n",
       "      <td>45</td>\n",
       "      <td>0.59</td>\n",
       "      <td>False</td>\n",
       "      <td>0.0860</td>\n",
       "    </tr>\n",
       "    <tr>\n",
       "      <th>44</th>\n",
       "      <td>46</td>\n",
       "      <td>0.59</td>\n",
       "      <td>False</td>\n",
       "      <td>0.0802</td>\n",
       "    </tr>\n",
       "    <tr>\n",
       "      <th>48</th>\n",
       "      <td>52</td>\n",
       "      <td>0.64</td>\n",
       "      <td>False</td>\n",
       "      <td>0.0860</td>\n",
       "    </tr>\n",
       "    <tr>\n",
       "      <th>42</th>\n",
       "      <td>53</td>\n",
       "      <td>0.64</td>\n",
       "      <td>False</td>\n",
       "      <td>0.0802</td>\n",
       "    </tr>\n",
       "    <tr>\n",
       "      <th>43</th>\n",
       "      <td>53</td>\n",
       "      <td>0.61</td>\n",
       "      <td>False</td>\n",
       "      <td>0.0802</td>\n",
       "    </tr>\n",
       "    <tr>\n",
       "      <th>39</th>\n",
       "      <td>54</td>\n",
       "      <td>0.59</td>\n",
       "      <td>False</td>\n",
       "      <td>0.0744</td>\n",
       "    </tr>\n",
       "    <tr>\n",
       "      <th>3</th>\n",
       "      <td>55</td>\n",
       "      <td>0.30</td>\n",
       "      <td>False</td>\n",
       "      <td>0.0340</td>\n",
       "    </tr>\n",
       "    <tr>\n",
       "      <th>4</th>\n",
       "      <td>55</td>\n",
       "      <td>0.30</td>\n",
       "      <td>False</td>\n",
       "      <td>0.0340</td>\n",
       "    </tr>\n",
       "    <tr>\n",
       "      <th>34</th>\n",
       "      <td>56</td>\n",
       "      <td>0.59</td>\n",
       "      <td>True</td>\n",
       "      <td>0.0687</td>\n",
       "    </tr>\n",
       "    <tr>\n",
       "      <th>47</th>\n",
       "      <td>56</td>\n",
       "      <td>0.70</td>\n",
       "      <td>False</td>\n",
       "      <td>0.0860</td>\n",
       "    </tr>\n",
       "    <tr>\n",
       "      <th>33</th>\n",
       "      <td>58</td>\n",
       "      <td>0.61</td>\n",
       "      <td>True</td>\n",
       "      <td>0.0687</td>\n",
       "    </tr>\n",
       "    <tr>\n",
       "      <th>45</th>\n",
       "      <td>59</td>\n",
       "      <td>0.72</td>\n",
       "      <td>False</td>\n",
       "      <td>0.0860</td>\n",
       "    </tr>\n",
       "    <tr>\n",
       "      <th>46</th>\n",
       "      <td>59</td>\n",
       "      <td>0.72</td>\n",
       "      <td>False</td>\n",
       "      <td>0.0860</td>\n",
       "    </tr>\n",
       "    <tr>\n",
       "      <th>38</th>\n",
       "      <td>59</td>\n",
       "      <td>0.61</td>\n",
       "      <td>False</td>\n",
       "      <td>0.0744</td>\n",
       "    </tr>\n",
       "    <tr>\n",
       "      <th>41</th>\n",
       "      <td>60</td>\n",
       "      <td>0.72</td>\n",
       "      <td>False</td>\n",
       "      <td>0.0802</td>\n",
       "    </tr>\n",
       "    <tr>\n",
       "      <th>37</th>\n",
       "      <td>63</td>\n",
       "      <td>0.70</td>\n",
       "      <td>False</td>\n",
       "      <td>0.0744</td>\n",
       "    </tr>\n",
       "    <tr>\n",
       "      <th>36</th>\n",
       "      <td>63</td>\n",
       "      <td>0.72</td>\n",
       "      <td>False</td>\n",
       "      <td>0.0744</td>\n",
       "    </tr>\n",
       "    <tr>\n",
       "      <th>40</th>\n",
       "      <td>65</td>\n",
       "      <td>0.80</td>\n",
       "      <td>False</td>\n",
       "      <td>0.0802</td>\n",
       "    </tr>\n",
       "    <tr>\n",
       "      <th>19</th>\n",
       "      <td>66</td>\n",
       "      <td>0.65</td>\n",
       "      <td>True</td>\n",
       "      <td>0.0513</td>\n",
       "    </tr>\n",
       "    <tr>\n",
       "      <th>32</th>\n",
       "      <td>66</td>\n",
       "      <td>0.70</td>\n",
       "      <td>True</td>\n",
       "      <td>0.0687</td>\n",
       "    </tr>\n",
       "    <tr>\n",
       "      <th>35</th>\n",
       "      <td>68</td>\n",
       "      <td>0.80</td>\n",
       "      <td>False</td>\n",
       "      <td>0.0744</td>\n",
       "    </tr>\n",
       "    <tr>\n",
       "      <th>9</th>\n",
       "      <td>70</td>\n",
       "      <td>0.59</td>\n",
       "      <td>False</td>\n",
       "      <td>0.0398</td>\n",
       "    </tr>\n",
       "    <tr>\n",
       "      <th>29</th>\n",
       "      <td>74</td>\n",
       "      <td>0.75</td>\n",
       "      <td>True</td>\n",
       "      <td>0.0629</td>\n",
       "    </tr>\n",
       "    <tr>\n",
       "      <th>24</th>\n",
       "      <td>78</td>\n",
       "      <td>0.75</td>\n",
       "      <td>True</td>\n",
       "      <td>0.0571</td>\n",
       "    </tr>\n",
       "    <tr>\n",
       "      <th>2</th>\n",
       "      <td>80</td>\n",
       "      <td>0.48</td>\n",
       "      <td>False</td>\n",
       "      <td>0.0340</td>\n",
       "    </tr>\n",
       "    <tr>\n",
       "      <th>31</th>\n",
       "      <td>80</td>\n",
       "      <td>0.86</td>\n",
       "      <td>True</td>\n",
       "      <td>0.0687</td>\n",
       "    </tr>\n",
       "    <tr>\n",
       "      <th>30</th>\n",
       "      <td>82</td>\n",
       "      <td>0.85</td>\n",
       "      <td>True</td>\n",
       "      <td>0.0687</td>\n",
       "    </tr>\n",
       "    <tr>\n",
       "      <th>8</th>\n",
       "      <td>83</td>\n",
       "      <td>0.70</td>\n",
       "      <td>False</td>\n",
       "      <td>0.0398</td>\n",
       "    </tr>\n",
       "    <tr>\n",
       "      <th>26</th>\n",
       "      <td>84</td>\n",
       "      <td>0.88</td>\n",
       "      <td>True</td>\n",
       "      <td>0.0629</td>\n",
       "    </tr>\n",
       "    <tr>\n",
       "      <th>27</th>\n",
       "      <td>84</td>\n",
       "      <td>0.86</td>\n",
       "      <td>True</td>\n",
       "      <td>0.0629</td>\n",
       "    </tr>\n",
       "    <tr>\n",
       "      <th>28</th>\n",
       "      <td>84</td>\n",
       "      <td>0.86</td>\n",
       "      <td>True</td>\n",
       "      <td>0.0629</td>\n",
       "    </tr>\n",
       "    <tr>\n",
       "      <th>14</th>\n",
       "      <td>85</td>\n",
       "      <td>0.75</td>\n",
       "      <td>True</td>\n",
       "      <td>0.0456</td>\n",
       "    </tr>\n",
       "    <tr>\n",
       "      <th>23</th>\n",
       "      <td>88</td>\n",
       "      <td>0.86</td>\n",
       "      <td>True</td>\n",
       "      <td>0.0571</td>\n",
       "    </tr>\n",
       "    <tr>\n",
       "      <th>22</th>\n",
       "      <td>88</td>\n",
       "      <td>0.86</td>\n",
       "      <td>True</td>\n",
       "      <td>0.0571</td>\n",
       "    </tr>\n",
       "    <tr>\n",
       "      <th>21</th>\n",
       "      <td>91</td>\n",
       "      <td>0.88</td>\n",
       "      <td>True</td>\n",
       "      <td>0.0571</td>\n",
       "    </tr>\n",
       "    <tr>\n",
       "      <th>25</th>\n",
       "      <td>93</td>\n",
       "      <td>0.88</td>\n",
       "      <td>True</td>\n",
       "      <td>0.0629</td>\n",
       "    </tr>\n",
       "    <tr>\n",
       "      <th>13</th>\n",
       "      <td>94</td>\n",
       "      <td>0.78</td>\n",
       "      <td>True</td>\n",
       "      <td>0.0456</td>\n",
       "    </tr>\n",
       "    <tr>\n",
       "      <th>1</th>\n",
       "      <td>96</td>\n",
       "      <td>0.61</td>\n",
       "      <td>False</td>\n",
       "      <td>0.0340</td>\n",
       "    </tr>\n",
       "    <tr>\n",
       "      <th>17</th>\n",
       "      <td>97</td>\n",
       "      <td>0.86</td>\n",
       "      <td>True</td>\n",
       "      <td>0.0513</td>\n",
       "    </tr>\n",
       "    <tr>\n",
       "      <th>16</th>\n",
       "      <td>97</td>\n",
       "      <td>0.88</td>\n",
       "      <td>True</td>\n",
       "      <td>0.0513</td>\n",
       "    </tr>\n",
       "    <tr>\n",
       "      <th>20</th>\n",
       "      <td>97</td>\n",
       "      <td>0.88</td>\n",
       "      <td>True</td>\n",
       "      <td>0.0571</td>\n",
       "    </tr>\n",
       "    <tr>\n",
       "      <th>18</th>\n",
       "      <td>97</td>\n",
       "      <td>0.86</td>\n",
       "      <td>True</td>\n",
       "      <td>0.0513</td>\n",
       "    </tr>\n",
       "    <tr>\n",
       "      <th>7</th>\n",
       "      <td>98</td>\n",
       "      <td>0.77</td>\n",
       "      <td>False</td>\n",
       "      <td>0.0398</td>\n",
       "    </tr>\n",
       "    <tr>\n",
       "      <th>15</th>\n",
       "      <td>101</td>\n",
       "      <td>0.88</td>\n",
       "      <td>True</td>\n",
       "      <td>0.0513</td>\n",
       "    </tr>\n",
       "    <tr>\n",
       "      <th>12</th>\n",
       "      <td>102</td>\n",
       "      <td>0.86</td>\n",
       "      <td>True</td>\n",
       "      <td>0.0456</td>\n",
       "    </tr>\n",
       "    <tr>\n",
       "      <th>11</th>\n",
       "      <td>104</td>\n",
       "      <td>0.88</td>\n",
       "      <td>True</td>\n",
       "      <td>0.0456</td>\n",
       "    </tr>\n",
       "    <tr>\n",
       "      <th>6</th>\n",
       "      <td>108</td>\n",
       "      <td>0.85</td>\n",
       "      <td>False</td>\n",
       "      <td>0.0398</td>\n",
       "    </tr>\n",
       "    <tr>\n",
       "      <th>10</th>\n",
       "      <td>111</td>\n",
       "      <td>0.87</td>\n",
       "      <td>True</td>\n",
       "      <td>0.0456</td>\n",
       "    </tr>\n",
       "    <tr>\n",
       "      <th>0</th>\n",
       "      <td>112</td>\n",
       "      <td>0.63</td>\n",
       "      <td>False</td>\n",
       "      <td>0.0340</td>\n",
       "    </tr>\n",
       "    <tr>\n",
       "      <th>5</th>\n",
       "      <td>120</td>\n",
       "      <td>0.87</td>\n",
       "      <td>False</td>\n",
       "      <td>0.0398</td>\n",
       "    </tr>\n",
       "  </tbody>\n",
       "</table>\n",
       "</div>"
      ],
      "text/plain": [
       "    num_passes  youdens  pp_thresh_between_0.04_0.07  pp_thresh\n",
       "49          45     0.59                        False     0.0860\n",
       "44          46     0.59                        False     0.0802\n",
       "48          52     0.64                        False     0.0860\n",
       "42          53     0.64                        False     0.0802\n",
       "43          53     0.61                        False     0.0802\n",
       "39          54     0.59                        False     0.0744\n",
       "3           55     0.30                        False     0.0340\n",
       "4           55     0.30                        False     0.0340\n",
       "34          56     0.59                         True     0.0687\n",
       "47          56     0.70                        False     0.0860\n",
       "33          58     0.61                         True     0.0687\n",
       "45          59     0.72                        False     0.0860\n",
       "46          59     0.72                        False     0.0860\n",
       "38          59     0.61                        False     0.0744\n",
       "41          60     0.72                        False     0.0802\n",
       "37          63     0.70                        False     0.0744\n",
       "36          63     0.72                        False     0.0744\n",
       "40          65     0.80                        False     0.0802\n",
       "19          66     0.65                         True     0.0513\n",
       "32          66     0.70                         True     0.0687\n",
       "35          68     0.80                        False     0.0744\n",
       "9           70     0.59                        False     0.0398\n",
       "29          74     0.75                         True     0.0629\n",
       "24          78     0.75                         True     0.0571\n",
       "2           80     0.48                        False     0.0340\n",
       "31          80     0.86                         True     0.0687\n",
       "30          82     0.85                         True     0.0687\n",
       "8           83     0.70                        False     0.0398\n",
       "26          84     0.88                         True     0.0629\n",
       "27          84     0.86                         True     0.0629\n",
       "28          84     0.86                         True     0.0629\n",
       "14          85     0.75                         True     0.0456\n",
       "23          88     0.86                         True     0.0571\n",
       "22          88     0.86                         True     0.0571\n",
       "21          91     0.88                         True     0.0571\n",
       "25          93     0.88                         True     0.0629\n",
       "13          94     0.78                         True     0.0456\n",
       "1           96     0.61                        False     0.0340\n",
       "17          97     0.86                         True     0.0513\n",
       "16          97     0.88                         True     0.0513\n",
       "20          97     0.88                         True     0.0571\n",
       "18          97     0.86                         True     0.0513\n",
       "7           98     0.77                        False     0.0398\n",
       "15         101     0.88                         True     0.0513\n",
       "12         102     0.86                         True     0.0456\n",
       "11         104     0.88                         True     0.0456\n",
       "6          108     0.85                        False     0.0398\n",
       "10         111     0.87                         True     0.0456\n",
       "0          112     0.63                        False     0.0340\n",
       "5          120     0.87                        False     0.0398"
      ]
     },
     "execution_count": 10,
     "metadata": {},
     "output_type": "execute_result"
    }
   ],
   "source": [
    "df[\"pp_thresh_between_0.04_0.07\"] = (df[\"pp_thresh\"] > 0.04) & (df[\"pp_thresh\"] < 0.07)\n",
    "ndf = df[[\"num_passes\", \"youdens\", \"pp_thresh_between_0.04_0.07\", \"pp_thresh\"]].sort_values(\"num_passes\")\n",
    "ndf"
   ]
  },
  {
   "cell_type": "code",
   "execution_count": 11,
   "id": "305e0e6e",
   "metadata": {},
   "outputs": [
    {
     "data": {
      "application/vnd.plotly.v1+json": {
       "config": {
        "plotlyServerURL": "https://plot.ly"
       },
       "data": [
        {
         "hovertemplate": "pp_thresh_between_0.04_0.07=False<br>num_passes=%{x}<br>youdens=%{y}<extra></extra>",
         "legendgroup": "False",
         "marker": {
          "color": "#636efa",
          "symbol": "circle"
         },
         "mode": "markers",
         "name": "False",
         "orientation": "v",
         "showlegend": true,
         "type": "scatter",
         "x": [
          45,
          46,
          52,
          53,
          53,
          54,
          55,
          55,
          56,
          59,
          59,
          59,
          60,
          63,
          63,
          65,
          68,
          70,
          80,
          83,
          96,
          98,
          108,
          112,
          120
         ],
         "xaxis": "x",
         "y": [
          0.59,
          0.59,
          0.64,
          0.64,
          0.61,
          0.59,
          0.3,
          0.3,
          0.7,
          0.72,
          0.72,
          0.61,
          0.72,
          0.7,
          0.72,
          0.8,
          0.8,
          0.59,
          0.48,
          0.7,
          0.61,
          0.77,
          0.85,
          0.63,
          0.87
         ],
         "yaxis": "y"
        },
        {
         "hovertemplate": "pp_thresh_between_0.04_0.07=True<br>num_passes=%{x}<br>youdens=%{y}<extra></extra>",
         "legendgroup": "True",
         "marker": {
          "color": "#EF553B",
          "symbol": "circle"
         },
         "mode": "markers",
         "name": "True",
         "orientation": "v",
         "showlegend": true,
         "type": "scatter",
         "x": [
          56,
          58,
          66,
          66,
          74,
          78,
          80,
          82,
          84,
          84,
          84,
          85,
          88,
          88,
          91,
          93,
          94,
          97,
          97,
          97,
          97,
          101,
          102,
          104,
          111
         ],
         "xaxis": "x",
         "y": [
          0.59,
          0.61,
          0.65,
          0.7,
          0.75,
          0.75,
          0.86,
          0.85,
          0.88,
          0.86,
          0.86,
          0.75,
          0.86,
          0.86,
          0.88,
          0.88,
          0.78,
          0.86,
          0.88,
          0.88,
          0.86,
          0.88,
          0.86,
          0.88,
          0.87
         ],
         "yaxis": "y"
        }
       ],
       "layout": {
        "legend": {
         "title": {
          "text": "pp_thresh_between_0.04_0.07"
         },
         "tracegroupgap": 0
        },
        "margin": {
         "t": 60
        },
        "template": {
         "data": {
          "bar": [
           {
            "error_x": {
             "color": "#2a3f5f"
            },
            "error_y": {
             "color": "#2a3f5f"
            },
            "marker": {
             "line": {
              "color": "#E5ECF6",
              "width": 0.5
             },
             "pattern": {
              "fillmode": "overlay",
              "size": 10,
              "solidity": 0.2
             }
            },
            "type": "bar"
           }
          ],
          "barpolar": [
           {
            "marker": {
             "line": {
              "color": "#E5ECF6",
              "width": 0.5
             },
             "pattern": {
              "fillmode": "overlay",
              "size": 10,
              "solidity": 0.2
             }
            },
            "type": "barpolar"
           }
          ],
          "carpet": [
           {
            "aaxis": {
             "endlinecolor": "#2a3f5f",
             "gridcolor": "white",
             "linecolor": "white",
             "minorgridcolor": "white",
             "startlinecolor": "#2a3f5f"
            },
            "baxis": {
             "endlinecolor": "#2a3f5f",
             "gridcolor": "white",
             "linecolor": "white",
             "minorgridcolor": "white",
             "startlinecolor": "#2a3f5f"
            },
            "type": "carpet"
           }
          ],
          "choropleth": [
           {
            "colorbar": {
             "outlinewidth": 0,
             "ticks": ""
            },
            "type": "choropleth"
           }
          ],
          "contour": [
           {
            "colorbar": {
             "outlinewidth": 0,
             "ticks": ""
            },
            "colorscale": [
             [
              0,
              "#0d0887"
             ],
             [
              0.1111111111111111,
              "#46039f"
             ],
             [
              0.2222222222222222,
              "#7201a8"
             ],
             [
              0.3333333333333333,
              "#9c179e"
             ],
             [
              0.4444444444444444,
              "#bd3786"
             ],
             [
              0.5555555555555556,
              "#d8576b"
             ],
             [
              0.6666666666666666,
              "#ed7953"
             ],
             [
              0.7777777777777778,
              "#fb9f3a"
             ],
             [
              0.8888888888888888,
              "#fdca26"
             ],
             [
              1,
              "#f0f921"
             ]
            ],
            "type": "contour"
           }
          ],
          "contourcarpet": [
           {
            "colorbar": {
             "outlinewidth": 0,
             "ticks": ""
            },
            "type": "contourcarpet"
           }
          ],
          "heatmap": [
           {
            "colorbar": {
             "outlinewidth": 0,
             "ticks": ""
            },
            "colorscale": [
             [
              0,
              "#0d0887"
             ],
             [
              0.1111111111111111,
              "#46039f"
             ],
             [
              0.2222222222222222,
              "#7201a8"
             ],
             [
              0.3333333333333333,
              "#9c179e"
             ],
             [
              0.4444444444444444,
              "#bd3786"
             ],
             [
              0.5555555555555556,
              "#d8576b"
             ],
             [
              0.6666666666666666,
              "#ed7953"
             ],
             [
              0.7777777777777778,
              "#fb9f3a"
             ],
             [
              0.8888888888888888,
              "#fdca26"
             ],
             [
              1,
              "#f0f921"
             ]
            ],
            "type": "heatmap"
           }
          ],
          "heatmapgl": [
           {
            "colorbar": {
             "outlinewidth": 0,
             "ticks": ""
            },
            "colorscale": [
             [
              0,
              "#0d0887"
             ],
             [
              0.1111111111111111,
              "#46039f"
             ],
             [
              0.2222222222222222,
              "#7201a8"
             ],
             [
              0.3333333333333333,
              "#9c179e"
             ],
             [
              0.4444444444444444,
              "#bd3786"
             ],
             [
              0.5555555555555556,
              "#d8576b"
             ],
             [
              0.6666666666666666,
              "#ed7953"
             ],
             [
              0.7777777777777778,
              "#fb9f3a"
             ],
             [
              0.8888888888888888,
              "#fdca26"
             ],
             [
              1,
              "#f0f921"
             ]
            ],
            "type": "heatmapgl"
           }
          ],
          "histogram": [
           {
            "marker": {
             "pattern": {
              "fillmode": "overlay",
              "size": 10,
              "solidity": 0.2
             }
            },
            "type": "histogram"
           }
          ],
          "histogram2d": [
           {
            "colorbar": {
             "outlinewidth": 0,
             "ticks": ""
            },
            "colorscale": [
             [
              0,
              "#0d0887"
             ],
             [
              0.1111111111111111,
              "#46039f"
             ],
             [
              0.2222222222222222,
              "#7201a8"
             ],
             [
              0.3333333333333333,
              "#9c179e"
             ],
             [
              0.4444444444444444,
              "#bd3786"
             ],
             [
              0.5555555555555556,
              "#d8576b"
             ],
             [
              0.6666666666666666,
              "#ed7953"
             ],
             [
              0.7777777777777778,
              "#fb9f3a"
             ],
             [
              0.8888888888888888,
              "#fdca26"
             ],
             [
              1,
              "#f0f921"
             ]
            ],
            "type": "histogram2d"
           }
          ],
          "histogram2dcontour": [
           {
            "colorbar": {
             "outlinewidth": 0,
             "ticks": ""
            },
            "colorscale": [
             [
              0,
              "#0d0887"
             ],
             [
              0.1111111111111111,
              "#46039f"
             ],
             [
              0.2222222222222222,
              "#7201a8"
             ],
             [
              0.3333333333333333,
              "#9c179e"
             ],
             [
              0.4444444444444444,
              "#bd3786"
             ],
             [
              0.5555555555555556,
              "#d8576b"
             ],
             [
              0.6666666666666666,
              "#ed7953"
             ],
             [
              0.7777777777777778,
              "#fb9f3a"
             ],
             [
              0.8888888888888888,
              "#fdca26"
             ],
             [
              1,
              "#f0f921"
             ]
            ],
            "type": "histogram2dcontour"
           }
          ],
          "mesh3d": [
           {
            "colorbar": {
             "outlinewidth": 0,
             "ticks": ""
            },
            "type": "mesh3d"
           }
          ],
          "parcoords": [
           {
            "line": {
             "colorbar": {
              "outlinewidth": 0,
              "ticks": ""
             }
            },
            "type": "parcoords"
           }
          ],
          "pie": [
           {
            "automargin": true,
            "type": "pie"
           }
          ],
          "scatter": [
           {
            "fillpattern": {
             "fillmode": "overlay",
             "size": 10,
             "solidity": 0.2
            },
            "type": "scatter"
           }
          ],
          "scatter3d": [
           {
            "line": {
             "colorbar": {
              "outlinewidth": 0,
              "ticks": ""
             }
            },
            "marker": {
             "colorbar": {
              "outlinewidth": 0,
              "ticks": ""
             }
            },
            "type": "scatter3d"
           }
          ],
          "scattercarpet": [
           {
            "marker": {
             "colorbar": {
              "outlinewidth": 0,
              "ticks": ""
             }
            },
            "type": "scattercarpet"
           }
          ],
          "scattergeo": [
           {
            "marker": {
             "colorbar": {
              "outlinewidth": 0,
              "ticks": ""
             }
            },
            "type": "scattergeo"
           }
          ],
          "scattergl": [
           {
            "marker": {
             "colorbar": {
              "outlinewidth": 0,
              "ticks": ""
             }
            },
            "type": "scattergl"
           }
          ],
          "scattermapbox": [
           {
            "marker": {
             "colorbar": {
              "outlinewidth": 0,
              "ticks": ""
             }
            },
            "type": "scattermapbox"
           }
          ],
          "scatterpolar": [
           {
            "marker": {
             "colorbar": {
              "outlinewidth": 0,
              "ticks": ""
             }
            },
            "type": "scatterpolar"
           }
          ],
          "scatterpolargl": [
           {
            "marker": {
             "colorbar": {
              "outlinewidth": 0,
              "ticks": ""
             }
            },
            "type": "scatterpolargl"
           }
          ],
          "scatterternary": [
           {
            "marker": {
             "colorbar": {
              "outlinewidth": 0,
              "ticks": ""
             }
            },
            "type": "scatterternary"
           }
          ],
          "surface": [
           {
            "colorbar": {
             "outlinewidth": 0,
             "ticks": ""
            },
            "colorscale": [
             [
              0,
              "#0d0887"
             ],
             [
              0.1111111111111111,
              "#46039f"
             ],
             [
              0.2222222222222222,
              "#7201a8"
             ],
             [
              0.3333333333333333,
              "#9c179e"
             ],
             [
              0.4444444444444444,
              "#bd3786"
             ],
             [
              0.5555555555555556,
              "#d8576b"
             ],
             [
              0.6666666666666666,
              "#ed7953"
             ],
             [
              0.7777777777777778,
              "#fb9f3a"
             ],
             [
              0.8888888888888888,
              "#fdca26"
             ],
             [
              1,
              "#f0f921"
             ]
            ],
            "type": "surface"
           }
          ],
          "table": [
           {
            "cells": {
             "fill": {
              "color": "#EBF0F8"
             },
             "line": {
              "color": "white"
             }
            },
            "header": {
             "fill": {
              "color": "#C8D4E3"
             },
             "line": {
              "color": "white"
             }
            },
            "type": "table"
           }
          ]
         },
         "layout": {
          "annotationdefaults": {
           "arrowcolor": "#2a3f5f",
           "arrowhead": 0,
           "arrowwidth": 1
          },
          "autotypenumbers": "strict",
          "coloraxis": {
           "colorbar": {
            "outlinewidth": 0,
            "ticks": ""
           }
          },
          "colorscale": {
           "diverging": [
            [
             0,
             "#8e0152"
            ],
            [
             0.1,
             "#c51b7d"
            ],
            [
             0.2,
             "#de77ae"
            ],
            [
             0.3,
             "#f1b6da"
            ],
            [
             0.4,
             "#fde0ef"
            ],
            [
             0.5,
             "#f7f7f7"
            ],
            [
             0.6,
             "#e6f5d0"
            ],
            [
             0.7,
             "#b8e186"
            ],
            [
             0.8,
             "#7fbc41"
            ],
            [
             0.9,
             "#4d9221"
            ],
            [
             1,
             "#276419"
            ]
           ],
           "sequential": [
            [
             0,
             "#0d0887"
            ],
            [
             0.1111111111111111,
             "#46039f"
            ],
            [
             0.2222222222222222,
             "#7201a8"
            ],
            [
             0.3333333333333333,
             "#9c179e"
            ],
            [
             0.4444444444444444,
             "#bd3786"
            ],
            [
             0.5555555555555556,
             "#d8576b"
            ],
            [
             0.6666666666666666,
             "#ed7953"
            ],
            [
             0.7777777777777778,
             "#fb9f3a"
            ],
            [
             0.8888888888888888,
             "#fdca26"
            ],
            [
             1,
             "#f0f921"
            ]
           ],
           "sequentialminus": [
            [
             0,
             "#0d0887"
            ],
            [
             0.1111111111111111,
             "#46039f"
            ],
            [
             0.2222222222222222,
             "#7201a8"
            ],
            [
             0.3333333333333333,
             "#9c179e"
            ],
            [
             0.4444444444444444,
             "#bd3786"
            ],
            [
             0.5555555555555556,
             "#d8576b"
            ],
            [
             0.6666666666666666,
             "#ed7953"
            ],
            [
             0.7777777777777778,
             "#fb9f3a"
            ],
            [
             0.8888888888888888,
             "#fdca26"
            ],
            [
             1,
             "#f0f921"
            ]
           ]
          },
          "colorway": [
           "#636efa",
           "#EF553B",
           "#00cc96",
           "#ab63fa",
           "#FFA15A",
           "#19d3f3",
           "#FF6692",
           "#B6E880",
           "#FF97FF",
           "#FECB52"
          ],
          "font": {
           "color": "#2a3f5f"
          },
          "geo": {
           "bgcolor": "white",
           "lakecolor": "white",
           "landcolor": "#E5ECF6",
           "showlakes": true,
           "showland": true,
           "subunitcolor": "white"
          },
          "hoverlabel": {
           "align": "left"
          },
          "hovermode": "closest",
          "mapbox": {
           "style": "light"
          },
          "paper_bgcolor": "white",
          "plot_bgcolor": "#E5ECF6",
          "polar": {
           "angularaxis": {
            "gridcolor": "white",
            "linecolor": "white",
            "ticks": ""
           },
           "bgcolor": "#E5ECF6",
           "radialaxis": {
            "gridcolor": "white",
            "linecolor": "white",
            "ticks": ""
           }
          },
          "scene": {
           "xaxis": {
            "backgroundcolor": "#E5ECF6",
            "gridcolor": "white",
            "gridwidth": 2,
            "linecolor": "white",
            "showbackground": true,
            "ticks": "",
            "zerolinecolor": "white"
           },
           "yaxis": {
            "backgroundcolor": "#E5ECF6",
            "gridcolor": "white",
            "gridwidth": 2,
            "linecolor": "white",
            "showbackground": true,
            "ticks": "",
            "zerolinecolor": "white"
           },
           "zaxis": {
            "backgroundcolor": "#E5ECF6",
            "gridcolor": "white",
            "gridwidth": 2,
            "linecolor": "white",
            "showbackground": true,
            "ticks": "",
            "zerolinecolor": "white"
           }
          },
          "shapedefaults": {
           "line": {
            "color": "#2a3f5f"
           }
          },
          "ternary": {
           "aaxis": {
            "gridcolor": "white",
            "linecolor": "white",
            "ticks": ""
           },
           "baxis": {
            "gridcolor": "white",
            "linecolor": "white",
            "ticks": ""
           },
           "bgcolor": "#E5ECF6",
           "caxis": {
            "gridcolor": "white",
            "linecolor": "white",
            "ticks": ""
           }
          },
          "title": {
           "x": 0.05
          },
          "xaxis": {
           "automargin": true,
           "gridcolor": "white",
           "linecolor": "white",
           "ticks": "",
           "title": {
            "standoff": 15
           },
           "zerolinecolor": "white",
           "zerolinewidth": 2
          },
          "yaxis": {
           "automargin": true,
           "gridcolor": "white",
           "linecolor": "white",
           "ticks": "",
           "title": {
            "standoff": 15
           },
           "zerolinecolor": "white",
           "zerolinewidth": 2
          }
         }
        },
        "xaxis": {
         "anchor": "y",
         "domain": [
          0,
          1
         ],
         "title": {
          "text": "num_passes"
         }
        },
        "yaxis": {
         "anchor": "x",
         "domain": [
          0,
          1
         ],
         "title": {
          "text": "youdens"
         }
        }
       }
      }
     },
     "metadata": {},
     "output_type": "display_data"
    }
   ],
   "source": [
    "px.scatter(ndf, x=\"num_passes\", y=\"youdens\", color=\"pp_thresh_between_0.04_0.07\")"
   ]
  },
  {
   "cell_type": "markdown",
   "id": "cfeb8390",
   "metadata": {},
   "source": [
    "## Reference values"
   ]
  },
  {
   "cell_type": "markdown",
   "id": "7bdfc44d",
   "metadata": {},
   "source": [
    "### Find pareto optimal youdens val for AP only"
   ]
  },
  {
   "cell_type": "code",
   "execution_count": 12,
   "id": "a443f5aa",
   "metadata": {},
   "outputs": [],
   "source": [
    "with open(f'./res/{EXP_NAME}/acdcpp_only_attrs.json', 'r') as f:\n",
    "    ap_only_attrs = np.array(json.load(f))\n",
    "\n",
    "edges = np.array([\"\".join(i[:4]) for i in ap_only_attrs])\n",
    "is_ground_truth = [edge in true_edges for edge in edges]\n",
    "attrs = np.array(ap_only_attrs[:,4], dtype=np.float64)\n",
    "apdf = pd.DataFrame(dict(attrs=attrs, edges=edges, is_ground_truth=is_ground_truth))"
   ]
  },
  {
   "cell_type": "code",
   "execution_count": 13,
   "id": "6ca338d7",
   "metadata": {},
   "outputs": [
    {
     "name": "stdout",
     "output_type": "stream",
     "text": [
      "pareto optimal youdens val for AP only:\n",
      " 0.8860573665587593\n"
     ]
    }
   ],
   "source": [
    "ap_threshs = attrs.copy()\n",
    "num_steps = len(attrs)\n",
    "ap_youdens = np.zeros(num_steps)\n",
    "ap_tpr = np.zeros(num_steps)\n",
    "ap_fpr = np.zeros(num_steps)\n",
    "\n",
    "for i, thr in enumerate(ap_threshs):\n",
    "    p_edges = set(edges[(attrs > thr)])\n",
    "    # Calc stats\n",
    "    tp = len(p_edges.intersection(true_edges))\n",
    "    tn = len((all_edges - p_edges).intersection(all_edges - true_edges))\n",
    "    fp = len(p_edges - true_edges)\n",
    "    fn = len(true_edges - p_edges)\n",
    "\n",
    "    tpr = tp / (tp + fn)\n",
    "    tnr = tn / (tn + fp)\n",
    "    fpr = 1 - tnr\n",
    "    fnr = 1 - tpr\n",
    "\n",
    "    ap_youdens[i] = tpr - fpr\n",
    "    ap_tpr[i] = tpr\n",
    "    ap_fpr[i] = fpr\n",
    "\n",
    "\n",
    "ap_tpr_srt = np.sort(ap_tpr)\n",
    "ap_fpr_srt = np.sort(ap_fpr)\n",
    "ap_youdens_sorted = ap_tpr_srt - ap_fpr_srt\n",
    "print(\"pareto optimal youdens val for AP only:\\n\", max(ap_youdens_sorted))"
   ]
  },
  {
   "cell_type": "code",
   "execution_count": 14,
   "id": "d8d52483",
   "metadata": {},
   "outputs": [
    {
     "data": {
      "image/png": "[encoded data removed]",
      "text/plain": [
       "<Figure size 640x440 with 1 Axes>"
      ]
     },
     "metadata": {},
     "output_type": "display_data"
    }
   ],
   "source": [
    "plt.hist(ap_youdens, bins=100)\n",
    "plt.xlabel('youdens value')\n",
    "plt.ylabel(f'num occurences of {num_steps} samples')\n",
    "plt.title(f\"Youdens val distribution\\nPareto optimal youdens value after AP only:{max(ap_youdens):5f}\");"
   ]
  },
  {
   "cell_type": "markdown",
   "id": "6dc7feb5",
   "metadata": {},
   "source": [
    "### Find pareto optimal youdens in ACDC results"
   ]
  },
  {
   "cell_type": "code",
   "execution_count": 15,
   "id": "4d925cdb",
   "metadata": {},
   "outputs": [],
   "source": [
    "with open(f'../Automatic-Circuit-Discovery/experiments/results/plots_data/acdc-docstring-kl_div-False-0.json', 'r') as f:\n",
    "    acdc_stats_raw = json.load(f)"
   ]
  },
  {
   "cell_type": "code",
   "execution_count": 16,
   "id": "44762d20",
   "metadata": {},
   "outputs": [
    {
     "data": {
      "text/plain": [
       "Text(0.5, 1.0, 'Pareto optimal youdens val\\nACDC (kl_div):0.142921\\nAP (docstring metric): 0.886057')"
      ]
     },
     "execution_count": 16,
     "metadata": {},
     "output_type": "execute_result"
    },
    {
     "data": {
      "image/png": "[encoded data removed]",
      "text/plain": [
       "<Figure size 640x440 with 1 Axes>"
      ]
     },
     "metadata": {},
     "output_type": "display_data"
    }
   ],
   "source": [
    "acdc_stats = acdc_stats_raw['trained']['random_ablation']['docstring']['kl_div']['ACDC']\n",
    "\n",
    "acdc_tpr = np.array(acdc_stats['edge_tpr'])\n",
    "acdc_fpr = np.array(acdc_stats['edge_fpr'])\n",
    "acdc_tpr = np.sort(acdc_tpr)\n",
    "acdc_fpr = np.sort(acdc_fpr)\n",
    "acdc_youdens = acdc_tpr - acdc_fpr\n",
    "\n",
    "plt.scatter(acdc_fpr, acdc_tpr, label=\"ACDC\")\n",
    "plt.plot(acdc_fpr, acdc_tpr, label=\"ACDC\")\n",
    "plt.plot(ap_fpr_srt, ap_tpr_srt, label=\"AP\")\n",
    "plt.xlabel('FPR')\n",
    "plt.ylabel('TPR')\n",
    "plt.legend()\n",
    "\n",
    "plt.title(f'Pareto optimal youdens val\\nACDC (kl_div):{max(acdc_youdens):5f}\\nAP (docstring metric): {max(ap_youdens):5f}')"
   ]
  },
  {
   "cell_type": "markdown",
   "id": "60815d3a",
   "metadata": {},
   "source": [
    "### Add scatter points for fpr, tpr changing AP thresh with fixed AP thresh"
   ]
  },
  {
   "cell_type": "code",
   "execution_count": 17,
   "id": "ca478cc9",
   "metadata": {},
   "outputs": [
    {
     "data": {
      "image/png": "[encoded data removed]",
      "text/plain": [
       "<Figure size 640x440 with 1 Axes>"
      ]
     },
     "metadata": {},
     "output_type": "display_data"
    }
   ],
   "source": [
    "acdc_threshs = df.acdc_thresh.unique()\n",
    "for acdc_t in acdc_threshs:\n",
    "    roc_df = df[df.acdc_thresh == acdc_t]\n",
    "    # ROC add youdens\n",
    "    plt.scatter(roc_df.fpr, roc_df.tpr, label=f'ACDC thresh = {acdc_t}')\n",
    "\n",
    "\n",
    "cutoff = 100\n",
    "plt.plot(ap_fpr_srt[:cutoff], ap_tpr_srt[:cutoff], label=\"AP only\")\n",
    "#plt.plot(ap_fpr_srt, ap_tpr_srt, label=\"AP only\")\n",
    "plt.legend()\n",
    "plt.xlabel('FPR')\n",
    "plt.ylim((0,1))\n",
    "plt.ylabel('TPR')\n",
    "#plt.title(\"ROC for combined methods EAP + ACDC\")\n",
    "plt.savefig('combined ROC inset.png', dpi=200)"
   ]
  },
  {
   "cell_type": "code",
   "execution_count": 26,
   "id": "28948399",
   "metadata": {},
   "outputs": [
    {
     "data": {
      "image/png": "[encoded data removed]",
      "text/plain": [
       "<Figure size 640x440 with 2 Axes>"
      ]
     },
     "metadata": {},
     "output_type": "display_data"
    }
   ],
   "source": [
    "import matplotlib.pyplot as plt\n",
    "from mpl_toolkits.axes_grid1.inset_locator import inset_axes\n",
    "\n",
    "# Create the main plot\n",
    "fig, ax = plt.subplots()\n",
    "\n",
    "\n",
    "ax.plot(ap_fpr_srt, ap_tpr_srt, label=\"EAP only\")\n",
    "\n",
    "\n",
    "# Create the inset plot\n",
    "axins = inset_axes(ax, width='65%', height='65%', loc='center right')\n",
    "cutoff = 100\n",
    "axins.plot(ap_fpr_srt[:cutoff], ap_tpr_srt[:cutoff], label=\"EAP only\")\n",
    "#axins.set_xlim(0, 0.5)  # Adjust the x-axis limits for the zoomed-in inset\n",
    "#axins.set_ylim(0.8, 1)   # Adjust the y-axis limits for the zoomed-in inset\n",
    "\n",
    "\n",
    "acdc_threshs = df.acdc_thresh.unique()\n",
    "for acdc_t in acdc_threshs:\n",
    "    roc_df = df[df.acdc_thresh == acdc_t]\n",
    "    # ROC add youdens\n",
    "    ax.scatter(roc_df.fpr, roc_df.tpr, label=f'ACDC thresh = {acdc_t}')\n",
    "    axins.scatter(roc_df.fpr, roc_df.tpr, label=f'ACDC thresh = {acdc_t}')\n",
    "\n",
    "axins.legend()\n",
    "axins.spines['bottom'].set_color('black')  # Set the bottom spine (frame) color to black\n",
    "axins.spines['top'].set_color('black')     # Set the top spine (frame) color to black\n",
    "axins.spines['left'].set_color('black')    # Set the left spine (frame) color to black\n",
    "axins.spines['right'].set_color('black')  \n",
    "\n",
    "ax.set_xlabel('FPR')\n",
    "ax.set_ylim((0, 1))\n",
    "ax.set_ylabel('TPR')\n",
    "ax.set_title(\"ROC for combined methods EAP + ACDC\")\n",
    "\n",
    "plt.savefig('combined ROC inset.pdf', dpi=200)"
   ]
  },
  {
   "cell_type": "code",
   "execution_count": 19,
   "id": "68dffa01",
   "metadata": {},
   "outputs": [
    {
     "data": {
      "text/plain": [
       "Text(0.5, 1.0, 'ROC for combined methods EAP + ACDC')"
      ]
     },
     "execution_count": 19,
     "metadata": {},
     "output_type": "execute_result"
    },
    {
     "data": {
      "image/png": "[encoded data removed]",
      "text/plain": [
       "<Figure size 2000x2000 with 1 Axes>"
      ]
     },
     "metadata": {},
     "output_type": "display_data"
    }
   ],
   "source": [
    "import pandas as pd\n",
    "import matplotlib.pyplot as plt\n",
    "from mpl_toolkits.axes_grid1.inset_locator import zoomed_inset_axes, mark_inset\n",
    "\n",
    "csv_data = [\n",
    "[797.3266855, 9.518953577, 487.026819, 6.41595323],\n",
    "[457.3328822, 9.408619701, 493.8012816, 6.352140859],\n",
    "[321.4279994, 10.99152002, 505.8109589, 6.482765605],\n",
    "[643.1595144, 11.33567151, 515.0500793, 5.689992589],\n",
    "[897.9396964, 7.098272377, 523.5118663, 5.062645643],\n",
    "[658.5927932, 8.401072532, 526.8570713, 5.951114622],\n",
    "[885.8478465, 9.59502937, 537.6740407, 6.123622699],\n",
    "[569.4313421, 5.913067314, 563.2567733, 6.089519297],\n",
    "[419.540411 , 31.7279367, 569.4313421, 5.913067314]\n",
    "]\n",
    "\n",
    "data1 = pd.DataFrame(csv_data, columns=['x1',  'y1',   'xin',  'yin'])\n",
    "\n",
    "fig = plt.figure(1,figsize=(20,20))\n",
    "\n",
    "plt.subplot(111)\n",
    "plt.plot(ap_fpr_srt, ap_tpr_srt, label=\"AP only\")\n",
    "plt.legend()\n",
    "plt.xlabel('FPR')\n",
    "plt.ylim((0,1))\n",
    "plt.ylabel('TPR')\n",
    "plt.title(\"ROC for combined methods EAP + ACDC\")\n",
    "# plt1 = zoomed_inset_axes(plt.gca(), 2.5)\n",
    "# plt1.plot(data1['xin'], data1['yin']);"
   ]
  },
  {
   "cell_type": "code",
   "execution_count": 20,
   "id": "dc1cbe3d",
   "metadata": {},
   "outputs": [
    {
     "data": {
      "text/plain": [
       "Text(0.5, 1.0, 'Pareto optimal youdens value after AP only:\\n0.142921')"
      ]
     },
     "execution_count": 20,
     "metadata": {},
     "output_type": "execute_result"
    },
    {
     "data": {
      "image/png": "[encoded data removed]",
      "text/plain": [
       "<Figure size 640x440 with 1 Axes>"
      ]
     },
     "metadata": {},
     "output_type": "display_data"
    }
   ],
   "source": [
    "plt.hist(acdc_youdens, bins=100)\n",
    "plt.xlabel('youdens value')\n",
    "plt.ylabel(f'num occurences of {len(acdc_youdens)} samples')\n",
    "plt.title(f\"Pareto optimal youdens value after AP only:\\n{max(acdc_youdens):5f}\")"
   ]
  },
  {
   "cell_type": "code",
   "execution_count": 21,
   "id": "e91a3f53",
   "metadata": {},
   "outputs": [
    {
     "data": {
      "text/plain": [
       "Text(0, 0.5, 'youdens val')"
      ]
     },
     "execution_count": 21,
     "metadata": {},
     "output_type": "execute_result"
    },
    {
     "data": {
      "image/png": "[encoded data removed]",
      "text/plain": [
       "<Figure size 640x440 with 1 Axes>"
      ]
     },
     "metadata": {},
     "output_type": "display_data"
    }
   ],
   "source": [
    "acdcsp = np.linspace(0, 1, len(acdc_youdens))\n",
    "apsp = np.linspace(0,1, len(ap_youdens_sorted))\n",
    "plt.scatter(acdcsp, acdc_youdens, label=\"ACDC\")\n",
    "plt.scatter(apsp, ap_youdens_sorted,label=\"AP\")\n",
    "plt.title(\"Youdens over FPR (youdens function in roc plot)\")\n",
    "plt.legend()\n",
    "plt.xlabel(\"FPR\")\n",
    "plt.ylabel(\"youdens val\")"
   ]
  },
  {
   "cell_type": "code",
   "execution_count": 22,
   "id": "d986bace",
   "metadata": {},
   "outputs": [
    {
     "data": {
      "text/plain": [
       "<matplotlib.collections.PathCollection at 0x297ae8fa0>"
      ]
     },
     "execution_count": 22,
     "metadata": {},
     "output_type": "execute_result"
    },
    {
     "data": {
      "image/png": "[encoded data removed]",
      "text/plain": [
       "<Figure size 640x440 with 1 Axes>"
      ]
     },
     "metadata": {},
     "output_type": "display_data"
    }
   ],
   "source": [
    "apsp = np.arange(len(ap_youdens_sorted))\n",
    "plt.scatter(apsp, ap_youdens_sorted)"
   ]
  },
  {
   "cell_type": "markdown",
   "id": "89b41dfb",
   "metadata": {},
   "source": [
    "## [0.034, 0.0397] investigation"
   ]
  },
  {
   "cell_type": "code",
   "execution_count": 23,
   "id": "88780b03",
   "metadata": {},
   "outputs": [
    {
     "data": {
      "text/html": [
       "<div>\n",
       "<style scoped>\n",
       "    .dataframe tbody tr th:only-of-type {\n",
       "        vertical-align: middle;\n",
       "    }\n",
       "\n",
       "    .dataframe tbody tr th {\n",
       "        vertical-align: top;\n",
       "    }\n",
       "\n",
       "    .dataframe thead th {\n",
       "        text-align: right;\n",
       "    }\n",
       "</style>\n",
       "<table border=\"1\" class=\"dataframe\">\n",
       "  <thead>\n",
       "    <tr style=\"text-align: right;\">\n",
       "      <th></th>\n",
       "      <th>attrs</th>\n",
       "      <th>edges</th>\n",
       "      <th>is_ground_truth</th>\n",
       "    </tr>\n",
       "  </thead>\n",
       "  <tbody>\n",
       "    <tr>\n",
       "      <th>0</th>\n",
       "      <td>0.034035</td>\n",
       "      <td>blocks.0.attn.hook_result[None, None, 5]blocks.2.hook_k_input[None, None, 3]</td>\n",
       "      <td>False</td>\n",
       "    </tr>\n",
       "    <tr>\n",
       "      <th>1</th>\n",
       "      <td>0.034045</td>\n",
       "      <td>blocks.0.attn.hook_result[None, None, 1]blocks.2.hook_k_input[None, None, 0]</td>\n",
       "      <td>False</td>\n",
       "    </tr>\n",
       "    <tr>\n",
       "      <th>2</th>\n",
       "      <td>0.034085</td>\n",
       "      <td>blocks.0.attn.hook_result[None, None, 6]blocks.2.hook_v_input[None, None, 5]</td>\n",
       "      <td>False</td>\n",
       "    </tr>\n",
       "    <tr>\n",
       "      <th>3</th>\n",
       "      <td>0.034320</td>\n",
       "      <td>blocks.1.attn.hook_result[None, None, 2]blocks.3.hook_k_input[None, None, 7]</td>\n",
       "      <td>False</td>\n",
       "    </tr>\n",
       "    <tr>\n",
       "      <th>4</th>\n",
       "      <td>0.034497</td>\n",
       "      <td>blocks.0.attn.hook_result[None, None, 5]blocks.3.hook_v_input[None, None, 7]</td>\n",
       "      <td>False</td>\n",
       "    </tr>\n",
       "  </tbody>\n",
       "</table>\n",
       "</div>"
      ],
      "text/plain": [
       "      attrs  \\\n",
       "0  0.034035   \n",
       "1  0.034045   \n",
       "2  0.034085   \n",
       "3  0.034320   \n",
       "4  0.034497   \n",
       "\n",
       "                                                                          edges  \\\n",
       "0  blocks.0.attn.hook_result[None, None, 5]blocks.2.hook_k_input[None, None, 3]   \n",
       "1  blocks.0.attn.hook_result[None, None, 1]blocks.2.hook_k_input[None, None, 0]   \n",
       "2  blocks.0.attn.hook_result[None, None, 6]blocks.2.hook_v_input[None, None, 5]   \n",
       "3  blocks.1.attn.hook_result[None, None, 2]blocks.3.hook_k_input[None, None, 7]   \n",
       "4  blocks.0.attn.hook_result[None, None, 5]blocks.3.hook_v_input[None, None, 7]   \n",
       "\n",
       "   is_ground_truth  \n",
       "0            False  \n",
       "1            False  \n",
       "2            False  \n",
       "3            False  \n",
       "4            False  "
      ]
     },
     "execution_count": 23,
     "metadata": {},
     "output_type": "execute_result"
    }
   ],
   "source": [
    "mask = (apdf[\"attrs\"] > 0.034) & (apdf['attrs'] < 0.0397)\n",
    "masked_apdf = apdf[mask].sort_values('attrs').reset_index(drop=True)\n",
    "masked_apdf.head()"
   ]
  },
  {
   "cell_type": "code",
   "execution_count": 24,
   "id": "146d8c12",
   "metadata": {},
   "outputs": [
    {
     "data": {
      "text/plain": [
       "Text(0.5, 0, 'AP thresh')"
      ]
     },
     "execution_count": 24,
     "metadata": {},
     "output_type": "execute_result"
    },
    {
     "data": {
      "image/png": "[encoded data removed]",
      "text/plain": [
       "<Figure size 640x440 with 1 Axes>"
      ]
     },
     "metadata": {},
     "output_type": "display_data"
    }
   ],
   "source": [
    "attrs_small = attrs[attrs<0.1]\n",
    "plt.hist(attrs_small, bins=20)\n",
    "plt.xlabel('AP thresh')"
   ]
  },
  {
   "cell_type": "code",
   "execution_count": null,
   "id": "05095393",
   "metadata": {},
   "outputs": [],
   "source": []
  },
  {
   "cell_type": "code",
   "execution_count": null,
   "id": "4e8699db",
   "metadata": {},
   "outputs": [],
   "source": []
  },
  {
   "cell_type": "markdown",
   "id": "02a1524f",
   "metadata": {},
   "source": [
    "# ACDC num passes over Attribution Patching threshold"
   ]
  },
  {
   "cell_type": "code",
   "execution_count": 25,
   "id": "31a15f2a",
   "metadata": {},
   "outputs": [
    {
     "data": {
      "application/vnd.plotly.v1+json": {
       "config": {
        "plotlyServerURL": "https://plot.ly"
       },
       "data": [
        {
         "hovertemplate": "pp_thresh=%{x}<br>num_passes=%{y}<extra></extra>",
         "legendgroup": "",
         "marker": {
          "color": "#636efa",
          "symbol": "circle"
         },
         "mode": "markers",
         "name": "",
         "orientation": "v",
         "showlegend": false,
         "type": "scatter",
         "x": [
          0.034,
          0.034,
          0.034,
          0.034,
          0.034,
          0.0398,
          0.0398,
          0.0398,
          0.0398,
          0.0398,
          0.0456,
          0.0456,
          0.0456,
          0.0456,
          0.0456,
          0.0513,
          0.0513,
          0.0513,
          0.0513,
          0.0513,
          0.0571,
          0.0571,
          0.0571,
          0.0571,
          0.0571,
          0.0629,
          0.0629,
          0.0629,
          0.0629,
          0.0629,
          0.0687,
          0.0687,
          0.0687,
          0.0687,
          0.0687,
          0.0744,
          0.0744,
          0.0744,
          0.0744,
          0.0744,
          0.0802,
          0.0802,
          0.0802,
          0.0802,
          0.0802,
          0.086,
          0.086,
          0.086,
          0.086,
          0.086
         ],
         "xaxis": "x",
         "y": [
          112,
          96,
          80,
          55,
          55,
          120,
          108,
          98,
          83,
          70,
          111,
          104,
          102,
          94,
          85,
          101,
          97,
          97,
          97,
          66,
          97,
          91,
          88,
          88,
          78,
          93,
          84,
          84,
          84,
          74,
          82,
          80,
          66,
          58,
          56,
          68,
          63,
          63,
          59,
          54,
          65,
          60,
          53,
          53,
          46,
          59,
          59,
          56,
          52,
          45
         ],
         "yaxis": "y"
        }
       ],
       "layout": {
        "legend": {
         "tracegroupgap": 0
        },
        "margin": {
         "t": 60
        },
        "template": {
         "data": {
          "bar": [
           {
            "error_x": {
             "color": "#2a3f5f"
            },
            "error_y": {
             "color": "#2a3f5f"
            },
            "marker": {
             "line": {
              "color": "#E5ECF6",
              "width": 0.5
             },
             "pattern": {
              "fillmode": "overlay",
              "size": 10,
              "solidity": 0.2
             }
            },
            "type": "bar"
           }
          ],
          "barpolar": [
           {
            "marker": {
             "line": {
              "color": "#E5ECF6",
              "width": 0.5
             },
             "pattern": {
              "fillmode": "overlay",
              "size": 10,
              "solidity": 0.2
             }
            },
            "type": "barpolar"
           }
          ],
          "carpet": [
           {
            "aaxis": {
             "endlinecolor": "#2a3f5f",
             "gridcolor": "white",
             "linecolor": "white",
             "minorgridcolor": "white",
             "startlinecolor": "#2a3f5f"
            },
            "baxis": {
             "endlinecolor": "#2a3f5f",
             "gridcolor": "white",
             "linecolor": "white",
             "minorgridcolor": "white",
             "startlinecolor": "#2a3f5f"
            },
            "type": "carpet"
           }
          ],
          "choropleth": [
           {
            "colorbar": {
             "outlinewidth": 0,
             "ticks": ""
            },
            "type": "choropleth"
           }
          ],
          "contour": [
           {
            "colorbar": {
             "outlinewidth": 0,
             "ticks": ""
            },
            "colorscale": [
             [
              0,
              "#0d0887"
             ],
             [
              0.1111111111111111,
              "#46039f"
             ],
             [
              0.2222222222222222,
              "#7201a8"
             ],
             [
              0.3333333333333333,
              "#9c179e"
             ],
             [
              0.4444444444444444,
              "#bd3786"
             ],
             [
              0.5555555555555556,
              "#d8576b"
             ],
             [
              0.6666666666666666,
              "#ed7953"
             ],
             [
              0.7777777777777778,
              "#fb9f3a"
             ],
             [
              0.8888888888888888,
              "#fdca26"
             ],
             [
              1,
              "#f0f921"
             ]
            ],
            "type": "contour"
           }
          ],
          "contourcarpet": [
           {
            "colorbar": {
             "outlinewidth": 0,
             "ticks": ""
            },
            "type": "contourcarpet"
           }
          ],
          "heatmap": [
           {
            "colorbar": {
             "outlinewidth": 0,
             "ticks": ""
            },
            "colorscale": [
             [
              0,
              "#0d0887"
             ],
             [
              0.1111111111111111,
              "#46039f"
             ],
             [
              0.2222222222222222,
              "#7201a8"
             ],
             [
              0.3333333333333333,
              "#9c179e"
             ],
             [
              0.4444444444444444,
              "#bd3786"
             ],
             [
              0.5555555555555556,
              "#d8576b"
             ],
             [
              0.6666666666666666,
              "#ed7953"
             ],
             [
              0.7777777777777778,
              "#fb9f3a"
             ],
             [
              0.8888888888888888,
              "#fdca26"
             ],
             [
              1,
              "#f0f921"
             ]
            ],
            "type": "heatmap"
           }
          ],
          "heatmapgl": [
           {
            "colorbar": {
             "outlinewidth": 0,
             "ticks": ""
            },
            "colorscale": [
             [
              0,
              "#0d0887"
             ],
             [
              0.1111111111111111,
              "#46039f"
             ],
             [
              0.2222222222222222,
              "#7201a8"
             ],
             [
              0.3333333333333333,
              "#9c179e"
             ],
             [
              0.4444444444444444,
              "#bd3786"
             ],
             [
              0.5555555555555556,
              "#d8576b"
             ],
             [
              0.6666666666666666,
              "#ed7953"
             ],
             [
              0.7777777777777778,
              "#fb9f3a"
             ],
             [
              0.8888888888888888,
              "#fdca26"
             ],
             [
              1,
              "#f0f921"
             ]
            ],
            "type": "heatmapgl"
           }
          ],
          "histogram": [
           {
            "marker": {
             "pattern": {
              "fillmode": "overlay",
              "size": 10,
              "solidity": 0.2
             }
            },
            "type": "histogram"
           }
          ],
          "histogram2d": [
           {
            "colorbar": {
             "outlinewidth": 0,
             "ticks": ""
            },
            "colorscale": [
             [
              0,
              "#0d0887"
             ],
             [
              0.1111111111111111,
              "#46039f"
             ],
             [
              0.2222222222222222,
              "#7201a8"
             ],
             [
              0.3333333333333333,
              "#9c179e"
             ],
             [
              0.4444444444444444,
              "#bd3786"
             ],
             [
              0.5555555555555556,
              "#d8576b"
             ],
             [
              0.6666666666666666,
              "#ed7953"
             ],
             [
              0.7777777777777778,
              "#fb9f3a"
             ],
             [
              0.8888888888888888,
              "#fdca26"
             ],
             [
              1,
              "#f0f921"
             ]
            ],
            "type": "histogram2d"
           }
          ],
          "histogram2dcontour": [
           {
            "colorbar": {
             "outlinewidth": 0,
             "ticks": ""
            },
            "colorscale": [
             [
              0,
              "#0d0887"
             ],
             [
              0.1111111111111111,
              "#46039f"
             ],
             [
              0.2222222222222222,
              "#7201a8"
             ],
             [
              0.3333333333333333,
              "#9c179e"
             ],
             [
              0.4444444444444444,
              "#bd3786"
             ],
             [
              0.5555555555555556,
              "#d8576b"
             ],
             [
              0.6666666666666666,
              "#ed7953"
             ],
             [
              0.7777777777777778,
              "#fb9f3a"
             ],
             [
              0.8888888888888888,
              "#fdca26"
             ],
             [
              1,
              "#f0f921"
             ]
            ],
            "type": "histogram2dcontour"
           }
          ],
          "mesh3d": [
           {
            "colorbar": {
             "outlinewidth": 0,
             "ticks": ""
            },
            "type": "mesh3d"
           }
          ],
          "parcoords": [
           {
            "line": {
             "colorbar": {
              "outlinewidth": 0,
              "ticks": ""
             }
            },
            "type": "parcoords"
           }
          ],
          "pie": [
           {
            "automargin": true,
            "type": "pie"
           }
          ],
          "scatter": [
           {
            "fillpattern": {
             "fillmode": "overlay",
             "size": 10,
             "solidity": 0.2
            },
            "type": "scatter"
           }
          ],
          "scatter3d": [
           {
            "line": {
             "colorbar": {
              "outlinewidth": 0,
              "ticks": ""
             }
            },
            "marker": {
             "colorbar": {
              "outlinewidth": 0,
              "ticks": ""
             }
            },
            "type": "scatter3d"
           }
          ],
          "scattercarpet": [
           {
            "marker": {
             "colorbar": {
              "outlinewidth": 0,
              "ticks": ""
             }
            },
            "type": "scattercarpet"
           }
          ],
          "scattergeo": [
           {
            "marker": {
             "colorbar": {
              "outlinewidth": 0,
              "ticks": ""
             }
            },
            "type": "scattergeo"
           }
          ],
          "scattergl": [
           {
            "marker": {
             "colorbar": {
              "outlinewidth": 0,
              "ticks": ""
             }
            },
            "type": "scattergl"
           }
          ],
          "scattermapbox": [
           {
            "marker": {
             "colorbar": {
              "outlinewidth": 0,
              "ticks": ""
             }
            },
            "type": "scattermapbox"
           }
          ],
          "scatterpolar": [
           {
            "marker": {
             "colorbar": {
              "outlinewidth": 0,
              "ticks": ""
             }
            },
            "type": "scatterpolar"
           }
          ],
          "scatterpolargl": [
           {
            "marker": {
             "colorbar": {
              "outlinewidth": 0,
              "ticks": ""
             }
            },
            "type": "scatterpolargl"
           }
          ],
          "scatterternary": [
           {
            "marker": {
             "colorbar": {
              "outlinewidth": 0,
              "ticks": ""
             }
            },
            "type": "scatterternary"
           }
          ],
          "surface": [
           {
            "colorbar": {
             "outlinewidth": 0,
             "ticks": ""
            },
            "colorscale": [
             [
              0,
              "#0d0887"
             ],
             [
              0.1111111111111111,
              "#46039f"
             ],
             [
              0.2222222222222222,
              "#7201a8"
             ],
             [
              0.3333333333333333,
              "#9c179e"
             ],
             [
              0.4444444444444444,
              "#bd3786"
             ],
             [
              0.5555555555555556,
              "#d8576b"
             ],
             [
              0.6666666666666666,
              "#ed7953"
             ],
             [
              0.7777777777777778,
              "#fb9f3a"
             ],
             [
              0.8888888888888888,
              "#fdca26"
             ],
             [
              1,
              "#f0f921"
             ]
            ],
            "type": "surface"
           }
          ],
          "table": [
           {
            "cells": {
             "fill": {
              "color": "#EBF0F8"
             },
             "line": {
              "color": "white"
             }
            },
            "header": {
             "fill": {
              "color": "#C8D4E3"
             },
             "line": {
              "color": "white"
             }
            },
            "type": "table"
           }
          ]
         },
         "layout": {
          "annotationdefaults": {
           "arrowcolor": "#2a3f5f",
           "arrowhead": 0,
           "arrowwidth": 1
          },
          "autotypenumbers": "strict",
          "coloraxis": {
           "colorbar": {
            "outlinewidth": 0,
            "ticks": ""
           }
          },
          "colorscale": {
           "diverging": [
            [
             0,
             "#8e0152"
            ],
            [
             0.1,
             "#c51b7d"
            ],
            [
             0.2,
             "#de77ae"
            ],
            [
             0.3,
             "#f1b6da"
            ],
            [
             0.4,
             "#fde0ef"
            ],
            [
             0.5,
             "#f7f7f7"
            ],
            [
             0.6,
             "#e6f5d0"
            ],
            [
             0.7,
             "#b8e186"
            ],
            [
             0.8,
             "#7fbc41"
            ],
            [
             0.9,
             "#4d9221"
            ],
            [
             1,
             "#276419"
            ]
           ],
           "sequential": [
            [
             0,
             "#0d0887"
            ],
            [
             0.1111111111111111,
             "#46039f"
            ],
            [
             0.2222222222222222,
             "#7201a8"
            ],
            [
             0.3333333333333333,
             "#9c179e"
            ],
            [
             0.4444444444444444,
             "#bd3786"
            ],
            [
             0.5555555555555556,
             "#d8576b"
            ],
            [
             0.6666666666666666,
             "#ed7953"
            ],
            [
             0.7777777777777778,
             "#fb9f3a"
            ],
            [
             0.8888888888888888,
             "#fdca26"
            ],
            [
             1,
             "#f0f921"
            ]
           ],
           "sequentialminus": [
            [
             0,
             "#0d0887"
            ],
            [
             0.1111111111111111,
             "#46039f"
            ],
            [
             0.2222222222222222,
             "#7201a8"
            ],
            [
             0.3333333333333333,
             "#9c179e"
            ],
            [
             0.4444444444444444,
             "#bd3786"
            ],
            [
             0.5555555555555556,
             "#d8576b"
            ],
            [
             0.6666666666666666,
             "#ed7953"
            ],
            [
             0.7777777777777778,
             "#fb9f3a"
            ],
            [
             0.8888888888888888,
             "#fdca26"
            ],
            [
             1,
             "#f0f921"
            ]
           ]
          },
          "colorway": [
           "#636efa",
           "#EF553B",
           "#00cc96",
           "#ab63fa",
           "#FFA15A",
           "#19d3f3",
           "#FF6692",
           "#B6E880",
           "#FF97FF",
           "#FECB52"
          ],
          "font": {
           "color": "#2a3f5f"
          },
          "geo": {
           "bgcolor": "white",
           "lakecolor": "white",
           "landcolor": "#E5ECF6",
           "showlakes": true,
           "showland": true,
           "subunitcolor": "white"
          },
          "hoverlabel": {
           "align": "left"
          },
          "hovermode": "closest",
          "mapbox": {
           "style": "light"
          },
          "paper_bgcolor": "white",
          "plot_bgcolor": "#E5ECF6",
          "polar": {
           "angularaxis": {
            "gridcolor": "white",
            "linecolor": "white",
            "ticks": ""
           },
           "bgcolor": "#E5ECF6",
           "radialaxis": {
            "gridcolor": "white",
            "linecolor": "white",
            "ticks": ""
           }
          },
          "scene": {
           "xaxis": {
            "backgroundcolor": "#E5ECF6",
            "gridcolor": "white",
            "gridwidth": 2,
            "linecolor": "white",
            "showbackground": true,
            "ticks": "",
            "zerolinecolor": "white"
           },
           "yaxis": {
            "backgroundcolor": "#E5ECF6",
            "gridcolor": "white",
            "gridwidth": 2,
            "linecolor": "white",
            "showbackground": true,
            "ticks": "",
            "zerolinecolor": "white"
           },
           "zaxis": {
            "backgroundcolor": "#E5ECF6",
            "gridcolor": "white",
            "gridwidth": 2,
            "linecolor": "white",
            "showbackground": true,
            "ticks": "",
            "zerolinecolor": "white"
           }
          },
          "shapedefaults": {
           "line": {
            "color": "#2a3f5f"
           }
          },
          "ternary": {
           "aaxis": {
            "gridcolor": "white",
            "linecolor": "white",
            "ticks": ""
           },
           "baxis": {
            "gridcolor": "white",
            "linecolor": "white",
            "ticks": ""
           },
           "bgcolor": "#E5ECF6",
           "caxis": {
            "gridcolor": "white",
            "linecolor": "white",
            "ticks": ""
           }
          },
          "title": {
           "x": 0.05
          },
          "xaxis": {
           "automargin": true,
           "gridcolor": "white",
           "linecolor": "white",
           "ticks": "",
           "title": {
            "standoff": 15
           },
           "zerolinecolor": "white",
           "zerolinewidth": 2
          },
          "yaxis": {
           "automargin": true,
           "gridcolor": "white",
           "linecolor": "white",
           "ticks": "",
           "title": {
            "standoff": 15
           },
           "zerolinecolor": "white",
           "zerolinewidth": 2
          }
         }
        },
        "xaxis": {
         "anchor": "y",
         "domain": [
          0,
          1
         ],
         "title": {
          "text": "attribution patching threshold"
         }
        },
        "yaxis": {
         "anchor": "x",
         "domain": [
          0,
          1
         ],
         "title": {
          "text": "num_passes"
         }
        }
       }
      }
     },
     "metadata": {},
     "output_type": "display_data"
    }
   ],
   "source": [
    "xlim = 0.1\n",
    "fig = px.scatter(df[df[\"pp_thresh\"] < xlim], x=\"pp_thresh\", y=\"num_passes\")\n",
    "fig.update_xaxes(title=\"attribution patching threshold\")"
   ]
  },
  {
   "cell_type": "code",
   "execution_count": null,
   "id": "d61c0cae",
   "metadata": {},
   "outputs": [],
   "source": []
  }
 ],
 "metadata": {
  "kernelspec": {
   "display_name": "Python 3 (ipykernel)",
   "language": "python",
   "name": "python3"
  },
  "language_info": {
   "codemirror_mode": {
    "name": "ipython",
    "version": 3
   },
   "file_extension": ".py",
   "mimetype": "text/x-python",
   "name": "python",
   "nbconvert_exporter": "python",
   "pygments_lexer": "ipython3",
   "version": "3.10.0"
  }
 },
 "nbformat": 4,
 "nbformat_minor": 5
}
