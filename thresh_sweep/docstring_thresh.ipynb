{
 "cells": [
  {
   "cell_type": "code",
   "execution_count": 22,
   "id": "2861525f-e65f-4dc8-9774-84a5a292a2e5",
   "metadata": {},
   "outputs": [
    {
     "name": "stdout",
     "output_type": "stream",
     "text": [
      "The autoreload extension is already loaded. To reload it, use:\n",
      "  %reload_ext autoreload\n",
      "cpu\n"
     ]
    },
    {
     "name": "stderr",
     "output_type": "stream",
     "text": [
      "/var/folders/tn/nyh0947d6sngjfvtp7hbb0jr0000gn/T/ipykernel_26576/224720274.py:9: DeprecationWarning: `magic(...)` is deprecated since IPython 0.13 (warning added in 8.1), use run_line_magic(magic_name, parameter_s).\n",
      "  ipython.magic('load_ext autoreload')\n",
      "/var/folders/tn/nyh0947d6sngjfvtp7hbb0jr0000gn/T/ipykernel_26576/224720274.py:10: DeprecationWarning: `magic(...)` is deprecated since IPython 0.13 (warning added in 8.1), use run_line_magic(magic_name, parameter_s).\n",
      "  ipython.magic('autoreload 2')\n"
     ]
    }
   ],
   "source": [
    "import os\n",
    "import sys\n",
    "sys.path.append('..')\n",
    "sys.path.append('../Automatic-Circuit-Discovery/')\n",
    "sys.path.append('../tracr/')\n",
    "import IPython\n",
    "ipython = get_ipython()\n",
    "if ipython is not None:\n",
    "    ipython.magic('load_ext autoreload')\n",
    "    ipython.magic('autoreload 2')\n",
    "import torch as t\n",
    "from torch import Tensor\n",
    "import numpy as np\n",
    "import matplotlib.pyplot as plt\n",
    "import json\n",
    "\n",
    "from acdc.TLACDCExperiment import TLACDCExperiment\n",
    "from acdc.docstring.utils import get_all_docstring_things\n",
    "from utils.prune_utils import get_3_caches, split_layers_and_heads\n",
    "from ACDCPPExperiment import ACDCPPExperiment\n",
    "device = t.device(\"cuda\" if t.cuda.is_available() else \"cpu\")\n",
    "print(device)"
   ]
  },
  {
   "cell_type": "code",
   "execution_count": 23,
   "id": "5306b51d-26b3-47b8-9c08-f77b6a9350ff",
   "metadata": {},
   "outputs": [
    {
     "name": "stdout",
     "output_type": "stream",
     "text": [
      "Loaded pretrained model attn-only-4l into HookedTransformer\n",
      "Moving model to device:  cpu\n"
     ]
    }
   ],
   "source": [
    "all_docstring_items = get_all_docstring_things(num_examples=40, seq_len=5, device=device, metric_name='docstring_metric', correct_incorrect_wandb=False)\n",
    "\n",
    "tl_model = all_docstring_items.tl_model\n",
    "validation_metric = all_docstring_items.validation_metric\n",
    "validation_data = all_docstring_items.validation_data\n",
    "validation_labels = all_docstring_items.validation_labels\n",
    "validation_patch_data = all_docstring_items.validation_patch_data\n",
    "test_metrics = all_docstring_items.test_metrics\n",
    "test_data = all_docstring_items.test_data\n",
    "test_labels = all_docstring_items.test_labels\n",
    "test_patch_data = all_docstring_items.test_patch_data"
   ]
  },
  {
   "cell_type": "code",
   "execution_count": 24,
   "id": "15465560-54a2-4433-8c8a-e13a152849e5",
   "metadata": {},
   "outputs": [],
   "source": [
    "def abs_docstring_metric(logits):\n",
    "    return -abs(test_metrics['docstring_metric'](logits))"
   ]
  },
  {
   "cell_type": "markdown",
   "id": "dd81216c",
   "metadata": {},
   "source": [
    "# ACDC++ run"
   ]
  },
  {
   "cell_type": "code",
   "execution_count": 25,
   "id": "c8fbc8ea",
   "metadata": {},
   "outputs": [
    {
     "name": "stderr",
     "output_type": "stream",
     "text": [
      "WARNING:root:cache_all is deprecated and will eventually be removed, use add_caching_hooks or run_with_cache\n",
      "WARNING:root:cache_all is deprecated and will eventually be removed, use add_caching_hooks or run_with_cache\n"
     ]
    },
    {
     "name": "stdout",
     "output_type": "stream",
     "text": [
      "self.current_node=TLACDCInterpNode(blocks.3.hook_resid_post, [:])\n"
     ]
    },
    {
     "name": "stderr",
     "output_type": "stream",
     "text": [
      "Edge pruning: 100%|██████████| 193/193 [00:00<00:00, 225.34it/s]\n",
      "ACDC++:   0%|          | 0/2 [00:00<?, ?it/s]"
     ]
    },
    {
     "name": "stdout",
     "output_type": "stream",
     "text": [
      "acdcpp_threshold=1\n"
     ]
    },
    {
     "name": "stderr",
     "output_type": "stream",
     "text": [
      "WARNING:root:cache_all is deprecated and will eventually be removed, use add_caching_hooks or run_with_cache\n",
      "WARNING:root:cache_all is deprecated and will eventually be removed, use add_caching_hooks or run_with_cache\n"
     ]
    },
    {
     "name": "stdout",
     "output_type": "stream",
     "text": [
      "acdc_threshold=1\n",
      "self.current_node=TLACDCInterpNode(blocks.3.hook_resid_post, [:])\n"
     ]
    },
    {
     "name": "stderr",
     "output_type": "stream",
     "text": [
      "ACDC:   0%|          | 0/2 [01:04<?, ?it/s]\n",
      "ACDC++:   0%|          | 0/2 [01:04<?, ?it/s]\n"
     ]
    },
    {
     "ename": "KeyboardInterrupt",
     "evalue": "",
     "output_type": "error",
     "traceback": [
      "\u001b[0;31m---------------------------------------------------------------------------\u001b[0m",
      "\u001b[0;31mKeyboardInterrupt\u001b[0m                         Traceback (most recent call last)",
      "\u001b[1;32m/Users/canrager/acdcpp/thresh_sweep/docstring_thresh.ipynb Cell 5\u001b[0m line \u001b[0;36m2\n\u001b[1;32m      <a href='vscode-notebook-cell:/Users/canrager/acdcpp/thresh_sweep/docstring_thresh.ipynb#X23sZmlsZQ%3D%3D?line=2'>3</a>\u001b[0m RUN_NAME \u001b[39m=\u001b[39m \u001b[39m'\u001b[39m\u001b[39mdocstring_edge_absval\u001b[39m\u001b[39m'\u001b[39m\n\u001b[1;32m      <a href='vscode-notebook-cell:/Users/canrager/acdcpp/thresh_sweep/docstring_thresh.ipynb#X23sZmlsZQ%3D%3D?line=5'>6</a>\u001b[0m combined_exp \u001b[39m=\u001b[39m ACDCPPExperiment(\n\u001b[1;32m      <a href='vscode-notebook-cell:/Users/canrager/acdcpp/thresh_sweep/docstring_thresh.ipynb#X23sZmlsZQ%3D%3D?line=6'>7</a>\u001b[0m     tl_model,\n\u001b[1;32m      <a href='vscode-notebook-cell:/Users/canrager/acdcpp/thresh_sweep/docstring_thresh.ipynb#X23sZmlsZQ%3D%3D?line=7'>8</a>\u001b[0m     test_data,\n\u001b[0;32m   (...)\u001b[0m\n\u001b[1;32m     <a href='vscode-notebook-cell:/Users/canrager/acdcpp/thresh_sweep/docstring_thresh.ipynb#X23sZmlsZQ%3D%3D?line=18'>19</a>\u001b[0m     no_pruned_nodes_attr\u001b[39m=\u001b[39m\u001b[39m1\u001b[39m,\n\u001b[1;32m     <a href='vscode-notebook-cell:/Users/canrager/acdcpp/thresh_sweep/docstring_thresh.ipynb#X23sZmlsZQ%3D%3D?line=19'>20</a>\u001b[0m )\n\u001b[0;32m---> <a href='vscode-notebook-cell:/Users/canrager/acdcpp/thresh_sweep/docstring_thresh.ipynb#X23sZmlsZQ%3D%3D?line=20'>21</a>\u001b[0m pruned_heads, num_passes, pruned_attrs \u001b[39m=\u001b[39m combined_exp\u001b[39m.\u001b[39;49mrun()\n",
      "File \u001b[0;32m~/acdcpp/thresh_sweep/../ACDCPPExperiment.py:187\u001b[0m, in \u001b[0;36mACDCPPExperiment.run\u001b[0;34m(self, save_after_acdcpp, save_after_acdc)\u001b[0m\n\u001b[1;32m    180\u001b[0m prepruned_exp, acdcpp_heads \u001b[39m=\u001b[39m \u001b[39mself\u001b[39m\u001b[39m.\u001b[39meval_acdcpp(exp, acdcpp_attrs, acdcpp_threshold)\n\u001b[1;32m    181\u001b[0m \u001b[39m# Do not save acdcpp-graphs for now.\u001b[39;00m\n\u001b[1;32m    182\u001b[0m \u001b[39m# Only applying threshold to this one as these graphs tend to be HUGE\u001b[39;00m\n\u001b[1;32m    183\u001b[0m \u001b[39m# if acdcpp_threshold >= self.save_graphs_after:\u001b[39;00m\n\u001b[1;32m    184\u001b[0m \u001b[39m#     print('Saving ACDC++ Graph')\u001b[39;00m\n\u001b[1;32m    185\u001b[0m \u001b[39m#     show(exp.corr, fname=f'ims/{self.run_name}/thresh{acdcpp_threshold}_before_acdc.png')\u001b[39;00m\n\u001b[0;32m--> 187\u001b[0m acdc_heads, passes \u001b[39m=\u001b[39m \u001b[39mself\u001b[39;49m\u001b[39m.\u001b[39;49mrun_acdc(prepruned_exp)\n\u001b[1;32m    189\u001b[0m \u001b[39mprint\u001b[39m(\u001b[39m'\u001b[39m\u001b[39mSaving ACDC Graph\u001b[39m\u001b[39m'\u001b[39m)\n\u001b[1;32m    190\u001b[0m show(prepruned_exp\u001b[39m.\u001b[39mcorr, fname\u001b[39m=\u001b[39m\u001b[39mf\u001b[39m\u001b[39m'\u001b[39m\u001b[39mims/\u001b[39m\u001b[39m{\u001b[39;00m\u001b[39mself\u001b[39m\u001b[39m.\u001b[39mrun_name\u001b[39m}\u001b[39;00m\u001b[39m/thresh\u001b[39m\u001b[39m{\u001b[39;00macdc_threshold\u001b[39m}\u001b[39;00m\u001b[39m_after_acdc.png\u001b[39m\u001b[39m'\u001b[39m)\n",
      "File \u001b[0;32m~/acdcpp/thresh_sweep/../ACDCPPExperiment.py:150\u001b[0m, in \u001b[0;36mACDCPPExperiment.run_acdc\u001b[0;34m(self, exp)\u001b[0m\n\u001b[1;32m    147\u001b[0m     \u001b[39mprint\u001b[39m(\u001b[39m'\u001b[39m\u001b[39mRunning ACDC\u001b[39m\u001b[39m'\u001b[39m)\n\u001b[1;32m    149\u001b[0m \u001b[39mwhile\u001b[39;00m exp\u001b[39m.\u001b[39mcurrent_node:\n\u001b[0;32m--> 150\u001b[0m     exp\u001b[39m.\u001b[39;49mstep(testing\u001b[39m=\u001b[39;49m\u001b[39mFalse\u001b[39;49;00m)\n\u001b[1;32m    152\u001b[0m \u001b[39mreturn\u001b[39;00m (get_nodes(exp\u001b[39m.\u001b[39mcorr), exp\u001b[39m.\u001b[39mnum_passes)\n",
      "File \u001b[0;32m~/acdcpp/Automatic-Circuit-Discovery/acdc/TLACDCExperiment.py:667\u001b[0m, in \u001b[0;36mTLACDCExperiment.step\u001b[0;34m(self, early_stop, testing)\u001b[0m\n\u001b[1;32m    662\u001b[0m         wandb\u001b[39m.\u001b[39mlog(\n\u001b[1;32m    663\u001b[0m             {\u001b[39m\"\u001b[39m\u001b[39macdc_graph\u001b[39m\u001b[39m\"\u001b[39m: wandb\u001b[39m.\u001b[39mImage(fname),}\n\u001b[1;32m    664\u001b[0m         )\n\u001b[1;32m    666\u001b[0m \u001b[39m# increment the current node\u001b[39;00m\n\u001b[0;32m--> 667\u001b[0m \u001b[39mself\u001b[39;49m\u001b[39m.\u001b[39;49mincrement_current_node()\n\u001b[1;32m    668\u001b[0m \u001b[39mself\u001b[39m\u001b[39m.\u001b[39mupdate_cur_metric(recalc_metric\u001b[39m=\u001b[39m\u001b[39mTrue\u001b[39;00m, recalc_edges\u001b[39m=\u001b[39m\u001b[39mTrue\u001b[39;00m)\n",
      "File \u001b[0;32m~/acdcpp/Automatic-Circuit-Discovery/acdc/TLACDCExperiment.py:776\u001b[0m, in \u001b[0;36mTLACDCExperiment.increment_current_node\u001b[0;34m(self)\u001b[0m\n\u001b[1;32m    773\u001b[0m \u001b[39mif\u001b[39;00m \u001b[39mself\u001b[39m\u001b[39m.\u001b[39mverbose:\n\u001b[1;32m    774\u001b[0m     \u001b[39mprint\u001b[39m(\u001b[39m\"\u001b[39m\u001b[39mWe moved to \u001b[39m\u001b[39m\"\u001b[39m, \u001b[39mself\u001b[39m\u001b[39m.\u001b[39mcurrent_node)\n\u001b[0;32m--> 776\u001b[0m \u001b[39mif\u001b[39;00m \u001b[39mself\u001b[39m\u001b[39m.\u001b[39mcurrent_node \u001b[39mis\u001b[39;00m \u001b[39mNone\u001b[39;00m \u001b[39mor\u001b[39;00m \u001b[39mself\u001b[39;49m\u001b[39m.\u001b[39;49mcurrent_node_connected() \u001b[39mor\u001b[39;00m \u001b[39mself\u001b[39m\u001b[39m.\u001b[39mcurrent_node\u001b[39m.\u001b[39mname \u001b[39min\u001b[39;00m [\u001b[39m\"\u001b[39m\u001b[39mblocks.0.hook_resid_pre\u001b[39m\u001b[39m\"\u001b[39m, \u001b[39m\"\u001b[39m\u001b[39mhook_pos_embed\u001b[39m\u001b[39m\"\u001b[39m, \u001b[39m\"\u001b[39m\u001b[39mhook_embed\u001b[39m\u001b[39m\"\u001b[39m]:\n\u001b[1;32m    777\u001b[0m     \u001b[39mbreak\u001b[39;00m\n\u001b[1;32m    778\u001b[0m \u001b[39mif\u001b[39;00m \u001b[39mself\u001b[39m\u001b[39m.\u001b[39mverbose:\n",
      "File \u001b[0;32m~/acdcpp/Automatic-Circuit-Discovery/acdc/TLACDCExperiment.py:752\u001b[0m, in \u001b[0;36mTLACDCExperiment.current_node_connected\u001b[0;34m(self)\u001b[0m\n\u001b[1;32m    743\u001b[0m         edge\u001b[39m.\u001b[39mpresent \u001b[39m=\u001b[39m \u001b[39mFalse\u001b[39;00m\n\u001b[1;32m    745\u001b[0m         \u001b[39mself\u001b[39m\u001b[39m.\u001b[39mcorr\u001b[39m.\u001b[39mremove_edge(\n\u001b[1;32m    746\u001b[0m             \u001b[39mself\u001b[39m\u001b[39m.\u001b[39mcurrent_node\u001b[39m.\u001b[39mname, \n\u001b[1;32m    747\u001b[0m             \u001b[39mself\u001b[39m\u001b[39m.\u001b[39mcurrent_node\u001b[39m.\u001b[39mindex, \n\u001b[1;32m    748\u001b[0m             parent_name, \n\u001b[1;32m    749\u001b[0m             parent_index,\n\u001b[1;32m    750\u001b[0m         )\n\u001b[0;32m--> 752\u001b[0m \u001b[39mself\u001b[39;49m\u001b[39m.\u001b[39;49mupdate_cur_metric(recalc_edges\u001b[39m=\u001b[39;49m\u001b[39mTrue\u001b[39;49;00m)\n\u001b[1;32m    753\u001b[0m \u001b[39massert\u001b[39;00m \u001b[39mabs\u001b[39m(\u001b[39mself\u001b[39m\u001b[39m.\u001b[39mcur_metric \u001b[39m-\u001b[39m old_metric) \u001b[39m<\u001b[39m \u001b[39m3e-3\u001b[39m, (\u001b[39m\"\u001b[39m\u001b[39mRemoving all incoming edges should not change the metric ... you may want to see *which* remooval in the above loop mattered, too\u001b[39m\u001b[39m\"\u001b[39m, \u001b[39mself\u001b[39m\u001b[39m.\u001b[39mcur_metric, old_metric, \u001b[39mself\u001b[39m\u001b[39m.\u001b[39mcurrent_node) \u001b[39m# TODO this seems to fail quite regularly\u001b[39;00m\n\u001b[1;32m    755\u001b[0m \u001b[39mreturn\u001b[39;00m \u001b[39mFalse\u001b[39;00m\n",
      "File \u001b[0;32m~/acdcpp/Automatic-Circuit-Discovery/acdc/TLACDCExperiment.py:198\u001b[0m, in \u001b[0;36mTLACDCExperiment.update_cur_metric\u001b[0;34m(self, recalc_metric, recalc_edges, initial)\u001b[0m\n\u001b[1;32m    196\u001b[0m \u001b[39mdef\u001b[39;00m \u001b[39mupdate_cur_metric\u001b[39m(\u001b[39mself\u001b[39m, recalc_metric\u001b[39m=\u001b[39m\u001b[39mTrue\u001b[39;00m, recalc_edges\u001b[39m=\u001b[39m\u001b[39mTrue\u001b[39;00m, initial\u001b[39m=\u001b[39m\u001b[39mFalse\u001b[39;00m):\n\u001b[1;32m    197\u001b[0m     \u001b[39mif\u001b[39;00m recalc_metric:\n\u001b[0;32m--> 198\u001b[0m         logits \u001b[39m=\u001b[39m \u001b[39mself\u001b[39;49m\u001b[39m.\u001b[39;49mmodel(\u001b[39mself\u001b[39;49m\u001b[39m.\u001b[39;49mds)\n\u001b[1;32m    199\u001b[0m         \u001b[39mself\u001b[39m\u001b[39m.\u001b[39mcur_metric \u001b[39m=\u001b[39m \u001b[39mself\u001b[39m\u001b[39m.\u001b[39mmetric(logits)\n\u001b[1;32m    200\u001b[0m         \u001b[39mif\u001b[39;00m \u001b[39mself\u001b[39m\u001b[39m.\u001b[39msecond_metric \u001b[39mis\u001b[39;00m \u001b[39mnot\u001b[39;00m \u001b[39mNone\u001b[39;00m:\n",
      "File \u001b[0;32m~/.pyenv/versions/acdc_env/envs/acdcpp_env/lib/python3.10/site-packages/torch/nn/modules/module.py:1194\u001b[0m, in \u001b[0;36mModule._call_impl\u001b[0;34m(self, *input, **kwargs)\u001b[0m\n\u001b[1;32m   1190\u001b[0m \u001b[39m# If we don't have any hooks, we want to skip the rest of the logic in\u001b[39;00m\n\u001b[1;32m   1191\u001b[0m \u001b[39m# this function, and just call forward.\u001b[39;00m\n\u001b[1;32m   1192\u001b[0m \u001b[39mif\u001b[39;00m \u001b[39mnot\u001b[39;00m (\u001b[39mself\u001b[39m\u001b[39m.\u001b[39m_backward_hooks \u001b[39mor\u001b[39;00m \u001b[39mself\u001b[39m\u001b[39m.\u001b[39m_forward_hooks \u001b[39mor\u001b[39;00m \u001b[39mself\u001b[39m\u001b[39m.\u001b[39m_forward_pre_hooks \u001b[39mor\u001b[39;00m _global_backward_hooks\n\u001b[1;32m   1193\u001b[0m         \u001b[39mor\u001b[39;00m _global_forward_hooks \u001b[39mor\u001b[39;00m _global_forward_pre_hooks):\n\u001b[0;32m-> 1194\u001b[0m     \u001b[39mreturn\u001b[39;00m forward_call(\u001b[39m*\u001b[39;49m\u001b[39minput\u001b[39;49m, \u001b[39m*\u001b[39;49m\u001b[39m*\u001b[39;49mkwargs)\n\u001b[1;32m   1195\u001b[0m \u001b[39m# Do not call functions when jit is used\u001b[39;00m\n\u001b[1;32m   1196\u001b[0m full_backward_hooks, non_full_backward_hooks \u001b[39m=\u001b[39m [], []\n",
      "File \u001b[0;32m~/.pyenv/versions/acdc_env/envs/acdcpp_env/lib/python3.10/site-packages/transformer_lens/HookedTransformer.py:405\u001b[0m, in \u001b[0;36mHookedTransformer.forward\u001b[0;34m(self, input, return_type, loss_per_token, prepend_bos, padding_side, stop_at_layer, past_kv_cache, past_left_attention_mask)\u001b[0m\n\u001b[1;32m    400\u001b[0m     \u001b[39mif\u001b[39;00m shortformer_pos_embed \u001b[39mis\u001b[39;00m \u001b[39mnot\u001b[39;00m \u001b[39mNone\u001b[39;00m:\n\u001b[1;32m    401\u001b[0m         shortformer_pos_embed \u001b[39m=\u001b[39m shortformer_pos_embed\u001b[39m.\u001b[39mto(\n\u001b[1;32m    402\u001b[0m             devices\u001b[39m.\u001b[39mget_device_for_block_index(i, \u001b[39mself\u001b[39m\u001b[39m.\u001b[39mcfg)\n\u001b[1;32m    403\u001b[0m         )\n\u001b[0;32m--> 405\u001b[0m     residual \u001b[39m=\u001b[39m block(\n\u001b[1;32m    406\u001b[0m         residual,\n\u001b[1;32m    407\u001b[0m         past_kv_cache_entry\u001b[39m=\u001b[39;49mpast_kv_cache[i]\n\u001b[1;32m    408\u001b[0m         \u001b[39mif\u001b[39;49;00m past_kv_cache \u001b[39mis\u001b[39;49;00m \u001b[39mnot\u001b[39;49;00m \u001b[39mNone\u001b[39;49;00m\n\u001b[1;32m    409\u001b[0m         \u001b[39melse\u001b[39;49;00m \u001b[39mNone\u001b[39;49;00m,  \u001b[39m# Cache contains a list of HookedTransformerKeyValueCache objects, one for each block\u001b[39;49;00m\n\u001b[1;32m    410\u001b[0m         shortformer_pos_embed\u001b[39m=\u001b[39;49mshortformer_pos_embed,\n\u001b[1;32m    411\u001b[0m         left_attention_mask\u001b[39m=\u001b[39;49mleft_attention_mask,\n\u001b[1;32m    412\u001b[0m     )  \u001b[39m# [batch, pos, d_model]\u001b[39;00m\n\u001b[1;32m    414\u001b[0m \u001b[39mif\u001b[39;00m stop_at_layer \u001b[39mis\u001b[39;00m \u001b[39mnot\u001b[39;00m \u001b[39mNone\u001b[39;00m:\n\u001b[1;32m    415\u001b[0m     \u001b[39m# When we stop at an early layer, we end here rather than doing further computation\u001b[39;00m\n\u001b[1;32m    416\u001b[0m     \u001b[39mreturn\u001b[39;00m \u001b[39mNone\u001b[39;00m\n",
      "File \u001b[0;32m~/.pyenv/versions/acdc_env/envs/acdcpp_env/lib/python3.10/site-packages/torch/nn/modules/module.py:1194\u001b[0m, in \u001b[0;36mModule._call_impl\u001b[0;34m(self, *input, **kwargs)\u001b[0m\n\u001b[1;32m   1190\u001b[0m \u001b[39m# If we don't have any hooks, we want to skip the rest of the logic in\u001b[39;00m\n\u001b[1;32m   1191\u001b[0m \u001b[39m# this function, and just call forward.\u001b[39;00m\n\u001b[1;32m   1192\u001b[0m \u001b[39mif\u001b[39;00m \u001b[39mnot\u001b[39;00m (\u001b[39mself\u001b[39m\u001b[39m.\u001b[39m_backward_hooks \u001b[39mor\u001b[39;00m \u001b[39mself\u001b[39m\u001b[39m.\u001b[39m_forward_hooks \u001b[39mor\u001b[39;00m \u001b[39mself\u001b[39m\u001b[39m.\u001b[39m_forward_pre_hooks \u001b[39mor\u001b[39;00m _global_backward_hooks\n\u001b[1;32m   1193\u001b[0m         \u001b[39mor\u001b[39;00m _global_forward_hooks \u001b[39mor\u001b[39;00m _global_forward_pre_hooks):\n\u001b[0;32m-> 1194\u001b[0m     \u001b[39mreturn\u001b[39;00m forward_call(\u001b[39m*\u001b[39;49m\u001b[39minput\u001b[39;49m, \u001b[39m*\u001b[39;49m\u001b[39m*\u001b[39;49mkwargs)\n\u001b[1;32m   1195\u001b[0m \u001b[39m# Do not call functions when jit is used\u001b[39;00m\n\u001b[1;32m   1196\u001b[0m full_backward_hooks, non_full_backward_hooks \u001b[39m=\u001b[39m [], []\n",
      "File \u001b[0;32m~/.pyenv/versions/acdc_env/envs/acdcpp_env/lib/python3.10/site-packages/transformer_lens/components.py:1032\u001b[0m, in \u001b[0;36mTransformerBlock.forward\u001b[0;34m(self, resid_pre, shortformer_pos_embed, past_kv_cache_entry, left_attention_mask)\u001b[0m\n\u001b[1;32m   1025\u001b[0m \u001b[39mdef\u001b[39;00m \u001b[39madd_head_dimension\u001b[39m(tensor):\n\u001b[1;32m   1026\u001b[0m     \u001b[39mreturn\u001b[39;00m einops\u001b[39m.\u001b[39mrepeat(\n\u001b[1;32m   1027\u001b[0m         tensor,\n\u001b[1;32m   1028\u001b[0m         \u001b[39m\"\u001b[39m\u001b[39mbatch pos d_model -> batch pos n_heads d_model\u001b[39m\u001b[39m\"\u001b[39m,\n\u001b[1;32m   1029\u001b[0m         n_heads\u001b[39m=\u001b[39m\u001b[39mself\u001b[39m\u001b[39m.\u001b[39mcfg\u001b[39m.\u001b[39mn_heads,\n\u001b[1;32m   1030\u001b[0m     )\u001b[39m.\u001b[39mclone()\n\u001b[0;32m-> 1032\u001b[0m query_input \u001b[39m=\u001b[39m \u001b[39mself\u001b[39;49m\u001b[39m.\u001b[39;49mhook_q_input(add_head_dimension(query_input))\n\u001b[1;32m   1033\u001b[0m key_input \u001b[39m=\u001b[39m \u001b[39mself\u001b[39m\u001b[39m.\u001b[39mhook_k_input(add_head_dimension(key_input))\n\u001b[1;32m   1034\u001b[0m value_input \u001b[39m=\u001b[39m \u001b[39mself\u001b[39m\u001b[39m.\u001b[39mhook_v_input(add_head_dimension(value_input))\n",
      "File \u001b[0;32m~/.pyenv/versions/acdc_env/envs/acdcpp_env/lib/python3.10/site-packages/torch/nn/modules/module.py:1215\u001b[0m, in \u001b[0;36mModule._call_impl\u001b[0;34m(self, *input, **kwargs)\u001b[0m\n\u001b[1;32m   1213\u001b[0m \u001b[39mif\u001b[39;00m _global_forward_hooks \u001b[39mor\u001b[39;00m \u001b[39mself\u001b[39m\u001b[39m.\u001b[39m_forward_hooks:\n\u001b[1;32m   1214\u001b[0m     \u001b[39mfor\u001b[39;00m hook \u001b[39min\u001b[39;00m (\u001b[39m*\u001b[39m_global_forward_hooks\u001b[39m.\u001b[39mvalues(), \u001b[39m*\u001b[39m\u001b[39mself\u001b[39m\u001b[39m.\u001b[39m_forward_hooks\u001b[39m.\u001b[39mvalues()):\n\u001b[0;32m-> 1215\u001b[0m         hook_result \u001b[39m=\u001b[39m hook(\u001b[39mself\u001b[39;49m, \u001b[39minput\u001b[39;49m, result)\n\u001b[1;32m   1216\u001b[0m         \u001b[39mif\u001b[39;00m hook_result \u001b[39mis\u001b[39;00m \u001b[39mnot\u001b[39;00m \u001b[39mNone\u001b[39;00m:\n\u001b[1;32m   1217\u001b[0m             result \u001b[39m=\u001b[39m hook_result\n",
      "File \u001b[0;32m~/.pyenv/versions/acdc_env/envs/acdcpp_env/lib/python3.10/site-packages/transformer_lens/hook_points.py:67\u001b[0m, in \u001b[0;36mHookPoint.add_hook.<locals>.full_hook\u001b[0;34m(module, module_input, module_output)\u001b[0m\n\u001b[1;32m     66\u001b[0m \u001b[39mdef\u001b[39;00m \u001b[39mfull_hook\u001b[39m(module, module_input, module_output):\n\u001b[0;32m---> 67\u001b[0m     \u001b[39mreturn\u001b[39;00m hook(module_output, hook\u001b[39m=\u001b[39;49m\u001b[39mself\u001b[39;49m)\n",
      "File \u001b[0;32m~/acdcpp/Automatic-Circuit-Discovery/acdc/TLACDCExperiment.py:252\u001b[0m, in \u001b[0;36mTLACDCExperiment.sender_hook\u001b[0;34m(self, z, hook, verbose, cache, device)\u001b[0m\n\u001b[1;32m    250\u001b[0m     tens \u001b[39m=\u001b[39m z\u001b[39m.\u001b[39mcpu()\n\u001b[1;32m    251\u001b[0m \u001b[39melse\u001b[39;00m:\n\u001b[0;32m--> 252\u001b[0m     tens \u001b[39m=\u001b[39m z\u001b[39m.\u001b[39;49mclone()\n\u001b[1;32m    253\u001b[0m     \u001b[39mif\u001b[39;00m device \u001b[39mis\u001b[39;00m \u001b[39mnot\u001b[39;00m \u001b[39mNone\u001b[39;00m:\n\u001b[1;32m    254\u001b[0m         tens \u001b[39m=\u001b[39m tens\u001b[39m.\u001b[39mto(device)\n",
      "\u001b[0;31mKeyboardInterrupt\u001b[0m: "
     ]
    }
   ],
   "source": [
    "ACDCPP_THRESHOLDS = [1,-1]\n",
    "ACDC_THRESHOLDS = [1, 1.1]\n",
    "RUN_NAME = 'docstring_edge_absval'\n",
    "\n",
    "\n",
    "combined_exp = ACDCPPExperiment(\n",
    "    tl_model,\n",
    "    test_data,\n",
    "    test_patch_data,\n",
    "    test_metrics['docstring_metric'],\n",
    "    abs_docstring_metric,\n",
    "    acdc_thresholds=ACDC_THRESHOLDS,\n",
    "    acdcpp_thresholds=ACDCPP_THRESHOLDS,\n",
    "    run_name=RUN_NAME,\n",
    "    verbose=False,\n",
    "    attr_absolute_val=True,\n",
    "    save_graphs_after=0,\n",
    "    pruning_mode='edge',\n",
    "    no_pruned_nodes_attr=1,\n",
    ")\n",
    "pruned_heads, num_passes, pruned_attrs = combined_exp.run()"
   ]
  },
  {
   "cell_type": "code",
   "execution_count": 6,
   "id": "57321b33",
   "metadata": {},
   "outputs": [
    {
     "ename": "TypeError",
     "evalue": "ACDCPPExperiment.__init__() missing 1 required positional argument: 'acdcpp_thresholds'",
     "output_type": "error",
     "traceback": [
      "\u001b[0;31m---------------------------------------------------------------------------\u001b[0m",
      "\u001b[0;31mTypeError\u001b[0m                                 Traceback (most recent call last)",
      "\u001b[1;32m/Users/canrager/acdcpp/thresh_sweep/docstring_thresh.ipynb Cell 6\u001b[0m line \u001b[0;36m4\n\u001b[1;32m      <a href='vscode-notebook-cell:/Users/canrager/acdcpp/thresh_sweep/docstring_thresh.ipynb#W5sZmlsZQ%3D%3D?line=1'>2</a>\u001b[0m threshold_dummy \u001b[39m=\u001b[39m \u001b[39m-\u001b[39m\u001b[39m1\u001b[39m \u001b[39m# Does not make a difference when only running edge based attribution patching, as all attributions are saved in the result dict anyways\u001b[39;00m\n\u001b[1;32m      <a href='vscode-notebook-cell:/Users/canrager/acdcpp/thresh_sweep/docstring_thresh.ipynb#W5sZmlsZQ%3D%3D?line=2'>3</a>\u001b[0m RUN_NAME \u001b[39m=\u001b[39m \u001b[39m'\u001b[39m\u001b[39mgreaterthan_edge_absval\u001b[39m\u001b[39m'\u001b[39m\n\u001b[0;32m----> <a href='vscode-notebook-cell:/Users/canrager/acdcpp/thresh_sweep/docstring_thresh.ipynb#W5sZmlsZQ%3D%3D?line=3'>4</a>\u001b[0m acdcpp_exp \u001b[39m=\u001b[39m ACDCPPExperiment(tl_model,\n\u001b[1;32m      <a href='vscode-notebook-cell:/Users/canrager/acdcpp/thresh_sweep/docstring_thresh.ipynb#W5sZmlsZQ%3D%3D?line=4'>5</a>\u001b[0m                               test_data,\n\u001b[1;32m      <a href='vscode-notebook-cell:/Users/canrager/acdcpp/thresh_sweep/docstring_thresh.ipynb#W5sZmlsZQ%3D%3D?line=5'>6</a>\u001b[0m                               test_patch_data,\n\u001b[1;32m      <a href='vscode-notebook-cell:/Users/canrager/acdcpp/thresh_sweep/docstring_thresh.ipynb#W5sZmlsZQ%3D%3D?line=6'>7</a>\u001b[0m                               test_metrics[\u001b[39m'\u001b[39;49m\u001b[39mdocstring_metric\u001b[39;49m\u001b[39m'\u001b[39;49m],\n\u001b[1;32m      <a href='vscode-notebook-cell:/Users/canrager/acdcpp/thresh_sweep/docstring_thresh.ipynb#W5sZmlsZQ%3D%3D?line=7'>8</a>\u001b[0m                               abs_docstring_metric,\n\u001b[1;32m      <a href='vscode-notebook-cell:/Users/canrager/acdcpp/thresh_sweep/docstring_thresh.ipynb#W5sZmlsZQ%3D%3D?line=8'>9</a>\u001b[0m                               threshold_dummy,\n\u001b[1;32m     <a href='vscode-notebook-cell:/Users/canrager/acdcpp/thresh_sweep/docstring_thresh.ipynb#W5sZmlsZQ%3D%3D?line=9'>10</a>\u001b[0m                               run_name\u001b[39m=\u001b[39;49mRUN_NAME,\n\u001b[1;32m     <a href='vscode-notebook-cell:/Users/canrager/acdcpp/thresh_sweep/docstring_thresh.ipynb#W5sZmlsZQ%3D%3D?line=10'>11</a>\u001b[0m                               verbose\u001b[39m=\u001b[39;49m\u001b[39mFalse\u001b[39;49;00m,\n\u001b[1;32m     <a href='vscode-notebook-cell:/Users/canrager/acdcpp/thresh_sweep/docstring_thresh.ipynb#W5sZmlsZQ%3D%3D?line=11'>12</a>\u001b[0m                               attr_absolute_val\u001b[39m=\u001b[39;49m\u001b[39mTrue\u001b[39;49;00m,\n\u001b[1;32m     <a href='vscode-notebook-cell:/Users/canrager/acdcpp/thresh_sweep/docstring_thresh.ipynb#W5sZmlsZQ%3D%3D?line=12'>13</a>\u001b[0m                               save_graphs_after\u001b[39m=\u001b[39;49m\u001b[39m0\u001b[39;49m,\n\u001b[1;32m     <a href='vscode-notebook-cell:/Users/canrager/acdcpp/thresh_sweep/docstring_thresh.ipynb#W5sZmlsZQ%3D%3D?line=13'>14</a>\u001b[0m                               pruning_mode\u001b[39m=\u001b[39;49m\u001b[39m\"\u001b[39;49m\u001b[39medge\u001b[39;49m\u001b[39m\"\u001b[39;49m,\n\u001b[1;32m     <a href='vscode-notebook-cell:/Users/canrager/acdcpp/thresh_sweep/docstring_thresh.ipynb#W5sZmlsZQ%3D%3D?line=14'>15</a>\u001b[0m                               no_pruned_nodes_attr\u001b[39m=\u001b[39;49m\u001b[39m1\u001b[39;49m\n\u001b[1;32m     <a href='vscode-notebook-cell:/Users/canrager/acdcpp/thresh_sweep/docstring_thresh.ipynb#W5sZmlsZQ%3D%3D?line=15'>16</a>\u001b[0m                              )\n\u001b[1;32m     <a href='vscode-notebook-cell:/Users/canrager/acdcpp/thresh_sweep/docstring_thresh.ipynb#W5sZmlsZQ%3D%3D?line=16'>17</a>\u001b[0m \u001b[39m# tlacdc_exp = acdcpp_exp.setup_exp(threshold=threshold_dummy)\u001b[39;00m\n\u001b[1;32m     <a href='vscode-notebook-cell:/Users/canrager/acdcpp/thresh_sweep/docstring_thresh.ipynb#W5sZmlsZQ%3D%3D?line=17'>18</a>\u001b[0m \u001b[39m# acdcpp_attr = acdcpp_exp.run_acdcpp(exp=tlacdc_exp)\u001b[39;00m\n\u001b[1;32m     <a href='vscode-notebook-cell:/Users/canrager/acdcpp/thresh_sweep/docstring_thresh.ipynb#W5sZmlsZQ%3D%3D?line=18'>19</a>\u001b[0m \n\u001b[0;32m   (...)\u001b[0m\n\u001b[1;32m     <a href='vscode-notebook-cell:/Users/canrager/acdcpp/thresh_sweep/docstring_thresh.ipynb#W5sZmlsZQ%3D%3D?line=27'>28</a>\u001b[0m \u001b[39m# with open(f'{RUN_NAME}_acdcpp_only_attrs.json', 'w') as f:\u001b[39;00m\n\u001b[1;32m     <a href='vscode-notebook-cell:/Users/canrager/acdcpp/thresh_sweep/docstring_thresh.ipynb#W5sZmlsZQ%3D%3D?line=28'>29</a>\u001b[0m \u001b[39m#     json.dump(cleaned_attrs, f)\u001b[39;00m\n",
      "\u001b[0;31mTypeError\u001b[0m: ACDCPPExperiment.__init__() missing 1 required positional argument: 'acdcpp_thresholds'"
     ]
    }
   ],
   "source": [
    "## Calc edge attributions\n",
    "threshold_dummy = -1 # Does not make a difference when only running edge based attribution patching, as all attributions are saved in the result dict anyways\n",
    "RUN_NAME = 'greaterthan_edge_absval'\n",
    "acdcpp_exp = ACDCPPExperiment(tl_model,\n",
    "                              test_data,\n",
    "                              test_patch_data,\n",
    "                              test_metrics['docstring_metric'],\n",
    "                              abs_docstring_metric,\n",
    "                              threshold_dummy,\n",
    "                              run_name=RUN_NAME,\n",
    "                              verbose=False,\n",
    "                              attr_absolute_val=True,\n",
    "                              save_graphs_after=0,\n",
    "                              pruning_mode=\"edge\",\n",
    "                              no_pruned_nodes_attr=1\n",
    "                             )\n",
    "# tlacdc_exp = acdcpp_exp.setup_exp(threshold=threshold_dummy)\n",
    "# acdcpp_attr = acdcpp_exp.run_acdcpp(exp=tlacdc_exp)\n",
    "\n",
    "# # Save results\n",
    "# def convert_to_torch_index(index_list):\n",
    "#     return ''.join(['None' if i == ':' else i for i in index_list])\n",
    "\n",
    "# cleaned_attrs = []\n",
    "# for ((e1, i1, _), (e2, i2, _)), attr in acdcpp_attr.items():\n",
    "#     cleaned_attrs.append([e1, convert_to_torch_index(str(i1)), e2, convert_to_torch_index(str(i2)), attr])\n",
    "        \n",
    "# with open(f'{RUN_NAME}_acdcpp_only_attrs.json', 'w') as f:\n",
    "#     json.dump(cleaned_attrs, f)"
   ]
  },
  {
   "cell_type": "code",
   "execution_count": 38,
   "id": "a4c4b953",
   "metadata": {},
   "outputs": [],
   "source": [
    "def eval_acdcpp(exp, acdcpp_results, threshold, attr_absolute_val=True, verbose=False):\n",
    "        \"\"\"\n",
    "        Applying threshold to precalculated results from run_acdcpp()\n",
    "        \"\"\"\n",
    "\n",
    "        for (parent, downstream_component), attr in acdcpp_results.items():\n",
    "            if attr_absolute_val: \n",
    "                attr = np.abs(attr)\n",
    "\n",
    "            # for position in exp.positions: # TODO add this back in!\n",
    "            should_prune = attr < threshold\n",
    "            if should_prune:\n",
    "                edge_tuple = (downstream_component.hook_point_name, downstream_component.index, parent.hook_point_name, parent.index)\n",
    "                exp.corr.edges[edge_tuple[0]][edge_tuple[1]][edge_tuple[2]][edge_tuple[3]].present = False\n",
    "                exp.corr.remove_edge(*edge_tuple)\n",
    "                if verbose:\n",
    "                    print(f'Pruning {parent=} {downstream_component=}')\n",
    "            else:\n",
    "                if verbose: # Putting this here since tons of things get pruned when doing edges!\n",
    "                    print(f'NOT PRUNING {parent=} {downstream_component=} with attribution {attr}')\n",
    "\n",
    "        return exp"
   ]
  },
  {
   "cell_type": "code",
   "execution_count": null,
   "id": "9cf3f9b4",
   "metadata": {},
   "outputs": [
    {
     "name": "stderr",
     "output_type": "stream",
     "text": [
      "WARNING:root:cache_all is deprecated and will eventually be removed, use add_caching_hooks or run_with_cache\n",
      "WARNING:root:cache_all is deprecated and will eventually be removed, use add_caching_hooks or run_with_cache\n"
     ]
    },
    {
     "name": "stdout",
     "output_type": "stream",
     "text": [
      "ln_final.hook_normalized\n",
      "ln_final.hook_scale\n",
      "blocks.3.hook_resid_post\n",
      "blocks.3.hook_attn_out\n",
      "blocks.3.attn.hook_result\n",
      "blocks.3.attn.hook_z\n",
      "blocks.3.attn.hook_pattern\n",
      "blocks.3.attn.hook_attn_scores\n",
      "blocks.3.attn.hook_v\n",
      "blocks.3.attn.hook_k\n",
      "blocks.3.attn.hook_q\n",
      "blocks.3.ln1.hook_normalized\n",
      "blocks.3.ln1.hook_scale\n",
      "blocks.3.hook_v_input\n",
      "blocks.3.hook_k_input\n",
      "blocks.3.hook_q_input\n",
      "blocks.3.hook_resid_pre\n",
      "blocks.2.hook_resid_post\n",
      "blocks.2.hook_attn_out\n",
      "blocks.2.attn.hook_result\n",
      "blocks.2.attn.hook_z\n",
      "blocks.2.attn.hook_pattern\n",
      "blocks.2.attn.hook_attn_scores\n",
      "blocks.2.attn.hook_v\n",
      "blocks.2.attn.hook_k\n",
      "blocks.2.attn.hook_q\n",
      "blocks.2.ln1.hook_normalized\n",
      "blocks.2.ln1.hook_scale\n",
      "blocks.2.hook_v_input\n",
      "blocks.2.hook_k_input\n",
      "blocks.2.hook_q_input\n",
      "blocks.2.hook_resid_pre\n",
      "blocks.1.hook_resid_post\n",
      "blocks.1.hook_attn_out\n",
      "blocks.1.attn.hook_result\n",
      "blocks.1.attn.hook_z\n",
      "blocks.1.attn.hook_pattern\n",
      "blocks.1.attn.hook_attn_scores\n",
      "blocks.1.attn.hook_v\n",
      "blocks.1.attn.hook_k\n",
      "blocks.1.attn.hook_q\n",
      "blocks.1.ln1.hook_normalized\n",
      "blocks.1.ln1.hook_scale\n",
      "blocks.1.hook_v_input\n",
      "blocks.1.hook_k_input\n",
      "blocks.1.hook_q_input\n",
      "blocks.1.hook_resid_pre\n",
      "blocks.0.hook_resid_post\n",
      "blocks.0.hook_attn_out\n",
      "blocks.0.attn.hook_result\n",
      "blocks.0.attn.hook_z\n",
      "blocks.0.attn.hook_pattern\n",
      "blocks.0.attn.hook_attn_scores\n",
      "blocks.0.attn.hook_v\n",
      "blocks.0.attn.hook_k\n",
      "blocks.0.attn.hook_q\n",
      "blocks.0.ln1.hook_normalized\n",
      "blocks.0.ln1.hook_scale\n",
      "blocks.0.hook_v_input\n",
      "blocks.0.hook_k_input\n",
      "blocks.0.hook_q_input\n",
      "blocks.0.hook_resid_pre\n",
      "hook_pos_embed\n",
      "hook_embed\n",
      "self.current_node=TLACDCInterpNode(blocks.3.hook_resid_post, [:])\n"
     ]
    },
    {
     "ename": "FileNotFoundError",
     "evalue": "[Errno 2] No such file or directory: 'ims/greaterthan_edge_absval/thresh1_img_1'",
     "output_type": "error",
     "traceback": [
      "\u001b[0;31m---------------------------------------------------------------------------\u001b[0m",
      "\u001b[0;31mFileNotFoundError\u001b[0m                         Traceback (most recent call last)",
      "\u001b[1;32m/Users/canrager/acdcpp/thresh_sweep/docstring_thresh.ipynb Cell 7\u001b[0m line \u001b[0;36m1\n\u001b[1;32m      <a href='vscode-notebook-cell:/Users/canrager/acdcpp/thresh_sweep/docstring_thresh.ipynb#X13sZmlsZQ%3D%3D?line=5'>6</a>\u001b[0m full_exp \u001b[39m=\u001b[39m acdcpp_exp\u001b[39m.\u001b[39msetup_exp(threshold\u001b[39m=\u001b[39macdc_threshold)\n\u001b[1;32m      <a href='vscode-notebook-cell:/Users/canrager/acdcpp/thresh_sweep/docstring_thresh.ipynb#X13sZmlsZQ%3D%3D?line=6'>7</a>\u001b[0m prepruned_exp \u001b[39m=\u001b[39m eval_acdcpp(\n\u001b[1;32m      <a href='vscode-notebook-cell:/Users/canrager/acdcpp/thresh_sweep/docstring_thresh.ipynb#X13sZmlsZQ%3D%3D?line=7'>8</a>\u001b[0m     exp\u001b[39m=\u001b[39mfull_exp,\n\u001b[1;32m      <a href='vscode-notebook-cell:/Users/canrager/acdcpp/thresh_sweep/docstring_thresh.ipynb#X13sZmlsZQ%3D%3D?line=8'>9</a>\u001b[0m     acdcpp_results\u001b[39m=\u001b[39macdcpp_attr,\n\u001b[1;32m     <a href='vscode-notebook-cell:/Users/canrager/acdcpp/thresh_sweep/docstring_thresh.ipynb#X13sZmlsZQ%3D%3D?line=9'>10</a>\u001b[0m     threshold\u001b[39m=\u001b[39macdcpp_threshold,\n\u001b[1;32m     <a href='vscode-notebook-cell:/Users/canrager/acdcpp/thresh_sweep/docstring_thresh.ipynb#X13sZmlsZQ%3D%3D?line=10'>11</a>\u001b[0m )\n\u001b[0;32m---> <a href='vscode-notebook-cell:/Users/canrager/acdcpp/thresh_sweep/docstring_thresh.ipynb#X13sZmlsZQ%3D%3D?line=12'>13</a>\u001b[0m acdc_heads, passes \u001b[39m=\u001b[39m acdcpp_exp\u001b[39m.\u001b[39;49mrun_acdc(prepruned_exp)\n",
      "File \u001b[0;32m~/acdcpp/thresh_sweep/../ACDCPPExperiment.py:147\u001b[0m, in \u001b[0;36mACDCPPExperiment.run_acdc\u001b[0;34m(self, exp)\u001b[0m\n\u001b[1;32m    144\u001b[0m     \u001b[39mprint\u001b[39m(\u001b[39m'\u001b[39m\u001b[39mRunning ACDC\u001b[39m\u001b[39m'\u001b[39m)\n\u001b[1;32m    146\u001b[0m \u001b[39mwhile\u001b[39;00m exp\u001b[39m.\u001b[39mcurrent_node:\n\u001b[0;32m--> 147\u001b[0m     exp\u001b[39m.\u001b[39;49mstep(testing\u001b[39m=\u001b[39;49m\u001b[39mFalse\u001b[39;49;00m)\n\u001b[1;32m    149\u001b[0m \u001b[39mreturn\u001b[39;00m (get_nodes(exp\u001b[39m.\u001b[39mcorr), exp\u001b[39m.\u001b[39mnum_passes)\n",
      "File \u001b[0;32m~/acdcpp/Automatic-Circuit-Discovery/acdc/TLACDCExperiment.py:655\u001b[0m, in \u001b[0;36mTLACDCExperiment.step\u001b[0;34m(self, early_stop, testing)\u001b[0m\n\u001b[1;32m    653\u001b[0m \u001b[39mif\u001b[39;00m is_this_node_used \u001b[39mand\u001b[39;00m \u001b[39mself\u001b[39m\u001b[39m.\u001b[39mcurrent_node\u001b[39m.\u001b[39mincoming_edge_type\u001b[39m.\u001b[39mvalue \u001b[39m!=\u001b[39m EdgeType\u001b[39m.\u001b[39mPLACEHOLDER\u001b[39m.\u001b[39mvalue:\n\u001b[1;32m    654\u001b[0m     fname \u001b[39m=\u001b[39m \u001b[39mf\u001b[39m\u001b[39m\"\u001b[39m\u001b[39mims/\u001b[39m\u001b[39m{\u001b[39;00m\u001b[39mself\u001b[39m\u001b[39m.\u001b[39mrun_name\u001b[39m}\u001b[39;00m\u001b[39m/thresh\u001b[39m\u001b[39m{\u001b[39;00m\u001b[39mself\u001b[39m\u001b[39m.\u001b[39mthreshold\u001b[39m}\u001b[39;00m\u001b[39m_img_\u001b[39m\u001b[39m{\u001b[39;00m\u001b[39mself\u001b[39m\u001b[39m.\u001b[39mstep_idx\u001b[39m}\u001b[39;00m\u001b[39m.png\u001b[39m\u001b[39m\"\u001b[39m\n\u001b[0;32m--> 655\u001b[0m     show(\n\u001b[1;32m    656\u001b[0m         \u001b[39mself\u001b[39;49m\u001b[39m.\u001b[39;49mcorr,\n\u001b[1;32m    657\u001b[0m         fname\u001b[39m=\u001b[39;49mfname,\n\u001b[1;32m    658\u001b[0m         show_full_index\u001b[39m=\u001b[39;49m\u001b[39mself\u001b[39;49m\u001b[39m.\u001b[39;49mshow_full_index,\n\u001b[1;32m    659\u001b[0m     )\n\u001b[1;32m    660\u001b[0m     \u001b[39mif\u001b[39;00m \u001b[39mself\u001b[39m\u001b[39m.\u001b[39musing_wandb:\n\u001b[1;32m    661\u001b[0m         wandb\u001b[39m.\u001b[39mlog(\n\u001b[1;32m    662\u001b[0m             {\u001b[39m\"\u001b[39m\u001b[39macdc_graph\u001b[39m\u001b[39m\"\u001b[39m: wandb\u001b[39m.\u001b[39mImage(fname),}\n\u001b[1;32m    663\u001b[0m         )\n",
      "File \u001b[0;32m~/acdcpp/Automatic-Circuit-Discovery/acdc/acdc_graphics.py:192\u001b[0m, in \u001b[0;36mshow\u001b[0;34m(correspondence, fname, colorscheme, minimum_penwidth, show_full_index, remove_self_loops, remove_qkv, layout, edge_type_colouring, show_placeholders, seed)\u001b[0m\n\u001b[1;32m    189\u001b[0m base_fname \u001b[39m=\u001b[39m \u001b[39m\"\u001b[39m\u001b[39m.\u001b[39m\u001b[39m\"\u001b[39m\u001b[39m.\u001b[39mjoin(\u001b[39mstr\u001b[39m(fname)\u001b[39m.\u001b[39msplit(\u001b[39m\"\u001b[39m\u001b[39m.\u001b[39m\u001b[39m\"\u001b[39m)[:\u001b[39m-\u001b[39m\u001b[39m1\u001b[39m])\n\u001b[1;32m    191\u001b[0m base_path \u001b[39m=\u001b[39m Path(base_fname)\n\u001b[0;32m--> 192\u001b[0m base_path\u001b[39m.\u001b[39;49mmkdir(exist_ok\u001b[39m=\u001b[39;49m\u001b[39mTrue\u001b[39;49;00m)\n\u001b[1;32m    193\u001b[0m \u001b[39mfor\u001b[39;00m k, s \u001b[39min\u001b[39;00m groups\u001b[39m.\u001b[39mitems():\n\u001b[1;32m    194\u001b[0m     g2 \u001b[39m=\u001b[39m pgv\u001b[39m.\u001b[39mAGraph(directed\u001b[39m=\u001b[39m\u001b[39mTrue\u001b[39;00m, bgcolor\u001b[39m=\u001b[39m\u001b[39m\"\u001b[39m\u001b[39mtransparent\u001b[39m\u001b[39m\"\u001b[39m, overlap\u001b[39m=\u001b[39m\u001b[39m\"\u001b[39m\u001b[39mfalse\u001b[39m\u001b[39m\"\u001b[39m, splines\u001b[39m=\u001b[39m\u001b[39m\"\u001b[39m\u001b[39mtrue\u001b[39m\u001b[39m\"\u001b[39m, layout\u001b[39m=\u001b[39m\u001b[39m\"\u001b[39m\u001b[39mneato\u001b[39m\u001b[39m\"\u001b[39m)\n",
      "File \u001b[0;32m~/.pyenv/versions/3.10.0/lib/python3.10/pathlib.py:1173\u001b[0m, in \u001b[0;36mPath.mkdir\u001b[0;34m(self, mode, parents, exist_ok)\u001b[0m\n\u001b[1;32m   1169\u001b[0m \u001b[39m\u001b[39m\u001b[39m\"\"\"\u001b[39;00m\n\u001b[1;32m   1170\u001b[0m \u001b[39mCreate a new directory at this given path.\u001b[39;00m\n\u001b[1;32m   1171\u001b[0m \u001b[39m\"\"\"\u001b[39;00m\n\u001b[1;32m   1172\u001b[0m \u001b[39mtry\u001b[39;00m:\n\u001b[0;32m-> 1173\u001b[0m     \u001b[39mself\u001b[39;49m\u001b[39m.\u001b[39;49m_accessor\u001b[39m.\u001b[39;49mmkdir(\u001b[39mself\u001b[39;49m, mode)\n\u001b[1;32m   1174\u001b[0m \u001b[39mexcept\u001b[39;00m \u001b[39mFileNotFoundError\u001b[39;00m:\n\u001b[1;32m   1175\u001b[0m     \u001b[39mif\u001b[39;00m \u001b[39mnot\u001b[39;00m parents \u001b[39mor\u001b[39;00m \u001b[39mself\u001b[39m\u001b[39m.\u001b[39mparent \u001b[39m==\u001b[39m \u001b[39mself\u001b[39m:\n",
      "\u001b[0;31mFileNotFoundError\u001b[0m: [Errno 2] No such file or directory: 'ims/greaterthan_edge_absval/thresh1_img_1'"
     ]
    }
   ],
   "source": [
    "# Define ACDC++ threshold\n",
    "acdcpp_threshold = 0.5\n",
    "acdc_threshold = 1\n",
    "\n",
    "# Make experiment with prepruned edges according to ACDCpp experiment\n",
    "full_exp = acdcpp_exp.setup_exp(threshold=acdc_threshold)\n",
    "prepruned_exp = eval_acdcpp(\n",
    "    exp=full_exp,\n",
    "    acdcpp_results=acdcpp_attr,\n",
    "    threshold=acdcpp_threshold,\n",
    ")\n",
    "\n",
    "pruned_heads, num_passes, acdcpp_attrs = acdcpp_exp.run_(prepruned_exp)"
   ]
  },
  {
   "cell_type": "code",
   "execution_count": null,
   "id": "8adf5d54",
   "metadata": {},
   "outputs": [],
   "source": [
    "combined_exp = ACDCPPExperiment(tl_model,\n",
    "                              test_data,\n",
    "                              test_patch_data,\n",
    "                              test_metrics['docstring_metric'],\n",
    "                              abs_docstring_metric,\n",
    ",\n",
    "                              run_name=RUN_NAME,\n",
    "                              verbose=False,\n",
    "                              attr_absolute_val=True,\n",
    "                              save_graphs_after=0,\n",
    "                              pruning_mode=\"edge\",\n",
    "                              no_pruned_nodes_attr=1\n",
    "                             )"
   ]
  },
  {
   "cell_type": "code",
   "execution_count": 17,
   "id": "339a031b",
   "metadata": {},
   "outputs": [
    {
     "name": "stderr",
     "output_type": "stream",
     "text": [
      "WARNING:root:cache_all is deprecated and will eventually be removed, use add_caching_hooks or run_with_cache\n"
     ]
    },
    {
     "name": "stdout",
     "output_type": "stream",
     "text": [
      "ln_final.hook_normalized\n",
      "ln_final.hook_scale\n",
      "blocks.3.hook_resid_post\n",
      "blocks.3.hook_attn_out\n",
      "blocks.3.attn.hook_result\n",
      "blocks.3.attn.hook_z\n",
      "blocks.3.attn.hook_pattern\n",
      "blocks.3.attn.hook_attn_scores\n",
      "blocks.3.attn.hook_v\n",
      "blocks.3.attn.hook_k\n",
      "blocks.3.attn.hook_q\n",
      "blocks.3.ln1.hook_normalized\n",
      "blocks.3.ln1.hook_scale\n",
      "blocks.3.hook_v_input\n",
      "blocks.3.hook_k_input\n",
      "blocks.3.hook_q_input\n",
      "blocks.3.hook_resid_pre\n",
      "blocks.2.hook_resid_post\n",
      "blocks.2.hook_attn_out\n",
      "blocks.2.attn.hook_result\n",
      "blocks.2.attn.hook_z\n",
      "blocks.2.attn.hook_pattern\n",
      "blocks.2.attn.hook_attn_scores\n",
      "blocks.2.attn.hook_v\n",
      "blocks.2.attn.hook_k\n",
      "blocks.2.attn.hook_q\n",
      "blocks.2.ln1.hook_normalized\n",
      "blocks.2.ln1.hook_scale\n",
      "blocks.2.hook_v_input\n",
      "blocks.2.hook_k_input\n",
      "blocks.2.hook_q_input\n",
      "blocks.2.hook_resid_pre\n",
      "blocks.1.hook_resid_post\n",
      "blocks.1.hook_attn_out\n",
      "blocks.1.attn.hook_result\n",
      "blocks.1.attn.hook_z\n",
      "blocks.1.attn.hook_pattern\n",
      "blocks.1.attn.hook_attn_scores\n",
      "blocks.1.attn.hook_v\n",
      "blocks.1.attn.hook_k\n",
      "blocks.1.attn.hook_q\n",
      "blocks.1.ln1.hook_normalized\n",
      "blocks.1.ln1.hook_scale\n",
      "blocks.1.hook_v_input\n",
      "blocks.1.hook_k_input\n",
      "blocks.1.hook_q_input\n",
      "blocks.1.hook_resid_pre\n",
      "blocks.0.hook_resid_post\n",
      "blocks.0.hook_attn_out\n",
      "blocks.0.attn.hook_result\n",
      "blocks.0.attn.hook_z\n",
      "blocks.0.attn.hook_pattern\n",
      "blocks.0.attn.hook_attn_scores\n",
      "blocks.0.attn.hook_v\n",
      "blocks.0.attn.hook_k\n",
      "blocks.0.attn.hook_q\n",
      "blocks.0.ln1.hook_normalized\n",
      "blocks.0.ln1.hook_scale\n",
      "blocks.0.hook_v_input\n",
      "blocks.0.hook_k_input\n",
      "blocks.0.hook_q_input\n",
      "blocks.0.hook_resid_pre\n",
      "hook_pos_embed\n",
      "hook_embed\n"
     ]
    },
    {
     "name": "stderr",
     "output_type": "stream",
     "text": [
      "WARNING:root:cache_all is deprecated and will eventually be removed, use add_caching_hooks or run_with_cache\n"
     ]
    },
    {
     "name": "stdout",
     "output_type": "stream",
     "text": [
      "self.current_node=TLACDCInterpNode(blocks.3.hook_resid_post, [:])\n"
     ]
    }
   ],
   "source": [
    "full_exp = combined_exp.setup_exp(threshold=-1)"
   ]
  }
 ],
 "metadata": {
  "kernelspec": {
   "display_name": "Python 3 (ipykernel)",
   "language": "python",
   "name": "python3"
  },
  "language_info": {
   "codemirror_mode": {
    "name": "ipython",
    "version": 3
   },
   "file_extension": ".py",
   "mimetype": "text/x-python",
   "name": "python",
   "nbconvert_exporter": "python",
   "pygments_lexer": "ipython3",
   "version": "3.10.0"
  }
 },
 "nbformat": 4,
 "nbformat_minor": 5
}
