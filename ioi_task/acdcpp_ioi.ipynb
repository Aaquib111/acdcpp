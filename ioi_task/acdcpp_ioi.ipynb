{
 "cells": [
  {
   "cell_type": "code",
   "execution_count": 1,
   "id": "6606875e",
   "metadata": {},
   "outputs": [
    {
     "name": "stderr",
     "output_type": "stream",
     "text": [
      "/tmp/ipykernel_26936/341448825.py:9: DeprecationWarning: `magic(...)` is deprecated since IPython 0.13 (warning added in 8.1), use run_line_magic(magic_name, parameter_s).\n",
      "  ipython.magic('load_ext autoreload')\n",
      "/tmp/ipykernel_26936/341448825.py:10: DeprecationWarning: `magic(...)` is deprecated since IPython 0.13 (warning added in 8.1), use run_line_magic(magic_name, parameter_s).\n",
      "  ipython.magic('autoreload 2')\n"
     ]
    },
    {
     "name": "stdout",
     "output_type": "stream",
     "text": [
      "Device: cuda\n"
     ]
    }
   ],
   "source": [
    "import os\n",
    "import sys\n",
    "sys.path.append('../Automatic-Circuit-Discovery/')\n",
    "sys.path.append('..')\n",
    "import re\n",
    "import IPython\n",
    "ipython = get_ipython()\n",
    "if ipython is not None:\n",
    "    ipython.magic('load_ext autoreload')\n",
    "    ipython.magic('autoreload 2')\n",
    "import acdc\n",
    "from acdc.TLACDCExperiment import TLACDCExperiment\n",
    "from acdc.acdc_utils import TorchIndex, EdgeType\n",
    "import numpy as np\n",
    "import torch as t\n",
    "from torch import Tensor\n",
    "import einops\n",
    "import itertools\n",
    "\n",
    "from transformer_lens import HookedTransformer, ActivationCache\n",
    "\n",
    "import tqdm.notebook as tqdm\n",
    "import plotly\n",
    "from rich import print as rprint\n",
    "from rich.table import Table\n",
    "\n",
    "from jaxtyping import Float, Bool\n",
    "from typing import Callable, Tuple, Union, Dict, Optional\n",
    "\n",
    "device = t.device('cuda') if t.cuda.is_available() else t.device('cpu')\n",
    "print(f'Device: {device}')"
   ]
  },
  {
   "attachments": {},
   "cell_type": "markdown",
   "id": "07a16eab",
   "metadata": {},
   "source": [
    "# Model Setup"
   ]
  },
  {
   "cell_type": "code",
   "execution_count": 2,
   "id": "20df2bef",
   "metadata": {},
   "outputs": [
    {
     "name": "stderr",
     "output_type": "stream",
     "text": [
      "Using pad_token, but it is not set yet.\n"
     ]
    },
    {
     "name": "stdout",
     "output_type": "stream",
     "text": [
      "Loaded pretrained model gpt2-small into HookedTransformer\n"
     ]
    }
   ],
   "source": [
    "model = HookedTransformer.from_pretrained(\n",
    "    'gpt2-small',\n",
    "    center_writing_weights=False,\n",
    "    center_unembed=False,\n",
    "    fold_ln=False,\n",
    "    device=device,\n",
    ")\n",
    "model.set_use_hook_mlp_in(True)\n",
    "model.set_use_split_qkv_input(True)\n",
    "model.set_use_attn_result(True)"
   ]
  },
  {
   "attachments": {},
   "cell_type": "markdown",
   "id": "292dfbf6",
   "metadata": {},
   "source": [
    "# Dataset Setup"
   ]
  },
  {
   "cell_type": "code",
   "execution_count": 3,
   "id": "601a7d92",
   "metadata": {},
   "outputs": [
    {
     "data": {
      "text/html": [
       "<pre style=\"white-space:pre;overflow-x:auto;line-height:normal;font-family:Menlo,'DejaVu Sans Mono',consolas,'Courier New',monospace\"><span style=\"font-style: italic\">                                      Sentences from IOI vs ABC distribution                                       </span>\n",
       "┏━━━━━━━━━━━━━━━━━━━━━━━━━━━━━━━━━━━━━━━━━┳━━━━━━━━━━┳━━━━━━━━━━━━━━━━━━┳━━━━━━━━━━━━━━━━━━━━━━━━━━━━━━━━━━━━━━━━━┓\n",
       "┃<span style=\"font-weight: bold\"> IOI prompt                              </span>┃<span style=\"font-weight: bold\"> IOI subj </span>┃<span style=\"font-weight: bold\"> IOI indirect obj </span>┃<span style=\"font-weight: bold\"> ABC prompt                              </span>┃\n",
       "┡━━━━━━━━━━━━━━━━━━━━━━━━━━━━━━━━━━━━━━━━━╇━━━━━━━━━━╇━━━━━━━━━━━━━━━━━━╇━━━━━━━━━━━━━━━━━━━━━━━━━━━━━━━━━━━━━━━━━┩\n",
       "│ When <span style=\"color: #ff8700; text-decoration-color: #ff8700; font-weight: bold; text-decoration: underline\">Victoria</span> and <span style=\"color: #ff8700; text-decoration-color: #ff8700; font-weight: bold; text-decoration: underline\">Jane</span> got a snack at   │ Jane     │ Victoria         │ When <span style=\"color: #ff8700; text-decoration-color: #ff8700; font-weight: bold; text-decoration: underline\">Victoria</span> and <span style=\"color: #ff8700; text-decoration-color: #ff8700; font-weight: bold; text-decoration: underline\">Jane</span> got a snack at   │\n",
       "│ the store, <span style=\"color: #ff8700; text-decoration-color: #ff8700; font-weight: bold; text-decoration: underline\">Jane</span> decided to give it to   │          │                  │ the store, <span style=\"color: #ff8700; text-decoration-color: #ff8700; font-weight: bold; text-decoration: underline\">Jane</span> decided to give it to   │\n",
       "│ <span style=\"color: #ff8700; text-decoration-color: #ff8700; font-weight: bold; text-decoration: underline\">Victoria</span>                                │          │                  │ <span style=\"color: #ff8700; text-decoration-color: #ff8700; font-weight: bold; text-decoration: underline\">Victoria</span>                                │\n",
       "│                                         │          │                  │                                         │\n",
       "│ When <span style=\"color: #ff8700; text-decoration-color: #ff8700; font-weight: bold; text-decoration: underline\">Sullivan</span> and <span style=\"color: #ff8700; text-decoration-color: #ff8700; font-weight: bold; text-decoration: underline\">Rose</span> got a necklace   │ Sullivan │ Rose             │ When <span style=\"color: #ff8700; text-decoration-color: #ff8700; font-weight: bold; text-decoration: underline\">Sullivan</span> and <span style=\"color: #ff8700; text-decoration-color: #ff8700; font-weight: bold; text-decoration: underline\">Rose</span> got a necklace   │\n",
       "│ at the garden, <span style=\"color: #ff8700; text-decoration-color: #ff8700; font-weight: bold; text-decoration: underline\">Sullivan</span> decided to give │          │                  │ at the garden, <span style=\"color: #ff8700; text-decoration-color: #ff8700; font-weight: bold; text-decoration: underline\">Sullivan</span> decided to give │\n",
       "│ it to <span style=\"color: #ff8700; text-decoration-color: #ff8700; font-weight: bold; text-decoration: underline\">Rose</span>                              │          │                  │ it to <span style=\"color: #ff8700; text-decoration-color: #ff8700; font-weight: bold; text-decoration: underline\">Rose</span>                              │\n",
       "│                                         │          │                  │                                         │\n",
       "│ When <span style=\"color: #ff8700; text-decoration-color: #ff8700; font-weight: bold; text-decoration: underline\">Alan</span> and <span style=\"color: #ff8700; text-decoration-color: #ff8700; font-weight: bold; text-decoration: underline\">Alex</span> got a drink at the   │ Alex     │ Alan             │ When <span style=\"color: #ff8700; text-decoration-color: #ff8700; font-weight: bold; text-decoration: underline\">Alan</span> and <span style=\"color: #ff8700; text-decoration-color: #ff8700; font-weight: bold; text-decoration: underline\">Alex</span> got a drink at the   │\n",
       "│ store, <span style=\"color: #ff8700; text-decoration-color: #ff8700; font-weight: bold; text-decoration: underline\">Alex</span> decided to give it to <span style=\"color: #ff8700; text-decoration-color: #ff8700; font-weight: bold; text-decoration: underline\">Alan</span>  │          │                  │ store, <span style=\"color: #ff8700; text-decoration-color: #ff8700; font-weight: bold; text-decoration: underline\">Alex</span> decided to give it to <span style=\"color: #ff8700; text-decoration-color: #ff8700; font-weight: bold; text-decoration: underline\">Alan</span>  │\n",
       "│                                         │          │                  │                                         │\n",
       "│ Then, <span style=\"color: #ff8700; text-decoration-color: #ff8700; font-weight: bold; text-decoration: underline\">Jessica</span> and <span style=\"color: #ff8700; text-decoration-color: #ff8700; font-weight: bold; text-decoration: underline\">Crystal</span> had a long    │ Jessica  │ Crystal          │ Then, <span style=\"color: #ff8700; text-decoration-color: #ff8700; font-weight: bold; text-decoration: underline\">Jessica</span> and <span style=\"color: #ff8700; text-decoration-color: #ff8700; font-weight: bold; text-decoration: underline\">Crystal</span> had a long    │\n",
       "│ argument, and afterwards <span style=\"color: #ff8700; text-decoration-color: #ff8700; font-weight: bold; text-decoration: underline\">Jessica</span> said   │          │                  │ argument, and afterwards <span style=\"color: #ff8700; text-decoration-color: #ff8700; font-weight: bold; text-decoration: underline\">Jessica</span> said   │\n",
       "│ to <span style=\"color: #ff8700; text-decoration-color: #ff8700; font-weight: bold; text-decoration: underline\">Crystal</span>                              │          │                  │ to <span style=\"color: #ff8700; text-decoration-color: #ff8700; font-weight: bold; text-decoration: underline\">Crystal</span>                              │\n",
       "│                                         │          │                  │                                         │\n",
       "│ Then, <span style=\"color: #ff8700; text-decoration-color: #ff8700; font-weight: bold; text-decoration: underline\">Jonathan</span> and <span style=\"color: #ff8700; text-decoration-color: #ff8700; font-weight: bold; text-decoration: underline\">Kevin</span> were working   │ Kevin    │ Jonathan         │ Then, <span style=\"color: #ff8700; text-decoration-color: #ff8700; font-weight: bold; text-decoration: underline\">Jonathan</span> and <span style=\"color: #ff8700; text-decoration-color: #ff8700; font-weight: bold; text-decoration: underline\">Kevin</span> were working   │\n",
       "│ at the school. <span style=\"color: #ff8700; text-decoration-color: #ff8700; font-weight: bold; text-decoration: underline\">Kevin</span> decided to give a  │          │                  │ at the school. <span style=\"color: #ff8700; text-decoration-color: #ff8700; font-weight: bold; text-decoration: underline\">Kevin</span> decided to give a  │\n",
       "│ necklace to <span style=\"color: #ff8700; text-decoration-color: #ff8700; font-weight: bold; text-decoration: underline\">Jonathan</span>                    │          │                  │ necklace to <span style=\"color: #ff8700; text-decoration-color: #ff8700; font-weight: bold; text-decoration: underline\">Jonathan</span>                    │\n",
       "│                                         │          │                  │                                         │\n",
       "└─────────────────────────────────────────┴──────────┴──────────────────┴─────────────────────────────────────────┘\n",
       "</pre>\n"
      ],
      "text/plain": [
       "\u001b[3m                                      Sentences from IOI vs ABC distribution                                       \u001b[0m\n",
       "┏━━━━━━━━━━━━━━━━━━━━━━━━━━━━━━━━━━━━━━━━━┳━━━━━━━━━━┳━━━━━━━━━━━━━━━━━━┳━━━━━━━━━━━━━━━━━━━━━━━━━━━━━━━━━━━━━━━━━┓\n",
       "┃\u001b[1m \u001b[0m\u001b[1mIOI prompt                             \u001b[0m\u001b[1m \u001b[0m┃\u001b[1m \u001b[0m\u001b[1mIOI subj\u001b[0m\u001b[1m \u001b[0m┃\u001b[1m \u001b[0m\u001b[1mIOI indirect obj\u001b[0m\u001b[1m \u001b[0m┃\u001b[1m \u001b[0m\u001b[1mABC prompt                             \u001b[0m\u001b[1m \u001b[0m┃\n",
       "┡━━━━━━━━━━━━━━━━━━━━━━━━━━━━━━━━━━━━━━━━━╇━━━━━━━━━━╇━━━━━━━━━━━━━━━━━━╇━━━━━━━━━━━━━━━━━━━━━━━━━━━━━━━━━━━━━━━━━┩\n",
       "│ When \u001b[1;4;38;5;208mVictoria\u001b[0m and \u001b[1;4;38;5;208mJane\u001b[0m got a snack at   │ Jane     │ Victoria         │ When \u001b[1;4;38;5;208mVictoria\u001b[0m and \u001b[1;4;38;5;208mJane\u001b[0m got a snack at   │\n",
       "│ the store, \u001b[1;4;38;5;208mJane\u001b[0m decided to give it to   │          │                  │ the store, \u001b[1;4;38;5;208mJane\u001b[0m decided to give it to   │\n",
       "│ \u001b[1;4;38;5;208mVictoria\u001b[0m                                │          │                  │ \u001b[1;4;38;5;208mVictoria\u001b[0m                                │\n",
       "│                                         │          │                  │                                         │\n",
       "│ When \u001b[1;4;38;5;208mSullivan\u001b[0m and \u001b[1;4;38;5;208mRose\u001b[0m got a necklace   │ Sullivan │ Rose             │ When \u001b[1;4;38;5;208mSullivan\u001b[0m and \u001b[1;4;38;5;208mRose\u001b[0m got a necklace   │\n",
       "│ at the garden, \u001b[1;4;38;5;208mSullivan\u001b[0m decided to give │          │                  │ at the garden, \u001b[1;4;38;5;208mSullivan\u001b[0m decided to give │\n",
       "│ it to \u001b[1;4;38;5;208mRose\u001b[0m                              │          │                  │ it to \u001b[1;4;38;5;208mRose\u001b[0m                              │\n",
       "│                                         │          │                  │                                         │\n",
       "│ When \u001b[1;4;38;5;208mAlan\u001b[0m and \u001b[1;4;38;5;208mAlex\u001b[0m got a drink at the   │ Alex     │ Alan             │ When \u001b[1;4;38;5;208mAlan\u001b[0m and \u001b[1;4;38;5;208mAlex\u001b[0m got a drink at the   │\n",
       "│ store, \u001b[1;4;38;5;208mAlex\u001b[0m decided to give it to \u001b[1;4;38;5;208mAlan\u001b[0m  │          │                  │ store, \u001b[1;4;38;5;208mAlex\u001b[0m decided to give it to \u001b[1;4;38;5;208mAlan\u001b[0m  │\n",
       "│                                         │          │                  │                                         │\n",
       "│ Then, \u001b[1;4;38;5;208mJessica\u001b[0m and \u001b[1;4;38;5;208mCrystal\u001b[0m had a long    │ Jessica  │ Crystal          │ Then, \u001b[1;4;38;5;208mJessica\u001b[0m and \u001b[1;4;38;5;208mCrystal\u001b[0m had a long    │\n",
       "│ argument, and afterwards \u001b[1;4;38;5;208mJessica\u001b[0m said   │          │                  │ argument, and afterwards \u001b[1;4;38;5;208mJessica\u001b[0m said   │\n",
       "│ to \u001b[1;4;38;5;208mCrystal\u001b[0m                              │          │                  │ to \u001b[1;4;38;5;208mCrystal\u001b[0m                              │\n",
       "│                                         │          │                  │                                         │\n",
       "│ Then, \u001b[1;4;38;5;208mJonathan\u001b[0m and \u001b[1;4;38;5;208mKevin\u001b[0m were working   │ Kevin    │ Jonathan         │ Then, \u001b[1;4;38;5;208mJonathan\u001b[0m and \u001b[1;4;38;5;208mKevin\u001b[0m were working   │\n",
       "│ at the school. \u001b[1;4;38;5;208mKevin\u001b[0m decided to give a  │          │                  │ at the school. \u001b[1;4;38;5;208mKevin\u001b[0m decided to give a  │\n",
       "│ necklace to \u001b[1;4;38;5;208mJonathan\u001b[0m                    │          │                  │ necklace to \u001b[1;4;38;5;208mJonathan\u001b[0m                    │\n",
       "│                                         │          │                  │                                         │\n",
       "└─────────────────────────────────────────┴──────────┴──────────────────┴─────────────────────────────────────────┘\n"
      ]
     },
     "metadata": {},
     "output_type": "display_data"
    }
   ],
   "source": [
    "from ioi_dataset import IOIDataset, format_prompt, make_table\n",
    "N = 25\n",
    "clean_dataset = IOIDataset(\n",
    "    prompt_type='mixed',\n",
    "    N=N,\n",
    "    tokenizer=model.tokenizer,\n",
    "    prepend_bos=False,\n",
    "    seed=1,\n",
    "    device=device\n",
    ")\n",
    "corr_dataset = clean_dataset.gen_flipped_prompts('ABC->XYZ, BAB->XYZ')\n",
    "\n",
    "make_table(\n",
    "  colnames = [\"IOI prompt\", \"IOI subj\", \"IOI indirect obj\", \"ABC prompt\"],\n",
    "  cols = [\n",
    "    map(format_prompt, clean_dataset.sentences),\n",
    "    model.to_string(clean_dataset.s_tokenIDs).split(),\n",
    "    model.to_string(clean_dataset.io_tokenIDs).split(),\n",
    "    map(format_prompt, clean_dataset.sentences),\n",
    "  ],\n",
    "  title = \"Sentences from IOI vs ABC distribution\",\n",
    ")"
   ]
  },
  {
   "attachments": {},
   "cell_type": "markdown",
   "id": "6657f126",
   "metadata": {},
   "source": [
    "# Metric Setup"
   ]
  },
  {
   "cell_type": "code",
   "execution_count": 7,
   "id": "d1b9d4d6",
   "metadata": {},
   "outputs": [
    {
     "name": "stdout",
     "output_type": "stream",
     "text": [
      "Clean direction: 2.8051609992980957, Corrupt direction: 1.7753835916519165\n",
      "Clean metric: 1.0, Corrupt metric: 0.0\n"
     ]
    }
   ],
   "source": [
    "def ave_logit_diff(\n",
    "    logits: Float[Tensor, 'batch seq d_vocab'],\n",
    "    ioi_dataset: IOIDataset,\n",
    "    per_prompt: bool = False\n",
    "):\n",
    "    '''\n",
    "        Return average logit difference between correct and incorrect answers\n",
    "    '''\n",
    "    # Get logits for indirect objects\n",
    "    io_logits = logits[range(logits.size(0)), ioi_dataset.word_idx['end'], ioi_dataset.io_tokenIDs]\n",
    "    s_logits = logits[range(logits.size(0)), ioi_dataset.word_idx['end'], ioi_dataset.s_tokenIDs]\n",
    "    # Get logits for subject\n",
    "    logit_diff = io_logits - s_logits\n",
    "    return logit_diff if per_prompt else logit_diff.mean()\n",
    "\n",
    "with t.no_grad():\n",
    "    clean_logits = model(clean_dataset.toks)\n",
    "    corrupt_logits = model(corr_dataset.toks)\n",
    "    clean_logit_diff = ave_logit_diff(clean_logits, clean_dataset).item()\n",
    "    corrupt_logit_diff = ave_logit_diff(corrupt_logits, corr_dataset).item()\n",
    "\n",
    "def ioi_metric(\n",
    "    logits: Float[Tensor, \"batch seq_len d_vocab\"],\n",
    "    corrupted_logit_diff: float = corrupt_logit_diff,\n",
    "    clean_logit_diff: float = clean_logit_diff,\n",
    "    ioi_dataset: IOIDataset = clean_dataset\n",
    " ):\n",
    "    patched_logit_diff = ave_logit_diff(logits, ioi_dataset)\n",
    "    return (patched_logit_diff - corrupted_logit_diff) / (clean_logit_diff - corrupted_logit_diff)\n",
    "\n",
    "def negative_ioi_metric(logits: Float[Tensor, \"batch seq_len d_vocab\"]):\n",
    "    return -ioi_metric(logits)\n",
    "    \n",
    "# Get clean and corrupt logit differences\n",
    "with t.no_grad():\n",
    "    clean_metric = ioi_metric(clean_logits, corrupt_logit_diff, clean_logit_diff, clean_dataset)\n",
    "    corrupt_metric = ioi_metric(corrupt_logits, corrupt_logit_diff, clean_logit_diff, corr_dataset)\n",
    "\n",
    "print(f'Clean direction: {clean_logit_diff}, Corrupt direction: {corrupt_logit_diff}')\n",
    "print(f'Clean metric: {clean_metric}, Corrupt metric: {corrupt_metric}')"
   ]
  },
  {
   "attachments": {},
   "cell_type": "markdown",
   "id": "cf81ab6e",
   "metadata": {},
   "source": [
    "# Run Experiment"
   ]
  },
  {
   "cell_type": "code",
   "execution_count": 10,
   "id": "7d386c27",
   "metadata": {},
   "outputs": [
    {
     "name": "stdout",
     "output_type": "stream",
     "text": [
      "Set up model hooks\n"
     ]
    },
    {
     "name": "stderr",
     "output_type": "stream",
     "text": [
      "  0%|          | 0/30 [00:00<?, ?it/s]"
     ]
    },
    {
     "name": "stderr",
     "output_type": "stream",
     "text": [
      "WARNING:root:cache_all is deprecated and will eventually be removed, use add_caching_hooks or run_with_cache\n",
      "WARNING:root:cache_all is deprecated and will eventually be removed, use add_caching_hooks or run_with_cache\n"
     ]
    },
    {
     "name": "stdout",
     "output_type": "stream",
     "text": [
      "dict_keys(['blocks.11.hook_resid_post', 'blocks.11.hook_mlp_out', 'blocks.11.hook_mlp_in', 'blocks.11.attn.hook_result', 'blocks.11.attn.hook_q', 'blocks.11.hook_q_input', 'blocks.11.attn.hook_k', 'blocks.11.hook_k_input', 'blocks.11.attn.hook_v', 'blocks.11.hook_v_input', 'blocks.10.hook_mlp_out', 'blocks.10.hook_mlp_in', 'blocks.10.attn.hook_result', 'blocks.10.attn.hook_q', 'blocks.10.hook_q_input', 'blocks.10.attn.hook_k', 'blocks.10.hook_k_input', 'blocks.10.attn.hook_v', 'blocks.10.hook_v_input', 'blocks.9.hook_mlp_out', 'blocks.9.hook_mlp_in', 'blocks.9.attn.hook_result', 'blocks.9.attn.hook_q', 'blocks.9.hook_q_input', 'blocks.9.attn.hook_k', 'blocks.9.hook_k_input', 'blocks.9.attn.hook_v', 'blocks.9.hook_v_input', 'blocks.8.hook_mlp_out', 'blocks.8.hook_mlp_in', 'blocks.8.attn.hook_result', 'blocks.8.attn.hook_q', 'blocks.8.hook_q_input', 'blocks.8.attn.hook_k', 'blocks.8.hook_k_input', 'blocks.8.attn.hook_v', 'blocks.8.hook_v_input', 'blocks.7.hook_mlp_out', 'blocks.7.hook_mlp_in', 'blocks.7.attn.hook_result', 'blocks.7.attn.hook_q', 'blocks.7.hook_q_input', 'blocks.7.attn.hook_k', 'blocks.7.hook_k_input', 'blocks.7.attn.hook_v', 'blocks.7.hook_v_input', 'blocks.6.hook_mlp_out', 'blocks.6.hook_mlp_in', 'blocks.6.attn.hook_result', 'blocks.6.attn.hook_q', 'blocks.6.hook_q_input', 'blocks.6.attn.hook_k', 'blocks.6.hook_k_input', 'blocks.6.attn.hook_v', 'blocks.6.hook_v_input', 'blocks.5.hook_mlp_out', 'blocks.5.hook_mlp_in', 'blocks.5.attn.hook_result', 'blocks.5.attn.hook_q', 'blocks.5.hook_q_input', 'blocks.5.attn.hook_k', 'blocks.5.hook_k_input', 'blocks.5.attn.hook_v', 'blocks.5.hook_v_input', 'blocks.4.hook_mlp_out', 'blocks.4.hook_mlp_in', 'blocks.4.attn.hook_result', 'blocks.4.attn.hook_q', 'blocks.4.hook_q_input', 'blocks.4.attn.hook_k', 'blocks.4.hook_k_input', 'blocks.4.attn.hook_v', 'blocks.4.hook_v_input', 'blocks.3.hook_mlp_out', 'blocks.3.hook_mlp_in', 'blocks.3.attn.hook_result', 'blocks.3.attn.hook_q', 'blocks.3.hook_q_input', 'blocks.3.attn.hook_k', 'blocks.3.hook_k_input', 'blocks.3.attn.hook_v', 'blocks.3.hook_v_input', 'blocks.2.hook_mlp_out', 'blocks.2.hook_mlp_in', 'blocks.2.attn.hook_result', 'blocks.2.attn.hook_q', 'blocks.2.hook_q_input', 'blocks.2.attn.hook_k', 'blocks.2.hook_k_input', 'blocks.2.attn.hook_v', 'blocks.2.hook_v_input', 'blocks.1.hook_mlp_out', 'blocks.1.hook_mlp_in', 'blocks.1.attn.hook_result', 'blocks.1.attn.hook_q', 'blocks.1.hook_q_input', 'blocks.1.attn.hook_k', 'blocks.1.hook_k_input', 'blocks.1.attn.hook_v', 'blocks.1.hook_v_input', 'blocks.0.hook_mlp_out', 'blocks.0.hook_mlp_in', 'blocks.0.attn.hook_result', 'blocks.0.attn.hook_q', 'blocks.0.hook_q_input', 'blocks.0.attn.hook_k', 'blocks.0.hook_k_input', 'blocks.0.attn.hook_v', 'blocks.0.hook_v_input', 'blocks.0.hook_resid_pre'])\n",
      "ln_final.hook_normalized\n",
      "ln_final.hook_scale\n",
      "blocks.11.hook_resid_post\n",
      "blocks.11.hook_mlp_out\n",
      "blocks.11.mlp.hook_post\n",
      "blocks.11.mlp.hook_pre\n",
      "blocks.11.ln2.hook_normalized\n",
      "blocks.11.ln2.hook_scale\n",
      "blocks.11.hook_mlp_in\n",
      "blocks.11.hook_resid_mid\n",
      "blocks.11.hook_attn_out\n",
      "blocks.11.attn.hook_result\n",
      "blocks.11.attn.hook_z\n",
      "blocks.11.attn.hook_pattern\n",
      "blocks.11.attn.hook_attn_scores\n",
      "blocks.11.attn.hook_v\n",
      "blocks.11.attn.hook_k\n",
      "blocks.11.attn.hook_q\n",
      "blocks.11.ln1.hook_normalized\n",
      "blocks.11.ln1.hook_scale\n",
      "blocks.11.hook_v_input\n",
      "blocks.11.hook_k_input\n",
      "blocks.11.hook_q_input\n",
      "blocks.11.hook_resid_pre\n",
      "blocks.10.hook_resid_post\n",
      "blocks.10.hook_mlp_out\n",
      "blocks.10.mlp.hook_post\n",
      "blocks.10.mlp.hook_pre\n",
      "blocks.10.ln2.hook_normalized\n",
      "blocks.10.ln2.hook_scale\n",
      "blocks.10.hook_mlp_in\n",
      "blocks.10.hook_resid_mid\n",
      "blocks.10.hook_attn_out\n",
      "blocks.10.attn.hook_result\n",
      "blocks.10.attn.hook_z\n",
      "blocks.10.attn.hook_pattern\n",
      "blocks.10.attn.hook_attn_scores\n",
      "blocks.10.attn.hook_v\n",
      "blocks.10.attn.hook_k\n",
      "blocks.10.attn.hook_q\n",
      "blocks.10.ln1.hook_normalized\n",
      "blocks.10.ln1.hook_scale\n",
      "blocks.10.hook_v_input\n",
      "blocks.10.hook_k_input\n",
      "blocks.10.hook_q_input\n",
      "blocks.10.hook_resid_pre\n",
      "blocks.9.hook_resid_post\n",
      "blocks.9.hook_mlp_out\n",
      "blocks.9.mlp.hook_post\n",
      "blocks.9.mlp.hook_pre\n",
      "blocks.9.ln2.hook_normalized\n",
      "blocks.9.ln2.hook_scale\n",
      "blocks.9.hook_mlp_in\n",
      "blocks.9.hook_resid_mid\n",
      "blocks.9.hook_attn_out\n",
      "blocks.9.attn.hook_result\n",
      "blocks.9.attn.hook_z\n",
      "blocks.9.attn.hook_pattern\n",
      "blocks.9.attn.hook_attn_scores\n",
      "blocks.9.attn.hook_v\n",
      "blocks.9.attn.hook_k\n",
      "blocks.9.attn.hook_q\n",
      "blocks.9.ln1.hook_normalized\n",
      "blocks.9.ln1.hook_scale\n",
      "blocks.9.hook_v_input\n",
      "blocks.9.hook_k_input\n",
      "blocks.9.hook_q_input\n",
      "blocks.9.hook_resid_pre\n",
      "blocks.8.hook_resid_post\n",
      "blocks.8.hook_mlp_out\n",
      "blocks.8.mlp.hook_post\n",
      "blocks.8.mlp.hook_pre\n",
      "blocks.8.ln2.hook_normalized\n",
      "blocks.8.ln2.hook_scale\n",
      "blocks.8.hook_mlp_in\n",
      "blocks.8.hook_resid_mid\n",
      "blocks.8.hook_attn_out\n",
      "blocks.8.attn.hook_result\n",
      "blocks.8.attn.hook_z\n",
      "blocks.8.attn.hook_pattern\n",
      "blocks.8.attn.hook_attn_scores\n",
      "blocks.8.attn.hook_v\n",
      "blocks.8.attn.hook_k\n",
      "blocks.8.attn.hook_q\n",
      "blocks.8.ln1.hook_normalized\n",
      "blocks.8.ln1.hook_scale\n",
      "blocks.8.hook_v_input\n",
      "blocks.8.hook_k_input\n",
      "blocks.8.hook_q_input\n",
      "blocks.8.hook_resid_pre\n",
      "blocks.7.hook_resid_post\n",
      "blocks.7.hook_mlp_out\n",
      "blocks.7.mlp.hook_post\n",
      "blocks.7.mlp.hook_pre\n",
      "blocks.7.ln2.hook_normalized\n",
      "blocks.7.ln2.hook_scale\n",
      "blocks.7.hook_mlp_in\n",
      "blocks.7.hook_resid_mid\n",
      "blocks.7.hook_attn_out\n",
      "blocks.7.attn.hook_result\n",
      "blocks.7.attn.hook_z\n",
      "blocks.7.attn.hook_pattern\n",
      "blocks.7.attn.hook_attn_scores\n",
      "blocks.7.attn.hook_v\n",
      "blocks.7.attn.hook_k\n",
      "blocks.7.attn.hook_q\n",
      "blocks.7.ln1.hook_normalized\n",
      "blocks.7.ln1.hook_scale\n",
      "blocks.7.hook_v_input\n",
      "blocks.7.hook_k_input\n",
      "blocks.7.hook_q_input\n",
      "blocks.7.hook_resid_pre\n",
      "blocks.6.hook_resid_post\n",
      "blocks.6.hook_mlp_out\n",
      "blocks.6.mlp.hook_post\n",
      "blocks.6.mlp.hook_pre\n",
      "blocks.6.ln2.hook_normalized\n",
      "blocks.6.ln2.hook_scale\n",
      "blocks.6.hook_mlp_in\n",
      "blocks.6.hook_resid_mid\n",
      "blocks.6.hook_attn_out\n",
      "blocks.6.attn.hook_result\n",
      "blocks.6.attn.hook_z\n",
      "blocks.6.attn.hook_pattern\n",
      "blocks.6.attn.hook_attn_scores\n",
      "blocks.6.attn.hook_v\n",
      "blocks.6.attn.hook_k\n",
      "blocks.6.attn.hook_q\n",
      "blocks.6.ln1.hook_normalized\n",
      "blocks.6.ln1.hook_scale\n",
      "blocks.6.hook_v_input\n",
      "blocks.6.hook_k_input\n",
      "blocks.6.hook_q_input\n",
      "blocks.6.hook_resid_pre\n",
      "blocks.5.hook_resid_post\n",
      "blocks.5.hook_mlp_out\n",
      "blocks.5.mlp.hook_post\n",
      "blocks.5.mlp.hook_pre\n",
      "blocks.5.ln2.hook_normalized\n",
      "blocks.5.ln2.hook_scale\n",
      "blocks.5.hook_mlp_in\n",
      "blocks.5.hook_resid_mid\n",
      "blocks.5.hook_attn_out\n",
      "blocks.5.attn.hook_result\n",
      "blocks.5.attn.hook_z\n",
      "blocks.5.attn.hook_pattern\n",
      "blocks.5.attn.hook_attn_scores\n",
      "blocks.5.attn.hook_v\n",
      "blocks.5.attn.hook_k\n",
      "blocks.5.attn.hook_q\n",
      "blocks.5.ln1.hook_normalized\n",
      "blocks.5.ln1.hook_scale\n",
      "blocks.5.hook_v_input\n",
      "blocks.5.hook_k_input\n",
      "blocks.5.hook_q_input\n",
      "blocks.5.hook_resid_pre\n",
      "blocks.4.hook_resid_post\n",
      "blocks.4.hook_mlp_out\n",
      "blocks.4.mlp.hook_post\n",
      "blocks.4.mlp.hook_pre\n",
      "blocks.4.ln2.hook_normalized\n",
      "blocks.4.ln2.hook_scale\n",
      "blocks.4.hook_mlp_in\n",
      "blocks.4.hook_resid_mid\n",
      "blocks.4.hook_attn_out\n",
      "blocks.4.attn.hook_result\n",
      "blocks.4.attn.hook_z\n",
      "blocks.4.attn.hook_pattern\n",
      "blocks.4.attn.hook_attn_scores\n",
      "blocks.4.attn.hook_v\n",
      "blocks.4.attn.hook_k\n",
      "blocks.4.attn.hook_q\n",
      "blocks.4.ln1.hook_normalized\n",
      "blocks.4.ln1.hook_scale\n",
      "blocks.4.hook_v_input\n",
      "blocks.4.hook_k_input\n",
      "blocks.4.hook_q_input\n",
      "blocks.4.hook_resid_pre\n",
      "blocks.3.hook_resid_post\n",
      "blocks.3.hook_mlp_out\n",
      "blocks.3.mlp.hook_post\n",
      "blocks.3.mlp.hook_pre\n",
      "blocks.3.ln2.hook_normalized\n",
      "blocks.3.ln2.hook_scale\n",
      "blocks.3.hook_mlp_in\n",
      "blocks.3.hook_resid_mid\n",
      "blocks.3.hook_attn_out\n",
      "blocks.3.attn.hook_result\n",
      "blocks.3.attn.hook_z\n",
      "blocks.3.attn.hook_pattern\n",
      "blocks.3.attn.hook_attn_scores\n",
      "blocks.3.attn.hook_v\n",
      "blocks.3.attn.hook_k\n",
      "blocks.3.attn.hook_q\n",
      "blocks.3.ln1.hook_normalized\n",
      "blocks.3.ln1.hook_scale\n",
      "blocks.3.hook_v_input\n",
      "blocks.3.hook_k_input\n",
      "blocks.3.hook_q_input\n",
      "blocks.3.hook_resid_pre\n",
      "blocks.2.hook_resid_post\n",
      "blocks.2.hook_mlp_out\n",
      "blocks.2.mlp.hook_post\n",
      "blocks.2.mlp.hook_pre\n",
      "blocks.2.ln2.hook_normalized\n",
      "blocks.2.ln2.hook_scale\n",
      "blocks.2.hook_mlp_in\n",
      "blocks.2.hook_resid_mid\n",
      "blocks.2.hook_attn_out\n",
      "blocks.2.attn.hook_result\n",
      "blocks.2.attn.hook_z\n",
      "blocks.2.attn.hook_pattern\n",
      "blocks.2.attn.hook_attn_scores\n",
      "blocks.2.attn.hook_v\n",
      "blocks.2.attn.hook_k\n",
      "blocks.2.attn.hook_q\n",
      "blocks.2.ln1.hook_normalized\n",
      "blocks.2.ln1.hook_scale\n",
      "blocks.2.hook_v_input\n",
      "blocks.2.hook_k_input\n",
      "blocks.2.hook_q_input\n",
      "blocks.2.hook_resid_pre\n",
      "blocks.1.hook_resid_post\n",
      "blocks.1.hook_mlp_out\n",
      "blocks.1.mlp.hook_post\n",
      "blocks.1.mlp.hook_pre\n",
      "blocks.1.ln2.hook_normalized\n",
      "blocks.1.ln2.hook_scale\n",
      "blocks.1.hook_mlp_in\n",
      "blocks.1.hook_resid_mid\n",
      "blocks.1.hook_attn_out\n",
      "blocks.1.attn.hook_result\n",
      "blocks.1.attn.hook_z\n",
      "blocks.1.attn.hook_pattern\n",
      "blocks.1.attn.hook_attn_scores\n",
      "blocks.1.attn.hook_v\n",
      "blocks.1.attn.hook_k\n",
      "blocks.1.attn.hook_q\n",
      "blocks.1.ln1.hook_normalized\n",
      "blocks.1.ln1.hook_scale\n",
      "blocks.1.hook_v_input\n",
      "blocks.1.hook_k_input\n",
      "blocks.1.hook_q_input\n",
      "blocks.1.hook_resid_pre\n",
      "blocks.0.hook_resid_post\n",
      "blocks.0.hook_mlp_out\n",
      "blocks.0.mlp.hook_post\n",
      "blocks.0.mlp.hook_pre\n",
      "blocks.0.ln2.hook_normalized\n",
      "blocks.0.ln2.hook_scale\n",
      "blocks.0.hook_mlp_in\n",
      "blocks.0.hook_resid_mid\n",
      "blocks.0.hook_attn_out\n",
      "blocks.0.attn.hook_result\n",
      "blocks.0.attn.hook_z\n",
      "blocks.0.attn.hook_pattern\n",
      "blocks.0.attn.hook_attn_scores\n",
      "blocks.0.attn.hook_v\n",
      "blocks.0.attn.hook_k\n",
      "blocks.0.attn.hook_q\n",
      "blocks.0.ln1.hook_normalized\n",
      "blocks.0.ln1.hook_scale\n",
      "blocks.0.hook_v_input\n",
      "blocks.0.hook_k_input\n",
      "blocks.0.hook_q_input\n",
      "blocks.0.hook_resid_pre\n",
      "hook_pos_embed\n",
      "hook_embed\n",
      "self.current_node=TLACDCInterpNode(blocks.11.hook_resid_post, [:])\n",
      "Adding sender hooks...\n",
      "Done corrupting things\n",
      "Adding sender hooks...\n",
      "No edge 32923\n",
      "Adding sender hooks...\n",
      "Running ACDC++\n"
     ]
    },
    {
     "name": "stderr",
     "output_type": "stream",
     "text": []
    },
    {
     "name": "stdout",
     "output_type": "stream",
     "text": [
      "NOT PRUNING upstream_component=ModelComponent(hook_point_name='blocks.11.attn.hook_result', index=[:, :, 11]) downstream_component=ModelComponent(hook_point_name='blocks.11.hook_resid_post', index=[:]) with attribution 0.01751333847641945\n",
      "NOT PRUNING upstream_component=ModelComponent(hook_point_name='blocks.11.attn.hook_result', index=[:, :, 11]) downstream_component=ModelComponent(hook_point_name='blocks.11.hook_mlp_in', index=[:]) with attribution 0.007915440946817398\n",
      "NOT PRUNING upstream_component=ModelComponent(hook_point_name='blocks.11.attn.hook_result', index=[:, :, 10]) downstream_component=ModelComponent(hook_point_name='blocks.11.hook_resid_post', index=[:]) with attribution 0.6607147455215454\n"
     ]
    },
    {
     "name": "stderr",
     "output_type": "stream",
     "text": []
    },
    {
     "name": "stdout",
     "output_type": "stream",
     "text": [
      "NOT PRUNING upstream_component=ModelComponent(hook_point_name='blocks.11.attn.hook_result', index=[:, :, 10]) downstream_component=ModelComponent(hook_point_name='blocks.11.hook_mlp_in', index=[:]) with attribution 0.0076356856152415276\n",
      "NOT PRUNING upstream_component=ModelComponent(hook_point_name='blocks.11.attn.hook_result', index=[:, :, 9]) downstream_component=ModelComponent(hook_point_name='blocks.11.hook_resid_post', index=[:]) with attribution 0.04760678857564926\n",
      "NOT PRUNING upstream_component=ModelComponent(hook_point_name='blocks.11.attn.hook_result', index=[:, :, 9]) downstream_component=ModelComponent(hook_point_name='blocks.11.hook_mlp_in', index=[:]) with attribution 0.008992362767457962\n",
      "NOT PRUNING upstream_component=ModelComponent(hook_point_name='blocks.11.attn.hook_result', index=[:, :, 8]) downstream_component=ModelComponent(hook_point_name='blocks.11.hook_mlp_in', index=[:]) with attribution 0.015257244929671288\n",
      "NOT PRUNING upstream_component=ModelComponent(hook_point_name='blocks.11.attn.hook_result', index=[:, :, 6]) downstream_component=ModelComponent(hook_point_name='blocks.11.hook_resid_post', index=[:]) with attribution 0.011094320565462112\n",
      "NOT PRUNING upstream_component=ModelComponent(hook_point_name='blocks.11.attn.hook_result', index=[:, :, 6]) downstream_component=ModelComponent(hook_point_name='blocks.11.hook_mlp_in', index=[:]) with attribution 0.01586286351084709"
     ]
    },
    {
     "name": "stderr",
     "output_type": "stream",
     "text": []
    },
    {
     "name": "stdout",
     "output_type": "stream",
     "text": [
      "\n",
      "NOT PRUNING upstream_component=ModelComponent(hook_point_name='blocks.11.attn.hook_result', index=[:, :, 5]) downstream_component=ModelComponent(hook_point_name='blocks.11.hook_resid_post', index=[:]) with attribution 0.037744954228401184\n",
      "NOT PRUNING upstream_component=ModelComponent(hook_point_name='blocks.11.attn.hook_result', index=[:, :, 4]) downstream_component=ModelComponent(hook_point_name='blocks.11.hook_mlp_in', index=[:]) with attribution 0.006120129022747278\n",
      "NOT PRUNING upstream_component=ModelComponent(hook_point_name='blocks.11.attn.hook_result', index=[:, :, 3]) downstream_component=ModelComponent(hook_point_name='blocks.11.hook_resid_post', index=[:]) with attribution 0.0733470767736435\n"
     ]
    },
    {
     "name": "stderr",
     "output_type": "stream",
     "text": []
    },
    {
     "name": "stdout",
     "output_type": "stream",
     "text": [
      "NOT PRUNING upstream_component=ModelComponent(hook_point_name='blocks.11.attn.hook_result', index=[:, :, 2]) downstream_component=ModelComponent(hook_point_name='blocks.11.hook_resid_post', index=[:]) with attribution 0.0753982663154602\n",
      "NOT PRUNING upstream_component=ModelComponent(hook_point_name='blocks.11.attn.hook_result', index=[:, :, 2]) downstream_component=ModelComponent(hook_point_name='blocks.11.hook_mlp_in', index=[:]) with attribution 0.025665946304798126\n",
      "NOT PRUNING upstream_component=ModelComponent(hook_point_name='blocks.11.attn.hook_result', index=[:, :, 1]) downstream_component=ModelComponent(hook_point_name='blocks.11.hook_resid_post', index=[:]) with attribution 0.012918872758746147\n",
      "NOT PRUNING upstream_component=ModelComponent(hook_point_name='blocks.11.attn.hook_result', index=[:, :, 1]) downstream_component=ModelComponent(hook_point_name='blocks.11.hook_mlp_in', index=[:]) with attribution 0.0059166098944842815\n",
      "NOT PRUNING upstream_component=ModelComponent(hook_point_name='blocks.11.attn.hook_result', index=[:, :, 0]) downstream_component=ModelComponent(hook_point_name='blocks.11.hook_resid_post', index=[:]) with attribution 0.008567936718463898\n",
      "NOT PRUNING upstream_component=ModelComponent(hook_point_name='blocks.11.attn.hook_result', index=[:, :, 0]) downstream_component=ModelComponent(hook_point_name='blocks.11.hook_mlp_in', index=[:]) with attribution 0.0254239309579134\n",
      "NOT PRUNING upstream_component=ModelComponent(hook_point_name='blocks.10.hook_mlp_out', index=[:]) downstream_component=ModelComponent(hook_point_name='blocks.11.hook_resid_post', index=[:]) with attribution 0.13434654474258423\n",
      "NOT PRUNING upstream_component=ModelComponent(hook_point_name='blocks.10.hook_mlp_out', index=[:]) downstream_component=ModelComponent(hook_point_name='blocks.11.hook_mlp_in', index=[:]) with attribution 0.006685339845716953\n",
      "NOT PRUNING upstream_component=ModelComponent(hook_point_name='blocks.10.hook_mlp_out', index=[:]) downstream_component=ModelComponent(hook_point_name='blocks.11.hook_v_input', index=[:, :, 10]) with attribution 0.02425311505794525\n",
      "NOT PRUNING upstream_component=ModelComponent(hook_point_name='blocks.10.hook_mlp_out', index=[:]) downstream_component=ModelComponent(hook_point_name='blocks.11.hook_v_input', index=[:, :, 6]) with attribution 0.00950999278575182\n",
      "NOT PRUNING upstream_component=ModelComponent(hook_point_name='blocks.10.hook_mlp_out', index=[:]) downstream_component=ModelComponent(hook_point_name='blocks.11.hook_v_input', index=[:, :, 1]) with attribution 0.00807599164545536\n",
      "NOT PRUNING upstream_component=ModelComponent(hook_point_name='blocks.10.hook_mlp_out', index=[:]) downstream_component=ModelComponent(hook_point_name='blocks.11.hook_k_input', index=[:, :, 10]) with attribution 0.009655832313001156\n",
      "NOT PRUNING upstream_component=ModelComponent(hook_point_name='blocks.10.hook_mlp_out', index=[:]) downstream_component=ModelComponent(hook_point_name='blocks.11.hook_k_input', index=[:, :, 9]) with attribution 0.01640205830335617\n",
      "NOT PRUNING upstream_component=ModelComponent(hook_point_name='blocks.10.hook_mlp_out', index=[:]) downstream_component=ModelComponent(hook_point_name='blocks.11.hook_k_input', index=[:, :, 6]) with attribution 0.011118418537080288\n",
      "NOT PRUNING upstream_component=ModelComponent(hook_point_name='blocks.10.hook_mlp_out', index=[:]) downstream_component=ModelComponent(hook_point_name='blocks.11.hook_k_input', index=[:, :, 3]) with attribution 0.010087644681334496\n",
      "NOT PRUNING upstream_component=ModelComponent(hook_point_name='blocks.10.hook_mlp_out', index=[:]) downstream_component=ModelComponent(hook_point_name='blocks.11.hook_k_input', index=[:, :, 2]) with attribution 0.026061657816171646\n",
      "NOT PRUNING upstream_component=ModelComponent(hook_point_name='blocks.10.hook_mlp_out', index=[:]) downstream_component=ModelComponent(hook_point_name='blocks.11.hook_k_input', index=[:, :, 1]) with attribution 0.04030003398656845\n",
      "NOT PRUNING upstream_component=ModelComponent(hook_point_name='blocks.10.hook_mlp_out', index=[:]) downstream_component=ModelComponent(hook_point_name='blocks.11.hook_q_input', index=[:, :, 10]) with attribution 0.02879921719431877\n",
      "NOT PRUNING upstream_component=ModelComponent(hook_point_name='blocks.10.hook_mlp_out', index=[:]) downstream_component=ModelComponent(hook_point_name='blocks.11.hook_q_input', index=[:, :, 2]) with attribution 0.026919541880488396\n",
      "NOT PRUNING upstream_component=ModelComponent(hook_point_name='blocks.10.hook_mlp_out', index=[:]) downstream_component=ModelComponent(hook_point_name='blocks.11.hook_q_input', index=[:, :, 1]) with attribution 0.007339000701904297\n",
      "NOT PRUNING upstream_component=ModelComponent(hook_point_name='blocks.10.attn.hook_result', index=[:, :, 11]) downstream_component=ModelComponent(hook_point_name='blocks.11.hook_resid_post', index=[:]) with attribution 0.010201310738921165\n",
      "NOT PRUNING upstream_component=ModelComponent(hook_point_name='blocks.10.attn.hook_result', index=[:, :, 11]) downstream_component=ModelComponent(hook_point_name='blocks.11.hook_q_input', index=[:, :, 10]) with attribution 0.01114396471530199\n",
      "NOT PRUNING upstream_component=ModelComponent(hook_point_name='blocks.10.attn.hook_result', index=[:, :, 10]) downstream_component=ModelComponent(hook_point_name='blocks.11.hook_resid_post', index=[:]) with attribution 0.41116783022880554\n",
      "NOT PRUNING upstream_component=ModelComponent(hook_point_name='blocks.10.attn.hook_result', index=[:, :, 10]) downstream_component=ModelComponent(hook_point_name='blocks.11.hook_mlp_in', index=[:]) with attribution 0.03895321860909462\n",
      "NOT PRUNING upstream_component=ModelComponent(hook_point_name='blocks.10.attn.hook_result', index=[:, :, 10]) downstream_component=ModelComponent(hook_point_name='blocks.11.hook_v_input', index=[:, :, 11]) with attribution 0.0060323080979287624\n",
      "NOT PRUNING upstream_component=ModelComponent(hook_point_name='blocks.10.attn.hook_result', index=[:, :, 10]) downstream_component=ModelComponent(hook_point_name='blocks.11.hook_k_input', index=[:, :, 10]) with attribution 0.005362081341445446\n",
      "NOT PRUNING upstream_component=ModelComponent(hook_point_name='blocks.10.attn.hook_result', index=[:, :, 10]) downstream_component=ModelComponent(hook_point_name='blocks.11.hook_q_input', index=[:, :, 10]) with attribution 0.2614514231681824\n",
      "NOT PRUNING upstream_component=ModelComponent(hook_point_name='blocks.10.attn.hook_result', index=[:, :, 10]) downstream_component=ModelComponent(hook_point_name='blocks.11.hook_q_input', index=[:, :, 6]) with attribution 0.03428179398179054\n",
      "NOT PRUNING upstream_component=ModelComponent(hook_point_name='blocks.10.attn.hook_result', index=[:, :, 10]) downstream_component=ModelComponent(hook_point_name='blocks.11.hook_q_input', index=[:, :, 2]) with attribution 0.02373681589961052\n"
     ]
    },
    {
     "name": "stderr",
     "output_type": "stream",
     "text": []
    },
    {
     "name": "stdout",
     "output_type": "stream",
     "text": [
      "NOT PRUNING upstream_component=ModelComponent(hook_point_name='blocks.10.attn.hook_result', index=[:, :, 10]) downstream_component=ModelComponent(hook_point_name='blocks.10.hook_mlp_in', index=[:]) with attribution 0.021678978577256203\n",
      "NOT PRUNING upstream_component=ModelComponent(hook_point_name='blocks.10.attn.hook_result', index=[:, :, 9]) downstream_component=ModelComponent(hook_point_name='blocks.11.hook_resid_post', index=[:]) with attribution 0.02167596109211445\n",
      "NOT PRUNING upstream_component=ModelComponent(hook_point_name='blocks.10.attn.hook_result', index=[:, :, 9]) downstream_component=ModelComponent(hook_point_name='blocks.11.hook_mlp_in', index=[:]) with attribution 0.026659924536943436\n",
      "NOT PRUNING upstream_component=ModelComponent(hook_point_name='blocks.10.attn.hook_result', index=[:, :, 9]) downstream_component=ModelComponent(hook_point_name='blocks.11.hook_k_input', index=[:, :, 10]) with attribution 0.007341381162405014\n",
      "NOT PRUNING upstream_component=ModelComponent(hook_point_name='blocks.10.attn.hook_result', index=[:, :, 9]) downstream_component=ModelComponent(hook_point_name='blocks.11.hook_k_input', index=[:, :, 2]) with attribution 0.006722282152622938\n"
     ]
    },
    {
     "name": "stderr",
     "output_type": "stream",
     "text": []
    },
    {
     "name": "stdout",
     "output_type": "stream",
     "text": [
      "NOT PRUNING upstream_component=ModelComponent(hook_point_name='blocks.10.attn.hook_result', index=[:, :, 9]) downstream_component=ModelComponent(hook_point_name='blocks.11.hook_q_input', index=[:, :, 2]) with attribution 0.007709471043199301\n",
      "NOT PRUNING upstream_component=ModelComponent(hook_point_name='blocks.10.attn.hook_result', index=[:, :, 9]) downstream_component=ModelComponent(hook_point_name='blocks.11.hook_q_input', index=[:, :, 1]) with attribution 0.009345872327685356\n",
      "NOT PRUNING upstream_component=ModelComponent(hook_point_name='blocks.10.attn.hook_result', index=[:, :, 9]) downstream_component=ModelComponent(hook_point_name='blocks.10.hook_mlp_in', index=[:]) with attribution 0.008705126121640205\n",
      "NOT PRUNING upstream_component=ModelComponent(hook_point_name='blocks.10.attn.hook_result', index=[:, :, 8]) downstream_component=ModelComponent(hook_point_name='blocks.11.hook_q_input', index=[:, :, 10]) with attribution 0.005643591750413179\n"
     ]
    },
    {
     "name": "stderr",
     "output_type": "stream",
     "text": []
    },
    {
     "name": "stdout",
     "output_type": "stream",
     "text": [
      "NOT PRUNING upstream_component=ModelComponent(hook_point_name='blocks.10.attn.hook_result', index=[:, :, 7]) downstream_component=ModelComponent(hook_point_name='blocks.11.hook_resid_post', index=[:]) with attribution 1.3213380575180054\n",
      "NOT PRUNING upstream_component=ModelComponent(hook_point_name='blocks.10.attn.hook_result', index=[:, :, 7]) downstream_component=ModelComponent(hook_point_name='blocks.11.hook_mlp_in', index=[:]) with attribution 0.05584293231368065\n",
      "NOT PRUNING upstream_component=ModelComponent(hook_point_name='blocks.10.attn.hook_result', index=[:, :, 7]) downstream_component=ModelComponent(hook_point_name='blocks.11.hook_v_input', index=[:, :, 11]) with attribution 0.0067734490148723125\n",
      "NOT PRUNING upstream_component=ModelComponent(hook_point_name='blocks.10.attn.hook_result', index=[:, :, 7]) downstream_component=ModelComponent(hook_point_name='blocks.11.hook_v_input', index=[:, :, 10]) with attribution 0.006453345529735088\n",
      "NOT PRUNING upstream_component=ModelComponent(hook_point_name='blocks.10.attn.hook_result', index=[:, :, 7]) downstream_component=ModelComponent(hook_point_name='blocks.11.hook_v_input', index=[:, :, 3]) with attribution 0.005652258638292551\n",
      "NOT PRUNING upstream_component=ModelComponent(hook_point_name='blocks.10.attn.hook_result', index=[:, :, 7]) downstream_component=ModelComponent(hook_point_name='blocks.11.hook_k_input', index=[:, :, 10]) with attribution 0.009147617034614086\n",
      "NOT PRUNING upstream_component=ModelComponent(hook_point_name='blocks.10.attn.hook_result', index=[:, :, 7]) downstream_component=ModelComponent(hook_point_name='blocks.11.hook_q_input', index=[:, :, 10]) with attribution 0.7646751403808594\n",
      "NOT PRUNING upstream_component=ModelComponent(hook_point_name='blocks.10.attn.hook_result', index=[:, :, 7]) downstream_component=ModelComponent(hook_point_name='blocks.11.hook_q_input', index=[:, :, 9]) with attribution 0.010134364478290081\n",
      "NOT PRUNING upstream_component=ModelComponent(hook_point_name='blocks.10.attn.hook_result', index=[:, :, 7]) downstream_component=ModelComponent(hook_point_name='blocks.11.hook_q_input', index=[:, :, 6]) with attribution 0.018673837184906006\n"
     ]
    },
    {
     "name": "stderr",
     "output_type": "stream",
     "text": []
    },
    {
     "name": "stdout",
     "output_type": "stream",
     "text": [
      "NOT PRUNING upstream_component=ModelComponent(hook_point_name='blocks.10.attn.hook_result', index=[:, :, 7]) downstream_component=ModelComponent(hook_point_name='blocks.11.hook_q_input', index=[:, :, 2]) with attribution 0.02276446670293808\n",
      "NOT PRUNING upstream_component=ModelComponent(hook_point_name='blocks.10.attn.hook_result', index=[:, :, 7]) downstream_component=ModelComponent(hook_point_name='blocks.11.hook_q_input', index=[:, :, 1]) with attribution 0.027750838547945023\n",
      "NOT PRUNING upstream_component=ModelComponent(hook_point_name='blocks.10.attn.hook_result', index=[:, :, 7]) downstream_component=ModelComponent(hook_point_name='blocks.10.hook_mlp_in', index=[:]) with attribution 0.06375133246183395\n",
      "NOT PRUNING upstream_component=ModelComponent(hook_point_name='blocks.10.attn.hook_result', index=[:, :, 6]) downstream_component=ModelComponent(hook_point_name='blocks.11.hook_resid_post', index=[:]) with attribution 0.22900860011577606\n",
      "NOT PRUNING upstream_component=ModelComponent(hook_point_name='blocks.10.attn.hook_result', index=[:, :, 6]) downstream_component=ModelComponent(hook_point_name='blocks.11.hook_mlp_in', index=[:]) with attribution 0.01260809600353241\n",
      "NOT PRUNING upstream_component=ModelComponent(hook_point_name='blocks.10.attn.hook_result', index=[:, :, 6]) downstream_component=ModelComponent(hook_point_name='blocks.11.hook_v_input', index=[:, :, 2]) with attribution 0.006901343818753958\n",
      "NOT PRUNING upstream_component=ModelComponent(hook_point_name='blocks.10.attn.hook_result', index=[:, :, 6]) downstream_component=ModelComponent(hook_point_name='blocks.11.hook_q_input', index=[:, :, 10]) with attribution 0.08425670117139816\n",
      "NOT PRUNING upstream_component=ModelComponent(hook_point_name='blocks.10.attn.hook_result', index=[:, :, 6]) downstream_component=ModelComponent(hook_point_name='blocks.11.hook_q_input', index=[:, :, 9]) with attribution 0.00687270937487483\n",
      "NOT PRUNING upstream_component=ModelComponent(hook_point_name='blocks.10.attn.hook_result', index=[:, :, 6]) downstream_component=ModelComponent(hook_point_name='blocks.11.hook_q_input', index=[:, :, 6]) with attribution 0.011899280361831188\n",
      "NOT PRUNING upstream_component=ModelComponent(hook_point_name='blocks.10.attn.hook_result', index=[:, :, 6]) downstream_component=ModelComponent(hook_point_name='blocks.11.hook_q_input', index=[:, :, 1]) with attribution 0.028981849551200867\n"
     ]
    },
    {
     "name": "stderr",
     "output_type": "stream",
     "text": []
    },
    {
     "name": "stdout",
     "output_type": "stream",
     "text": [
      "NOT PRUNING upstream_component=ModelComponent(hook_point_name='blocks.10.attn.hook_result', index=[:, :, 5]) downstream_component=ModelComponent(hook_point_name='blocks.11.hook_v_input', index=[:, :, 10]) with attribution 0.00516150426119566\n",
      "NOT PRUNING upstream_component=ModelComponent(hook_point_name='blocks.10.attn.hook_result', index=[:, :, 5]) downstream_component=ModelComponent(hook_point_name='blocks.11.hook_k_input', index=[:, :, 2]) with attribution 0.00562323210760951\n"
     ]
    },
    {
     "name": "stderr",
     "output_type": "stream",
     "text": []
    },
    {
     "name": "stdout",
     "output_type": "stream",
     "text": [
      "NOT PRUNING upstream_component=ModelComponent(hook_point_name='blocks.10.attn.hook_result', index=[:, :, 4]) downstream_component=ModelComponent(hook_point_name='blocks.11.hook_mlp_in', index=[:]) with attribution 0.007008271757513285\n",
      "NOT PRUNING upstream_component=ModelComponent(hook_point_name='blocks.10.attn.hook_result', index=[:, :, 4]) downstream_component=ModelComponent(hook_point_name='blocks.11.hook_v_input', index=[:, :, 10]) with attribution 0.009917030110955238\n",
      "NOT PRUNING upstream_component=ModelComponent(hook_point_name='blocks.10.attn.hook_result', index=[:, :, 4]) downstream_component=ModelComponent(hook_point_name='blocks.11.hook_k_input', index=[:, :, 2]) with attribution 0.012779461219906807\n"
     ]
    },
    {
     "name": "stderr",
     "output_type": "stream",
     "text": []
    },
    {
     "name": "stdout",
     "output_type": "stream",
     "text": [
      "NOT PRUNING upstream_component=ModelComponent(hook_point_name='blocks.10.attn.hook_result', index=[:, :, 4]) downstream_component=ModelComponent(hook_point_name='blocks.10.hook_mlp_in', index=[:]) with attribution 0.0062073818407952785\n",
      "NOT PRUNING upstream_component=ModelComponent(hook_point_name='blocks.10.attn.hook_result', index=[:, :, 3]) downstream_component=ModelComponent(hook_point_name='blocks.11.hook_resid_post', index=[:]) with attribution 0.15523765981197357\n",
      "NOT PRUNING upstream_component=ModelComponent(hook_point_name='blocks.10.attn.hook_result', index=[:, :, 3]) downstream_component=ModelComponent(hook_point_name='blocks.11.hook_mlp_in', index=[:]) with attribution 0.011498079635202885\n"
     ]
    },
    {
     "name": "stderr",
     "output_type": "stream",
     "text": []
    },
    {
     "name": "stdout",
     "output_type": "stream",
     "text": [
      "NOT PRUNING upstream_component=ModelComponent(hook_point_name='blocks.10.attn.hook_result', index=[:, :, 3]) downstream_component=ModelComponent(hook_point_name='blocks.11.hook_k_input', index=[:, :, 2]) with attribution 0.0056101554073393345\n",
      "NOT PRUNING upstream_component=ModelComponent(hook_point_name='blocks.10.attn.hook_result', index=[:, :, 3]) downstream_component=ModelComponent(hook_point_name='blocks.11.hook_q_input', index=[:, :, 10]) with attribution 0.029672786593437195\n"
     ]
    },
    {
     "name": "stderr",
     "output_type": "stream",
     "text": []
    },
    {
     "name": "stdout",
     "output_type": "stream",
     "text": [
      "NOT PRUNING upstream_component=ModelComponent(hook_point_name='blocks.10.attn.hook_result', index=[:, :, 3]) downstream_component=ModelComponent(hook_point_name='blocks.11.hook_q_input', index=[:, :, 2]) with attribution 0.015715882182121277\n",
      "NOT PRUNING upstream_component=ModelComponent(hook_point_name='blocks.10.attn.hook_result', index=[:, :, 2]) downstream_component=ModelComponent(hook_point_name='blocks.11.hook_resid_post', index=[:]) with attribution 0.06638708710670471\n",
      "NOT PRUNING upstream_component=ModelComponent(hook_point_name='blocks.10.attn.hook_result', index=[:, :, 2]) downstream_component=ModelComponent(hook_point_name='blocks.11.hook_mlp_in', index=[:]) with attribution 0.026384906843304634\n",
      "NOT PRUNING upstream_component=ModelComponent(hook_point_name='blocks.10.attn.hook_result', index=[:, :, 2]) downstream_component=ModelComponent(hook_point_name='blocks.11.hook_v_input', index=[:, :, 11]) with attribution 0.01188395544886589\n",
      "NOT PRUNING upstream_component=ModelComponent(hook_point_name='blocks.10.attn.hook_result', index=[:, :, 2]) downstream_component=ModelComponent(hook_point_name='blocks.11.hook_v_input', index=[:, :, 10]) with attribution 0.005069433711469173\n",
      "NOT PRUNING upstream_component=ModelComponent(hook_point_name='blocks.10.attn.hook_result', index=[:, :, 2]) downstream_component=ModelComponent(hook_point_name='blocks.11.hook_v_input', index=[:, :, 3]) with attribution 0.007355411536991596\n",
      "NOT PRUNING upstream_component=ModelComponent(hook_point_name='blocks.10.attn.hook_result', index=[:, :, 2]) downstream_component=ModelComponent(hook_point_name='blocks.11.hook_k_input', index=[:, :, 10]) with attribution 0.009791001677513123\n",
      "NOT PRUNING upstream_component=ModelComponent(hook_point_name='blocks.10.attn.hook_result', index=[:, :, 2]) downstream_component=ModelComponent(hook_point_name='blocks.11.hook_q_input', index=[:, :, 10]) with attribution 0.027764836326241493\n",
      "NOT PRUNING upstream_component=ModelComponent(hook_point_name='blocks.10.attn.hook_result', index=[:, :, 2]) downstream_component=ModelComponent(hook_point_name='blocks.11.hook_q_input', index=[:, :, 2]) with attribution 0.03946138545870781\n"
     ]
    },
    {
     "name": "stderr",
     "output_type": "stream",
     "text": []
    },
    {
     "name": "stdout",
     "output_type": "stream",
     "text": [
      "NOT PRUNING upstream_component=ModelComponent(hook_point_name='blocks.10.attn.hook_result', index=[:, :, 2]) downstream_component=ModelComponent(hook_point_name='blocks.10.hook_mlp_in', index=[:]) with attribution 0.017142346128821373\n",
      "NOT PRUNING upstream_component=ModelComponent(hook_point_name='blocks.10.attn.hook_result', index=[:, :, 1]) downstream_component=ModelComponent(hook_point_name='blocks.11.hook_resid_post', index=[:]) with attribution 0.28003233671188354\n",
      "NOT PRUNING upstream_component=ModelComponent(hook_point_name='blocks.10.attn.hook_result', index=[:, :, 1]) downstream_component=ModelComponent(hook_point_name='blocks.11.hook_v_input', index=[:, :, 10]) with attribution 0.005515117198228836\n",
      "NOT PRUNING upstream_component=ModelComponent(hook_point_name='blocks.10.attn.hook_result', index=[:, :, 1]) downstream_component=ModelComponent(hook_point_name='blocks.11.hook_q_input', index=[:, :, 10]) with attribution 0.12492933124303818\n",
      "NOT PRUNING upstream_component=ModelComponent(hook_point_name='blocks.10.attn.hook_result', index=[:, :, 1]) downstream_component=ModelComponent(hook_point_name='blocks.11.hook_q_input', index=[:, :, 6]) with attribution 0.015231003984808922\n"
     ]
    },
    {
     "name": "stderr",
     "output_type": "stream",
     "text": []
    },
    {
     "name": "stdout",
     "output_type": "stream",
     "text": [
      "NOT PRUNING upstream_component=ModelComponent(hook_point_name='blocks.10.attn.hook_result', index=[:, :, 1]) downstream_component=ModelComponent(hook_point_name='blocks.11.hook_q_input', index=[:, :, 2]) with attribution 0.025563368573784828\n",
      "NOT PRUNING upstream_component=ModelComponent(hook_point_name='blocks.10.attn.hook_result', index=[:, :, 1]) downstream_component=ModelComponent(hook_point_name='blocks.11.hook_q_input', index=[:, :, 1]) with attribution 0.007784456014633179\n",
      "NOT PRUNING upstream_component=ModelComponent(hook_point_name='blocks.10.attn.hook_result', index=[:, :, 1]) downstream_component=ModelComponent(hook_point_name='blocks.10.hook_mlp_in', index=[:]) with attribution 0.01668316125869751\n",
      "NOT PRUNING upstream_component=ModelComponent(hook_point_name='blocks.10.attn.hook_result', index=[:, :, 0]) downstream_component=ModelComponent(hook_point_name='blocks.11.hook_resid_post', index=[:]) with attribution 0.6490350961685181\n",
      "NOT PRUNING upstream_component=ModelComponent(hook_point_name='blocks.10.attn.hook_result', index=[:, :, 0]) downstream_component=ModelComponent(hook_point_name='blocks.11.hook_v_input', index=[:, :, 3]) with attribution 0.027223024517297745\n",
      "NOT PRUNING upstream_component=ModelComponent(hook_point_name='blocks.10.attn.hook_result', index=[:, :, 0]) downstream_component=ModelComponent(hook_point_name='blocks.11.hook_v_input', index=[:, :, 2]) with attribution 0.01289350911974907\n",
      "NOT PRUNING upstream_component=ModelComponent(hook_point_name='blocks.10.attn.hook_result', index=[:, :, 0]) downstream_component=ModelComponent(hook_point_name='blocks.11.hook_q_input', index=[:, :, 10]) with attribution 0.2343483567237854\n",
      "NOT PRUNING upstream_component=ModelComponent(hook_point_name='blocks.10.attn.hook_result', index=[:, :, 0]) downstream_component=ModelComponent(hook_point_name='blocks.11.hook_q_input', index=[:, :, 9]) with attribution 0.005441037937998772\n",
      "NOT PRUNING upstream_component=ModelComponent(hook_point_name='blocks.10.attn.hook_result', index=[:, :, 0]) downstream_component=ModelComponent(hook_point_name='blocks.11.hook_q_input', index=[:, :, 6]) with attribution 0.014259029179811478\n"
     ]
    },
    {
     "name": "stderr",
     "output_type": "stream",
     "text": []
    },
    {
     "name": "stdout",
     "output_type": "stream",
     "text": [
      "NOT PRUNING upstream_component=ModelComponent(hook_point_name='blocks.10.attn.hook_result', index=[:, :, 0]) downstream_component=ModelComponent(hook_point_name='blocks.11.hook_q_input', index=[:, :, 3]) with attribution 0.0052185868844389915\n",
      "NOT PRUNING upstream_component=ModelComponent(hook_point_name='blocks.10.attn.hook_result', index=[:, :, 0]) downstream_component=ModelComponent(hook_point_name='blocks.11.hook_q_input', index=[:, :, 2]) with attribution 0.11182853579521179\n",
      "NOT PRUNING upstream_component=ModelComponent(hook_point_name='blocks.10.attn.hook_result', index=[:, :, 0]) downstream_component=ModelComponent(hook_point_name='blocks.11.hook_q_input', index=[:, :, 1]) with attribution 0.02535075508058071\n",
      "NOT PRUNING upstream_component=ModelComponent(hook_point_name='blocks.10.attn.hook_result', index=[:, :, 0]) downstream_component=ModelComponent(hook_point_name='blocks.10.hook_mlp_in', index=[:]) with attribution 0.025017254054546356\n",
      "NOT PRUNING upstream_component=ModelComponent(hook_point_name='blocks.9.hook_mlp_out', index=[:]) downstream_component=ModelComponent(hook_point_name='blocks.11.hook_resid_post', index=[:]) with attribution 0.06837235391139984\n",
      "NOT PRUNING upstream_component=ModelComponent(hook_point_name='blocks.9.hook_mlp_out', index=[:]) downstream_component=ModelComponent(hook_point_name='blocks.11.hook_mlp_in', index=[:]) with attribution 0.049539629369974136\n",
      "NOT PRUNING upstream_component=ModelComponent(hook_point_name='blocks.9.hook_mlp_out', index=[:]) downstream_component=ModelComponent(hook_point_name='blocks.11.hook_v_input', index=[:, :, 10]) with attribution 0.006195766851305962\n",
      "NOT PRUNING upstream_component=ModelComponent(hook_point_name='blocks.9.hook_mlp_out', index=[:]) downstream_component=ModelComponent(hook_point_name='blocks.11.hook_v_input', index=[:, :, 9]) with attribution 0.008623812347650528\n",
      "NOT PRUNING upstream_component=ModelComponent(hook_point_name='blocks.9.hook_mlp_out', index=[:]) downstream_component=ModelComponent(hook_point_name='blocks.11.hook_v_input', index=[:, :, 2]) with attribution 0.005117772147059441\n",
      "NOT PRUNING upstream_component=ModelComponent(hook_point_name='blocks.9.hook_mlp_out', index=[:]) downstream_component=ModelComponent(hook_point_name='blocks.11.hook_v_input', index=[:, :, 1]) with attribution 0.006847171112895012\n",
      "NOT PRUNING upstream_component=ModelComponent(hook_point_name='blocks.9.hook_mlp_out', index=[:]) downstream_component=ModelComponent(hook_point_name='blocks.11.hook_k_input', index=[:, :, 2]) with attribution 0.03857357054948807\n",
      "NOT PRUNING upstream_component=ModelComponent(hook_point_name='blocks.9.hook_mlp_out', index=[:]) downstream_component=ModelComponent(hook_point_name='blocks.11.hook_q_input', index=[:, :, 11]) with attribution 0.00683684041723609\n",
      "NOT PRUNING upstream_component=ModelComponent(hook_point_name='blocks.9.hook_mlp_out', index=[:]) downstream_component=ModelComponent(hook_point_name='blocks.11.hook_q_input', index=[:, :, 10]) with attribution 0.06206008791923523\n",
      "NOT PRUNING upstream_component=ModelComponent(hook_point_name='blocks.9.hook_mlp_out', index=[:]) downstream_component=ModelComponent(hook_point_name='blocks.11.hook_q_input', index=[:, :, 9]) with attribution 0.014422955922782421\n",
      "NOT PRUNING upstream_component=ModelComponent(hook_point_name='blocks.9.hook_mlp_out', index=[:]) downstream_component=ModelComponent(hook_point_name='blocks.11.hook_q_input', index=[:, :, 6]) with attribution 0.009795446880161762\n",
      "NOT PRUNING upstream_component=ModelComponent(hook_point_name='blocks.9.hook_mlp_out', index=[:]) downstream_component=ModelComponent(hook_point_name='blocks.11.hook_q_input', index=[:, :, 2]) with attribution 0.08114823698997498\n",
      "NOT PRUNING upstream_component=ModelComponent(hook_point_name='blocks.9.hook_mlp_out', index=[:]) downstream_component=ModelComponent(hook_point_name='blocks.11.hook_q_input', index=[:, :, 1]) with attribution 0.03448822349309921\n",
      "NOT PRUNING upstream_component=ModelComponent(hook_point_name='blocks.9.hook_mlp_out', index=[:]) downstream_component=ModelComponent(hook_point_name='blocks.10.hook_mlp_in', index=[:]) with attribution 0.011879891157150269\n",
      "NOT PRUNING upstream_component=ModelComponent(hook_point_name='blocks.9.hook_mlp_out', index=[:]) downstream_component=ModelComponent(hook_point_name='blocks.10.hook_v_input', index=[:, :, 3]) with attribution 0.007942989468574524\n",
      "NOT PRUNING upstream_component=ModelComponent(hook_point_name='blocks.9.hook_mlp_out', index=[:]) downstream_component=ModelComponent(hook_point_name='blocks.10.hook_v_input', index=[:, :, 2]) with attribution 0.0072370730340480804\n",
      "NOT PRUNING upstream_component=ModelComponent(hook_point_name='blocks.9.hook_mlp_out', index=[:]) downstream_component=ModelComponent(hook_point_name='blocks.10.hook_v_input', index=[:, :, 0]) with attribution 0.008939305320382118\n",
      "NOT PRUNING upstream_component=ModelComponent(hook_point_name='blocks.9.hook_mlp_out', index=[:]) downstream_component=ModelComponent(hook_point_name='blocks.10.hook_k_input', index=[:, :, 10]) with attribution 0.007782811764627695\n",
      "NOT PRUNING upstream_component=ModelComponent(hook_point_name='blocks.9.hook_mlp_out', index=[:]) downstream_component=ModelComponent(hook_point_name='blocks.10.hook_k_input', index=[:, :, 7]) with attribution 0.03983335942029953\n",
      "NOT PRUNING upstream_component=ModelComponent(hook_point_name='blocks.9.hook_mlp_out', index=[:]) downstream_component=ModelComponent(hook_point_name='blocks.10.hook_k_input', index=[:, :, 6]) with attribution 0.008100482635200024\n"
     ]
    },
    {
     "name": "stderr",
     "output_type": "stream",
     "text": []
    },
    {
     "name": "stdout",
     "output_type": "stream",
     "text": [
      "NOT PRUNING upstream_component=ModelComponent(hook_point_name='blocks.9.hook_mlp_out', index=[:]) downstream_component=ModelComponent(hook_point_name='blocks.10.hook_k_input', index=[:, :, 2]) with attribution 0.04182425141334534\n",
      "NOT PRUNING upstream_component=ModelComponent(hook_point_name='blocks.9.hook_mlp_out', index=[:]) downstream_component=ModelComponent(hook_point_name='blocks.10.hook_k_input', index=[:, :, 1]) with attribution 0.017397118732333183\n",
      "NOT PRUNING upstream_component=ModelComponent(hook_point_name='blocks.9.hook_mlp_out', index=[:]) downstream_component=ModelComponent(hook_point_name='blocks.10.hook_k_input', index=[:, :, 0]) with attribution 0.02675723098218441\n",
      "NOT PRUNING upstream_component=ModelComponent(hook_point_name='blocks.9.hook_mlp_out', index=[:]) downstream_component=ModelComponent(hook_point_name='blocks.10.hook_q_input', index=[:, :, 10]) with attribution 0.03320462256669998\n",
      "NOT PRUNING upstream_component=ModelComponent(hook_point_name='blocks.9.hook_mlp_out', index=[:]) downstream_component=ModelComponent(hook_point_name='blocks.10.hook_q_input', index=[:, :, 7]) with attribution 0.011329496279358864\n",
      "NOT PRUNING upstream_component=ModelComponent(hook_point_name='blocks.9.hook_mlp_out', index=[:]) downstream_component=ModelComponent(hook_point_name='blocks.10.hook_q_input', index=[:, :, 3]) with attribution 0.01830986514687538\n",
      "NOT PRUNING upstream_component=ModelComponent(hook_point_name='blocks.9.hook_mlp_out', index=[:]) downstream_component=ModelComponent(hook_point_name='blocks.10.hook_q_input', index=[:, :, 2]) with attribution 0.00819818302989006\n",
      "NOT PRUNING upstream_component=ModelComponent(hook_point_name='blocks.9.hook_mlp_out', index=[:]) downstream_component=ModelComponent(hook_point_name='blocks.10.hook_q_input', index=[:, :, 1]) with attribution 0.02833808958530426\n",
      "NOT PRUNING upstream_component=ModelComponent(hook_point_name='blocks.9.hook_mlp_out', index=[:]) downstream_component=ModelComponent(hook_point_name='blocks.10.hook_q_input', index=[:, :, 0]) with attribution 0.02549290843307972\n",
      "NOT PRUNING upstream_component=ModelComponent(hook_point_name='blocks.9.attn.hook_result', index=[:, :, 11]) downstream_component=ModelComponent(hook_point_name='blocks.11.hook_resid_post', index=[:]) with attribution 0.013270296156406403\n"
     ]
    },
    {
     "name": "stderr",
     "output_type": "stream",
     "text": []
    },
    {
     "name": "stdout",
     "output_type": "stream",
     "text": [
      "NOT PRUNING upstream_component=ModelComponent(hook_point_name='blocks.9.attn.hook_result', index=[:, :, 11]) downstream_component=ModelComponent(hook_point_name='blocks.11.hook_q_input', index=[:, :, 10]) with attribution 0.005720393732190132\n"
     ]
    },
    {
     "name": "stderr",
     "output_type": "stream",
     "text": []
    },
    {
     "name": "stdout",
     "output_type": "stream",
     "text": [
      "NOT PRUNING upstream_component=ModelComponent(hook_point_name='blocks.9.attn.hook_result', index=[:, :, 9]) downstream_component=ModelComponent(hook_point_name='blocks.11.hook_resid_post', index=[:]) with attribution 2.0605037212371826\n",
      "NOT PRUNING upstream_component=ModelComponent(hook_point_name='blocks.9.attn.hook_result', index=[:, :, 9]) downstream_component=ModelComponent(hook_point_name='blocks.11.hook_mlp_in', index=[:]) with attribution 0.020858068019151688\n",
      "NOT PRUNING upstream_component=ModelComponent(hook_point_name='blocks.9.attn.hook_result', index=[:, :, 9]) downstream_component=ModelComponent(hook_point_name='blocks.11.hook_v_input', index=[:, :, 10]) with attribution 0.005340375937521458\n",
      "NOT PRUNING upstream_component=ModelComponent(hook_point_name='blocks.9.attn.hook_result', index=[:, :, 9]) downstream_component=ModelComponent(hook_point_name='blocks.11.hook_v_input', index=[:, :, 8]) with attribution 0.007512474898248911\n",
      "NOT PRUNING upstream_component=ModelComponent(hook_point_name='blocks.9.attn.hook_result', index=[:, :, 9]) downstream_component=ModelComponent(hook_point_name='blocks.11.hook_v_input', index=[:, :, 3]) with attribution 0.022724997252225876\n",
      "NOT PRUNING upstream_component=ModelComponent(hook_point_name='blocks.9.attn.hook_result', index=[:, :, 9]) downstream_component=ModelComponent(hook_point_name='blocks.11.hook_k_input', index=[:, :, 3]) with attribution 0.009575881995260715\n",
      "NOT PRUNING upstream_component=ModelComponent(hook_point_name='blocks.9.attn.hook_result', index=[:, :, 9]) downstream_component=ModelComponent(hook_point_name='blocks.11.hook_q_input', index=[:, :, 10]) with attribution 0.784369170665741\n",
      "NOT PRUNING upstream_component=ModelComponent(hook_point_name='blocks.9.attn.hook_result', index=[:, :, 9]) downstream_component=ModelComponent(hook_point_name='blocks.11.hook_q_input', index=[:, :, 9]) with attribution 0.008656637743115425\n",
      "NOT PRUNING upstream_component=ModelComponent(hook_point_name='blocks.9.attn.hook_result', index=[:, :, 9]) downstream_component=ModelComponent(hook_point_name='blocks.11.hook_q_input', index=[:, :, 6]) with attribution 0.0365668460726738\n",
      "NOT PRUNING upstream_component=ModelComponent(hook_point_name='blocks.9.attn.hook_result', index=[:, :, 9]) downstream_component=ModelComponent(hook_point_name='blocks.11.hook_q_input', index=[:, :, 2]) with attribution 0.09322571754455566\n",
      "NOT PRUNING upstream_component=ModelComponent(hook_point_name='blocks.9.attn.hook_result', index=[:, :, 9]) downstream_component=ModelComponent(hook_point_name='blocks.10.hook_mlp_in', index=[:]) with attribution 0.04972362890839577\n",
      "NOT PRUNING upstream_component=ModelComponent(hook_point_name='blocks.9.attn.hook_result', index=[:, :, 9]) downstream_component=ModelComponent(hook_point_name='blocks.10.hook_q_input', index=[:, :, 10]) with attribution 0.04226064309477806\n",
      "NOT PRUNING upstream_component=ModelComponent(hook_point_name='blocks.9.attn.hook_result', index=[:, :, 9]) downstream_component=ModelComponent(hook_point_name='blocks.10.hook_q_input', index=[:, :, 7]) with attribution 0.5267989635467529\n",
      "NOT PRUNING upstream_component=ModelComponent(hook_point_name='blocks.9.attn.hook_result', index=[:, :, 9]) downstream_component=ModelComponent(hook_point_name='blocks.10.hook_q_input', index=[:, :, 6]) with attribution 0.054573677480220795\n",
      "NOT PRUNING upstream_component=ModelComponent(hook_point_name='blocks.9.attn.hook_result', index=[:, :, 9]) downstream_component=ModelComponent(hook_point_name='blocks.10.hook_q_input', index=[:, :, 3]) with attribution 0.01386927254498005\n",
      "NOT PRUNING upstream_component=ModelComponent(hook_point_name='blocks.9.attn.hook_result', index=[:, :, 9]) downstream_component=ModelComponent(hook_point_name='blocks.10.hook_q_input', index=[:, :, 2]) with attribution 0.10990596562623978\n",
      "NOT PRUNING upstream_component=ModelComponent(hook_point_name='blocks.9.attn.hook_result', index=[:, :, 9]) downstream_component=ModelComponent(hook_point_name='blocks.10.hook_q_input', index=[:, :, 1]) with attribution 0.026911921799182892\n"
     ]
    },
    {
     "name": "stderr",
     "output_type": "stream",
     "text": []
    },
    {
     "name": "stdout",
     "output_type": "stream",
     "text": [
      "NOT PRUNING upstream_component=ModelComponent(hook_point_name='blocks.9.attn.hook_result', index=[:, :, 9]) downstream_component=ModelComponent(hook_point_name='blocks.10.hook_q_input', index=[:, :, 0]) with attribution 0.06928320974111557\n",
      "NOT PRUNING upstream_component=ModelComponent(hook_point_name='blocks.9.attn.hook_result', index=[:, :, 9]) downstream_component=ModelComponent(hook_point_name='blocks.9.hook_mlp_in', index=[:]) with attribution 0.08018456399440765\n",
      "NOT PRUNING upstream_component=ModelComponent(hook_point_name='blocks.9.attn.hook_result', index=[:, :, 8]) downstream_component=ModelComponent(hook_point_name='blocks.11.hook_resid_post', index=[:]) with attribution 0.0253419391810894\n",
      "NOT PRUNING upstream_component=ModelComponent(hook_point_name='blocks.9.attn.hook_result', index=[:, :, 8]) downstream_component=ModelComponent(hook_point_name='blocks.11.hook_mlp_in', index=[:]) with attribution 0.020030047744512558\n",
      "NOT PRUNING upstream_component=ModelComponent(hook_point_name='blocks.9.attn.hook_result', index=[:, :, 8]) downstream_component=ModelComponent(hook_point_name='blocks.11.hook_v_input', index=[:, :, 3]) with attribution 0.005180090665817261\n",
      "NOT PRUNING upstream_component=ModelComponent(hook_point_name='blocks.9.attn.hook_result', index=[:, :, 8]) downstream_component=ModelComponent(hook_point_name='blocks.11.hook_q_input', index=[:, :, 10]) with attribution 0.028299858793616295\n",
      "NOT PRUNING upstream_component=ModelComponent(hook_point_name='blocks.9.attn.hook_result', index=[:, :, 8]) downstream_component=ModelComponent(hook_point_name='blocks.11.hook_q_input', index=[:, :, 2]) with attribution 0.024058189243078232\n",
      "NOT PRUNING upstream_component=ModelComponent(hook_point_name='blocks.9.attn.hook_result', index=[:, :, 8]) downstream_component=ModelComponent(hook_point_name='blocks.10.hook_mlp_in', index=[:]) with attribution 0.00734433438628912\n",
      "NOT PRUNING upstream_component=ModelComponent(hook_point_name='blocks.9.attn.hook_result', index=[:, :, 8]) downstream_component=ModelComponent(hook_point_name='blocks.10.hook_v_input', index=[:, :, 3]) with attribution 0.005289557855576277\n",
      "NOT PRUNING upstream_component=ModelComponent(hook_point_name='blocks.9.attn.hook_result', index=[:, :, 8]) downstream_component=ModelComponent(hook_point_name='blocks.10.hook_k_input', index=[:, :, 0]) with attribution 0.008263032883405685\n",
      "NOT PRUNING upstream_component=ModelComponent(hook_point_name='blocks.9.attn.hook_result', index=[:, :, 8]) downstream_component=ModelComponent(hook_point_name='blocks.10.hook_q_input', index=[:, :, 7]) with attribution 0.017343293875455856\n",
      "NOT PRUNING upstream_component=ModelComponent(hook_point_name='blocks.9.attn.hook_result', index=[:, :, 8]) downstream_component=ModelComponent(hook_point_name='blocks.10.hook_q_input', index=[:, :, 6]) with attribution 0.006672936491668224\n"
     ]
    },
    {
     "name": "stderr",
     "output_type": "stream",
     "text": []
    },
    {
     "name": "stdout",
     "output_type": "stream",
     "text": [
      "NOT PRUNING upstream_component=ModelComponent(hook_point_name='blocks.9.attn.hook_result', index=[:, :, 8]) downstream_component=ModelComponent(hook_point_name='blocks.10.hook_q_input', index=[:, :, 3]) with attribution 0.00897576380521059\n",
      "NOT PRUNING upstream_component=ModelComponent(hook_point_name='blocks.9.attn.hook_result', index=[:, :, 8]) downstream_component=ModelComponent(hook_point_name='blocks.10.hook_q_input', index=[:, :, 2]) with attribution 0.010416798293590546\n",
      "NOT PRUNING upstream_component=ModelComponent(hook_point_name='blocks.9.attn.hook_result', index=[:, :, 8]) downstream_component=ModelComponent(hook_point_name='blocks.10.hook_q_input', index=[:, :, 0]) with attribution 0.011793958023190498\n",
      "NOT PRUNING upstream_component=ModelComponent(hook_point_name='blocks.9.attn.hook_result', index=[:, :, 8]) downstream_component=ModelComponent(hook_point_name='blocks.9.hook_mlp_in', index=[:]) with attribution 0.017850495874881744\n",
      "NOT PRUNING upstream_component=ModelComponent(hook_point_name='blocks.9.attn.hook_result', index=[:, :, 7]) downstream_component=ModelComponent(hook_point_name='blocks.11.hook_resid_post', index=[:]) with attribution 0.08226107060909271\n",
      "NOT PRUNING upstream_component=ModelComponent(hook_point_name='blocks.9.attn.hook_result', index=[:, :, 7]) downstream_component=ModelComponent(hook_point_name='blocks.11.hook_mlp_in', index=[:]) with attribution 0.04797547310590744\n"
     ]
    },
    {
     "name": "stderr",
     "output_type": "stream",
     "text": []
    },
    {
     "name": "stdout",
     "output_type": "stream",
     "text": [
      "NOT PRUNING upstream_component=ModelComponent(hook_point_name='blocks.9.attn.hook_result', index=[:, :, 7]) downstream_component=ModelComponent(hook_point_name='blocks.11.hook_k_input', index=[:, :, 10]) with attribution 0.026801275089383125\n",
      "NOT PRUNING upstream_component=ModelComponent(hook_point_name='blocks.9.attn.hook_result', index=[:, :, 7]) downstream_component=ModelComponent(hook_point_name='blocks.11.hook_k_input', index=[:, :, 6]) with attribution 0.006553448736667633\n",
      "NOT PRUNING upstream_component=ModelComponent(hook_point_name='blocks.9.attn.hook_result', index=[:, :, 7]) downstream_component=ModelComponent(hook_point_name='blocks.11.hook_k_input', index=[:, :, 2]) with attribution 0.023117071017622948\n",
      "NOT PRUNING upstream_component=ModelComponent(hook_point_name='blocks.9.attn.hook_result', index=[:, :, 7]) downstream_component=ModelComponent(hook_point_name='blocks.11.hook_k_input', index=[:, :, 1]) with attribution 0.005019135773181915\n",
      "NOT PRUNING upstream_component=ModelComponent(hook_point_name='blocks.9.attn.hook_result', index=[:, :, 7]) downstream_component=ModelComponent(hook_point_name='blocks.11.hook_q_input', index=[:, :, 10]) with attribution 0.015447307378053665\n",
      "NOT PRUNING upstream_component=ModelComponent(hook_point_name='blocks.9.attn.hook_result', index=[:, :, 7]) downstream_component=ModelComponent(hook_point_name='blocks.11.hook_q_input', index=[:, :, 6]) with attribution 0.009817838668823242\n",
      "NOT PRUNING upstream_component=ModelComponent(hook_point_name='blocks.9.attn.hook_result', index=[:, :, 7]) downstream_component=ModelComponent(hook_point_name='blocks.11.hook_q_input', index=[:, :, 2]) with attribution 0.019638804718852043\n",
      "NOT PRUNING upstream_component=ModelComponent(hook_point_name='blocks.9.attn.hook_result', index=[:, :, 7]) downstream_component=ModelComponent(hook_point_name='blocks.11.hook_q_input', index=[:, :, 1]) with attribution 0.01218571700155735\n",
      "NOT PRUNING upstream_component=ModelComponent(hook_point_name='blocks.9.attn.hook_result', index=[:, :, 7]) downstream_component=ModelComponent(hook_point_name='blocks.10.hook_mlp_in', index=[:]) with attribution 0.009828926995396614\n",
      "NOT PRUNING upstream_component=ModelComponent(hook_point_name='blocks.9.attn.hook_result', index=[:, :, 7]) downstream_component=ModelComponent(hook_point_name='blocks.10.hook_k_input', index=[:, :, 7]) with attribution 0.01704668067395687\n",
      "NOT PRUNING upstream_component=ModelComponent(hook_point_name='blocks.9.attn.hook_result', index=[:, :, 7]) downstream_component=ModelComponent(hook_point_name='blocks.10.hook_k_input', index=[:, :, 6]) with attribution 0.008320881053805351\n",
      "NOT PRUNING upstream_component=ModelComponent(hook_point_name='blocks.9.attn.hook_result', index=[:, :, 7]) downstream_component=ModelComponent(hook_point_name='blocks.10.hook_k_input', index=[:, :, 2]) with attribution 0.009504329413175583\n",
      "NOT PRUNING upstream_component=ModelComponent(hook_point_name='blocks.9.attn.hook_result', index=[:, :, 7]) downstream_component=ModelComponent(hook_point_name='blocks.10.hook_k_input', index=[:, :, 0]) with attribution 0.01460159383714199\n",
      "NOT PRUNING upstream_component=ModelComponent(hook_point_name='blocks.9.attn.hook_result', index=[:, :, 7]) downstream_component=ModelComponent(hook_point_name='blocks.10.hook_q_input', index=[:, :, 10]) with attribution 0.016798725351691246\n"
     ]
    },
    {
     "name": "stderr",
     "output_type": "stream",
     "text": []
    },
    {
     "name": "stdout",
     "output_type": "stream",
     "text": [
      "NOT PRUNING upstream_component=ModelComponent(hook_point_name='blocks.9.attn.hook_result', index=[:, :, 7]) downstream_component=ModelComponent(hook_point_name='blocks.10.hook_q_input', index=[:, :, 7]) with attribution 0.012394426390528679\n",
      "NOT PRUNING upstream_component=ModelComponent(hook_point_name='blocks.9.attn.hook_result', index=[:, :, 7]) downstream_component=ModelComponent(hook_point_name='blocks.10.hook_q_input', index=[:, :, 6]) with attribution 0.017196912318468094\n",
      "NOT PRUNING upstream_component=ModelComponent(hook_point_name='blocks.9.attn.hook_result', index=[:, :, 7]) downstream_component=ModelComponent(hook_point_name='blocks.10.hook_q_input', index=[:, :, 2]) with attribution 0.020357705652713776\n",
      "NOT PRUNING upstream_component=ModelComponent(hook_point_name='blocks.9.attn.hook_result', index=[:, :, 7]) downstream_component=ModelComponent(hook_point_name='blocks.10.hook_q_input', index=[:, :, 1]) with attribution 0.01409298088401556\n",
      "NOT PRUNING upstream_component=ModelComponent(hook_point_name='blocks.9.attn.hook_result', index=[:, :, 7]) downstream_component=ModelComponent(hook_point_name='blocks.10.hook_q_input', index=[:, :, 0]) with attribution 0.03410271182656288\n",
      "NOT PRUNING upstream_component=ModelComponent(hook_point_name='blocks.9.attn.hook_result', index=[:, :, 7]) downstream_component=ModelComponent(hook_point_name='blocks.9.hook_mlp_in', index=[:]) with attribution 0.030001739040017128\n",
      "NOT PRUNING upstream_component=ModelComponent(hook_point_name='blocks.9.attn.hook_result', index=[:, :, 6]) downstream_component=ModelComponent(hook_point_name='blocks.11.hook_resid_post', index=[:]) with attribution 1.1260931491851807\n",
      "NOT PRUNING upstream_component=ModelComponent(hook_point_name='blocks.9.attn.hook_result', index=[:, :, 6]) downstream_component=ModelComponent(hook_point_name='blocks.11.hook_mlp_in', index=[:]) with attribution 0.013738466426730156\n"
     ]
    },
    {
     "name": "stderr",
     "output_type": "stream",
     "text": []
    },
    {
     "name": "stdout",
     "output_type": "stream",
     "text": [
      "NOT PRUNING upstream_component=ModelComponent(hook_point_name='blocks.9.attn.hook_result', index=[:, :, 6]) downstream_component=ModelComponent(hook_point_name='blocks.11.hook_v_input', index=[:, :, 3]) with attribution 0.013801299035549164\n",
      "NOT PRUNING upstream_component=ModelComponent(hook_point_name='blocks.9.attn.hook_result', index=[:, :, 6]) downstream_component=ModelComponent(hook_point_name='blocks.11.hook_q_input', index=[:, :, 10]) with attribution 0.36734116077423096\n",
      "NOT PRUNING upstream_component=ModelComponent(hook_point_name='blocks.9.attn.hook_result', index=[:, :, 6]) downstream_component=ModelComponent(hook_point_name='blocks.11.hook_q_input', index=[:, :, 9]) with attribution 0.011094317771494389\n",
      "NOT PRUNING upstream_component=ModelComponent(hook_point_name='blocks.9.attn.hook_result', index=[:, :, 6]) downstream_component=ModelComponent(hook_point_name='blocks.11.hook_q_input', index=[:, :, 6]) with attribution 0.05441734939813614\n",
      "NOT PRUNING upstream_component=ModelComponent(hook_point_name='blocks.9.attn.hook_result', index=[:, :, 6]) downstream_component=ModelComponent(hook_point_name='blocks.11.hook_q_input', index=[:, :, 3]) with attribution 0.013688159175217152\n",
      "NOT PRUNING upstream_component=ModelComponent(hook_point_name='blocks.9.attn.hook_result', index=[:, :, 6]) downstream_component=ModelComponent(hook_point_name='blocks.11.hook_q_input', index=[:, :, 2]) with attribution 0.14431224763393402\n",
      "NOT PRUNING upstream_component=ModelComponent(hook_point_name='blocks.9.attn.hook_result', index=[:, :, 6]) downstream_component=ModelComponent(hook_point_name='blocks.11.hook_q_input', index=[:, :, 1]) with attribution 0.03386325389146805\n",
      "NOT PRUNING upstream_component=ModelComponent(hook_point_name='blocks.9.attn.hook_result', index=[:, :, 6]) downstream_component=ModelComponent(hook_point_name='blocks.10.hook_mlp_in', index=[:]) with attribution 0.038296859711408615\n"
     ]
    },
    {
     "name": "stderr",
     "output_type": "stream",
     "text": []
    },
    {
     "name": "stdout",
     "output_type": "stream",
     "text": [
      "NOT PRUNING upstream_component=ModelComponent(hook_point_name='blocks.9.attn.hook_result', index=[:, :, 6]) downstream_component=ModelComponent(hook_point_name='blocks.10.hook_q_input', index=[:, :, 10]) with attribution 0.04536470025777817\n",
      "NOT PRUNING upstream_component=ModelComponent(hook_point_name='blocks.9.attn.hook_result', index=[:, :, 6]) downstream_component=ModelComponent(hook_point_name='blocks.10.hook_q_input', index=[:, :, 7]) with attribution 0.3215784728527069\n",
      "NOT PRUNING upstream_component=ModelComponent(hook_point_name='blocks.9.attn.hook_result', index=[:, :, 6]) downstream_component=ModelComponent(hook_point_name='blocks.10.hook_q_input', index=[:, :, 6]) with attribution 0.0675661563873291\n",
      "NOT PRUNING upstream_component=ModelComponent(hook_point_name='blocks.9.attn.hook_result', index=[:, :, 6]) downstream_component=ModelComponent(hook_point_name='blocks.10.hook_q_input', index=[:, :, 3]) with attribution 0.02122436836361885\n",
      "NOT PRUNING upstream_component=ModelComponent(hook_point_name='blocks.9.attn.hook_result', index=[:, :, 6]) downstream_component=ModelComponent(hook_point_name='blocks.10.hook_q_input', index=[:, :, 2]) with attribution 0.06572768837213516\n",
      "NOT PRUNING upstream_component=ModelComponent(hook_point_name='blocks.9.attn.hook_result', index=[:, :, 6]) downstream_component=ModelComponent(hook_point_name='blocks.10.hook_q_input', index=[:, :, 1]) with attribution 0.03503808006644249\n",
      "NOT PRUNING upstream_component=ModelComponent(hook_point_name='blocks.9.attn.hook_result', index=[:, :, 6]) downstream_component=ModelComponent(hook_point_name='blocks.10.hook_q_input', index=[:, :, 0]) with attribution 0.1989176720380783\n",
      "NOT PRUNING upstream_component=ModelComponent(hook_point_name='blocks.9.attn.hook_result', index=[:, :, 6]) downstream_component=ModelComponent(hook_point_name='blocks.9.hook_mlp_in', index=[:]) with attribution 0.009153267368674278\n"
     ]
    },
    {
     "name": "stderr",
     "output_type": "stream",
     "text": []
    },
    {
     "name": "stdout",
     "output_type": "stream",
     "text": [
      "NOT PRUNING upstream_component=ModelComponent(hook_point_name='blocks.9.attn.hook_result', index=[:, :, 5]) downstream_component=ModelComponent(hook_point_name='blocks.11.hook_resid_post', index=[:]) with attribution 0.04276439920067787\n",
      "NOT PRUNING upstream_component=ModelComponent(hook_point_name='blocks.9.attn.hook_result', index=[:, :, 5]) downstream_component=ModelComponent(hook_point_name='blocks.11.hook_mlp_in', index=[:]) with attribution 0.005584543105214834\n",
      "NOT PRUNING upstream_component=ModelComponent(hook_point_name='blocks.9.attn.hook_result', index=[:, :, 5]) downstream_component=ModelComponent(hook_point_name='blocks.11.hook_q_input', index=[:, :, 1]) with attribution 0.009225182235240936\n",
      "NOT PRUNING upstream_component=ModelComponent(hook_point_name='blocks.9.attn.hook_result', index=[:, :, 5]) downstream_component=ModelComponent(hook_point_name='blocks.10.hook_mlp_in', index=[:]) with attribution 0.005216349847614765\n"
     ]
    },
    {
     "name": "stderr",
     "output_type": "stream",
     "text": []
    },
    {
     "name": "stdout",
     "output_type": "stream",
     "text": [
      "NOT PRUNING upstream_component=ModelComponent(hook_point_name='blocks.9.attn.hook_result', index=[:, :, 5]) downstream_component=ModelComponent(hook_point_name='blocks.10.hook_q_input', index=[:, :, 2]) with attribution 0.007414138875901699\n",
      "NOT PRUNING upstream_component=ModelComponent(hook_point_name='blocks.9.attn.hook_result', index=[:, :, 5]) downstream_component=ModelComponent(hook_point_name='blocks.10.hook_q_input', index=[:, :, 0]) with attribution 0.0057306792587041855\n",
      "NOT PRUNING upstream_component=ModelComponent(hook_point_name='blocks.9.attn.hook_result', index=[:, :, 5]) downstream_component=ModelComponent(hook_point_name='blocks.9.hook_mlp_in', index=[:]) with attribution 0.009988267906010151\n",
      "NOT PRUNING upstream_component=ModelComponent(hook_point_name='blocks.9.attn.hook_result', index=[:, :, 4]) downstream_component=ModelComponent(hook_point_name='blocks.11.hook_resid_post', index=[:]) with attribution 0.027893690392374992\n"
     ]
    },
    {
     "name": "stderr",
     "output_type": "stream",
     "text": []
    },
    {
     "name": "stdout",
     "output_type": "stream",
     "text": [
      "NOT PRUNING upstream_component=ModelComponent(hook_point_name='blocks.9.attn.hook_result', index=[:, :, 4]) downstream_component=ModelComponent(hook_point_name='blocks.11.hook_k_input', index=[:, :, 10]) with attribution 0.006328715477138758\n",
      "NOT PRUNING upstream_component=ModelComponent(hook_point_name='blocks.9.attn.hook_result', index=[:, :, 4]) downstream_component=ModelComponent(hook_point_name='blocks.11.hook_q_input', index=[:, :, 10]) with attribution 0.012164655141532421\n",
      "NOT PRUNING upstream_component=ModelComponent(hook_point_name='blocks.9.attn.hook_result', index=[:, :, 4]) downstream_component=ModelComponent(hook_point_name='blocks.11.hook_q_input', index=[:, :, 6]) with attribution 0.007401822134852409\n",
      "NOT PRUNING upstream_component=ModelComponent(hook_point_name='blocks.9.attn.hook_result', index=[:, :, 4]) downstream_component=ModelComponent(hook_point_name='blocks.11.hook_q_input', index=[:, :, 2]) with attribution 0.02164515294134617\n",
      "NOT PRUNING upstream_component=ModelComponent(hook_point_name='blocks.9.attn.hook_result', index=[:, :, 4]) downstream_component=ModelComponent(hook_point_name='blocks.11.hook_q_input', index=[:, :, 1]) with attribution 0.008677465841174126\n",
      "NOT PRUNING upstream_component=ModelComponent(hook_point_name='blocks.9.attn.hook_result', index=[:, :, 4]) downstream_component=ModelComponent(hook_point_name='blocks.10.hook_mlp_in', index=[:]) with attribution 0.009382721967995167\n",
      "NOT PRUNING upstream_component=ModelComponent(hook_point_name='blocks.9.attn.hook_result', index=[:, :, 4]) downstream_component=ModelComponent(hook_point_name='blocks.10.hook_q_input', index=[:, :, 10]) with attribution 0.012740089558064938\n",
      "NOT PRUNING upstream_component=ModelComponent(hook_point_name='blocks.9.attn.hook_result', index=[:, :, 4]) downstream_component=ModelComponent(hook_point_name='blocks.10.hook_q_input', index=[:, :, 1]) with attribution 0.008421585895121098\n",
      "NOT PRUNING upstream_component=ModelComponent(hook_point_name='blocks.9.attn.hook_result', index=[:, :, 4]) downstream_component=ModelComponent(hook_point_name='blocks.10.hook_q_input', index=[:, :, 0]) with attribution 0.00959413405507803\n"
     ]
    },
    {
     "name": "stderr",
     "output_type": "stream",
     "text": []
    },
    {
     "name": "stdout",
     "output_type": "stream",
     "text": [
      "NOT PRUNING upstream_component=ModelComponent(hook_point_name='blocks.9.attn.hook_result', index=[:, :, 4]) downstream_component=ModelComponent(hook_point_name='blocks.9.hook_mlp_in', index=[:]) with attribution 0.012390428222715855\n",
      "NOT PRUNING upstream_component=ModelComponent(hook_point_name='blocks.9.attn.hook_result', index=[:, :, 3]) downstream_component=ModelComponent(hook_point_name='blocks.11.hook_resid_post', index=[:]) with attribution 0.008004231378436089\n",
      "NOT PRUNING upstream_component=ModelComponent(hook_point_name='blocks.9.attn.hook_result', index=[:, :, 3]) downstream_component=ModelComponent(hook_point_name='blocks.11.hook_mlp_in', index=[:]) with attribution 0.006217916030436754\n",
      "NOT PRUNING upstream_component=ModelComponent(hook_point_name='blocks.9.attn.hook_result', index=[:, :, 3]) downstream_component=ModelComponent(hook_point_name='blocks.11.hook_k_input', index=[:, :, 10]) with attribution 0.01733960025012493\n",
      "NOT PRUNING upstream_component=ModelComponent(hook_point_name='blocks.9.attn.hook_result', index=[:, :, 3]) downstream_component=ModelComponent(hook_point_name='blocks.11.hook_k_input', index=[:, :, 2]) with attribution 0.011076896451413631\n",
      "NOT PRUNING upstream_component=ModelComponent(hook_point_name='blocks.9.attn.hook_result', index=[:, :, 3]) downstream_component=ModelComponent(hook_point_name='blocks.11.hook_q_input', index=[:, :, 10]) with attribution 0.007978993467986584\n",
      "NOT PRUNING upstream_component=ModelComponent(hook_point_name='blocks.9.attn.hook_result', index=[:, :, 3]) downstream_component=ModelComponent(hook_point_name='blocks.11.hook_q_input', index=[:, :, 2]) with attribution 0.01384017989039421\n",
      "NOT PRUNING upstream_component=ModelComponent(hook_point_name='blocks.9.attn.hook_result', index=[:, :, 3]) downstream_component=ModelComponent(hook_point_name='blocks.10.hook_mlp_in', index=[:]) with attribution 0.007963141426444054\n",
      "NOT PRUNING upstream_component=ModelComponent(hook_point_name='blocks.9.attn.hook_result', index=[:, :, 3]) downstream_component=ModelComponent(hook_point_name='blocks.10.hook_k_input', index=[:, :, 7]) with attribution 0.005498870275914669\n",
      "NOT PRUNING upstream_component=ModelComponent(hook_point_name='blocks.9.attn.hook_result', index=[:, :, 3]) downstream_component=ModelComponent(hook_point_name='blocks.10.hook_k_input', index=[:, :, 2]) with attribution 0.011058389209210873\n",
      "NOT PRUNING upstream_component=ModelComponent(hook_point_name='blocks.9.attn.hook_result', index=[:, :, 3]) downstream_component=ModelComponent(hook_point_name='blocks.10.hook_k_input', index=[:, :, 0]) with attribution 0.007013537455350161\n",
      "NOT PRUNING upstream_component=ModelComponent(hook_point_name='blocks.9.attn.hook_result', index=[:, :, 3]) downstream_component=ModelComponent(hook_point_name='blocks.10.hook_q_input', index=[:, :, 10]) with attribution 0.008284326642751694\n"
     ]
    },
    {
     "name": "stderr",
     "output_type": "stream",
     "text": []
    },
    {
     "name": "stdout",
     "output_type": "stream",
     "text": [
      "NOT PRUNING upstream_component=ModelComponent(hook_point_name='blocks.9.attn.hook_result', index=[:, :, 3]) downstream_component=ModelComponent(hook_point_name='blocks.10.hook_q_input', index=[:, :, 7]) with attribution 0.015044448897242546\n",
      "NOT PRUNING upstream_component=ModelComponent(hook_point_name='blocks.9.attn.hook_result', index=[:, :, 3]) downstream_component=ModelComponent(hook_point_name='blocks.10.hook_q_input', index=[:, :, 6]) with attribution 0.01280918624252081\n",
      "NOT PRUNING upstream_component=ModelComponent(hook_point_name='blocks.9.attn.hook_result', index=[:, :, 3]) downstream_component=ModelComponent(hook_point_name='blocks.10.hook_q_input', index=[:, :, 2]) with attribution 0.008715861476957798\n",
      "NOT PRUNING upstream_component=ModelComponent(hook_point_name='blocks.9.attn.hook_result', index=[:, :, 3]) downstream_component=ModelComponent(hook_point_name='blocks.10.hook_q_input', index=[:, :, 0]) with attribution 0.022456558421254158\n",
      "NOT PRUNING upstream_component=ModelComponent(hook_point_name='blocks.9.attn.hook_result', index=[:, :, 3]) downstream_component=ModelComponent(hook_point_name='blocks.9.hook_mlp_in', index=[:]) with attribution 0.014040887355804443\n"
     ]
    },
    {
     "name": "stderr",
     "output_type": "stream",
     "text": []
    },
    {
     "name": "stdout",
     "output_type": "stream",
     "text": [
      "NOT PRUNING upstream_component=ModelComponent(hook_point_name='blocks.9.attn.hook_result', index=[:, :, 2]) downstream_component=ModelComponent(hook_point_name='blocks.11.hook_q_input', index=[:, :, 10]) with attribution 0.010263388976454735\n"
     ]
    },
    {
     "name": "stderr",
     "output_type": "stream",
     "text": []
    },
    {
     "name": "stdout",
     "output_type": "stream",
     "text": [
      "NOT PRUNING upstream_component=ModelComponent(hook_point_name='blocks.9.attn.hook_result', index=[:, :, 2]) downstream_component=ModelComponent(hook_point_name='blocks.10.hook_q_input', index=[:, :, 7]) with attribution 0.005087149329483509\n",
      "NOT PRUNING upstream_component=ModelComponent(hook_point_name='blocks.9.attn.hook_result', index=[:, :, 2]) downstream_component=ModelComponent(hook_point_name='blocks.10.hook_q_input', index=[:, :, 0]) with attribution 0.005418774671852589\n",
      "NOT PRUNING upstream_component=ModelComponent(hook_point_name='blocks.9.attn.hook_result', index=[:, :, 2]) downstream_component=ModelComponent(hook_point_name='blocks.9.hook_mlp_in', index=[:]) with attribution 0.007658238988369703\n"
     ]
    },
    {
     "name": "stderr",
     "output_type": "stream",
     "text": []
    },
    {
     "name": "stdout",
     "output_type": "stream",
     "text": [
      "NOT PRUNING upstream_component=ModelComponent(hook_point_name='blocks.9.attn.hook_result', index=[:, :, 0]) downstream_component=ModelComponent(hook_point_name='blocks.11.hook_resid_post', index=[:]) with attribution 0.028229335322976112\n",
      "NOT PRUNING upstream_component=ModelComponent(hook_point_name='blocks.9.attn.hook_result', index=[:, :, 0]) downstream_component=ModelComponent(hook_point_name='blocks.11.hook_v_input', index=[:, :, 3]) with attribution 0.0100148506462574\n",
      "NOT PRUNING upstream_component=ModelComponent(hook_point_name='blocks.9.attn.hook_result', index=[:, :, 0]) downstream_component=ModelComponent(hook_point_name='blocks.11.hook_k_input', index=[:, :, 2]) with attribution 0.005775598809123039\n",
      "NOT PRUNING upstream_component=ModelComponent(hook_point_name='blocks.9.attn.hook_result', index=[:, :, 0]) downstream_component=ModelComponent(hook_point_name='blocks.11.hook_q_input', index=[:, :, 10]) with attribution 0.006262456998229027\n",
      "NOT PRUNING upstream_component=ModelComponent(hook_point_name='blocks.9.attn.hook_result', index=[:, :, 0]) downstream_component=ModelComponent(hook_point_name='blocks.11.hook_q_input', index=[:, :, 2]) with attribution 0.010637892410159111\n",
      "NOT PRUNING upstream_component=ModelComponent(hook_point_name='blocks.9.attn.hook_result', index=[:, :, 0]) downstream_component=ModelComponent(hook_point_name='blocks.10.hook_mlp_in', index=[:]) with attribution 0.006492408458143473\n",
      "NOT PRUNING upstream_component=ModelComponent(hook_point_name='blocks.9.attn.hook_result', index=[:, :, 0]) downstream_component=ModelComponent(hook_point_name='blocks.10.hook_q_input', index=[:, :, 7]) with attribution 0.01606903411448002\n",
      "NOT PRUNING upstream_component=ModelComponent(hook_point_name='blocks.9.attn.hook_result', index=[:, :, 0]) downstream_component=ModelComponent(hook_point_name='blocks.10.hook_q_input', index=[:, :, 0]) with attribution 0.00515407882630825\n"
     ]
    },
    {
     "name": "stderr",
     "output_type": "stream",
     "text": []
    },
    {
     "name": "stdout",
     "output_type": "stream",
     "text": [
      "NOT PRUNING upstream_component=ModelComponent(hook_point_name='blocks.9.attn.hook_result', index=[:, :, 0]) downstream_component=ModelComponent(hook_point_name='blocks.9.hook_mlp_in', index=[:]) with attribution 0.028274351730942726\n",
      "NOT PRUNING upstream_component=ModelComponent(hook_point_name='blocks.8.hook_mlp_out', index=[:]) downstream_component=ModelComponent(hook_point_name='blocks.11.hook_resid_post', index=[:]) with attribution 0.006061548367142677\n",
      "NOT PRUNING upstream_component=ModelComponent(hook_point_name='blocks.8.hook_mlp_out', index=[:]) downstream_component=ModelComponent(hook_point_name='blocks.11.hook_mlp_in', index=[:]) with attribution 0.02806357480585575\n",
      "NOT PRUNING upstream_component=ModelComponent(hook_point_name='blocks.8.hook_mlp_out', index=[:]) downstream_component=ModelComponent(hook_point_name='blocks.11.hook_v_input', index=[:, :, 10]) with attribution 0.02731304056942463\n",
      "NOT PRUNING upstream_component=ModelComponent(hook_point_name='blocks.8.hook_mlp_out', index=[:]) downstream_component=ModelComponent(hook_point_name='blocks.11.hook_v_input', index=[:, :, 2]) with attribution 0.007757933810353279\n",
      "NOT PRUNING upstream_component=ModelComponent(hook_point_name='blocks.8.hook_mlp_out', index=[:]) downstream_component=ModelComponent(hook_point_name='blocks.11.hook_k_input', index=[:, :, 10]) with attribution 0.08299895375967026\n",
      "NOT PRUNING upstream_component=ModelComponent(hook_point_name='blocks.8.hook_mlp_out', index=[:]) downstream_component=ModelComponent(hook_point_name='blocks.11.hook_k_input', index=[:, :, 6]) with attribution 0.012659861706197262\n",
      "NOT PRUNING upstream_component=ModelComponent(hook_point_name='blocks.8.hook_mlp_out', index=[:]) downstream_component=ModelComponent(hook_point_name='blocks.11.hook_k_input', index=[:, :, 2]) with attribution 0.036884989589452744\n",
      "NOT PRUNING upstream_component=ModelComponent(hook_point_name='blocks.8.hook_mlp_out', index=[:]) downstream_component=ModelComponent(hook_point_name='blocks.11.hook_q_input', index=[:, :, 11]) with attribution 0.006008210126310587\n",
      "NOT PRUNING upstream_component=ModelComponent(hook_point_name='blocks.8.hook_mlp_out', index=[:]) downstream_component=ModelComponent(hook_point_name='blocks.11.hook_q_input', index=[:, :, 10]) with attribution 0.005665686912834644\n",
      "NOT PRUNING upstream_component=ModelComponent(hook_point_name='blocks.8.hook_mlp_out', index=[:]) downstream_component=ModelComponent(hook_point_name='blocks.11.hook_q_input', index=[:, :, 6]) with attribution 0.008384354412555695\n",
      "NOT PRUNING upstream_component=ModelComponent(hook_point_name='blocks.8.hook_mlp_out', index=[:]) downstream_component=ModelComponent(hook_point_name='blocks.11.hook_q_input', index=[:, :, 3]) with attribution 0.0056237718090415\n",
      "NOT PRUNING upstream_component=ModelComponent(hook_point_name='blocks.8.hook_mlp_out', index=[:]) downstream_component=ModelComponent(hook_point_name='blocks.11.hook_q_input', index=[:, :, 2]) with attribution 0.02461998537182808\n",
      "NOT PRUNING upstream_component=ModelComponent(hook_point_name='blocks.8.hook_mlp_out', index=[:]) downstream_component=ModelComponent(hook_point_name='blocks.10.hook_mlp_in', index=[:]) with attribution 0.05188661068677902\n",
      "NOT PRUNING upstream_component=ModelComponent(hook_point_name='blocks.8.hook_mlp_out', index=[:]) downstream_component=ModelComponent(hook_point_name='blocks.10.hook_v_input', index=[:, :, 7]) with attribution 0.006960035301744938\n",
      "NOT PRUNING upstream_component=ModelComponent(hook_point_name='blocks.8.hook_mlp_out', index=[:]) downstream_component=ModelComponent(hook_point_name='blocks.10.hook_v_input', index=[:, :, 2]) with attribution 0.0062321871519088745\n",
      "NOT PRUNING upstream_component=ModelComponent(hook_point_name='blocks.8.hook_mlp_out', index=[:]) downstream_component=ModelComponent(hook_point_name='blocks.10.hook_v_input', index=[:, :, 1]) with attribution 0.009790781885385513\n",
      "NOT PRUNING upstream_component=ModelComponent(hook_point_name='blocks.8.hook_mlp_out', index=[:]) downstream_component=ModelComponent(hook_point_name='blocks.10.hook_k_input', index=[:, :, 7]) with attribution 0.07498303800821304\n",
      "NOT PRUNING upstream_component=ModelComponent(hook_point_name='blocks.8.hook_mlp_out', index=[:]) downstream_component=ModelComponent(hook_point_name='blocks.10.hook_k_input', index=[:, :, 6]) with attribution 0.007947451435029507\n",
      "NOT PRUNING upstream_component=ModelComponent(hook_point_name='blocks.8.hook_mlp_out', index=[:]) downstream_component=ModelComponent(hook_point_name='blocks.10.hook_k_input', index=[:, :, 3]) with attribution 0.0069520920515060425\n",
      "NOT PRUNING upstream_component=ModelComponent(hook_point_name='blocks.8.hook_mlp_out', index=[:]) downstream_component=ModelComponent(hook_point_name='blocks.10.hook_k_input', index=[:, :, 2]) with attribution 0.008160899393260479\n",
      "NOT PRUNING upstream_component=ModelComponent(hook_point_name='blocks.8.hook_mlp_out', index=[:]) downstream_component=ModelComponent(hook_point_name='blocks.10.hook_k_input', index=[:, :, 1]) with attribution 0.008637148886919022\n",
      "NOT PRUNING upstream_component=ModelComponent(hook_point_name='blocks.8.hook_mlp_out', index=[:]) downstream_component=ModelComponent(hook_point_name='blocks.10.hook_k_input', index=[:, :, 0]) with attribution 0.01694132760167122\n",
      "NOT PRUNING upstream_component=ModelComponent(hook_point_name='blocks.8.hook_mlp_out', index=[:]) downstream_component=ModelComponent(hook_point_name='blocks.10.hook_q_input', index=[:, :, 7]) with attribution 0.021980412304401398\n",
      "NOT PRUNING upstream_component=ModelComponent(hook_point_name='blocks.8.hook_mlp_out', index=[:]) downstream_component=ModelComponent(hook_point_name='blocks.10.hook_q_input', index=[:, :, 6]) with attribution 0.0059126983396708965\n",
      "NOT PRUNING upstream_component=ModelComponent(hook_point_name='blocks.8.hook_mlp_out', index=[:]) downstream_component=ModelComponent(hook_point_name='blocks.10.hook_q_input', index=[:, :, 1]) with attribution 0.010657763108611107\n",
      "NOT PRUNING upstream_component=ModelComponent(hook_point_name='blocks.8.hook_mlp_out', index=[:]) downstream_component=ModelComponent(hook_point_name='blocks.10.hook_q_input', index=[:, :, 0]) with attribution 0.014952648431062698\n",
      "NOT PRUNING upstream_component=ModelComponent(hook_point_name='blocks.8.hook_mlp_out', index=[:]) downstream_component=ModelComponent(hook_point_name='blocks.9.hook_mlp_in', index=[:]) with attribution 0.01054343767464161\n",
      "NOT PRUNING upstream_component=ModelComponent(hook_point_name='blocks.8.hook_mlp_out', index=[:]) downstream_component=ModelComponent(hook_point_name='blocks.9.hook_v_input', index=[:, :, 6]) with attribution 0.021508004516363144\n",
      "NOT PRUNING upstream_component=ModelComponent(hook_point_name='blocks.8.hook_mlp_out', index=[:]) downstream_component=ModelComponent(hook_point_name='blocks.9.hook_v_input', index=[:, :, 4]) with attribution 0.00797363743185997\n",
      "NOT PRUNING upstream_component=ModelComponent(hook_point_name='blocks.8.hook_mlp_out', index=[:]) downstream_component=ModelComponent(hook_point_name='blocks.9.hook_k_input', index=[:, :, 9]) with attribution 0.01918080821633339\n",
      "NOT PRUNING upstream_component=ModelComponent(hook_point_name='blocks.8.hook_mlp_out', index=[:]) downstream_component=ModelComponent(hook_point_name='blocks.9.hook_k_input', index=[:, :, 7]) with attribution 0.0741143673658371\n",
      "NOT PRUNING upstream_component=ModelComponent(hook_point_name='blocks.8.hook_mlp_out', index=[:]) downstream_component=ModelComponent(hook_point_name='blocks.9.hook_k_input', index=[:, :, 6]) with attribution 0.013649603351950645\n",
      "NOT PRUNING upstream_component=ModelComponent(hook_point_name='blocks.8.hook_mlp_out', index=[:]) downstream_component=ModelComponent(hook_point_name='blocks.9.hook_k_input', index=[:, :, 4]) with attribution 0.007989006116986275\n"
     ]
    },
    {
     "name": "stderr",
     "output_type": "stream",
     "text": []
    },
    {
     "name": "stdout",
     "output_type": "stream",
     "text": [
      "NOT PRUNING upstream_component=ModelComponent(hook_point_name='blocks.8.hook_mlp_out', index=[:]) downstream_component=ModelComponent(hook_point_name='blocks.9.hook_q_input', index=[:, :, 9]) with attribution 0.009709147736430168\n",
      "NOT PRUNING upstream_component=ModelComponent(hook_point_name='blocks.8.hook_mlp_out', index=[:]) downstream_component=ModelComponent(hook_point_name='blocks.9.hook_q_input', index=[:, :, 8]) with attribution 0.011655136942863464\n",
      "NOT PRUNING upstream_component=ModelComponent(hook_point_name='blocks.8.hook_mlp_out', index=[:]) downstream_component=ModelComponent(hook_point_name='blocks.9.hook_q_input', index=[:, :, 6]) with attribution 0.00884290225803852\n",
      "NOT PRUNING upstream_component=ModelComponent(hook_point_name='blocks.8.hook_mlp_out', index=[:]) downstream_component=ModelComponent(hook_point_name='blocks.9.hook_q_input', index=[:, :, 4]) with attribution 0.05317182093858719\n",
      "NOT PRUNING upstream_component=ModelComponent(hook_point_name='blocks.8.hook_mlp_out', index=[:]) downstream_component=ModelComponent(hook_point_name='blocks.9.hook_q_input', index=[:, :, 2]) with attribution 0.006895351689308882\n",
      "NOT PRUNING upstream_component=ModelComponent(hook_point_name='blocks.8.hook_mlp_out', index=[:]) downstream_component=ModelComponent(hook_point_name='blocks.9.hook_q_input', index=[:, :, 0]) with attribution 0.009683092124760151\n",
      "NOT PRUNING upstream_component=ModelComponent(hook_point_name='blocks.8.attn.hook_result', index=[:, :, 11]) downstream_component=ModelComponent(hook_point_name='blocks.11.hook_resid_post', index=[:]) with attribution 0.023393765091896057\n",
      "NOT PRUNING upstream_component=ModelComponent(hook_point_name='blocks.8.attn.hook_result', index=[:, :, 11]) downstream_component=ModelComponent(hook_point_name='blocks.11.hook_q_input', index=[:, :, 10]) with attribution 0.022271182388067245\n",
      "NOT PRUNING upstream_component=ModelComponent(hook_point_name='blocks.8.attn.hook_result', index=[:, :, 11]) downstream_component=ModelComponent(hook_point_name='blocks.9.hook_mlp_in', index=[:]) with attribution 0.010338488034904003\n",
      "NOT PRUNING upstream_component=ModelComponent(hook_point_name='blocks.8.attn.hook_result', index=[:, :, 11]) downstream_component=ModelComponent(hook_point_name='blocks.9.hook_k_input', index=[:, :, 4]) with attribution 0.00580686004832387\n",
      "NOT PRUNING upstream_component=ModelComponent(hook_point_name='blocks.8.attn.hook_result', index=[:, :, 11]) downstream_component=ModelComponent(hook_point_name='blocks.9.hook_q_input', index=[:, :, 9]) with attribution 0.005747883580625057\n"
     ]
    },
    {
     "name": "stderr",
     "output_type": "stream",
     "text": []
    },
    {
     "name": "stdout",
     "output_type": "stream",
     "text": [
      "NOT PRUNING upstream_component=ModelComponent(hook_point_name='blocks.8.attn.hook_result', index=[:, :, 11]) downstream_component=ModelComponent(hook_point_name='blocks.9.hook_q_input', index=[:, :, 7]) with attribution 0.01083659753203392\n"
     ]
    },
    {
     "name": "stderr",
     "output_type": "stream",
     "text": []
    },
    {
     "name": "stdout",
     "output_type": "stream",
     "text": [
      "NOT PRUNING upstream_component=ModelComponent(hook_point_name='blocks.8.attn.hook_result', index=[:, :, 10]) downstream_component=ModelComponent(hook_point_name='blocks.11.hook_resid_post', index=[:]) with attribution 0.23447084426879883\n",
      "NOT PRUNING upstream_component=ModelComponent(hook_point_name='blocks.8.attn.hook_result', index=[:, :, 10]) downstream_component=ModelComponent(hook_point_name='blocks.11.hook_k_input', index=[:, :, 10]) with attribution 0.011355819180607796\n",
      "NOT PRUNING upstream_component=ModelComponent(hook_point_name='blocks.8.attn.hook_result', index=[:, :, 10]) downstream_component=ModelComponent(hook_point_name='blocks.11.hook_q_input', index=[:, :, 11]) with attribution 0.006517969071865082\n",
      "NOT PRUNING upstream_component=ModelComponent(hook_point_name='blocks.8.attn.hook_result', index=[:, :, 10]) downstream_component=ModelComponent(hook_point_name='blocks.11.hook_q_input', index=[:, :, 10]) with attribution 0.0950474813580513\n",
      "NOT PRUNING upstream_component=ModelComponent(hook_point_name='blocks.8.attn.hook_result', index=[:, :, 10]) downstream_component=ModelComponent(hook_point_name='blocks.11.hook_q_input', index=[:, :, 9]) with attribution 0.029428448528051376\n",
      "NOT PRUNING upstream_component=ModelComponent(hook_point_name='blocks.8.attn.hook_result', index=[:, :, 10]) downstream_component=ModelComponent(hook_point_name='blocks.11.hook_q_input', index=[:, :, 6]) with attribution 0.05957341939210892\n",
      "NOT PRUNING upstream_component=ModelComponent(hook_point_name='blocks.8.attn.hook_result', index=[:, :, 10]) downstream_component=ModelComponent(hook_point_name='blocks.11.hook_q_input', index=[:, :, 2]) with attribution 0.1406528800725937\n",
      "NOT PRUNING upstream_component=ModelComponent(hook_point_name='blocks.8.attn.hook_result', index=[:, :, 10]) downstream_component=ModelComponent(hook_point_name='blocks.11.hook_q_input', index=[:, :, 1]) with attribution 0.06247036159038544\n",
      "NOT PRUNING upstream_component=ModelComponent(hook_point_name='blocks.8.attn.hook_result', index=[:, :, 10]) downstream_component=ModelComponent(hook_point_name='blocks.10.hook_mlp_in', index=[:]) with attribution 0.02714236080646515\n",
      "NOT PRUNING upstream_component=ModelComponent(hook_point_name='blocks.8.attn.hook_result', index=[:, :, 10]) downstream_component=ModelComponent(hook_point_name='blocks.10.hook_k_input', index=[:, :, 7]) with attribution 0.010999785736203194\n",
      "NOT PRUNING upstream_component=ModelComponent(hook_point_name='blocks.8.attn.hook_result', index=[:, :, 10]) downstream_component=ModelComponent(hook_point_name='blocks.10.hook_k_input', index=[:, :, 0]) with attribution 0.006537661422044039\n",
      "NOT PRUNING upstream_component=ModelComponent(hook_point_name='blocks.8.attn.hook_result', index=[:, :, 10]) downstream_component=ModelComponent(hook_point_name='blocks.10.hook_q_input', index=[:, :, 10]) with attribution 0.026804685592651367\n",
      "NOT PRUNING upstream_component=ModelComponent(hook_point_name='blocks.8.attn.hook_result', index=[:, :, 10]) downstream_component=ModelComponent(hook_point_name='blocks.10.hook_q_input', index=[:, :, 7]) with attribution 0.09122266620397568\n",
      "NOT PRUNING upstream_component=ModelComponent(hook_point_name='blocks.8.attn.hook_result', index=[:, :, 10]) downstream_component=ModelComponent(hook_point_name='blocks.10.hook_q_input', index=[:, :, 6]) with attribution 0.08125106245279312\n",
      "NOT PRUNING upstream_component=ModelComponent(hook_point_name='blocks.8.attn.hook_result', index=[:, :, 10]) downstream_component=ModelComponent(hook_point_name='blocks.10.hook_q_input', index=[:, :, 2]) with attribution 0.09575937688350677\n",
      "NOT PRUNING upstream_component=ModelComponent(hook_point_name='blocks.8.attn.hook_result', index=[:, :, 10]) downstream_component=ModelComponent(hook_point_name='blocks.10.hook_q_input', index=[:, :, 1]) with attribution 0.03937537968158722\n",
      "NOT PRUNING upstream_component=ModelComponent(hook_point_name='blocks.8.attn.hook_result', index=[:, :, 10]) downstream_component=ModelComponent(hook_point_name='blocks.10.hook_q_input', index=[:, :, 0]) with attribution 0.16031858325004578\n",
      "NOT PRUNING upstream_component=ModelComponent(hook_point_name='blocks.8.attn.hook_result', index=[:, :, 10]) downstream_component=ModelComponent(hook_point_name='blocks.9.hook_mlp_in', index=[:]) with attribution 0.011349355801939964\n",
      "NOT PRUNING upstream_component=ModelComponent(hook_point_name='blocks.8.attn.hook_result', index=[:, :, 10]) downstream_component=ModelComponent(hook_point_name='blocks.9.hook_v_input', index=[:, :, 5]) with attribution 0.008095228113234043\n",
      "NOT PRUNING upstream_component=ModelComponent(hook_point_name='blocks.8.attn.hook_result', index=[:, :, 10]) downstream_component=ModelComponent(hook_point_name='blocks.9.hook_v_input', index=[:, :, 3]) with attribution 0.038399312645196915\n",
      "NOT PRUNING upstream_component=ModelComponent(hook_point_name='blocks.8.attn.hook_result', index=[:, :, 10]) downstream_component=ModelComponent(hook_point_name='blocks.9.hook_k_input', index=[:, :, 7]) with attribution 0.017370181158185005\n",
      "NOT PRUNING upstream_component=ModelComponent(hook_point_name='blocks.8.attn.hook_result', index=[:, :, 10]) downstream_component=ModelComponent(hook_point_name='blocks.9.hook_k_input', index=[:, :, 4]) with attribution 0.012497360818088055\n",
      "NOT PRUNING upstream_component=ModelComponent(hook_point_name='blocks.8.attn.hook_result', index=[:, :, 10]) downstream_component=ModelComponent(hook_point_name='blocks.9.hook_k_input', index=[:, :, 3]) with attribution 0.0056888083927333355\n",
      "NOT PRUNING upstream_component=ModelComponent(hook_point_name='blocks.8.attn.hook_result', index=[:, :, 10]) downstream_component=ModelComponent(hook_point_name='blocks.9.hook_q_input', index=[:, :, 9]) with attribution 0.12909141182899475\n",
      "NOT PRUNING upstream_component=ModelComponent(hook_point_name='blocks.8.attn.hook_result', index=[:, :, 10]) downstream_component=ModelComponent(hook_point_name='blocks.9.hook_q_input', index=[:, :, 8]) with attribution 0.008970297873020172\n",
      "NOT PRUNING upstream_component=ModelComponent(hook_point_name='blocks.8.attn.hook_result', index=[:, :, 10]) downstream_component=ModelComponent(hook_point_name='blocks.9.hook_q_input', index=[:, :, 7]) with attribution 0.06915467232465744\n",
      "NOT PRUNING upstream_component=ModelComponent(hook_point_name='blocks.8.attn.hook_result', index=[:, :, 10]) downstream_component=ModelComponent(hook_point_name='blocks.9.hook_q_input', index=[:, :, 6]) with attribution 0.0185155738145113\n"
     ]
    },
    {
     "name": "stderr",
     "output_type": "stream",
     "text": []
    },
    {
     "name": "stdout",
     "output_type": "stream",
     "text": [
      "NOT PRUNING upstream_component=ModelComponent(hook_point_name='blocks.8.attn.hook_result', index=[:, :, 10]) downstream_component=ModelComponent(hook_point_name='blocks.9.hook_q_input', index=[:, :, 5]) with attribution 0.006075928919017315\n",
      "NOT PRUNING upstream_component=ModelComponent(hook_point_name='blocks.8.attn.hook_result', index=[:, :, 10]) downstream_component=ModelComponent(hook_point_name='blocks.9.hook_q_input', index=[:, :, 4]) with attribution 0.015923768281936646\n",
      "NOT PRUNING upstream_component=ModelComponent(hook_point_name='blocks.8.attn.hook_result', index=[:, :, 10]) downstream_component=ModelComponent(hook_point_name='blocks.9.hook_q_input', index=[:, :, 3]) with attribution 0.008482891134917736\n",
      "NOT PRUNING upstream_component=ModelComponent(hook_point_name='blocks.8.attn.hook_result', index=[:, :, 10]) downstream_component=ModelComponent(hook_point_name='blocks.9.hook_q_input', index=[:, :, 2]) with attribution 0.007684619631618261\n",
      "NOT PRUNING upstream_component=ModelComponent(hook_point_name='blocks.8.attn.hook_result', index=[:, :, 10]) downstream_component=ModelComponent(hook_point_name='blocks.9.hook_q_input', index=[:, :, 0]) with attribution 0.010504904203116894\n",
      "NOT PRUNING upstream_component=ModelComponent(hook_point_name='blocks.8.attn.hook_result', index=[:, :, 10]) downstream_component=ModelComponent(hook_point_name='blocks.8.hook_mlp_in', index=[:]) with attribution 0.009455455467104912\n"
     ]
    },
    {
     "name": "stderr",
     "output_type": "stream",
     "text": []
    },
    {
     "name": "stdout",
     "output_type": "stream",
     "text": [
      "NOT PRUNING upstream_component=ModelComponent(hook_point_name='blocks.8.attn.hook_result', index=[:, :, 9]) downstream_component=ModelComponent(hook_point_name='blocks.11.hook_q_input', index=[:, :, 10]) with attribution 0.006656690500676632\n",
      "NOT PRUNING upstream_component=ModelComponent(hook_point_name='blocks.8.attn.hook_result', index=[:, :, 9]) downstream_component=ModelComponent(hook_point_name='blocks.10.hook_q_input', index=[:, :, 0]) with attribution 0.006345751229673624\n"
     ]
    },
    {
     "name": "stderr",
     "output_type": "stream",
     "text": []
    },
    {
     "name": "stdout",
     "output_type": "stream",
     "text": [
      "NOT PRUNING upstream_component=ModelComponent(hook_point_name='blocks.8.attn.hook_result', index=[:, :, 9]) downstream_component=ModelComponent(hook_point_name='blocks.8.hook_mlp_in', index=[:]) with attribution 0.009606233797967434\n",
      "NOT PRUNING upstream_component=ModelComponent(hook_point_name='blocks.8.attn.hook_result', index=[:, :, 8]) downstream_component=ModelComponent(hook_point_name='blocks.11.hook_resid_post', index=[:]) with attribution 0.04200655221939087\n",
      "NOT PRUNING upstream_component=ModelComponent(hook_point_name='blocks.8.attn.hook_result', index=[:, :, 8]) downstream_component=ModelComponent(hook_point_name='blocks.11.hook_q_input', index=[:, :, 10]) with attribution 0.014873214066028595\n",
      "NOT PRUNING upstream_component=ModelComponent(hook_point_name='blocks.8.attn.hook_result', index=[:, :, 8]) downstream_component=ModelComponent(hook_point_name='blocks.10.hook_k_input', index=[:, :, 0]) with attribution 0.00516931340098381\n",
      "NOT PRUNING upstream_component=ModelComponent(hook_point_name='blocks.8.attn.hook_result', index=[:, :, 8]) downstream_component=ModelComponent(hook_point_name='blocks.10.hook_q_input', index=[:, :, 7]) with attribution 0.008133028633892536\n",
      "NOT PRUNING upstream_component=ModelComponent(hook_point_name='blocks.8.attn.hook_result', index=[:, :, 8]) downstream_component=ModelComponent(hook_point_name='blocks.9.hook_mlp_in', index=[:]) with attribution 0.005437855143100023\n"
     ]
    },
    {
     "name": "stderr",
     "output_type": "stream",
     "text": []
    },
    {
     "name": "stdout",
     "output_type": "stream",
     "text": [
      "NOT PRUNING upstream_component=ModelComponent(hook_point_name='blocks.8.attn.hook_result', index=[:, :, 8]) downstream_component=ModelComponent(hook_point_name='blocks.9.hook_q_input', index=[:, :, 4]) with attribution 0.007245799992233515\n",
      "NOT PRUNING upstream_component=ModelComponent(hook_point_name='blocks.8.attn.hook_result', index=[:, :, 8]) downstream_component=ModelComponent(hook_point_name='blocks.8.hook_mlp_in', index=[:]) with attribution 0.014691577292978764\n"
     ]
    },
    {
     "name": "stderr",
     "output_type": "stream",
     "text": []
    },
    {
     "name": "stdout",
     "output_type": "stream",
     "text": [
      "NOT PRUNING upstream_component=ModelComponent(hook_point_name='blocks.8.attn.hook_result', index=[:, :, 6]) downstream_component=ModelComponent(hook_point_name='blocks.11.hook_resid_post', index=[:]) with attribution 0.13992081582546234\n",
      "NOT PRUNING upstream_component=ModelComponent(hook_point_name='blocks.8.attn.hook_result', index=[:, :, 6]) downstream_component=ModelComponent(hook_point_name='blocks.11.hook_mlp_in', index=[:]) with attribution 0.06586046516895294\n",
      "NOT PRUNING upstream_component=ModelComponent(hook_point_name='blocks.8.attn.hook_result', index=[:, :, 6]) downstream_component=ModelComponent(hook_point_name='blocks.11.hook_k_input', index=[:, :, 10]) with attribution 0.006348954979330301\n",
      "NOT PRUNING upstream_component=ModelComponent(hook_point_name='blocks.8.attn.hook_result', index=[:, :, 6]) downstream_component=ModelComponent(hook_point_name='blocks.11.hook_k_input', index=[:, :, 3]) with attribution 0.0064101810567080975\n",
      "NOT PRUNING upstream_component=ModelComponent(hook_point_name='blocks.8.attn.hook_result', index=[:, :, 6]) downstream_component=ModelComponent(hook_point_name='blocks.11.hook_q_input', index=[:, :, 10]) with attribution 0.014108685776591301\n",
      "NOT PRUNING upstream_component=ModelComponent(hook_point_name='blocks.8.attn.hook_result', index=[:, :, 6]) downstream_component=ModelComponent(hook_point_name='blocks.11.hook_q_input', index=[:, :, 6]) with attribution 0.04758577048778534\n",
      "NOT PRUNING upstream_component=ModelComponent(hook_point_name='blocks.8.attn.hook_result', index=[:, :, 6]) downstream_component=ModelComponent(hook_point_name='blocks.11.hook_q_input', index=[:, :, 5]) with attribution 0.006622386164963245\n",
      "NOT PRUNING upstream_component=ModelComponent(hook_point_name='blocks.8.attn.hook_result', index=[:, :, 6]) downstream_component=ModelComponent(hook_point_name='blocks.11.hook_q_input', index=[:, :, 1]) with attribution 0.005457752384245396\n",
      "NOT PRUNING upstream_component=ModelComponent(hook_point_name='blocks.8.attn.hook_result', index=[:, :, 6]) downstream_component=ModelComponent(hook_point_name='blocks.10.hook_mlp_in', index=[:]) with attribution 0.02328726276755333\n",
      "NOT PRUNING upstream_component=ModelComponent(hook_point_name='blocks.8.attn.hook_result', index=[:, :, 6]) downstream_component=ModelComponent(hook_point_name='blocks.10.hook_q_input', index=[:, :, 10]) with attribution 0.07257033884525299\n",
      "NOT PRUNING upstream_component=ModelComponent(hook_point_name='blocks.8.attn.hook_result', index=[:, :, 6]) downstream_component=ModelComponent(hook_point_name='blocks.10.hook_q_input', index=[:, :, 7]) with attribution 0.056698888540267944\n",
      "NOT PRUNING upstream_component=ModelComponent(hook_point_name='blocks.8.attn.hook_result', index=[:, :, 6]) downstream_component=ModelComponent(hook_point_name='blocks.10.hook_q_input', index=[:, :, 6]) with attribution 0.09897567331790924\n",
      "NOT PRUNING upstream_component=ModelComponent(hook_point_name='blocks.8.attn.hook_result', index=[:, :, 6]) downstream_component=ModelComponent(hook_point_name='blocks.10.hook_q_input', index=[:, :, 3]) with attribution 0.021041354164481163\n",
      "NOT PRUNING upstream_component=ModelComponent(hook_point_name='blocks.8.attn.hook_result', index=[:, :, 6]) downstream_component=ModelComponent(hook_point_name='blocks.10.hook_q_input', index=[:, :, 2]) with attribution 0.040963687002658844\n",
      "NOT PRUNING upstream_component=ModelComponent(hook_point_name='blocks.8.attn.hook_result', index=[:, :, 6]) downstream_component=ModelComponent(hook_point_name='blocks.10.hook_q_input', index=[:, :, 1]) with attribution 0.07580642402172089\n",
      "NOT PRUNING upstream_component=ModelComponent(hook_point_name='blocks.8.attn.hook_result', index=[:, :, 6]) downstream_component=ModelComponent(hook_point_name='blocks.10.hook_q_input', index=[:, :, 0]) with attribution 0.20119653642177582\n",
      "NOT PRUNING upstream_component=ModelComponent(hook_point_name='blocks.8.attn.hook_result', index=[:, :, 6]) downstream_component=ModelComponent(hook_point_name='blocks.9.hook_mlp_in', index=[:]) with attribution 0.020643601194024086\n",
      "NOT PRUNING upstream_component=ModelComponent(hook_point_name='blocks.8.attn.hook_result', index=[:, :, 6]) downstream_component=ModelComponent(hook_point_name='blocks.9.hook_v_input', index=[:, :, 3]) with attribution 0.016216935589909554\n",
      "NOT PRUNING upstream_component=ModelComponent(hook_point_name='blocks.8.attn.hook_result', index=[:, :, 6]) downstream_component=ModelComponent(hook_point_name='blocks.9.hook_k_input', index=[:, :, 4]) with attribution 0.00815160945057869\n",
      "NOT PRUNING upstream_component=ModelComponent(hook_point_name='blocks.8.attn.hook_result', index=[:, :, 6]) downstream_component=ModelComponent(hook_point_name='blocks.9.hook_q_input', index=[:, :, 9]) with attribution 0.2005770355463028\n",
      "NOT PRUNING upstream_component=ModelComponent(hook_point_name='blocks.8.attn.hook_result', index=[:, :, 6]) downstream_component=ModelComponent(hook_point_name='blocks.9.hook_q_input', index=[:, :, 8]) with attribution 0.008349115028977394\n",
      "NOT PRUNING upstream_component=ModelComponent(hook_point_name='blocks.8.attn.hook_result', index=[:, :, 6]) downstream_component=ModelComponent(hook_point_name='blocks.9.hook_q_input', index=[:, :, 7]) with attribution 0.025884415954351425\n",
      "NOT PRUNING upstream_component=ModelComponent(hook_point_name='blocks.8.attn.hook_result', index=[:, :, 6]) downstream_component=ModelComponent(hook_point_name='blocks.9.hook_q_input', index=[:, :, 6]) with attribution 0.04649878665804863\n",
      "NOT PRUNING upstream_component=ModelComponent(hook_point_name='blocks.8.attn.hook_result', index=[:, :, 6]) downstream_component=ModelComponent(hook_point_name='blocks.9.hook_q_input', index=[:, :, 4]) with attribution 0.021984590217471123\n",
      "NOT PRUNING upstream_component=ModelComponent(hook_point_name='blocks.8.attn.hook_result', index=[:, :, 6]) downstream_component=ModelComponent(hook_point_name='blocks.9.hook_q_input', index=[:, :, 3]) with attribution 0.005610921420156956\n",
      "NOT PRUNING upstream_component=ModelComponent(hook_point_name='blocks.8.attn.hook_result', index=[:, :, 6]) downstream_component=ModelComponent(hook_point_name='blocks.9.hook_q_input', index=[:, :, 2]) with attribution 0.00819032546132803\n"
     ]
    },
    {
     "name": "stderr",
     "output_type": "stream",
     "text": []
    },
    {
     "name": "stdout",
     "output_type": "stream",
     "text": [
      "NOT PRUNING upstream_component=ModelComponent(hook_point_name='blocks.8.attn.hook_result', index=[:, :, 6]) downstream_component=ModelComponent(hook_point_name='blocks.8.hook_mlp_in', index=[:]) with attribution 0.1646173894405365\n",
      "NOT PRUNING upstream_component=ModelComponent(hook_point_name='blocks.8.attn.hook_result', index=[:, :, 5]) downstream_component=ModelComponent(hook_point_name='blocks.11.hook_resid_post', index=[:]) with attribution 0.01081986166536808\n",
      "NOT PRUNING upstream_component=ModelComponent(hook_point_name='blocks.8.attn.hook_result', index=[:, :, 5]) downstream_component=ModelComponent(hook_point_name='blocks.11.hook_q_input', index=[:, :, 2]) with attribution 0.006676861084997654\n",
      "NOT PRUNING upstream_component=ModelComponent(hook_point_name='blocks.8.attn.hook_result', index=[:, :, 5]) downstream_component=ModelComponent(hook_point_name='blocks.10.hook_q_input', index=[:, :, 6]) with attribution 0.005439891014248133\n",
      "NOT PRUNING upstream_component=ModelComponent(hook_point_name='blocks.8.attn.hook_result', index=[:, :, 5]) downstream_component=ModelComponent(hook_point_name='blocks.10.hook_q_input', index=[:, :, 1]) with attribution 0.00621452834457159\n",
      "NOT PRUNING upstream_component=ModelComponent(hook_point_name='blocks.8.attn.hook_result', index=[:, :, 5]) downstream_component=ModelComponent(hook_point_name='blocks.9.hook_mlp_in', index=[:]) with attribution 0.011165723204612732\n"
     ]
    },
    {
     "name": "stderr",
     "output_type": "stream",
     "text": []
    },
    {
     "name": "stdout",
     "output_type": "stream",
     "text": [
      "NOT PRUNING upstream_component=ModelComponent(hook_point_name='blocks.8.attn.hook_result', index=[:, :, 5]) downstream_component=ModelComponent(hook_point_name='blocks.9.hook_q_input', index=[:, :, 9]) with attribution 0.008579366840422153\n",
      "NOT PRUNING upstream_component=ModelComponent(hook_point_name='blocks.8.attn.hook_result', index=[:, :, 5]) downstream_component=ModelComponent(hook_point_name='blocks.9.hook_q_input', index=[:, :, 7]) with attribution 0.007979950867593288\n",
      "NOT PRUNING upstream_component=ModelComponent(hook_point_name='blocks.8.attn.hook_result', index=[:, :, 5]) downstream_component=ModelComponent(hook_point_name='blocks.9.hook_q_input', index=[:, :, 4]) with attribution 0.014456149190664291\n",
      "NOT PRUNING upstream_component=ModelComponent(hook_point_name='blocks.8.attn.hook_result', index=[:, :, 5]) downstream_component=ModelComponent(hook_point_name='blocks.8.hook_mlp_in', index=[:]) with attribution 0.01923549547791481\n"
     ]
    },
    {
     "name": "stderr",
     "output_type": "stream",
     "text": []
    },
    {
     "name": "stdout",
     "output_type": "stream",
     "text": [
      "NOT PRUNING upstream_component=ModelComponent(hook_point_name='blocks.8.attn.hook_result', index=[:, :, 4]) downstream_component=ModelComponent(hook_point_name='blocks.9.hook_mlp_in', index=[:]) with attribution 0.0050500668585300446\n"
     ]
    },
    {
     "name": "stderr",
     "output_type": "stream",
     "text": []
    },
    {
     "name": "stdout",
     "output_type": "stream",
     "text": [
      "NOT PRUNING upstream_component=ModelComponent(hook_point_name='blocks.8.attn.hook_result', index=[:, :, 3]) downstream_component=ModelComponent(hook_point_name='blocks.11.hook_resid_post', index=[:]) with attribution 0.00853828527033329\n",
      "NOT PRUNING upstream_component=ModelComponent(hook_point_name='blocks.8.attn.hook_result', index=[:, :, 3]) downstream_component=ModelComponent(hook_point_name='blocks.11.hook_mlp_in', index=[:]) with attribution 0.013097199611365795\n",
      "NOT PRUNING upstream_component=ModelComponent(hook_point_name='blocks.8.attn.hook_result', index=[:, :, 3]) downstream_component=ModelComponent(hook_point_name='blocks.11.hook_q_input', index=[:, :, 10]) with attribution 0.015758652240037918\n",
      "NOT PRUNING upstream_component=ModelComponent(hook_point_name='blocks.8.attn.hook_result', index=[:, :, 3]) downstream_component=ModelComponent(hook_point_name='blocks.11.hook_q_input', index=[:, :, 2]) with attribution 0.00818260945379734\n",
      "NOT PRUNING upstream_component=ModelComponent(hook_point_name='blocks.8.attn.hook_result', index=[:, :, 3]) downstream_component=ModelComponent(hook_point_name='blocks.10.hook_mlp_in', index=[:]) with attribution 0.01473087165504694\n",
      "NOT PRUNING upstream_component=ModelComponent(hook_point_name='blocks.8.attn.hook_result', index=[:, :, 3]) downstream_component=ModelComponent(hook_point_name='blocks.10.hook_q_input', index=[:, :, 10]) with attribution 0.01645822264254093\n",
      "NOT PRUNING upstream_component=ModelComponent(hook_point_name='blocks.8.attn.hook_result', index=[:, :, 3]) downstream_component=ModelComponent(hook_point_name='blocks.10.hook_q_input', index=[:, :, 7]) with attribution 0.023266097530722618\n",
      "NOT PRUNING upstream_component=ModelComponent(hook_point_name='blocks.8.attn.hook_result', index=[:, :, 3]) downstream_component=ModelComponent(hook_point_name='blocks.10.hook_q_input', index=[:, :, 6]) with attribution 0.012416819110512733\n",
      "NOT PRUNING upstream_component=ModelComponent(hook_point_name='blocks.8.attn.hook_result', index=[:, :, 3]) downstream_component=ModelComponent(hook_point_name='blocks.10.hook_q_input', index=[:, :, 3]) with attribution 0.0132271908223629\n",
      "NOT PRUNING upstream_component=ModelComponent(hook_point_name='blocks.8.attn.hook_result', index=[:, :, 3]) downstream_component=ModelComponent(hook_point_name='blocks.10.hook_q_input', index=[:, :, 1]) with attribution 0.009146170690655708\n",
      "NOT PRUNING upstream_component=ModelComponent(hook_point_name='blocks.8.attn.hook_result', index=[:, :, 3]) downstream_component=ModelComponent(hook_point_name='blocks.10.hook_q_input', index=[:, :, 0]) with attribution 0.02067427895963192\n",
      "NOT PRUNING upstream_component=ModelComponent(hook_point_name='blocks.8.attn.hook_result', index=[:, :, 3]) downstream_component=ModelComponent(hook_point_name='blocks.9.hook_q_input', index=[:, :, 6]) with attribution 0.019511612132191658\n"
     ]
    },
    {
     "name": "stderr",
     "output_type": "stream",
     "text": []
    },
    {
     "name": "stdout",
     "output_type": "stream",
     "text": [
      "NOT PRUNING upstream_component=ModelComponent(hook_point_name='blocks.8.attn.hook_result', index=[:, :, 2]) downstream_component=ModelComponent(hook_point_name='blocks.11.hook_resid_post', index=[:]) with attribution 0.0557340532541275\n",
      "NOT PRUNING upstream_component=ModelComponent(hook_point_name='blocks.8.attn.hook_result', index=[:, :, 2]) downstream_component=ModelComponent(hook_point_name='blocks.11.hook_mlp_in', index=[:]) with attribution 0.005969952791929245\n",
      "NOT PRUNING upstream_component=ModelComponent(hook_point_name='blocks.8.attn.hook_result', index=[:, :, 2]) downstream_component=ModelComponent(hook_point_name='blocks.11.hook_k_input', index=[:, :, 10]) with attribution 0.0067549278028309345\n",
      "NOT PRUNING upstream_component=ModelComponent(hook_point_name='blocks.8.attn.hook_result', index=[:, :, 2]) downstream_component=ModelComponent(hook_point_name='blocks.11.hook_q_input', index=[:, :, 10]) with attribution 0.005194644909352064\n",
      "NOT PRUNING upstream_component=ModelComponent(hook_point_name='blocks.8.attn.hook_result', index=[:, :, 2]) downstream_component=ModelComponent(hook_point_name='blocks.10.hook_mlp_in', index=[:]) with attribution 0.012369325384497643\n",
      "NOT PRUNING upstream_component=ModelComponent(hook_point_name='blocks.8.attn.hook_result', index=[:, :, 2]) downstream_component=ModelComponent(hook_point_name='blocks.10.hook_k_input', index=[:, :, 0]) with attribution 0.008320596069097519\n",
      "NOT PRUNING upstream_component=ModelComponent(hook_point_name='blocks.8.attn.hook_result', index=[:, :, 2]) downstream_component=ModelComponent(hook_point_name='blocks.10.hook_q_input', index=[:, :, 7]) with attribution 0.006436779163777828\n",
      "NOT PRUNING upstream_component=ModelComponent(hook_point_name='blocks.8.attn.hook_result', index=[:, :, 2]) downstream_component=ModelComponent(hook_point_name='blocks.10.hook_q_input', index=[:, :, 0]) with attribution 0.006812401581555605\n",
      "NOT PRUNING upstream_component=ModelComponent(hook_point_name='blocks.8.attn.hook_result', index=[:, :, 2]) downstream_component=ModelComponent(hook_point_name='blocks.9.hook_mlp_in', index=[:]) with attribution 0.021945524960756302\n"
     ]
    },
    {
     "name": "stderr",
     "output_type": "stream",
     "text": []
    },
    {
     "name": "stdout",
     "output_type": "stream",
     "text": [
      "NOT PRUNING upstream_component=ModelComponent(hook_point_name='blocks.8.attn.hook_result', index=[:, :, 2]) downstream_component=ModelComponent(hook_point_name='blocks.9.hook_q_input', index=[:, :, 4]) with attribution 0.011390822939574718\n",
      "NOT PRUNING upstream_component=ModelComponent(hook_point_name='blocks.8.attn.hook_result', index=[:, :, 2]) downstream_component=ModelComponent(hook_point_name='blocks.8.hook_mlp_in', index=[:]) with attribution 0.008923574350774288\n"
     ]
    },
    {
     "name": "stderr",
     "output_type": "stream",
     "text": []
    },
    {
     "name": "stdout",
     "output_type": "stream",
     "text": [
      "NOT PRUNING upstream_component=ModelComponent(hook_point_name='blocks.7.hook_mlp_out', index=[:]) downstream_component=ModelComponent(hook_point_name='blocks.11.hook_resid_post', index=[:]) with attribution 0.06822244822978973\n",
      "NOT PRUNING upstream_component=ModelComponent(hook_point_name='blocks.7.hook_mlp_out', index=[:]) downstream_component=ModelComponent(hook_point_name='blocks.11.hook_mlp_in', index=[:]) with attribution 0.006186695769429207\n",
      "NOT PRUNING upstream_component=ModelComponent(hook_point_name='blocks.7.hook_mlp_out', index=[:]) downstream_component=ModelComponent(hook_point_name='blocks.11.hook_v_input', index=[:, :, 10]) with attribution 0.049302902072668076\n",
      "NOT PRUNING upstream_component=ModelComponent(hook_point_name='blocks.7.hook_mlp_out', index=[:]) downstream_component=ModelComponent(hook_point_name='blocks.11.hook_v_input', index=[:, :, 6]) with attribution 0.00892323162406683\n",
      "NOT PRUNING upstream_component=ModelComponent(hook_point_name='blocks.7.hook_mlp_out', index=[:]) downstream_component=ModelComponent(hook_point_name='blocks.11.hook_v_input', index=[:, :, 2]) with attribution 0.0052828313782811165\n",
      "NOT PRUNING upstream_component=ModelComponent(hook_point_name='blocks.7.hook_mlp_out', index=[:]) downstream_component=ModelComponent(hook_point_name='blocks.11.hook_v_input', index=[:, :, 1]) with attribution 0.01175827719271183\n",
      "NOT PRUNING upstream_component=ModelComponent(hook_point_name='blocks.7.hook_mlp_out', index=[:]) downstream_component=ModelComponent(hook_point_name='blocks.11.hook_k_input', index=[:, :, 10]) with attribution 0.1228933036327362\n",
      "NOT PRUNING upstream_component=ModelComponent(hook_point_name='blocks.7.hook_mlp_out', index=[:]) downstream_component=ModelComponent(hook_point_name='blocks.11.hook_k_input', index=[:, :, 6]) with attribution 0.025576261803507805\n",
      "NOT PRUNING upstream_component=ModelComponent(hook_point_name='blocks.7.hook_mlp_out', index=[:]) downstream_component=ModelComponent(hook_point_name='blocks.11.hook_k_input', index=[:, :, 2]) with attribution 0.015941692516207695\n",
      "NOT PRUNING upstream_component=ModelComponent(hook_point_name='blocks.7.hook_mlp_out', index=[:]) downstream_component=ModelComponent(hook_point_name='blocks.11.hook_k_input', index=[:, :, 1]) with attribution 0.0057213036343455315\n",
      "NOT PRUNING upstream_component=ModelComponent(hook_point_name='blocks.7.hook_mlp_out', index=[:]) downstream_component=ModelComponent(hook_point_name='blocks.11.hook_q_input', index=[:, :, 6]) with attribution 0.010238071903586388\n",
      "NOT PRUNING upstream_component=ModelComponent(hook_point_name='blocks.7.hook_mlp_out', index=[:]) downstream_component=ModelComponent(hook_point_name='blocks.11.hook_q_input', index=[:, :, 2]) with attribution 0.010467763990163803\n",
      "NOT PRUNING upstream_component=ModelComponent(hook_point_name='blocks.7.hook_mlp_out', index=[:]) downstream_component=ModelComponent(hook_point_name='blocks.10.hook_mlp_in', index=[:]) with attribution 0.04021236300468445\n",
      "NOT PRUNING upstream_component=ModelComponent(hook_point_name='blocks.7.hook_mlp_out', index=[:]) downstream_component=ModelComponent(hook_point_name='blocks.10.hook_v_input', index=[:, :, 10]) with attribution 0.007913174107670784\n",
      "NOT PRUNING upstream_component=ModelComponent(hook_point_name='blocks.7.hook_mlp_out', index=[:]) downstream_component=ModelComponent(hook_point_name='blocks.10.hook_v_input', index=[:, :, 7]) with attribution 0.021288489922881126\n",
      "NOT PRUNING upstream_component=ModelComponent(hook_point_name='blocks.7.hook_mlp_out', index=[:]) downstream_component=ModelComponent(hook_point_name='blocks.10.hook_v_input', index=[:, :, 6]) with attribution 0.01644946075975895\n",
      "NOT PRUNING upstream_component=ModelComponent(hook_point_name='blocks.7.hook_mlp_out', index=[:]) downstream_component=ModelComponent(hook_point_name='blocks.10.hook_v_input', index=[:, :, 3]) with attribution 0.007564007770270109\n",
      "NOT PRUNING upstream_component=ModelComponent(hook_point_name='blocks.7.hook_mlp_out', index=[:]) downstream_component=ModelComponent(hook_point_name='blocks.10.hook_v_input', index=[:, :, 1]) with attribution 0.009180160239338875\n",
      "NOT PRUNING upstream_component=ModelComponent(hook_point_name='blocks.7.hook_mlp_out', index=[:]) downstream_component=ModelComponent(hook_point_name='blocks.10.hook_v_input', index=[:, :, 0]) with attribution 0.02148473635315895\n",
      "NOT PRUNING upstream_component=ModelComponent(hook_point_name='blocks.7.hook_mlp_out', index=[:]) downstream_component=ModelComponent(hook_point_name='blocks.10.hook_k_input', index=[:, :, 10]) with attribution 0.006588352844119072\n",
      "NOT PRUNING upstream_component=ModelComponent(hook_point_name='blocks.7.hook_mlp_out', index=[:]) downstream_component=ModelComponent(hook_point_name='blocks.10.hook_k_input', index=[:, :, 7]) with attribution 0.04768357798457146\n",
      "NOT PRUNING upstream_component=ModelComponent(hook_point_name='blocks.7.hook_mlp_out', index=[:]) downstream_component=ModelComponent(hook_point_name='blocks.10.hook_k_input', index=[:, :, 3]) with attribution 0.007174094673246145\n",
      "NOT PRUNING upstream_component=ModelComponent(hook_point_name='blocks.7.hook_mlp_out', index=[:]) downstream_component=ModelComponent(hook_point_name='blocks.10.hook_k_input', index=[:, :, 2]) with attribution 0.006964716594666243\n",
      "NOT PRUNING upstream_component=ModelComponent(hook_point_name='blocks.7.hook_mlp_out', index=[:]) downstream_component=ModelComponent(hook_point_name='blocks.10.hook_k_input', index=[:, :, 1]) with attribution 0.02301694080233574\n",
      "NOT PRUNING upstream_component=ModelComponent(hook_point_name='blocks.7.hook_mlp_out', index=[:]) downstream_component=ModelComponent(hook_point_name='blocks.10.hook_k_input', index=[:, :, 0]) with attribution 0.009507786482572556\n",
      "NOT PRUNING upstream_component=ModelComponent(hook_point_name='blocks.7.hook_mlp_out', index=[:]) downstream_component=ModelComponent(hook_point_name='blocks.10.hook_q_input', index=[:, :, 7]) with attribution 0.016391457989811897\n",
      "NOT PRUNING upstream_component=ModelComponent(hook_point_name='blocks.7.hook_mlp_out', index=[:]) downstream_component=ModelComponent(hook_point_name='blocks.10.hook_q_input', index=[:, :, 2]) with attribution 0.0067854998633265495\n",
      "NOT PRUNING upstream_component=ModelComponent(hook_point_name='blocks.7.hook_mlp_out', index=[:]) downstream_component=ModelComponent(hook_point_name='blocks.10.hook_q_input', index=[:, :, 0]) with attribution 0.006302932742983103\n",
      "NOT PRUNING upstream_component=ModelComponent(hook_point_name='blocks.7.hook_mlp_out', index=[:]) downstream_component=ModelComponent(hook_point_name='blocks.9.hook_mlp_in', index=[:]) with attribution 0.021341007202863693\n",
      "NOT PRUNING upstream_component=ModelComponent(hook_point_name='blocks.7.hook_mlp_out', index=[:]) downstream_component=ModelComponent(hook_point_name='blocks.9.hook_v_input', index=[:, :, 8]) with attribution 0.013352949172258377\n",
      "NOT PRUNING upstream_component=ModelComponent(hook_point_name='blocks.7.hook_mlp_out', index=[:]) downstream_component=ModelComponent(hook_point_name='blocks.9.hook_v_input', index=[:, :, 7]) with attribution 0.01022280752658844\n",
      "NOT PRUNING upstream_component=ModelComponent(hook_point_name='blocks.7.hook_mlp_out', index=[:]) downstream_component=ModelComponent(hook_point_name='blocks.9.hook_v_input', index=[:, :, 5]) with attribution 0.010603763163089752\n",
      "NOT PRUNING upstream_component=ModelComponent(hook_point_name='blocks.7.hook_mlp_out', index=[:]) downstream_component=ModelComponent(hook_point_name='blocks.9.hook_v_input', index=[:, :, 4]) with attribution 0.007981774397194386\n",
      "NOT PRUNING upstream_component=ModelComponent(hook_point_name='blocks.7.hook_mlp_out', index=[:]) downstream_component=ModelComponent(hook_point_name='blocks.9.hook_v_input', index=[:, :, 0]) with attribution 0.00745655782520771\n",
      "NOT PRUNING upstream_component=ModelComponent(hook_point_name='blocks.7.hook_mlp_out', index=[:]) downstream_component=ModelComponent(hook_point_name='blocks.9.hook_k_input', index=[:, :, 9]) with attribution 0.006683306768536568\n",
      "NOT PRUNING upstream_component=ModelComponent(hook_point_name='blocks.7.hook_mlp_out', index=[:]) downstream_component=ModelComponent(hook_point_name='blocks.9.hook_k_input', index=[:, :, 7]) with attribution 0.01345563679933548\n",
      "NOT PRUNING upstream_component=ModelComponent(hook_point_name='blocks.7.hook_mlp_out', index=[:]) downstream_component=ModelComponent(hook_point_name='blocks.9.hook_k_input', index=[:, :, 6]) with attribution 0.008587414398789406\n",
      "NOT PRUNING upstream_component=ModelComponent(hook_point_name='blocks.7.hook_mlp_out', index=[:]) downstream_component=ModelComponent(hook_point_name='blocks.9.hook_k_input', index=[:, :, 4]) with attribution 0.010112789459526539\n",
      "NOT PRUNING upstream_component=ModelComponent(hook_point_name='blocks.7.hook_mlp_out', index=[:]) downstream_component=ModelComponent(hook_point_name='blocks.9.hook_k_input', index=[:, :, 2]) with attribution 0.005149549804627895\n",
      "NOT PRUNING upstream_component=ModelComponent(hook_point_name='blocks.7.hook_mlp_out', index=[:]) downstream_component=ModelComponent(hook_point_name='blocks.9.hook_k_input', index=[:, :, 0]) with attribution 0.005489012226462364\n",
      "NOT PRUNING upstream_component=ModelComponent(hook_point_name='blocks.7.hook_mlp_out', index=[:]) downstream_component=ModelComponent(hook_point_name='blocks.9.hook_q_input', index=[:, :, 9]) with attribution 0.010957320220768452\n",
      "NOT PRUNING upstream_component=ModelComponent(hook_point_name='blocks.7.hook_mlp_out', index=[:]) downstream_component=ModelComponent(hook_point_name='blocks.9.hook_q_input', index=[:, :, 7]) with attribution 0.017012981697916985\n",
      "NOT PRUNING upstream_component=ModelComponent(hook_point_name='blocks.7.hook_mlp_out', index=[:]) downstream_component=ModelComponent(hook_point_name='blocks.9.hook_q_input', index=[:, :, 5]) with attribution 0.00681079737842083\n",
      "NOT PRUNING upstream_component=ModelComponent(hook_point_name='blocks.7.hook_mlp_out', index=[:]) downstream_component=ModelComponent(hook_point_name='blocks.9.hook_q_input', index=[:, :, 4]) with attribution 0.03088218905031681\n",
      "NOT PRUNING upstream_component=ModelComponent(hook_point_name='blocks.7.hook_mlp_out', index=[:]) downstream_component=ModelComponent(hook_point_name='blocks.9.hook_q_input', index=[:, :, 3]) with attribution 0.007903587073087692\n",
      "NOT PRUNING upstream_component=ModelComponent(hook_point_name='blocks.7.hook_mlp_out', index=[:]) downstream_component=ModelComponent(hook_point_name='blocks.8.hook_mlp_in', index=[:]) with attribution 0.061232224106788635\n",
      "NOT PRUNING upstream_component=ModelComponent(hook_point_name='blocks.7.hook_mlp_out', index=[:]) downstream_component=ModelComponent(hook_point_name='blocks.8.hook_v_input', index=[:, :, 10]) with attribution 0.01148552168160677\n",
      "NOT PRUNING upstream_component=ModelComponent(hook_point_name='blocks.7.hook_mlp_out', index=[:]) downstream_component=ModelComponent(hook_point_name='blocks.8.hook_v_input', index=[:, :, 6]) with attribution 0.029249027371406555\n",
      "NOT PRUNING upstream_component=ModelComponent(hook_point_name='blocks.7.hook_mlp_out', index=[:]) downstream_component=ModelComponent(hook_point_name='blocks.8.hook_v_input', index=[:, :, 5]) with attribution 0.0069898320361971855\n",
      "NOT PRUNING upstream_component=ModelComponent(hook_point_name='blocks.7.hook_mlp_out', index=[:]) downstream_component=ModelComponent(hook_point_name='blocks.8.hook_v_input', index=[:, :, 2]) with attribution 0.014289986342191696\n",
      "NOT PRUNING upstream_component=ModelComponent(hook_point_name='blocks.7.hook_mlp_out', index=[:]) downstream_component=ModelComponent(hook_point_name='blocks.8.hook_k_input', index=[:, :, 11]) with attribution 0.005984979681670666\n",
      "NOT PRUNING upstream_component=ModelComponent(hook_point_name='blocks.7.hook_mlp_out', index=[:]) downstream_component=ModelComponent(hook_point_name='blocks.8.hook_k_input', index=[:, :, 10]) with attribution 0.02750629559159279\n",
      "NOT PRUNING upstream_component=ModelComponent(hook_point_name='blocks.7.hook_mlp_out', index=[:]) downstream_component=ModelComponent(hook_point_name='blocks.8.hook_k_input', index=[:, :, 6]) with attribution 0.009687158279120922\n"
     ]
    },
    {
     "name": "stderr",
     "output_type": "stream",
     "text": []
    },
    {
     "name": "stdout",
     "output_type": "stream",
     "text": [
      "NOT PRUNING upstream_component=ModelComponent(hook_point_name='blocks.7.hook_mlp_out', index=[:]) downstream_component=ModelComponent(hook_point_name='blocks.8.hook_k_input', index=[:, :, 2]) with attribution 0.005723476875573397\n",
      "NOT PRUNING upstream_component=ModelComponent(hook_point_name='blocks.7.hook_mlp_out', index=[:]) downstream_component=ModelComponent(hook_point_name='blocks.8.hook_q_input', index=[:, :, 10]) with attribution 0.013541359454393387\n",
      "NOT PRUNING upstream_component=ModelComponent(hook_point_name='blocks.7.hook_mlp_out', index=[:]) downstream_component=ModelComponent(hook_point_name='blocks.8.hook_q_input', index=[:, :, 8]) with attribution 0.008826160803437233\n",
      "NOT PRUNING upstream_component=ModelComponent(hook_point_name='blocks.7.hook_mlp_out', index=[:]) downstream_component=ModelComponent(hook_point_name='blocks.8.hook_q_input', index=[:, :, 6]) with attribution 0.008492584340274334\n",
      "NOT PRUNING upstream_component=ModelComponent(hook_point_name='blocks.7.hook_mlp_out', index=[:]) downstream_component=ModelComponent(hook_point_name='blocks.8.hook_q_input', index=[:, :, 5]) with attribution 0.0070824879221618176\n",
      "NOT PRUNING upstream_component=ModelComponent(hook_point_name='blocks.7.hook_mlp_out', index=[:]) downstream_component=ModelComponent(hook_point_name='blocks.8.hook_q_input', index=[:, :, 3]) with attribution 0.019298594444990158\n",
      "NOT PRUNING upstream_component=ModelComponent(hook_point_name='blocks.7.hook_mlp_out', index=[:]) downstream_component=ModelComponent(hook_point_name='blocks.8.hook_q_input', index=[:, :, 2]) with attribution 0.01432367879897356\n",
      "NOT PRUNING upstream_component=ModelComponent(hook_point_name='blocks.7.attn.hook_result', index=[:, :, 11]) downstream_component=ModelComponent(hook_point_name='blocks.11.hook_resid_post', index=[:]) with attribution 0.0053433822467923164\n"
     ]
    },
    {
     "name": "stderr",
     "output_type": "stream",
     "text": []
    },
    {
     "name": "stdout",
     "output_type": "stream",
     "text": [
      "NOT PRUNING upstream_component=ModelComponent(hook_point_name='blocks.7.attn.hook_result', index=[:, :, 11]) downstream_component=ModelComponent(hook_point_name='blocks.9.hook_mlp_in', index=[:]) with attribution 0.005249134264886379\n",
      "NOT PRUNING upstream_component=ModelComponent(hook_point_name='blocks.7.attn.hook_result', index=[:, :, 11]) downstream_component=ModelComponent(hook_point_name='blocks.8.hook_q_input', index=[:, :, 10]) with attribution 0.005250123329460621\n"
     ]
    },
    {
     "name": "stderr",
     "output_type": "stream",
     "text": []
    },
    {
     "name": "stdout",
     "output_type": "stream",
     "text": [
      "NOT PRUNING upstream_component=ModelComponent(hook_point_name='blocks.7.attn.hook_result', index=[:, :, 11]) downstream_component=ModelComponent(hook_point_name='blocks.7.hook_mlp_in', index=[:]) with attribution 0.01200115866959095\n"
     ]
    },
    {
     "name": "stderr",
     "output_type": "stream",
     "text": []
    },
    {
     "name": "stdout",
     "output_type": "stream",
     "text": [
      "NOT PRUNING upstream_component=ModelComponent(hook_point_name='blocks.7.attn.hook_result', index=[:, :, 9]) downstream_component=ModelComponent(hook_point_name='blocks.11.hook_resid_post', index=[:]) with attribution 0.18024945259094238\n",
      "NOT PRUNING upstream_component=ModelComponent(hook_point_name='blocks.7.attn.hook_result', index=[:, :, 9]) downstream_component=ModelComponent(hook_point_name='blocks.11.hook_mlp_in', index=[:]) with attribution 0.017694398760795593\n",
      "NOT PRUNING upstream_component=ModelComponent(hook_point_name='blocks.7.attn.hook_result', index=[:, :, 9]) downstream_component=ModelComponent(hook_point_name='blocks.11.hook_k_input', index=[:, :, 10]) with attribution 0.00912672933191061\n",
      "NOT PRUNING upstream_component=ModelComponent(hook_point_name='blocks.7.attn.hook_result', index=[:, :, 9]) downstream_component=ModelComponent(hook_point_name='blocks.11.hook_q_input', index=[:, :, 10]) with attribution 0.022121086716651917\n",
      "NOT PRUNING upstream_component=ModelComponent(hook_point_name='blocks.7.attn.hook_result', index=[:, :, 9]) downstream_component=ModelComponent(hook_point_name='blocks.11.hook_q_input', index=[:, :, 9]) with attribution 0.014662694185972214\n",
      "NOT PRUNING upstream_component=ModelComponent(hook_point_name='blocks.7.attn.hook_result', index=[:, :, 9]) downstream_component=ModelComponent(hook_point_name='blocks.11.hook_q_input', index=[:, :, 6]) with attribution 0.046323198825120926\n",
      "NOT PRUNING upstream_component=ModelComponent(hook_point_name='blocks.7.attn.hook_result', index=[:, :, 9]) downstream_component=ModelComponent(hook_point_name='blocks.11.hook_q_input', index=[:, :, 2]) with attribution 0.09064779430627823\n",
      "NOT PRUNING upstream_component=ModelComponent(hook_point_name='blocks.7.attn.hook_result', index=[:, :, 9]) downstream_component=ModelComponent(hook_point_name='blocks.11.hook_q_input', index=[:, :, 1]) with attribution 0.03037175163626671\n",
      "NOT PRUNING upstream_component=ModelComponent(hook_point_name='blocks.7.attn.hook_result', index=[:, :, 9]) downstream_component=ModelComponent(hook_point_name='blocks.10.hook_q_input', index=[:, :, 10]) with attribution 0.03802616521716118\n",
      "NOT PRUNING upstream_component=ModelComponent(hook_point_name='blocks.7.attn.hook_result', index=[:, :, 9]) downstream_component=ModelComponent(hook_point_name='blocks.10.hook_q_input', index=[:, :, 7]) with attribution 0.024128377437591553\n",
      "NOT PRUNING upstream_component=ModelComponent(hook_point_name='blocks.7.attn.hook_result', index=[:, :, 9]) downstream_component=ModelComponent(hook_point_name='blocks.10.hook_q_input', index=[:, :, 6]) with attribution 0.05783463269472122\n",
      "NOT PRUNING upstream_component=ModelComponent(hook_point_name='blocks.7.attn.hook_result', index=[:, :, 9]) downstream_component=ModelComponent(hook_point_name='blocks.10.hook_q_input', index=[:, :, 3]) with attribution 0.009645218029618263\n",
      "NOT PRUNING upstream_component=ModelComponent(hook_point_name='blocks.7.attn.hook_result', index=[:, :, 9]) downstream_component=ModelComponent(hook_point_name='blocks.10.hook_q_input', index=[:, :, 2]) with attribution 0.04721380025148392\n",
      "NOT PRUNING upstream_component=ModelComponent(hook_point_name='blocks.7.attn.hook_result', index=[:, :, 9]) downstream_component=ModelComponent(hook_point_name='blocks.10.hook_q_input', index=[:, :, 1]) with attribution 0.03981567919254303\n",
      "NOT PRUNING upstream_component=ModelComponent(hook_point_name='blocks.7.attn.hook_result', index=[:, :, 9]) downstream_component=ModelComponent(hook_point_name='blocks.10.hook_q_input', index=[:, :, 0]) with attribution 0.12862171232700348\n",
      "NOT PRUNING upstream_component=ModelComponent(hook_point_name='blocks.7.attn.hook_result', index=[:, :, 9]) downstream_component=ModelComponent(hook_point_name='blocks.9.hook_mlp_in', index=[:]) with attribution 0.050255995243787766\n",
      "NOT PRUNING upstream_component=ModelComponent(hook_point_name='blocks.7.attn.hook_result', index=[:, :, 9]) downstream_component=ModelComponent(hook_point_name='blocks.9.hook_v_input', index=[:, :, 4]) with attribution 0.014362757094204426\n",
      "NOT PRUNING upstream_component=ModelComponent(hook_point_name='blocks.7.attn.hook_result', index=[:, :, 9]) downstream_component=ModelComponent(hook_point_name='blocks.9.hook_v_input', index=[:, :, 3]) with attribution 0.016795789822936058\n",
      "NOT PRUNING upstream_component=ModelComponent(hook_point_name='blocks.7.attn.hook_result', index=[:, :, 9]) downstream_component=ModelComponent(hook_point_name='blocks.9.hook_q_input', index=[:, :, 9]) with attribution 0.13653162121772766\n",
      "NOT PRUNING upstream_component=ModelComponent(hook_point_name='blocks.7.attn.hook_result', index=[:, :, 9]) downstream_component=ModelComponent(hook_point_name='blocks.9.hook_q_input', index=[:, :, 8]) with attribution 0.006660065613687038\n",
      "NOT PRUNING upstream_component=ModelComponent(hook_point_name='blocks.7.attn.hook_result', index=[:, :, 9]) downstream_component=ModelComponent(hook_point_name='blocks.9.hook_q_input', index=[:, :, 7]) with attribution 0.008930263109505177\n",
      "NOT PRUNING upstream_component=ModelComponent(hook_point_name='blocks.7.attn.hook_result', index=[:, :, 9]) downstream_component=ModelComponent(hook_point_name='blocks.9.hook_q_input', index=[:, :, 6]) with attribution 0.025341074913740158\n",
      "NOT PRUNING upstream_component=ModelComponent(hook_point_name='blocks.7.attn.hook_result', index=[:, :, 9]) downstream_component=ModelComponent(hook_point_name='blocks.9.hook_q_input', index=[:, :, 4]) with attribution 0.008613768965005875\n",
      "NOT PRUNING upstream_component=ModelComponent(hook_point_name='blocks.7.attn.hook_result', index=[:, :, 9]) downstream_component=ModelComponent(hook_point_name='blocks.9.hook_q_input', index=[:, :, 2]) with attribution 0.005589151754975319\n",
      "NOT PRUNING upstream_component=ModelComponent(hook_point_name='blocks.7.attn.hook_result', index=[:, :, 9]) downstream_component=ModelComponent(hook_point_name='blocks.8.hook_v_input', index=[:, :, 10]) with attribution 0.007974953390657902\n",
      "NOT PRUNING upstream_component=ModelComponent(hook_point_name='blocks.7.attn.hook_result', index=[:, :, 9]) downstream_component=ModelComponent(hook_point_name='blocks.8.hook_v_input', index=[:, :, 7]) with attribution 0.008105366490781307\n",
      "NOT PRUNING upstream_component=ModelComponent(hook_point_name='blocks.7.attn.hook_result', index=[:, :, 9]) downstream_component=ModelComponent(hook_point_name='blocks.8.hook_v_input', index=[:, :, 6]) with attribution 0.005156159866601229\n",
      "NOT PRUNING upstream_component=ModelComponent(hook_point_name='blocks.7.attn.hook_result', index=[:, :, 9]) downstream_component=ModelComponent(hook_point_name='blocks.8.hook_v_input', index=[:, :, 5]) with attribution 0.014074682258069515\n",
      "NOT PRUNING upstream_component=ModelComponent(hook_point_name='blocks.7.attn.hook_result', index=[:, :, 9]) downstream_component=ModelComponent(hook_point_name='blocks.8.hook_v_input', index=[:, :, 3]) with attribution 0.005330289714038372\n",
      "NOT PRUNING upstream_component=ModelComponent(hook_point_name='blocks.7.attn.hook_result', index=[:, :, 9]) downstream_component=ModelComponent(hook_point_name='blocks.8.hook_v_input', index=[:, :, 0]) with attribution 0.006099693477153778\n",
      "NOT PRUNING upstream_component=ModelComponent(hook_point_name='blocks.7.attn.hook_result', index=[:, :, 9]) downstream_component=ModelComponent(hook_point_name='blocks.8.hook_k_input', index=[:, :, 6]) with attribution 0.012796683236956596\n",
      "NOT PRUNING upstream_component=ModelComponent(hook_point_name='blocks.7.attn.hook_result', index=[:, :, 9]) downstream_component=ModelComponent(hook_point_name='blocks.8.hook_q_input', index=[:, :, 11]) with attribution 0.007853111252188683\n",
      "NOT PRUNING upstream_component=ModelComponent(hook_point_name='blocks.7.attn.hook_result', index=[:, :, 9]) downstream_component=ModelComponent(hook_point_name='blocks.8.hook_q_input', index=[:, :, 10]) with attribution 0.009532303549349308\n",
      "NOT PRUNING upstream_component=ModelComponent(hook_point_name='blocks.7.attn.hook_result', index=[:, :, 9]) downstream_component=ModelComponent(hook_point_name='blocks.8.hook_q_input', index=[:, :, 9]) with attribution 0.008579299785196781\n",
      "NOT PRUNING upstream_component=ModelComponent(hook_point_name='blocks.7.attn.hook_result', index=[:, :, 9]) downstream_component=ModelComponent(hook_point_name='blocks.8.hook_q_input', index=[:, :, 8]) with attribution 0.005888381041586399\n",
      "NOT PRUNING upstream_component=ModelComponent(hook_point_name='blocks.7.attn.hook_result', index=[:, :, 9]) downstream_component=ModelComponent(hook_point_name='blocks.8.hook_q_input', index=[:, :, 6]) with attribution 0.02737492322921753\n"
     ]
    },
    {
     "name": "stderr",
     "output_type": "stream",
     "text": []
    },
    {
     "name": "stdout",
     "output_type": "stream",
     "text": [
      "NOT PRUNING upstream_component=ModelComponent(hook_point_name='blocks.7.attn.hook_result', index=[:, :, 9]) downstream_component=ModelComponent(hook_point_name='blocks.8.hook_q_input', index=[:, :, 3]) with attribution 0.006572212558239698\n",
      "NOT PRUNING upstream_component=ModelComponent(hook_point_name='blocks.7.attn.hook_result', index=[:, :, 9]) downstream_component=ModelComponent(hook_point_name='blocks.7.hook_mlp_in', index=[:]) with attribution 0.10990588366985321\n",
      "NOT PRUNING upstream_component=ModelComponent(hook_point_name='blocks.7.attn.hook_result', index=[:, :, 8]) downstream_component=ModelComponent(hook_point_name='blocks.11.hook_resid_post', index=[:]) with attribution 0.008768250234425068\n"
     ]
    },
    {
     "name": "stderr",
     "output_type": "stream",
     "text": []
    },
    {
     "name": "stdout",
     "output_type": "stream",
     "text": [
      "NOT PRUNING upstream_component=ModelComponent(hook_point_name='blocks.7.attn.hook_result', index=[:, :, 8]) downstream_component=ModelComponent(hook_point_name='blocks.10.hook_mlp_in', index=[:]) with attribution 0.006060258485376835\n",
      "NOT PRUNING upstream_component=ModelComponent(hook_point_name='blocks.7.attn.hook_result', index=[:, :, 8]) downstream_component=ModelComponent(hook_point_name='blocks.8.hook_v_input', index=[:, :, 10]) with attribution 0.005151662975549698\n"
     ]
    },
    {
     "name": "stderr",
     "output_type": "stream",
     "text": []
    },
    {
     "name": "stdout",
     "output_type": "stream",
     "text": [
      "NOT PRUNING upstream_component=ModelComponent(hook_point_name='blocks.7.attn.hook_result', index=[:, :, 8]) downstream_component=ModelComponent(hook_point_name='blocks.8.hook_q_input', index=[:, :, 10]) with attribution 0.012775134295225143\n"
     ]
    },
    {
     "name": "stderr",
     "output_type": "stream",
     "text": []
    },
    {
     "name": "stdout",
     "output_type": "stream",
     "text": [
      "NOT PRUNING upstream_component=ModelComponent(hook_point_name='blocks.7.attn.hook_result', index=[:, :, 8]) downstream_component=ModelComponent(hook_point_name='blocks.7.hook_mlp_in', index=[:]) with attribution 0.006399775389581919\n",
      "NOT PRUNING upstream_component=ModelComponent(hook_point_name='blocks.7.attn.hook_result', index=[:, :, 7]) downstream_component=ModelComponent(hook_point_name='blocks.11.hook_k_input', index=[:, :, 10]) with attribution 0.006578919477760792\n"
     ]
    },
    {
     "name": "stderr",
     "output_type": "stream",
     "text": []
    },
    {
     "name": "stdout",
     "output_type": "stream",
     "text": [
      "NOT PRUNING upstream_component=ModelComponent(hook_point_name='blocks.7.attn.hook_result', index=[:, :, 7]) downstream_component=ModelComponent(hook_point_name='blocks.8.hook_k_input', index=[:, :, 10]) with attribution 0.009322167374193668\n"
     ]
    },
    {
     "name": "stderr",
     "output_type": "stream",
     "text": []
    },
    {
     "name": "stdout",
     "output_type": "stream",
     "text": [
      "NOT PRUNING upstream_component=ModelComponent(hook_point_name='blocks.7.attn.hook_result', index=[:, :, 7]) downstream_component=ModelComponent(hook_point_name='blocks.7.hook_mlp_in', index=[:]) with attribution 0.023869719356298447\n",
      "NOT PRUNING upstream_component=ModelComponent(hook_point_name='blocks.7.attn.hook_result', index=[:, :, 6]) downstream_component=ModelComponent(hook_point_name='blocks.10.hook_q_input', index=[:, :, 0]) with attribution 0.005982672329992056\n"
     ]
    },
    {
     "name": "stderr",
     "output_type": "stream",
     "text": []
    },
    {
     "name": "stdout",
     "output_type": "stream",
     "text": [
      "NOT PRUNING upstream_component=ModelComponent(hook_point_name='blocks.7.attn.hook_result', index=[:, :, 6]) downstream_component=ModelComponent(hook_point_name='blocks.9.hook_q_input', index=[:, :, 9]) with attribution 0.005930894985795021\n",
      "NOT PRUNING upstream_component=ModelComponent(hook_point_name='blocks.7.attn.hook_result', index=[:, :, 6]) downstream_component=ModelComponent(hook_point_name='blocks.8.hook_mlp_in', index=[:]) with attribution 0.016121571883559227\n",
      "NOT PRUNING upstream_component=ModelComponent(hook_point_name='blocks.7.attn.hook_result', index=[:, :, 6]) downstream_component=ModelComponent(hook_point_name='blocks.8.hook_v_input', index=[:, :, 10]) with attribution 0.00755299860611558\n",
      "NOT PRUNING upstream_component=ModelComponent(hook_point_name='blocks.7.attn.hook_result', index=[:, :, 6]) downstream_component=ModelComponent(hook_point_name='blocks.8.hook_v_input', index=[:, :, 6]) with attribution 0.005078418180346489\n",
      "NOT PRUNING upstream_component=ModelComponent(hook_point_name='blocks.7.attn.hook_result', index=[:, :, 6]) downstream_component=ModelComponent(hook_point_name='blocks.8.hook_k_input', index=[:, :, 10]) with attribution 0.007377249654382467\n",
      "NOT PRUNING upstream_component=ModelComponent(hook_point_name='blocks.7.attn.hook_result', index=[:, :, 6]) downstream_component=ModelComponent(hook_point_name='blocks.8.hook_q_input', index=[:, :, 10]) with attribution 0.005079400725662708\n",
      "NOT PRUNING upstream_component=ModelComponent(hook_point_name='blocks.7.attn.hook_result', index=[:, :, 6]) downstream_component=ModelComponent(hook_point_name='blocks.8.hook_q_input', index=[:, :, 6]) with attribution 0.006811469793319702\n"
     ]
    },
    {
     "name": "stderr",
     "output_type": "stream",
     "text": []
    },
    {
     "name": "stdout",
     "output_type": "stream",
     "text": [
      "NOT PRUNING upstream_component=ModelComponent(hook_point_name='blocks.7.attn.hook_result', index=[:, :, 6]) downstream_component=ModelComponent(hook_point_name='blocks.7.hook_mlp_in', index=[:]) with attribution 0.005673340056091547\n",
      "NOT PRUNING upstream_component=ModelComponent(hook_point_name='blocks.7.attn.hook_result', index=[:, :, 5]) downstream_component=ModelComponent(hook_point_name='blocks.11.hook_resid_post', index=[:]) with attribution 0.013069640845060349\n"
     ]
    },
    {
     "name": "stderr",
     "output_type": "stream",
     "text": []
    },
    {
     "name": "stdout",
     "output_type": "stream",
     "text": [
      "NOT PRUNING upstream_component=ModelComponent(hook_point_name='blocks.7.attn.hook_result', index=[:, :, 5]) downstream_component=ModelComponent(hook_point_name='blocks.8.hook_q_input', index=[:, :, 10]) with attribution 0.013730195350944996\n",
      "NOT PRUNING upstream_component=ModelComponent(hook_point_name='blocks.7.attn.hook_result', index=[:, :, 5]) downstream_component=ModelComponent(hook_point_name='blocks.8.hook_q_input', index=[:, :, 6]) with attribution 0.007348528131842613\n"
     ]
    },
    {
     "name": "stderr",
     "output_type": "stream",
     "text": []
    },
    {
     "name": "stdout",
     "output_type": "stream",
     "text": [
      "NOT PRUNING upstream_component=ModelComponent(hook_point_name='blocks.7.attn.hook_result', index=[:, :, 5]) downstream_component=ModelComponent(hook_point_name='blocks.7.hook_mlp_in', index=[:]) with attribution 0.012410426512360573\n"
     ]
    },
    {
     "name": "stderr",
     "output_type": "stream",
     "text": []
    },
    {
     "name": "stdout",
     "output_type": "stream",
     "text": [
      "NOT PRUNING upstream_component=ModelComponent(hook_point_name='blocks.7.attn.hook_result', index=[:, :, 4]) downstream_component=ModelComponent(hook_point_name='blocks.8.hook_mlp_in', index=[:]) with attribution 0.007302434183657169\n",
      "NOT PRUNING upstream_component=ModelComponent(hook_point_name='blocks.7.attn.hook_result', index=[:, :, 4]) downstream_component=ModelComponent(hook_point_name='blocks.8.hook_k_input', index=[:, :, 10]) with attribution 0.006504824850708246\n",
      "NOT PRUNING upstream_component=ModelComponent(hook_point_name='blocks.7.attn.hook_result', index=[:, :, 4]) downstream_component=ModelComponent(hook_point_name='blocks.8.hook_k_input', index=[:, :, 6]) with attribution 0.006750487722456455\n"
     ]
    },
    {
     "name": "stderr",
     "output_type": "stream",
     "text": []
    },
    {
     "name": "stdout",
     "output_type": "stream",
     "text": [
      "NOT PRUNING upstream_component=ModelComponent(hook_point_name='blocks.7.attn.hook_result', index=[:, :, 4]) downstream_component=ModelComponent(hook_point_name='blocks.8.hook_q_input', index=[:, :, 6]) with attribution 0.006235369015485048\n"
     ]
    },
    {
     "name": "stderr",
     "output_type": "stream",
     "text": []
    },
    {
     "name": "stdout",
     "output_type": "stream",
     "text": [
      "NOT PRUNING upstream_component=ModelComponent(hook_point_name='blocks.7.attn.hook_result', index=[:, :, 3]) downstream_component=ModelComponent(hook_point_name='blocks.11.hook_resid_post', index=[:]) with attribution 0.09246427565813065\n",
      "NOT PRUNING upstream_component=ModelComponent(hook_point_name='blocks.7.attn.hook_result', index=[:, :, 3]) downstream_component=ModelComponent(hook_point_name='blocks.11.hook_mlp_in', index=[:]) with attribution 0.01146569475531578\n",
      "NOT PRUNING upstream_component=ModelComponent(hook_point_name='blocks.7.attn.hook_result', index=[:, :, 3]) downstream_component=ModelComponent(hook_point_name='blocks.11.hook_q_input', index=[:, :, 10]) with attribution 0.042846858501434326\n",
      "NOT PRUNING upstream_component=ModelComponent(hook_point_name='blocks.7.attn.hook_result', index=[:, :, 3]) downstream_component=ModelComponent(hook_point_name='blocks.11.hook_q_input', index=[:, :, 9]) with attribution 0.007870657369494438\n",
      "NOT PRUNING upstream_component=ModelComponent(hook_point_name='blocks.7.attn.hook_result', index=[:, :, 3]) downstream_component=ModelComponent(hook_point_name='blocks.11.hook_q_input', index=[:, :, 6]) with attribution 0.02378392405807972\n",
      "NOT PRUNING upstream_component=ModelComponent(hook_point_name='blocks.7.attn.hook_result', index=[:, :, 3]) downstream_component=ModelComponent(hook_point_name='blocks.11.hook_q_input', index=[:, :, 2]) with attribution 0.03592706844210625\n",
      "NOT PRUNING upstream_component=ModelComponent(hook_point_name='blocks.7.attn.hook_result', index=[:, :, 3]) downstream_component=ModelComponent(hook_point_name='blocks.11.hook_q_input', index=[:, :, 1]) with attribution 0.020100697875022888\n",
      "NOT PRUNING upstream_component=ModelComponent(hook_point_name='blocks.7.attn.hook_result', index=[:, :, 3]) downstream_component=ModelComponent(hook_point_name='blocks.10.hook_mlp_in', index=[:]) with attribution 0.007818028330802917\n",
      "NOT PRUNING upstream_component=ModelComponent(hook_point_name='blocks.7.attn.hook_result', index=[:, :, 3]) downstream_component=ModelComponent(hook_point_name='blocks.10.hook_q_input', index=[:, :, 10]) with attribution 0.024720223620533943\n",
      "NOT PRUNING upstream_component=ModelComponent(hook_point_name='blocks.7.attn.hook_result', index=[:, :, 3]) downstream_component=ModelComponent(hook_point_name='blocks.10.hook_q_input', index=[:, :, 7]) with attribution 0.030657948926091194\n",
      "NOT PRUNING upstream_component=ModelComponent(hook_point_name='blocks.7.attn.hook_result', index=[:, :, 3]) downstream_component=ModelComponent(hook_point_name='blocks.10.hook_q_input', index=[:, :, 6]) with attribution 0.038411945104599\n",
      "NOT PRUNING upstream_component=ModelComponent(hook_point_name='blocks.7.attn.hook_result', index=[:, :, 3]) downstream_component=ModelComponent(hook_point_name='blocks.10.hook_q_input', index=[:, :, 3]) with attribution 0.009212625212967396\n",
      "NOT PRUNING upstream_component=ModelComponent(hook_point_name='blocks.7.attn.hook_result', index=[:, :, 3]) downstream_component=ModelComponent(hook_point_name='blocks.10.hook_q_input', index=[:, :, 2]) with attribution 0.03422365337610245\n",
      "NOT PRUNING upstream_component=ModelComponent(hook_point_name='blocks.7.attn.hook_result', index=[:, :, 3]) downstream_component=ModelComponent(hook_point_name='blocks.10.hook_q_input', index=[:, :, 1]) with attribution 0.028197156265378\n",
      "NOT PRUNING upstream_component=ModelComponent(hook_point_name='blocks.7.attn.hook_result', index=[:, :, 3]) downstream_component=ModelComponent(hook_point_name='blocks.10.hook_q_input', index=[:, :, 0]) with attribution 0.08275529742240906\n",
      "NOT PRUNING upstream_component=ModelComponent(hook_point_name='blocks.7.attn.hook_result', index=[:, :, 3]) downstream_component=ModelComponent(hook_point_name='blocks.9.hook_mlp_in', index=[:]) with attribution 0.01503213495016098\n",
      "NOT PRUNING upstream_component=ModelComponent(hook_point_name='blocks.7.attn.hook_result', index=[:, :, 3]) downstream_component=ModelComponent(hook_point_name='blocks.9.hook_v_input', index=[:, :, 3]) with attribution 0.022398339584469795\n",
      "NOT PRUNING upstream_component=ModelComponent(hook_point_name='blocks.7.attn.hook_result', index=[:, :, 3]) downstream_component=ModelComponent(hook_point_name='blocks.9.hook_q_input', index=[:, :, 9]) with attribution 0.06541397422552109\n",
      "NOT PRUNING upstream_component=ModelComponent(hook_point_name='blocks.7.attn.hook_result', index=[:, :, 3]) downstream_component=ModelComponent(hook_point_name='blocks.9.hook_q_input', index=[:, :, 7]) with attribution 0.017393039539456367\n",
      "NOT PRUNING upstream_component=ModelComponent(hook_point_name='blocks.7.attn.hook_result', index=[:, :, 3]) downstream_component=ModelComponent(hook_point_name='blocks.9.hook_q_input', index=[:, :, 6]) with attribution 0.022470777854323387\n",
      "NOT PRUNING upstream_component=ModelComponent(hook_point_name='blocks.7.attn.hook_result', index=[:, :, 3]) downstream_component=ModelComponent(hook_point_name='blocks.9.hook_q_input', index=[:, :, 4]) with attribution 0.023809416219592094\n",
      "NOT PRUNING upstream_component=ModelComponent(hook_point_name='blocks.7.attn.hook_result', index=[:, :, 3]) downstream_component=ModelComponent(hook_point_name='blocks.8.hook_mlp_in', index=[:]) with attribution 0.024932513013482094\n",
      "NOT PRUNING upstream_component=ModelComponent(hook_point_name='blocks.7.attn.hook_result', index=[:, :, 3]) downstream_component=ModelComponent(hook_point_name='blocks.8.hook_v_input', index=[:, :, 10]) with attribution 0.005495463497936726\n"
     ]
    },
    {
     "name": "stderr",
     "output_type": "stream",
     "text": []
    },
    {
     "name": "stdout",
     "output_type": "stream",
     "text": [
      "NOT PRUNING upstream_component=ModelComponent(hook_point_name='blocks.7.attn.hook_result', index=[:, :, 3]) downstream_component=ModelComponent(hook_point_name='blocks.8.hook_v_input', index=[:, :, 7]) with attribution 0.01626495085656643\n",
      "NOT PRUNING upstream_component=ModelComponent(hook_point_name='blocks.7.attn.hook_result', index=[:, :, 3]) downstream_component=ModelComponent(hook_point_name='blocks.8.hook_v_input', index=[:, :, 6]) with attribution 0.005212149582803249\n",
      "NOT PRUNING upstream_component=ModelComponent(hook_point_name='blocks.7.attn.hook_result', index=[:, :, 3]) downstream_component=ModelComponent(hook_point_name='blocks.8.hook_v_input', index=[:, :, 5]) with attribution 0.014281375333666801\n",
      "NOT PRUNING upstream_component=ModelComponent(hook_point_name='blocks.7.attn.hook_result', index=[:, :, 3]) downstream_component=ModelComponent(hook_point_name='blocks.8.hook_k_input', index=[:, :, 6]) with attribution 0.010503043420612812\n",
      "NOT PRUNING upstream_component=ModelComponent(hook_point_name='blocks.7.attn.hook_result', index=[:, :, 3]) downstream_component=ModelComponent(hook_point_name='blocks.8.hook_q_input', index=[:, :, 11]) with attribution 0.006658363621681929\n",
      "NOT PRUNING upstream_component=ModelComponent(hook_point_name='blocks.7.attn.hook_result', index=[:, :, 3]) downstream_component=ModelComponent(hook_point_name='blocks.8.hook_q_input', index=[:, :, 10]) with attribution 0.08813877403736115\n",
      "NOT PRUNING upstream_component=ModelComponent(hook_point_name='blocks.7.attn.hook_result', index=[:, :, 3]) downstream_component=ModelComponent(hook_point_name='blocks.8.hook_q_input', index=[:, :, 9]) with attribution 0.005434032063931227\n"
     ]
    },
    {
     "name": "stderr",
     "output_type": "stream",
     "text": []
    },
    {
     "name": "stdout",
     "output_type": "stream",
     "text": [
      "NOT PRUNING upstream_component=ModelComponent(hook_point_name='blocks.7.attn.hook_result', index=[:, :, 3]) downstream_component=ModelComponent(hook_point_name='blocks.8.hook_q_input', index=[:, :, 6]) with attribution 0.013510220684111118\n",
      "NOT PRUNING upstream_component=ModelComponent(hook_point_name='blocks.7.attn.hook_result', index=[:, :, 3]) downstream_component=ModelComponent(hook_point_name='blocks.8.hook_q_input', index=[:, :, 3]) with attribution 0.026144348084926605\n"
     ]
    },
    {
     "name": "stderr",
     "output_type": "stream",
     "text": []
    },
    {
     "name": "stdout",
     "output_type": "stream",
     "text": [
      "NOT PRUNING upstream_component=ModelComponent(hook_point_name='blocks.7.attn.hook_result', index=[:, :, 1]) downstream_component=ModelComponent(hook_point_name='blocks.11.hook_k_input', index=[:, :, 10]) with attribution 0.008720800280570984\n",
      "NOT PRUNING upstream_component=ModelComponent(hook_point_name='blocks.7.attn.hook_result', index=[:, :, 1]) downstream_component=ModelComponent(hook_point_name='blocks.10.hook_k_input', index=[:, :, 7]) with attribution 0.0062391143292188644\n"
     ]
    },
    {
     "name": "stderr",
     "output_type": "stream",
     "text": []
    },
    {
     "name": "stdout",
     "output_type": "stream",
     "text": [
      "NOT PRUNING upstream_component=ModelComponent(hook_point_name='blocks.7.attn.hook_result', index=[:, :, 1]) downstream_component=ModelComponent(hook_point_name='blocks.8.hook_v_input', index=[:, :, 10]) with attribution 0.01365647092461586\n",
      "NOT PRUNING upstream_component=ModelComponent(hook_point_name='blocks.7.attn.hook_result', index=[:, :, 1]) downstream_component=ModelComponent(hook_point_name='blocks.8.hook_v_input', index=[:, :, 6]) with attribution 0.05413411930203438\n",
      "NOT PRUNING upstream_component=ModelComponent(hook_point_name='blocks.7.attn.hook_result', index=[:, :, 1]) downstream_component=ModelComponent(hook_point_name='blocks.8.hook_k_input', index=[:, :, 6]) with attribution 0.05115338787436485\n"
     ]
    },
    {
     "name": "stderr",
     "output_type": "stream",
     "text": []
    },
    {
     "name": "stdout",
     "output_type": "stream",
     "text": [
      "NOT PRUNING upstream_component=ModelComponent(hook_point_name='blocks.7.attn.hook_result', index=[:, :, 1]) downstream_component=ModelComponent(hook_point_name='blocks.7.hook_mlp_in', index=[:]) with attribution 0.02859572321176529\n"
     ]
    },
    {
     "name": "stderr",
     "output_type": "stream",
     "text": []
    },
    {
     "name": "stdout",
     "output_type": "stream",
     "text": [
      "NOT PRUNING upstream_component=ModelComponent(hook_point_name='blocks.7.attn.hook_result', index=[:, :, 0]) downstream_component=ModelComponent(hook_point_name='blocks.8.hook_k_input', index=[:, :, 6]) with attribution 0.012837112881243229\n"
     ]
    },
    {
     "name": "stderr",
     "output_type": "stream",
     "text": []
    },
    {
     "name": "stdout",
     "output_type": "stream",
     "text": [
      "NOT PRUNING upstream_component=ModelComponent(hook_point_name='blocks.6.hook_mlp_out', index=[:]) downstream_component=ModelComponent(hook_point_name='blocks.11.hook_resid_post', index=[:]) with attribution 0.015513710677623749\n",
      "NOT PRUNING upstream_component=ModelComponent(hook_point_name='blocks.6.hook_mlp_out', index=[:]) downstream_component=ModelComponent(hook_point_name='blocks.11.hook_v_input', index=[:, :, 10]) with attribution 0.04987169802188873\n",
      "NOT PRUNING upstream_component=ModelComponent(hook_point_name='blocks.6.hook_mlp_out', index=[:]) downstream_component=ModelComponent(hook_point_name='blocks.11.hook_k_input', index=[:, :, 10]) with attribution 0.11814966797828674\n",
      "NOT PRUNING upstream_component=ModelComponent(hook_point_name='blocks.6.hook_mlp_out', index=[:]) downstream_component=ModelComponent(hook_point_name='blocks.11.hook_k_input', index=[:, :, 6]) with attribution 0.020607978105545044\n",
      "NOT PRUNING upstream_component=ModelComponent(hook_point_name='blocks.6.hook_mlp_out', index=[:]) downstream_component=ModelComponent(hook_point_name='blocks.11.hook_k_input', index=[:, :, 2]) with attribution 0.0061661964282393456\n",
      "NOT PRUNING upstream_component=ModelComponent(hook_point_name='blocks.6.hook_mlp_out', index=[:]) downstream_component=ModelComponent(hook_point_name='blocks.11.hook_k_input', index=[:, :, 1]) with attribution 0.021135389804840088\n",
      "NOT PRUNING upstream_component=ModelComponent(hook_point_name='blocks.6.hook_mlp_out', index=[:]) downstream_component=ModelComponent(hook_point_name='blocks.11.hook_q_input', index=[:, :, 10]) with attribution 0.007332411129027605\n",
      "NOT PRUNING upstream_component=ModelComponent(hook_point_name='blocks.6.hook_mlp_out', index=[:]) downstream_component=ModelComponent(hook_point_name='blocks.10.hook_mlp_in', index=[:]) with attribution 0.02506551519036293\n",
      "NOT PRUNING upstream_component=ModelComponent(hook_point_name='blocks.6.hook_mlp_out', index=[:]) downstream_component=ModelComponent(hook_point_name='blocks.10.hook_v_input', index=[:, :, 10]) with attribution 0.007940814830362797\n",
      "NOT PRUNING upstream_component=ModelComponent(hook_point_name='blocks.6.hook_mlp_out', index=[:]) downstream_component=ModelComponent(hook_point_name='blocks.10.hook_v_input', index=[:, :, 7]) with attribution 0.045619189739227295\n",
      "NOT PRUNING upstream_component=ModelComponent(hook_point_name='blocks.6.hook_mlp_out', index=[:]) downstream_component=ModelComponent(hook_point_name='blocks.10.hook_v_input', index=[:, :, 3]) with attribution 0.008260584436357021\n",
      "NOT PRUNING upstream_component=ModelComponent(hook_point_name='blocks.6.hook_mlp_out', index=[:]) downstream_component=ModelComponent(hook_point_name='blocks.10.hook_v_input', index=[:, :, 2]) with attribution 0.005824673920869827\n",
      "NOT PRUNING upstream_component=ModelComponent(hook_point_name='blocks.6.hook_mlp_out', index=[:]) downstream_component=ModelComponent(hook_point_name='blocks.10.hook_v_input', index=[:, :, 1]) with attribution 0.011976470239460468\n",
      "NOT PRUNING upstream_component=ModelComponent(hook_point_name='blocks.6.hook_mlp_out', index=[:]) downstream_component=ModelComponent(hook_point_name='blocks.10.hook_v_input', index=[:, :, 0]) with attribution 0.02112654410302639\n",
      "NOT PRUNING upstream_component=ModelComponent(hook_point_name='blocks.6.hook_mlp_out', index=[:]) downstream_component=ModelComponent(hook_point_name='blocks.10.hook_k_input', index=[:, :, 10]) with attribution 0.02237100899219513\n",
      "NOT PRUNING upstream_component=ModelComponent(hook_point_name='blocks.6.hook_mlp_out', index=[:]) downstream_component=ModelComponent(hook_point_name='blocks.10.hook_k_input', index=[:, :, 7]) with attribution 0.10048870742321014\n",
      "NOT PRUNING upstream_component=ModelComponent(hook_point_name='blocks.6.hook_mlp_out', index=[:]) downstream_component=ModelComponent(hook_point_name='blocks.10.hook_k_input', index=[:, :, 6]) with attribution 0.028777237981557846\n",
      "NOT PRUNING upstream_component=ModelComponent(hook_point_name='blocks.6.hook_mlp_out', index=[:]) downstream_component=ModelComponent(hook_point_name='blocks.10.hook_k_input', index=[:, :, 3]) with attribution 0.007071707397699356\n",
      "NOT PRUNING upstream_component=ModelComponent(hook_point_name='blocks.6.hook_mlp_out', index=[:]) downstream_component=ModelComponent(hook_point_name='blocks.10.hook_k_input', index=[:, :, 2]) with attribution 0.005022864788770676\n",
      "NOT PRUNING upstream_component=ModelComponent(hook_point_name='blocks.6.hook_mlp_out', index=[:]) downstream_component=ModelComponent(hook_point_name='blocks.10.hook_k_input', index=[:, :, 1]) with attribution 0.012656023725867271\n",
      "NOT PRUNING upstream_component=ModelComponent(hook_point_name='blocks.6.hook_mlp_out', index=[:]) downstream_component=ModelComponent(hook_point_name='blocks.10.hook_k_input', index=[:, :, 0]) with attribution 0.015358731150627136\n",
      "NOT PRUNING upstream_component=ModelComponent(hook_point_name='blocks.6.hook_mlp_out', index=[:]) downstream_component=ModelComponent(hook_point_name='blocks.9.hook_mlp_in', index=[:]) with attribution 0.02663588523864746\n",
      "NOT PRUNING upstream_component=ModelComponent(hook_point_name='blocks.6.hook_mlp_out', index=[:]) downstream_component=ModelComponent(hook_point_name='blocks.9.hook_v_input', index=[:, :, 9]) with attribution 0.030829614028334618\n",
      "NOT PRUNING upstream_component=ModelComponent(hook_point_name='blocks.6.hook_mlp_out', index=[:]) downstream_component=ModelComponent(hook_point_name='blocks.9.hook_v_input', index=[:, :, 8]) with attribution 0.010068338364362717\n",
      "NOT PRUNING upstream_component=ModelComponent(hook_point_name='blocks.6.hook_mlp_out', index=[:]) downstream_component=ModelComponent(hook_point_name='blocks.9.hook_v_input', index=[:, :, 7]) with attribution 0.012761709280312061\n",
      "NOT PRUNING upstream_component=ModelComponent(hook_point_name='blocks.6.hook_mlp_out', index=[:]) downstream_component=ModelComponent(hook_point_name='blocks.9.hook_k_input', index=[:, :, 9]) with attribution 0.04667593166232109\n",
      "NOT PRUNING upstream_component=ModelComponent(hook_point_name='blocks.6.hook_mlp_out', index=[:]) downstream_component=ModelComponent(hook_point_name='blocks.9.hook_k_input', index=[:, :, 8]) with attribution 0.014410652220249176\n",
      "NOT PRUNING upstream_component=ModelComponent(hook_point_name='blocks.6.hook_mlp_out', index=[:]) downstream_component=ModelComponent(hook_point_name='blocks.9.hook_k_input', index=[:, :, 7]) with attribution 0.031111672520637512\n",
      "NOT PRUNING upstream_component=ModelComponent(hook_point_name='blocks.6.hook_mlp_out', index=[:]) downstream_component=ModelComponent(hook_point_name='blocks.9.hook_k_input', index=[:, :, 6]) with attribution 0.01344182901084423\n",
      "NOT PRUNING upstream_component=ModelComponent(hook_point_name='blocks.6.hook_mlp_out', index=[:]) downstream_component=ModelComponent(hook_point_name='blocks.9.hook_k_input', index=[:, :, 5]) with attribution 0.006535439286381006\n",
      "NOT PRUNING upstream_component=ModelComponent(hook_point_name='blocks.6.hook_mlp_out', index=[:]) downstream_component=ModelComponent(hook_point_name='blocks.9.hook_k_input', index=[:, :, 4]) with attribution 0.014726095832884312\n",
      "NOT PRUNING upstream_component=ModelComponent(hook_point_name='blocks.6.hook_mlp_out', index=[:]) downstream_component=ModelComponent(hook_point_name='blocks.9.hook_q_input', index=[:, :, 7]) with attribution 0.006547572091221809\n",
      "NOT PRUNING upstream_component=ModelComponent(hook_point_name='blocks.6.hook_mlp_out', index=[:]) downstream_component=ModelComponent(hook_point_name='blocks.9.hook_q_input', index=[:, :, 5]) with attribution 0.005110567901283503\n",
      "NOT PRUNING upstream_component=ModelComponent(hook_point_name='blocks.6.hook_mlp_out', index=[:]) downstream_component=ModelComponent(hook_point_name='blocks.8.hook_mlp_in', index=[:]) with attribution 0.023699762299656868\n",
      "NOT PRUNING upstream_component=ModelComponent(hook_point_name='blocks.6.hook_mlp_out', index=[:]) downstream_component=ModelComponent(hook_point_name='blocks.8.hook_v_input', index=[:, :, 10]) with attribution 0.006613817997276783\n"
     ]
    },
    {
     "name": "stderr",
     "output_type": "stream",
     "text": []
    },
    {
     "name": "stdout",
     "output_type": "stream",
     "text": [
      "NOT PRUNING upstream_component=ModelComponent(hook_point_name='blocks.6.hook_mlp_out', index=[:]) downstream_component=ModelComponent(hook_point_name='blocks.8.hook_v_input', index=[:, :, 6]) with attribution 0.019707467406988144\n",
      "NOT PRUNING upstream_component=ModelComponent(hook_point_name='blocks.6.hook_mlp_out', index=[:]) downstream_component=ModelComponent(hook_point_name='blocks.8.hook_v_input', index=[:, :, 5]) with attribution 0.010263455100357533\n",
      "NOT PRUNING upstream_component=ModelComponent(hook_point_name='blocks.6.hook_mlp_out', index=[:]) downstream_component=ModelComponent(hook_point_name='blocks.8.hook_k_input', index=[:, :, 11]) with attribution 0.012099226005375385\n",
      "NOT PRUNING upstream_component=ModelComponent(hook_point_name='blocks.6.hook_mlp_out', index=[:]) downstream_component=ModelComponent(hook_point_name='blocks.8.hook_k_input', index=[:, :, 10]) with attribution 0.07419868558645248\n",
      "NOT PRUNING upstream_component=ModelComponent(hook_point_name='blocks.6.hook_mlp_out', index=[:]) downstream_component=ModelComponent(hook_point_name='blocks.8.hook_q_input', index=[:, :, 10]) with attribution 0.009503873065114021\n",
      "NOT PRUNING upstream_component=ModelComponent(hook_point_name='blocks.6.hook_mlp_out', index=[:]) downstream_component=ModelComponent(hook_point_name='blocks.8.hook_q_input', index=[:, :, 9]) with attribution 0.008109061047434807\n",
      "NOT PRUNING upstream_component=ModelComponent(hook_point_name='blocks.6.hook_mlp_out', index=[:]) downstream_component=ModelComponent(hook_point_name='blocks.8.hook_q_input', index=[:, :, 6]) with attribution 0.005678963847458363\n",
      "NOT PRUNING upstream_component=ModelComponent(hook_point_name='blocks.6.hook_mlp_out', index=[:]) downstream_component=ModelComponent(hook_point_name='blocks.7.hook_mlp_in', index=[:]) with attribution 0.02778780832886696\n",
      "NOT PRUNING upstream_component=ModelComponent(hook_point_name='blocks.6.hook_mlp_out', index=[:]) downstream_component=ModelComponent(hook_point_name='blocks.7.hook_v_input', index=[:, :, 9]) with attribution 0.018691685050725937\n",
      "NOT PRUNING upstream_component=ModelComponent(hook_point_name='blocks.6.hook_mlp_out', index=[:]) downstream_component=ModelComponent(hook_point_name='blocks.7.hook_v_input', index=[:, :, 8]) with attribution 0.008796434849500656\n",
      "NOT PRUNING upstream_component=ModelComponent(hook_point_name='blocks.6.hook_mlp_out', index=[:]) downstream_component=ModelComponent(hook_point_name='blocks.7.hook_v_input', index=[:, :, 6]) with attribution 0.0071284836158156395\n",
      "NOT PRUNING upstream_component=ModelComponent(hook_point_name='blocks.6.hook_mlp_out', index=[:]) downstream_component=ModelComponent(hook_point_name='blocks.7.hook_v_input', index=[:, :, 4]) with attribution 0.013305146247148514\n",
      "NOT PRUNING upstream_component=ModelComponent(hook_point_name='blocks.6.hook_mlp_out', index=[:]) downstream_component=ModelComponent(hook_point_name='blocks.7.hook_v_input', index=[:, :, 3]) with attribution 0.027798693627119064\n",
      "NOT PRUNING upstream_component=ModelComponent(hook_point_name='blocks.6.hook_mlp_out', index=[:]) downstream_component=ModelComponent(hook_point_name='blocks.7.hook_v_input', index=[:, :, 1]) with attribution 0.011672822758555412\n",
      "NOT PRUNING upstream_component=ModelComponent(hook_point_name='blocks.6.hook_mlp_out', index=[:]) downstream_component=ModelComponent(hook_point_name='blocks.7.hook_v_input', index=[:, :, 0]) with attribution 0.007026109844446182\n",
      "NOT PRUNING upstream_component=ModelComponent(hook_point_name='blocks.6.hook_mlp_out', index=[:]) downstream_component=ModelComponent(hook_point_name='blocks.7.hook_k_input', index=[:, :, 9]) with attribution 0.06566650420427322\n",
      "NOT PRUNING upstream_component=ModelComponent(hook_point_name='blocks.6.hook_mlp_out', index=[:]) downstream_component=ModelComponent(hook_point_name='blocks.7.hook_k_input', index=[:, :, 5]) with attribution 0.007728552911430597\n",
      "NOT PRUNING upstream_component=ModelComponent(hook_point_name='blocks.6.hook_mlp_out', index=[:]) downstream_component=ModelComponent(hook_point_name='blocks.7.hook_k_input', index=[:, :, 3]) with attribution 0.006331523880362511\n"
     ]
    },
    {
     "name": "stderr",
     "output_type": "stream",
     "text": []
    },
    {
     "name": "stdout",
     "output_type": "stream",
     "text": [
      "NOT PRUNING upstream_component=ModelComponent(hook_point_name='blocks.6.hook_mlp_out', index=[:]) downstream_component=ModelComponent(hook_point_name='blocks.7.hook_q_input', index=[:, :, 11]) with attribution 0.01607421226799488\n",
      "NOT PRUNING upstream_component=ModelComponent(hook_point_name='blocks.6.hook_mlp_out', index=[:]) downstream_component=ModelComponent(hook_point_name='blocks.7.hook_q_input', index=[:, :, 6]) with attribution 0.007698624860495329\n",
      "NOT PRUNING upstream_component=ModelComponent(hook_point_name='blocks.6.hook_mlp_out', index=[:]) downstream_component=ModelComponent(hook_point_name='blocks.7.hook_q_input', index=[:, :, 5]) with attribution 0.011126185767352581\n",
      "NOT PRUNING upstream_component=ModelComponent(hook_point_name='blocks.6.hook_mlp_out', index=[:]) downstream_component=ModelComponent(hook_point_name='blocks.7.hook_q_input', index=[:, :, 3]) with attribution 0.013113313354551792\n",
      "NOT PRUNING upstream_component=ModelComponent(hook_point_name='blocks.6.hook_mlp_out', index=[:]) downstream_component=ModelComponent(hook_point_name='blocks.7.hook_q_input', index=[:, :, 1]) with attribution 0.008296630345284939\n",
      "NOT PRUNING upstream_component=ModelComponent(hook_point_name='blocks.6.hook_mlp_out', index=[:]) downstream_component=ModelComponent(hook_point_name='blocks.7.hook_q_input', index=[:, :, 0]) with attribution 0.005183327943086624\n"
     ]
    },
    {
     "name": "stderr",
     "output_type": "stream",
     "text": []
    },
    {
     "name": "stdout",
     "output_type": "stream",
     "text": [
      "NOT PRUNING upstream_component=ModelComponent(hook_point_name='blocks.6.attn.hook_result', index=[:, :, 11]) downstream_component=ModelComponent(hook_point_name='blocks.7.hook_mlp_in', index=[:]) with attribution 0.008221781812608242\n",
      "NOT PRUNING upstream_component=ModelComponent(hook_point_name='blocks.6.attn.hook_result', index=[:, :, 11]) downstream_component=ModelComponent(hook_point_name='blocks.7.hook_v_input', index=[:, :, 9]) with attribution 0.005396740511059761\n"
     ]
    },
    {
     "name": "stderr",
     "output_type": "stream",
     "text": []
    },
    {
     "name": "stdout",
     "output_type": "stream",
     "text": [
      "NOT PRUNING upstream_component=ModelComponent(hook_point_name='blocks.6.attn.hook_result', index=[:, :, 10]) downstream_component=ModelComponent(hook_point_name='blocks.7.hook_mlp_in', index=[:]) with attribution 0.009455617517232895\n"
     ]
    },
    {
     "name": "stderr",
     "output_type": "stream",
     "text": []
    },
    {
     "name": "stdout",
     "output_type": "stream",
     "text": [
      "NOT PRUNING upstream_component=ModelComponent(hook_point_name='blocks.6.attn.hook_result', index=[:, :, 10]) downstream_component=ModelComponent(hook_point_name='blocks.6.hook_mlp_in', index=[:]) with attribution 0.01724405214190483\n",
      "NOT PRUNING upstream_component=ModelComponent(hook_point_name='blocks.6.attn.hook_result', index=[:, :, 9]) downstream_component=ModelComponent(hook_point_name='blocks.11.hook_k_input', index=[:, :, 10]) with attribution 0.016138963401317596\n",
      "NOT PRUNING upstream_component=ModelComponent(hook_point_name='blocks.6.attn.hook_result', index=[:, :, 9]) downstream_component=ModelComponent(hook_point_name='blocks.10.hook_k_input', index=[:, :, 7]) with attribution 0.014298810623586178\n",
      "NOT PRUNING upstream_component=ModelComponent(hook_point_name='blocks.6.attn.hook_result', index=[:, :, 9]) downstream_component=ModelComponent(hook_point_name='blocks.10.hook_k_input', index=[:, :, 0]) with attribution 0.00596071220934391\n",
      "NOT PRUNING upstream_component=ModelComponent(hook_point_name='blocks.6.attn.hook_result', index=[:, :, 9]) downstream_component=ModelComponent(hook_point_name='blocks.9.hook_v_input', index=[:, :, 7]) with attribution 0.0124316131696105\n",
      "NOT PRUNING upstream_component=ModelComponent(hook_point_name='blocks.6.attn.hook_result', index=[:, :, 9]) downstream_component=ModelComponent(hook_point_name='blocks.9.hook_k_input', index=[:, :, 7]) with attribution 0.018761254847049713\n"
     ]
    },
    {
     "name": "stderr",
     "output_type": "stream",
     "text": []
    },
    {
     "name": "stdout",
     "output_type": "stream",
     "text": [
      "NOT PRUNING upstream_component=ModelComponent(hook_point_name='blocks.6.attn.hook_result', index=[:, :, 9]) downstream_component=ModelComponent(hook_point_name='blocks.8.hook_mlp_in', index=[:]) with attribution 0.007745341397821903\n",
      "NOT PRUNING upstream_component=ModelComponent(hook_point_name='blocks.6.attn.hook_result', index=[:, :, 9]) downstream_component=ModelComponent(hook_point_name='blocks.8.hook_v_input', index=[:, :, 10]) with attribution 0.0550297275185585\n",
      "NOT PRUNING upstream_component=ModelComponent(hook_point_name='blocks.6.attn.hook_result', index=[:, :, 9]) downstream_component=ModelComponent(hook_point_name='blocks.8.hook_v_input', index=[:, :, 6]) with attribution 0.20265430212020874\n",
      "NOT PRUNING upstream_component=ModelComponent(hook_point_name='blocks.6.attn.hook_result', index=[:, :, 9]) downstream_component=ModelComponent(hook_point_name='blocks.8.hook_k_input', index=[:, :, 10]) with attribution 0.029036059975624084\n",
      "NOT PRUNING upstream_component=ModelComponent(hook_point_name='blocks.6.attn.hook_result', index=[:, :, 9]) downstream_component=ModelComponent(hook_point_name='blocks.8.hook_k_input', index=[:, :, 6]) with attribution 0.03689275309443474\n",
      "NOT PRUNING upstream_component=ModelComponent(hook_point_name='blocks.6.attn.hook_result', index=[:, :, 9]) downstream_component=ModelComponent(hook_point_name='blocks.7.hook_mlp_in', index=[:]) with attribution 0.06322266906499863\n",
      "NOT PRUNING upstream_component=ModelComponent(hook_point_name='blocks.6.attn.hook_result', index=[:, :, 9]) downstream_component=ModelComponent(hook_point_name='blocks.7.hook_v_input', index=[:, :, 9]) with attribution 0.08705177903175354\n",
      "NOT PRUNING upstream_component=ModelComponent(hook_point_name='blocks.6.attn.hook_result', index=[:, :, 9]) downstream_component=ModelComponent(hook_point_name='blocks.7.hook_v_input', index=[:, :, 3]) with attribution 0.01773393154144287\n",
      "NOT PRUNING upstream_component=ModelComponent(hook_point_name='blocks.6.attn.hook_result', index=[:, :, 9]) downstream_component=ModelComponent(hook_point_name='blocks.7.hook_k_input', index=[:, :, 9]) with attribution 0.02493980899453163\n"
     ]
    },
    {
     "name": "stderr",
     "output_type": "stream",
     "text": []
    },
    {
     "name": "stdout",
     "output_type": "stream",
     "text": [
      "NOT PRUNING upstream_component=ModelComponent(hook_point_name='blocks.6.attn.hook_result', index=[:, :, 9]) downstream_component=ModelComponent(hook_point_name='blocks.7.hook_q_input', index=[:, :, 5]) with attribution 0.005424985196441412\n",
      "NOT PRUNING upstream_component=ModelComponent(hook_point_name='blocks.6.attn.hook_result', index=[:, :, 9]) downstream_component=ModelComponent(hook_point_name='blocks.7.hook_q_input', index=[:, :, 3]) with attribution 0.007648047991096973\n",
      "NOT PRUNING upstream_component=ModelComponent(hook_point_name='blocks.6.attn.hook_result', index=[:, :, 9]) downstream_component=ModelComponent(hook_point_name='blocks.7.hook_q_input', index=[:, :, 1]) with attribution 0.050743818283081055\n",
      "NOT PRUNING upstream_component=ModelComponent(hook_point_name='blocks.6.attn.hook_result', index=[:, :, 9]) downstream_component=ModelComponent(hook_point_name='blocks.6.hook_mlp_in', index=[:]) with attribution 0.15325307846069336\n"
     ]
    },
    {
     "name": "stderr",
     "output_type": "stream",
     "text": []
    },
    {
     "name": "stdout",
     "output_type": "stream",
     "text": [
      "NOT PRUNING upstream_component=ModelComponent(hook_point_name='blocks.6.attn.hook_result', index=[:, :, 8]) downstream_component=ModelComponent(hook_point_name='blocks.10.hook_k_input', index=[:, :, 2]) with attribution 0.005777530372142792\n",
      "NOT PRUNING upstream_component=ModelComponent(hook_point_name='blocks.6.attn.hook_result', index=[:, :, 8]) downstream_component=ModelComponent(hook_point_name='blocks.9.hook_k_input', index=[:, :, 4]) with attribution 0.00935255829244852\n"
     ]
    },
    {
     "name": "stderr",
     "output_type": "stream",
     "text": []
    },
    {
     "name": "stdout",
     "output_type": "stream",
     "text": [
      "NOT PRUNING upstream_component=ModelComponent(hook_point_name='blocks.6.attn.hook_result', index=[:, :, 8]) downstream_component=ModelComponent(hook_point_name='blocks.8.hook_v_input', index=[:, :, 3]) with attribution 0.008016007021069527\n",
      "NOT PRUNING upstream_component=ModelComponent(hook_point_name='blocks.6.attn.hook_result', index=[:, :, 8]) downstream_component=ModelComponent(hook_point_name='blocks.8.hook_k_input', index=[:, :, 3]) with attribution 0.005680511239916086\n"
     ]
    },
    {
     "name": "stderr",
     "output_type": "stream",
     "text": []
    },
    {
     "name": "stdout",
     "output_type": "stream",
     "text": [
      "NOT PRUNING upstream_component=ModelComponent(hook_point_name='blocks.6.attn.hook_result', index=[:, :, 7]) downstream_component=ModelComponent(hook_point_name='blocks.8.hook_v_input', index=[:, :, 10]) with attribution 0.006095039192587137\n",
      "NOT PRUNING upstream_component=ModelComponent(hook_point_name='blocks.6.attn.hook_result', index=[:, :, 7]) downstream_component=ModelComponent(hook_point_name='blocks.8.hook_v_input', index=[:, :, 6]) with attribution 0.00841208454221487\n",
      "NOT PRUNING upstream_component=ModelComponent(hook_point_name='blocks.6.attn.hook_result', index=[:, :, 7]) downstream_component=ModelComponent(hook_point_name='blocks.8.hook_k_input', index=[:, :, 10]) with attribution 0.006370220798999071\n",
      "NOT PRUNING upstream_component=ModelComponent(hook_point_name='blocks.6.attn.hook_result', index=[:, :, 7]) downstream_component=ModelComponent(hook_point_name='blocks.8.hook_k_input', index=[:, :, 6]) with attribution 0.017016928642988205\n",
      "NOT PRUNING upstream_component=ModelComponent(hook_point_name='blocks.6.attn.hook_result', index=[:, :, 7]) downstream_component=ModelComponent(hook_point_name='blocks.7.hook_v_input', index=[:, :, 9]) with attribution 0.00582245085388422\n",
      "NOT PRUNING upstream_component=ModelComponent(hook_point_name='blocks.6.attn.hook_result', index=[:, :, 7]) downstream_component=ModelComponent(hook_point_name='blocks.7.hook_v_input', index=[:, :, 3]) with attribution 0.005343789234757423\n"
     ]
    },
    {
     "name": "stderr",
     "output_type": "stream",
     "text": []
    },
    {
     "name": "stdout",
     "output_type": "stream",
     "text": [
      "NOT PRUNING upstream_component=ModelComponent(hook_point_name='blocks.6.attn.hook_result', index=[:, :, 7]) downstream_component=ModelComponent(hook_point_name='blocks.6.hook_mlp_in', index=[:]) with attribution 0.04305630549788475\n",
      "NOT PRUNING upstream_component=ModelComponent(hook_point_name='blocks.6.attn.hook_result', index=[:, :, 6]) downstream_component=ModelComponent(hook_point_name='blocks.11.hook_resid_post', index=[:]) with attribution 0.006039148662239313\n",
      "NOT PRUNING upstream_component=ModelComponent(hook_point_name='blocks.6.attn.hook_result', index=[:, :, 6]) downstream_component=ModelComponent(hook_point_name='blocks.11.hook_k_input', index=[:, :, 10]) with attribution 0.02610331028699875\n",
      "NOT PRUNING upstream_component=ModelComponent(hook_point_name='blocks.6.attn.hook_result', index=[:, :, 6]) downstream_component=ModelComponent(hook_point_name='blocks.11.hook_k_input', index=[:, :, 2]) with attribution 0.0054990872740745544\n",
      "NOT PRUNING upstream_component=ModelComponent(hook_point_name='blocks.6.attn.hook_result', index=[:, :, 6]) downstream_component=ModelComponent(hook_point_name='blocks.11.hook_q_input', index=[:, :, 10]) with attribution 0.005242789164185524\n",
      "NOT PRUNING upstream_component=ModelComponent(hook_point_name='blocks.6.attn.hook_result', index=[:, :, 6]) downstream_component=ModelComponent(hook_point_name='blocks.10.hook_k_input', index=[:, :, 7]) with attribution 0.02236086130142212\n",
      "NOT PRUNING upstream_component=ModelComponent(hook_point_name='blocks.6.attn.hook_result', index=[:, :, 6]) downstream_component=ModelComponent(hook_point_name='blocks.10.hook_k_input', index=[:, :, 2]) with attribution 0.00571419857442379\n",
      "NOT PRUNING upstream_component=ModelComponent(hook_point_name='blocks.6.attn.hook_result', index=[:, :, 6]) downstream_component=ModelComponent(hook_point_name='blocks.9.hook_mlp_in', index=[:]) with attribution 0.00725178699940443\n",
      "NOT PRUNING upstream_component=ModelComponent(hook_point_name='blocks.6.attn.hook_result', index=[:, :, 6]) downstream_component=ModelComponent(hook_point_name='blocks.9.hook_k_input', index=[:, :, 9]) with attribution 0.006103078834712505\n",
      "NOT PRUNING upstream_component=ModelComponent(hook_point_name='blocks.6.attn.hook_result', index=[:, :, 6]) downstream_component=ModelComponent(hook_point_name='blocks.9.hook_k_input', index=[:, :, 7]) with attribution 0.01265866681933403\n",
      "NOT PRUNING upstream_component=ModelComponent(hook_point_name='blocks.6.attn.hook_result', index=[:, :, 6]) downstream_component=ModelComponent(hook_point_name='blocks.9.hook_k_input', index=[:, :, 6]) with attribution 0.006725209765136242\n",
      "NOT PRUNING upstream_component=ModelComponent(hook_point_name='blocks.6.attn.hook_result', index=[:, :, 6]) downstream_component=ModelComponent(hook_point_name='blocks.8.hook_mlp_in', index=[:]) with attribution 0.029252098873257637\n",
      "NOT PRUNING upstream_component=ModelComponent(hook_point_name='blocks.6.attn.hook_result', index=[:, :, 6]) downstream_component=ModelComponent(hook_point_name='blocks.8.hook_v_input', index=[:, :, 10]) with attribution 0.028801530599594116\n"
     ]
    },
    {
     "name": "stderr",
     "output_type": "stream",
     "text": []
    },
    {
     "name": "stdout",
     "output_type": "stream",
     "text": [
      "NOT PRUNING upstream_component=ModelComponent(hook_point_name='blocks.6.attn.hook_result', index=[:, :, 6]) downstream_component=ModelComponent(hook_point_name='blocks.8.hook_v_input', index=[:, :, 6]) with attribution 0.0292257908731699\n",
      "NOT PRUNING upstream_component=ModelComponent(hook_point_name='blocks.6.attn.hook_result', index=[:, :, 6]) downstream_component=ModelComponent(hook_point_name='blocks.8.hook_v_input', index=[:, :, 2]) with attribution 0.00510101392865181\n",
      "NOT PRUNING upstream_component=ModelComponent(hook_point_name='blocks.6.attn.hook_result', index=[:, :, 6]) downstream_component=ModelComponent(hook_point_name='blocks.8.hook_k_input', index=[:, :, 10]) with attribution 0.032296013087034225\n",
      "NOT PRUNING upstream_component=ModelComponent(hook_point_name='blocks.6.attn.hook_result', index=[:, :, 6]) downstream_component=ModelComponent(hook_point_name='blocks.8.hook_k_input', index=[:, :, 6]) with attribution 0.09236589074134827\n",
      "NOT PRUNING upstream_component=ModelComponent(hook_point_name='blocks.6.attn.hook_result', index=[:, :, 6]) downstream_component=ModelComponent(hook_point_name='blocks.8.hook_k_input', index=[:, :, 2]) with attribution 0.005569275468587875\n",
      "NOT PRUNING upstream_component=ModelComponent(hook_point_name='blocks.6.attn.hook_result', index=[:, :, 6]) downstream_component=ModelComponent(hook_point_name='blocks.8.hook_q_input', index=[:, :, 10]) with attribution 0.005024359095841646\n",
      "NOT PRUNING upstream_component=ModelComponent(hook_point_name='blocks.6.attn.hook_result', index=[:, :, 6]) downstream_component=ModelComponent(hook_point_name='blocks.8.hook_q_input', index=[:, :, 9]) with attribution 0.005000261124223471\n",
      "NOT PRUNING upstream_component=ModelComponent(hook_point_name='blocks.6.attn.hook_result', index=[:, :, 6]) downstream_component=ModelComponent(hook_point_name='blocks.7.hook_mlp_in', index=[:]) with attribution 0.0914437547326088\n",
      "NOT PRUNING upstream_component=ModelComponent(hook_point_name='blocks.6.attn.hook_result', index=[:, :, 6]) downstream_component=ModelComponent(hook_point_name='blocks.7.hook_v_input', index=[:, :, 9]) with attribution 0.008393952623009682\n",
      "NOT PRUNING upstream_component=ModelComponent(hook_point_name='blocks.6.attn.hook_result', index=[:, :, 6]) downstream_component=ModelComponent(hook_point_name='blocks.7.hook_v_input', index=[:, :, 3]) with attribution 0.026661382988095284\n",
      "NOT PRUNING upstream_component=ModelComponent(hook_point_name='blocks.6.attn.hook_result', index=[:, :, 6]) downstream_component=ModelComponent(hook_point_name='blocks.7.hook_k_input', index=[:, :, 9]) with attribution 0.022357452660799026\n",
      "NOT PRUNING upstream_component=ModelComponent(hook_point_name='blocks.6.attn.hook_result', index=[:, :, 6]) downstream_component=ModelComponent(hook_point_name='blocks.7.hook_k_input', index=[:, :, 3]) with attribution 0.010544635355472565\n"
     ]
    },
    {
     "name": "stderr",
     "output_type": "stream",
     "text": []
    },
    {
     "name": "stdout",
     "output_type": "stream",
     "text": [
      "NOT PRUNING upstream_component=ModelComponent(hook_point_name='blocks.6.attn.hook_result', index=[:, :, 6]) downstream_component=ModelComponent(hook_point_name='blocks.7.hook_q_input', index=[:, :, 5]) with attribution 0.006411516573280096\n",
      "NOT PRUNING upstream_component=ModelComponent(hook_point_name='blocks.6.attn.hook_result', index=[:, :, 6]) downstream_component=ModelComponent(hook_point_name='blocks.7.hook_q_input', index=[:, :, 1]) with attribution 0.07372170686721802\n",
      "NOT PRUNING upstream_component=ModelComponent(hook_point_name='blocks.6.attn.hook_result', index=[:, :, 6]) downstream_component=ModelComponent(hook_point_name='blocks.6.hook_mlp_in', index=[:]) with attribution 0.09635364264249802\n"
     ]
    },
    {
     "name": "stderr",
     "output_type": "stream",
     "text": []
    },
    {
     "name": "stdout",
     "output_type": "stream",
     "text": [
      "NOT PRUNING upstream_component=ModelComponent(hook_point_name='blocks.6.attn.hook_result', index=[:, :, 5]) downstream_component=ModelComponent(hook_point_name='blocks.11.hook_k_input', index=[:, :, 2]) with attribution 0.007047251798212528\n",
      "NOT PRUNING upstream_component=ModelComponent(hook_point_name='blocks.6.attn.hook_result', index=[:, :, 5]) downstream_component=ModelComponent(hook_point_name='blocks.9.hook_mlp_in', index=[:]) with attribution 0.011648512445390224\n"
     ]
    },
    {
     "name": "stderr",
     "output_type": "stream",
     "text": []
    },
    {
     "name": "stdout",
     "output_type": "stream",
     "text": [
      "NOT PRUNING upstream_component=ModelComponent(hook_point_name='blocks.6.attn.hook_result', index=[:, :, 5]) downstream_component=ModelComponent(hook_point_name='blocks.8.hook_k_input', index=[:, :, 10]) with attribution 0.007837992161512375\n",
      "NOT PRUNING upstream_component=ModelComponent(hook_point_name='blocks.6.attn.hook_result', index=[:, :, 5]) downstream_component=ModelComponent(hook_point_name='blocks.8.hook_k_input', index=[:, :, 6]) with attribution 0.010533777065575123\n",
      "NOT PRUNING upstream_component=ModelComponent(hook_point_name='blocks.6.attn.hook_result', index=[:, :, 5]) downstream_component=ModelComponent(hook_point_name='blocks.8.hook_q_input', index=[:, :, 10]) with attribution 0.00706517556682229\n",
      "NOT PRUNING upstream_component=ModelComponent(hook_point_name='blocks.6.attn.hook_result', index=[:, :, 5]) downstream_component=ModelComponent(hook_point_name='blocks.7.hook_mlp_in', index=[:]) with attribution 0.006402368191629648\n",
      "NOT PRUNING upstream_component=ModelComponent(hook_point_name='blocks.6.attn.hook_result', index=[:, :, 5]) downstream_component=ModelComponent(hook_point_name='blocks.7.hook_v_input', index=[:, :, 9]) with attribution 0.005606139078736305\n",
      "NOT PRUNING upstream_component=ModelComponent(hook_point_name='blocks.6.attn.hook_result', index=[:, :, 5]) downstream_component=ModelComponent(hook_point_name='blocks.7.hook_k_input', index=[:, :, 9]) with attribution 0.005541794002056122\n"
     ]
    },
    {
     "name": "stderr",
     "output_type": "stream",
     "text": []
    },
    {
     "name": "stdout",
     "output_type": "stream",
     "text": [
      "NOT PRUNING upstream_component=ModelComponent(hook_point_name='blocks.6.attn.hook_result', index=[:, :, 5]) downstream_component=ModelComponent(hook_point_name='blocks.7.hook_q_input', index=[:, :, 9]) with attribution 0.0078013502061367035\n",
      "NOT PRUNING upstream_component=ModelComponent(hook_point_name='blocks.6.attn.hook_result', index=[:, :, 5]) downstream_component=ModelComponent(hook_point_name='blocks.6.hook_mlp_in', index=[:]) with attribution 0.019917897880077362\n"
     ]
    },
    {
     "name": "stderr",
     "output_type": "stream",
     "text": []
    },
    {
     "name": "stdout",
     "output_type": "stream",
     "text": [
      "NOT PRUNING upstream_component=ModelComponent(hook_point_name='blocks.6.attn.hook_result', index=[:, :, 4]) downstream_component=ModelComponent(hook_point_name='blocks.11.hook_resid_post', index=[:]) with attribution 0.009478002786636353\n"
     ]
    },
    {
     "name": "stderr",
     "output_type": "stream",
     "text": []
    },
    {
     "name": "stdout",
     "output_type": "stream",
     "text": [
      "NOT PRUNING upstream_component=ModelComponent(hook_point_name='blocks.6.attn.hook_result', index=[:, :, 4]) downstream_component=ModelComponent(hook_point_name='blocks.8.hook_mlp_in', index=[:]) with attribution 0.013910866342484951\n",
      "NOT PRUNING upstream_component=ModelComponent(hook_point_name='blocks.6.attn.hook_result', index=[:, :, 4]) downstream_component=ModelComponent(hook_point_name='blocks.8.hook_v_input', index=[:, :, 2]) with attribution 0.007542057428508997\n"
     ]
    },
    {
     "name": "stderr",
     "output_type": "stream",
     "text": []
    },
    {
     "name": "stdout",
     "output_type": "stream",
     "text": [
      "NOT PRUNING upstream_component=ModelComponent(hook_point_name='blocks.6.attn.hook_result', index=[:, :, 3]) downstream_component=ModelComponent(hook_point_name='blocks.11.hook_k_input', index=[:, :, 10]) with attribution 0.012735641561448574\n",
      "NOT PRUNING upstream_component=ModelComponent(hook_point_name='blocks.6.attn.hook_result', index=[:, :, 3]) downstream_component=ModelComponent(hook_point_name='blocks.9.hook_k_input', index=[:, :, 7]) with attribution 0.009536811150610447\n"
     ]
    },
    {
     "name": "stderr",
     "output_type": "stream",
     "text": []
    },
    {
     "name": "stdout",
     "output_type": "stream",
     "text": [
      "NOT PRUNING upstream_component=ModelComponent(hook_point_name='blocks.6.attn.hook_result', index=[:, :, 3]) downstream_component=ModelComponent(hook_point_name='blocks.8.hook_k_input', index=[:, :, 10]) with attribution 0.01477660983800888\n",
      "NOT PRUNING upstream_component=ModelComponent(hook_point_name='blocks.6.attn.hook_result', index=[:, :, 3]) downstream_component=ModelComponent(hook_point_name='blocks.8.hook_k_input', index=[:, :, 6]) with attribution 0.00879204273223877\n",
      "NOT PRUNING upstream_component=ModelComponent(hook_point_name='blocks.6.attn.hook_result', index=[:, :, 3]) downstream_component=ModelComponent(hook_point_name='blocks.7.hook_mlp_in', index=[:]) with attribution 0.019392913207411766\n",
      "NOT PRUNING upstream_component=ModelComponent(hook_point_name='blocks.6.attn.hook_result', index=[:, :, 3]) downstream_component=ModelComponent(hook_point_name='blocks.7.hook_v_input', index=[:, :, 9]) with attribution 0.011223504319787025\n"
     ]
    },
    {
     "name": "stderr",
     "output_type": "stream",
     "text": []
    },
    {
     "name": "stdout",
     "output_type": "stream",
     "text": [
      "NOT PRUNING upstream_component=ModelComponent(hook_point_name='blocks.6.attn.hook_result', index=[:, :, 2]) downstream_component=ModelComponent(hook_point_name='blocks.9.hook_k_input', index=[:, :, 7]) with attribution 0.009948685765266418\n"
     ]
    },
    {
     "name": "stderr",
     "output_type": "stream",
     "text": []
    },
    {
     "name": "stdout",
     "output_type": "stream",
     "text": [
      "NOT PRUNING upstream_component=ModelComponent(hook_point_name='blocks.6.attn.hook_result', index=[:, :, 2]) downstream_component=ModelComponent(hook_point_name='blocks.8.hook_mlp_in', index=[:]) with attribution 0.006605315022170544\n",
      "NOT PRUNING upstream_component=ModelComponent(hook_point_name='blocks.6.attn.hook_result', index=[:, :, 2]) downstream_component=ModelComponent(hook_point_name='blocks.8.hook_k_input', index=[:, :, 10]) with attribution 0.013675477355718613\n",
      "NOT PRUNING upstream_component=ModelComponent(hook_point_name='blocks.6.attn.hook_result', index=[:, :, 2]) downstream_component=ModelComponent(hook_point_name='blocks.8.hook_k_input', index=[:, :, 6]) with attribution 0.019156742841005325\n",
      "NOT PRUNING upstream_component=ModelComponent(hook_point_name='blocks.6.attn.hook_result', index=[:, :, 2]) downstream_component=ModelComponent(hook_point_name='blocks.8.hook_q_input', index=[:, :, 10]) with attribution 0.00618975143879652\n",
      "NOT PRUNING upstream_component=ModelComponent(hook_point_name='blocks.6.attn.hook_result', index=[:, :, 2]) downstream_component=ModelComponent(hook_point_name='blocks.8.hook_q_input', index=[:, :, 6]) with attribution 0.008169742301106453\n",
      "NOT PRUNING upstream_component=ModelComponent(hook_point_name='blocks.6.attn.hook_result', index=[:, :, 2]) downstream_component=ModelComponent(hook_point_name='blocks.7.hook_mlp_in', index=[:]) with attribution 0.021158546209335327\n",
      "NOT PRUNING upstream_component=ModelComponent(hook_point_name='blocks.6.attn.hook_result', index=[:, :, 2]) downstream_component=ModelComponent(hook_point_name='blocks.7.hook_k_input', index=[:, :, 9]) with attribution 0.00836344063282013\n"
     ]
    },
    {
     "name": "stderr",
     "output_type": "stream",
     "text": []
    },
    {
     "name": "stdout",
     "output_type": "stream",
     "text": [
      "NOT PRUNING upstream_component=ModelComponent(hook_point_name='blocks.6.attn.hook_result', index=[:, :, 2]) downstream_component=ModelComponent(hook_point_name='blocks.6.hook_mlp_in', index=[:]) with attribution 0.009377585723996162\n",
      "NOT PRUNING upstream_component=ModelComponent(hook_point_name='blocks.6.attn.hook_result', index=[:, :, 1]) downstream_component=ModelComponent(hook_point_name='blocks.11.hook_k_input', index=[:, :, 10]) with attribution 0.006068206392228603\n"
     ]
    },
    {
     "name": "stderr",
     "output_type": "stream",
     "text": []
    },
    {
     "name": "stdout",
     "output_type": "stream",
     "text": [
      "NOT PRUNING upstream_component=ModelComponent(hook_point_name='blocks.6.attn.hook_result', index=[:, :, 1]) downstream_component=ModelComponent(hook_point_name='blocks.10.hook_q_input', index=[:, :, 0]) with attribution 0.00855224672704935\n",
      "NOT PRUNING upstream_component=ModelComponent(hook_point_name='blocks.6.attn.hook_result', index=[:, :, 1]) downstream_component=ModelComponent(hook_point_name='blocks.9.hook_k_input', index=[:, :, 4]) with attribution 0.006386386696249247\n",
      "NOT PRUNING upstream_component=ModelComponent(hook_point_name='blocks.6.attn.hook_result', index=[:, :, 1]) downstream_component=ModelComponent(hook_point_name='blocks.9.hook_q_input', index=[:, :, 9]) with attribution 0.00986617524176836\n",
      "NOT PRUNING upstream_component=ModelComponent(hook_point_name='blocks.6.attn.hook_result', index=[:, :, 1]) downstream_component=ModelComponent(hook_point_name='blocks.8.hook_mlp_in', index=[:]) with attribution 0.00648089312016964\n"
     ]
    },
    {
     "name": "stderr",
     "output_type": "stream",
     "text": []
    },
    {
     "name": "stdout",
     "output_type": "stream",
     "text": [
      "NOT PRUNING upstream_component=ModelComponent(hook_point_name='blocks.6.attn.hook_result', index=[:, :, 1]) downstream_component=ModelComponent(hook_point_name='blocks.8.hook_q_input', index=[:, :, 10]) with attribution 0.009689590893685818\n",
      "NOT PRUNING upstream_component=ModelComponent(hook_point_name='blocks.6.attn.hook_result', index=[:, :, 1]) downstream_component=ModelComponent(hook_point_name='blocks.7.hook_k_input', index=[:, :, 1]) with attribution 0.0050271074287593365\n",
      "NOT PRUNING upstream_component=ModelComponent(hook_point_name='blocks.6.attn.hook_result', index=[:, :, 1]) downstream_component=ModelComponent(hook_point_name='blocks.7.hook_q_input', index=[:, :, 9]) with attribution 0.013115806505084038\n"
     ]
    },
    {
     "name": "stderr",
     "output_type": "stream",
     "text": []
    },
    {
     "name": "stdout",
     "output_type": "stream",
     "text": [
      "NOT PRUNING upstream_component=ModelComponent(hook_point_name='blocks.6.attn.hook_result', index=[:, :, 1]) downstream_component=ModelComponent(hook_point_name='blocks.6.hook_mlp_in', index=[:]) with attribution 0.03511863946914673\n",
      "NOT PRUNING upstream_component=ModelComponent(hook_point_name='blocks.6.attn.hook_result', index=[:, :, 0]) downstream_component=ModelComponent(hook_point_name='blocks.11.hook_resid_post', index=[:]) with attribution 0.012152808718383312\n",
      "NOT PRUNING upstream_component=ModelComponent(hook_point_name='blocks.6.attn.hook_result', index=[:, :, 0]) downstream_component=ModelComponent(hook_point_name='blocks.11.hook_mlp_in', index=[:]) with attribution 0.010505889542400837\n",
      "NOT PRUNING upstream_component=ModelComponent(hook_point_name='blocks.6.attn.hook_result', index=[:, :, 0]) downstream_component=ModelComponent(hook_point_name='blocks.11.hook_k_input', index=[:, :, 10]) with attribution 0.008017301559448242\n",
      "NOT PRUNING upstream_component=ModelComponent(hook_point_name='blocks.6.attn.hook_result', index=[:, :, 0]) downstream_component=ModelComponent(hook_point_name='blocks.11.hook_k_input', index=[:, :, 2]) with attribution 0.007976134307682514\n",
      "NOT PRUNING upstream_component=ModelComponent(hook_point_name='blocks.6.attn.hook_result', index=[:, :, 0]) downstream_component=ModelComponent(hook_point_name='blocks.9.hook_mlp_in', index=[:]) with attribution 0.023269006982445717\n",
      "NOT PRUNING upstream_component=ModelComponent(hook_point_name='blocks.6.attn.hook_result', index=[:, :, 0]) downstream_component=ModelComponent(hook_point_name='blocks.9.hook_v_input', index=[:, :, 7]) with attribution 0.007874242961406708\n",
      "NOT PRUNING upstream_component=ModelComponent(hook_point_name='blocks.6.attn.hook_result', index=[:, :, 0]) downstream_component=ModelComponent(hook_point_name='blocks.9.hook_v_input', index=[:, :, 5]) with attribution 0.008206277154386044\n",
      "NOT PRUNING upstream_component=ModelComponent(hook_point_name='blocks.6.attn.hook_result', index=[:, :, 0]) downstream_component=ModelComponent(hook_point_name='blocks.9.hook_v_input', index=[:, :, 4]) with attribution 0.005234262440353632\n",
      "NOT PRUNING upstream_component=ModelComponent(hook_point_name='blocks.6.attn.hook_result', index=[:, :, 0]) downstream_component=ModelComponent(hook_point_name='blocks.9.hook_v_input', index=[:, :, 3]) with attribution 0.005208512302488089\n"
     ]
    },
    {
     "name": "stderr",
     "output_type": "stream",
     "text": []
    },
    {
     "name": "stdout",
     "output_type": "stream",
     "text": [
      "NOT PRUNING upstream_component=ModelComponent(hook_point_name='blocks.6.attn.hook_result', index=[:, :, 0]) downstream_component=ModelComponent(hook_point_name='blocks.9.hook_k_input', index=[:, :, 4]) with attribution 0.005571981891989708\n",
      "NOT PRUNING upstream_component=ModelComponent(hook_point_name='blocks.6.attn.hook_result', index=[:, :, 0]) downstream_component=ModelComponent(hook_point_name='blocks.9.hook_q_input', index=[:, :, 9]) with attribution 0.005597896873950958\n",
      "NOT PRUNING upstream_component=ModelComponent(hook_point_name='blocks.6.attn.hook_result', index=[:, :, 0]) downstream_component=ModelComponent(hook_point_name='blocks.9.hook_q_input', index=[:, :, 4]) with attribution 0.010211962275207043\n",
      "NOT PRUNING upstream_component=ModelComponent(hook_point_name='blocks.6.attn.hook_result', index=[:, :, 0]) downstream_component=ModelComponent(hook_point_name='blocks.8.hook_mlp_in', index=[:]) with attribution 0.013836388476192951\n",
      "NOT PRUNING upstream_component=ModelComponent(hook_point_name='blocks.6.attn.hook_result', index=[:, :, 0]) downstream_component=ModelComponent(hook_point_name='blocks.8.hook_v_input', index=[:, :, 10]) with attribution 0.020112253725528717\n",
      "NOT PRUNING upstream_component=ModelComponent(hook_point_name='blocks.6.attn.hook_result', index=[:, :, 0]) downstream_component=ModelComponent(hook_point_name='blocks.8.hook_k_input', index=[:, :, 6]) with attribution 0.01462281122803688\n",
      "NOT PRUNING upstream_component=ModelComponent(hook_point_name='blocks.6.attn.hook_result', index=[:, :, 0]) downstream_component=ModelComponent(hook_point_name='blocks.8.hook_q_input', index=[:, :, 10]) with attribution 0.017356907948851585\n",
      "NOT PRUNING upstream_component=ModelComponent(hook_point_name='blocks.6.attn.hook_result', index=[:, :, 0]) downstream_component=ModelComponent(hook_point_name='blocks.8.hook_q_input', index=[:, :, 6]) with attribution 0.01582896150648594\n",
      "NOT PRUNING upstream_component=ModelComponent(hook_point_name='blocks.6.attn.hook_result', index=[:, :, 0]) downstream_component=ModelComponent(hook_point_name='blocks.7.hook_mlp_in', index=[:]) with attribution 0.006729257293045521\n",
      "NOT PRUNING upstream_component=ModelComponent(hook_point_name='blocks.6.attn.hook_result', index=[:, :, 0]) downstream_component=ModelComponent(hook_point_name='blocks.7.hook_v_input', index=[:, :, 9]) with attribution 0.006877500098198652\n",
      "NOT PRUNING upstream_component=ModelComponent(hook_point_name='blocks.6.attn.hook_result', index=[:, :, 0]) downstream_component=ModelComponent(hook_point_name='blocks.7.hook_v_input', index=[:, :, 6]) with attribution 0.007185995578765869\n",
      "NOT PRUNING upstream_component=ModelComponent(hook_point_name='blocks.6.attn.hook_result', index=[:, :, 0]) downstream_component=ModelComponent(hook_point_name='blocks.7.hook_v_input', index=[:, :, 5]) with attribution 0.01066650915890932\n",
      "NOT PRUNING upstream_component=ModelComponent(hook_point_name='blocks.6.attn.hook_result', index=[:, :, 0]) downstream_component=ModelComponent(hook_point_name='blocks.7.hook_v_input', index=[:, :, 3]) with attribution 0.11474060267210007\n",
      "NOT PRUNING upstream_component=ModelComponent(hook_point_name='blocks.6.attn.hook_result', index=[:, :, 0]) downstream_component=ModelComponent(hook_point_name='blocks.7.hook_v_input', index=[:, :, 1]) with attribution 0.005468784831464291\n"
     ]
    },
    {
     "name": "stderr",
     "output_type": "stream",
     "text": []
    },
    {
     "name": "stdout",
     "output_type": "stream",
     "text": [
      "NOT PRUNING upstream_component=ModelComponent(hook_point_name='blocks.6.attn.hook_result', index=[:, :, 0]) downstream_component=ModelComponent(hook_point_name='blocks.7.hook_k_input', index=[:, :, 1]) with attribution 0.007319439668208361\n",
      "NOT PRUNING upstream_component=ModelComponent(hook_point_name='blocks.6.attn.hook_result', index=[:, :, 0]) downstream_component=ModelComponent(hook_point_name='blocks.7.hook_q_input', index=[:, :, 9]) with attribution 0.008498811163008213\n"
     ]
    },
    {
     "name": "stderr",
     "output_type": "stream",
     "text": []
    },
    {
     "name": "stdout",
     "output_type": "stream",
     "text": [
      "NOT PRUNING upstream_component=ModelComponent(hook_point_name='blocks.6.attn.hook_result', index=[:, :, 0]) downstream_component=ModelComponent(hook_point_name='blocks.6.hook_mlp_in', index=[:]) with attribution 0.0313090905547142\n",
      "NOT PRUNING upstream_component=ModelComponent(hook_point_name='blocks.5.hook_mlp_out', index=[:]) downstream_component=ModelComponent(hook_point_name='blocks.11.hook_resid_post', index=[:]) with attribution 0.006095169577747583\n",
      "NOT PRUNING upstream_component=ModelComponent(hook_point_name='blocks.5.hook_mlp_out', index=[:]) downstream_component=ModelComponent(hook_point_name='blocks.11.hook_v_input', index=[:, :, 10]) with attribution 0.04335172846913338\n",
      "NOT PRUNING upstream_component=ModelComponent(hook_point_name='blocks.5.hook_mlp_out', index=[:]) downstream_component=ModelComponent(hook_point_name='blocks.11.hook_v_input', index=[:, :, 2]) with attribution 0.00849788449704647\n",
      "NOT PRUNING upstream_component=ModelComponent(hook_point_name='blocks.5.hook_mlp_out', index=[:]) downstream_component=ModelComponent(hook_point_name='blocks.11.hook_v_input', index=[:, :, 1]) with attribution 0.00507733691483736\n",
      "NOT PRUNING upstream_component=ModelComponent(hook_point_name='blocks.5.hook_mlp_out', index=[:]) downstream_component=ModelComponent(hook_point_name='blocks.11.hook_k_input', index=[:, :, 10]) with attribution 0.0693788155913353\n",
      "NOT PRUNING upstream_component=ModelComponent(hook_point_name='blocks.5.hook_mlp_out', index=[:]) downstream_component=ModelComponent(hook_point_name='blocks.11.hook_k_input', index=[:, :, 9]) with attribution 0.0072050802409648895\n",
      "NOT PRUNING upstream_component=ModelComponent(hook_point_name='blocks.5.hook_mlp_out', index=[:]) downstream_component=ModelComponent(hook_point_name='blocks.11.hook_k_input', index=[:, :, 6]) with attribution 0.021052813157439232\n",
      "NOT PRUNING upstream_component=ModelComponent(hook_point_name='blocks.5.hook_mlp_out', index=[:]) downstream_component=ModelComponent(hook_point_name='blocks.11.hook_k_input', index=[:, :, 2]) with attribution 0.045138150453567505\n",
      "NOT PRUNING upstream_component=ModelComponent(hook_point_name='blocks.5.hook_mlp_out', index=[:]) downstream_component=ModelComponent(hook_point_name='blocks.11.hook_k_input', index=[:, :, 1]) with attribution 0.014155413024127483\n",
      "NOT PRUNING upstream_component=ModelComponent(hook_point_name='blocks.5.hook_mlp_out', index=[:]) downstream_component=ModelComponent(hook_point_name='blocks.11.hook_q_input', index=[:, :, 10]) with attribution 0.008739085868000984\n",
      "NOT PRUNING upstream_component=ModelComponent(hook_point_name='blocks.5.hook_mlp_out', index=[:]) downstream_component=ModelComponent(hook_point_name='blocks.11.hook_q_input', index=[:, :, 2]) with attribution 0.007244235370308161\n",
      "NOT PRUNING upstream_component=ModelComponent(hook_point_name='blocks.5.hook_mlp_out', index=[:]) downstream_component=ModelComponent(hook_point_name='blocks.10.hook_mlp_in', index=[:]) with attribution 0.010683342814445496\n",
      "NOT PRUNING upstream_component=ModelComponent(hook_point_name='blocks.5.hook_mlp_out', index=[:]) downstream_component=ModelComponent(hook_point_name='blocks.10.hook_v_input', index=[:, :, 7]) with attribution 0.03721117228269577\n",
      "NOT PRUNING upstream_component=ModelComponent(hook_point_name='blocks.5.hook_mlp_out', index=[:]) downstream_component=ModelComponent(hook_point_name='blocks.10.hook_v_input', index=[:, :, 3]) with attribution 0.005102594383060932\n",
      "NOT PRUNING upstream_component=ModelComponent(hook_point_name='blocks.5.hook_mlp_out', index=[:]) downstream_component=ModelComponent(hook_point_name='blocks.10.hook_v_input', index=[:, :, 2]) with attribution 0.006700205150991678\n",
      "NOT PRUNING upstream_component=ModelComponent(hook_point_name='blocks.5.hook_mlp_out', index=[:]) downstream_component=ModelComponent(hook_point_name='blocks.10.hook_v_input', index=[:, :, 1]) with attribution 0.007194776553660631\n",
      "NOT PRUNING upstream_component=ModelComponent(hook_point_name='blocks.5.hook_mlp_out', index=[:]) downstream_component=ModelComponent(hook_point_name='blocks.10.hook_v_input', index=[:, :, 0]) with attribution 0.013861343264579773\n",
      "NOT PRUNING upstream_component=ModelComponent(hook_point_name='blocks.5.hook_mlp_out', index=[:]) downstream_component=ModelComponent(hook_point_name='blocks.10.hook_k_input', index=[:, :, 10]) with attribution 0.005656850524246693\n",
      "NOT PRUNING upstream_component=ModelComponent(hook_point_name='blocks.5.hook_mlp_out', index=[:]) downstream_component=ModelComponent(hook_point_name='blocks.10.hook_k_input', index=[:, :, 7]) with attribution 0.07608262449502945\n",
      "NOT PRUNING upstream_component=ModelComponent(hook_point_name='blocks.5.hook_mlp_out', index=[:]) downstream_component=ModelComponent(hook_point_name='blocks.10.hook_k_input', index=[:, :, 3]) with attribution 0.006362744607031345\n",
      "NOT PRUNING upstream_component=ModelComponent(hook_point_name='blocks.5.hook_mlp_out', index=[:]) downstream_component=ModelComponent(hook_point_name='blocks.10.hook_k_input', index=[:, :, 2]) with attribution 0.030307674780488014\n",
      "NOT PRUNING upstream_component=ModelComponent(hook_point_name='blocks.5.hook_mlp_out', index=[:]) downstream_component=ModelComponent(hook_point_name='blocks.10.hook_k_input', index=[:, :, 1]) with attribution 0.005198707804083824\n",
      "NOT PRUNING upstream_component=ModelComponent(hook_point_name='blocks.5.hook_mlp_out', index=[:]) downstream_component=ModelComponent(hook_point_name='blocks.10.hook_k_input', index=[:, :, 0]) with attribution 0.038596659898757935\n",
      "NOT PRUNING upstream_component=ModelComponent(hook_point_name='blocks.5.hook_mlp_out', index=[:]) downstream_component=ModelComponent(hook_point_name='blocks.10.hook_q_input', index=[:, :, 7]) with attribution 0.009014738723635674\n",
      "NOT PRUNING upstream_component=ModelComponent(hook_point_name='blocks.5.hook_mlp_out', index=[:]) downstream_component=ModelComponent(hook_point_name='blocks.10.hook_q_input', index=[:, :, 0]) with attribution 0.0062410528771579266\n",
      "NOT PRUNING upstream_component=ModelComponent(hook_point_name='blocks.5.hook_mlp_out', index=[:]) downstream_component=ModelComponent(hook_point_name='blocks.9.hook_mlp_in', index=[:]) with attribution 0.051084477454423904\n",
      "NOT PRUNING upstream_component=ModelComponent(hook_point_name='blocks.5.hook_mlp_out', index=[:]) downstream_component=ModelComponent(hook_point_name='blocks.9.hook_v_input', index=[:, :, 9]) with attribution 0.024661319330334663\n",
      "NOT PRUNING upstream_component=ModelComponent(hook_point_name='blocks.5.hook_mlp_out', index=[:]) downstream_component=ModelComponent(hook_point_name='blocks.9.hook_v_input', index=[:, :, 8]) with attribution 0.007146046031266451\n",
      "NOT PRUNING upstream_component=ModelComponent(hook_point_name='blocks.5.hook_mlp_out', index=[:]) downstream_component=ModelComponent(hook_point_name='blocks.9.hook_v_input', index=[:, :, 7]) with attribution 0.03998776525259018\n",
      "NOT PRUNING upstream_component=ModelComponent(hook_point_name='blocks.5.hook_mlp_out', index=[:]) downstream_component=ModelComponent(hook_point_name='blocks.9.hook_v_input', index=[:, :, 6]) with attribution 0.0214227344840765\n",
      "NOT PRUNING upstream_component=ModelComponent(hook_point_name='blocks.5.hook_mlp_out', index=[:]) downstream_component=ModelComponent(hook_point_name='blocks.9.hook_v_input', index=[:, :, 4]) with attribution 0.00502905435860157\n",
      "NOT PRUNING upstream_component=ModelComponent(hook_point_name='blocks.5.hook_mlp_out', index=[:]) downstream_component=ModelComponent(hook_point_name='blocks.9.hook_k_input', index=[:, :, 9]) with attribution 0.023996226489543915\n",
      "NOT PRUNING upstream_component=ModelComponent(hook_point_name='blocks.5.hook_mlp_out', index=[:]) downstream_component=ModelComponent(hook_point_name='blocks.9.hook_k_input', index=[:, :, 8]) with attribution 0.009531044401228428\n",
      "NOT PRUNING upstream_component=ModelComponent(hook_point_name='blocks.5.hook_mlp_out', index=[:]) downstream_component=ModelComponent(hook_point_name='blocks.9.hook_k_input', index=[:, :, 7]) with attribution 0.03064754791557789\n",
      "NOT PRUNING upstream_component=ModelComponent(hook_point_name='blocks.5.hook_mlp_out', index=[:]) downstream_component=ModelComponent(hook_point_name='blocks.9.hook_k_input', index=[:, :, 6]) with attribution 0.006183505989611149\n"
     ]
    },
    {
     "name": "stderr",
     "output_type": "stream",
     "text": []
    },
    {
     "name": "stdout",
     "output_type": "stream",
     "text": [
      "NOT PRUNING upstream_component=ModelComponent(hook_point_name='blocks.5.hook_mlp_out', index=[:]) downstream_component=ModelComponent(hook_point_name='blocks.9.hook_k_input', index=[:, :, 4]) with attribution 0.005721323192119598\n",
      "NOT PRUNING upstream_component=ModelComponent(hook_point_name='blocks.5.hook_mlp_out', index=[:]) downstream_component=ModelComponent(hook_point_name='blocks.9.hook_k_input', index=[:, :, 2]) with attribution 0.006828008685261011\n",
      "NOT PRUNING upstream_component=ModelComponent(hook_point_name='blocks.5.hook_mlp_out', index=[:]) downstream_component=ModelComponent(hook_point_name='blocks.9.hook_q_input', index=[:, :, 7]) with attribution 0.01626105047762394\n",
      "NOT PRUNING upstream_component=ModelComponent(hook_point_name='blocks.5.hook_mlp_out', index=[:]) downstream_component=ModelComponent(hook_point_name='blocks.9.hook_q_input', index=[:, :, 3]) with attribution 0.005065771751105785\n",
      "NOT PRUNING upstream_component=ModelComponent(hook_point_name='blocks.5.hook_mlp_out', index=[:]) downstream_component=ModelComponent(hook_point_name='blocks.8.hook_mlp_in', index=[:]) with attribution 0.04873700067400932\n",
      "NOT PRUNING upstream_component=ModelComponent(hook_point_name='blocks.5.hook_mlp_out', index=[:]) downstream_component=ModelComponent(hook_point_name='blocks.8.hook_v_input', index=[:, :, 10]) with attribution 0.049787089228630066\n",
      "NOT PRUNING upstream_component=ModelComponent(hook_point_name='blocks.5.hook_mlp_out', index=[:]) downstream_component=ModelComponent(hook_point_name='blocks.8.hook_v_input', index=[:, :, 6]) with attribution 0.05390610173344612\n",
      "NOT PRUNING upstream_component=ModelComponent(hook_point_name='blocks.5.hook_mlp_out', index=[:]) downstream_component=ModelComponent(hook_point_name='blocks.8.hook_v_input', index=[:, :, 3]) with attribution 0.016978278756141663\n",
      "NOT PRUNING upstream_component=ModelComponent(hook_point_name='blocks.5.hook_mlp_out', index=[:]) downstream_component=ModelComponent(hook_point_name='blocks.8.hook_k_input', index=[:, :, 10]) with attribution 0.005532786250114441\n",
      "NOT PRUNING upstream_component=ModelComponent(hook_point_name='blocks.5.hook_mlp_out', index=[:]) downstream_component=ModelComponent(hook_point_name='blocks.8.hook_k_input', index=[:, :, 6]) with attribution 0.060421645641326904\n",
      "NOT PRUNING upstream_component=ModelComponent(hook_point_name='blocks.5.hook_mlp_out', index=[:]) downstream_component=ModelComponent(hook_point_name='blocks.8.hook_k_input', index=[:, :, 3]) with attribution 0.019704647362232208\n",
      "NOT PRUNING upstream_component=ModelComponent(hook_point_name='blocks.5.hook_mlp_out', index=[:]) downstream_component=ModelComponent(hook_point_name='blocks.8.hook_q_input', index=[:, :, 10]) with attribution 0.009252338670194149\n",
      "NOT PRUNING upstream_component=ModelComponent(hook_point_name='blocks.5.hook_mlp_out', index=[:]) downstream_component=ModelComponent(hook_point_name='blocks.8.hook_q_input', index=[:, :, 3]) with attribution 0.006471415050327778\n",
      "NOT PRUNING upstream_component=ModelComponent(hook_point_name='blocks.5.hook_mlp_out', index=[:]) downstream_component=ModelComponent(hook_point_name='blocks.7.hook_mlp_in', index=[:]) with attribution 0.1158594936132431\n",
      "NOT PRUNING upstream_component=ModelComponent(hook_point_name='blocks.5.hook_mlp_out', index=[:]) downstream_component=ModelComponent(hook_point_name='blocks.7.hook_v_input', index=[:, :, 9]) with attribution 0.02899170108139515\n"
     ]
    },
    {
     "name": "stderr",
     "output_type": "stream",
     "text": []
    },
    {
     "name": "stdout",
     "output_type": "stream",
     "text": [
      "NOT PRUNING upstream_component=ModelComponent(hook_point_name='blocks.5.hook_mlp_out', index=[:]) downstream_component=ModelComponent(hook_point_name='blocks.7.hook_v_input', index=[:, :, 6]) with attribution 0.0055940416641533375\n",
      "NOT PRUNING upstream_component=ModelComponent(hook_point_name='blocks.5.hook_mlp_out', index=[:]) downstream_component=ModelComponent(hook_point_name='blocks.7.hook_v_input', index=[:, :, 4]) with attribution 0.0074628726579248905\n",
      "NOT PRUNING upstream_component=ModelComponent(hook_point_name='blocks.5.hook_mlp_out', index=[:]) downstream_component=ModelComponent(hook_point_name='blocks.7.hook_v_input', index=[:, :, 3]) with attribution 0.024286359548568726\n",
      "NOT PRUNING upstream_component=ModelComponent(hook_point_name='blocks.5.hook_mlp_out', index=[:]) downstream_component=ModelComponent(hook_point_name='blocks.7.hook_v_input', index=[:, :, 1]) with attribution 0.0075719477608799934\n",
      "NOT PRUNING upstream_component=ModelComponent(hook_point_name='blocks.5.hook_mlp_out', index=[:]) downstream_component=ModelComponent(hook_point_name='blocks.7.hook_k_input', index=[:, :, 9]) with attribution 0.022134702652692795\n",
      "NOT PRUNING upstream_component=ModelComponent(hook_point_name='blocks.5.hook_mlp_out', index=[:]) downstream_component=ModelComponent(hook_point_name='blocks.7.hook_k_input', index=[:, :, 3]) with attribution 0.011483581736683846\n",
      "NOT PRUNING upstream_component=ModelComponent(hook_point_name='blocks.5.hook_mlp_out', index=[:]) downstream_component=ModelComponent(hook_point_name='blocks.7.hook_k_input', index=[:, :, 1]) with attribution 0.011205964721739292\n",
      "NOT PRUNING upstream_component=ModelComponent(hook_point_name='blocks.5.hook_mlp_out', index=[:]) downstream_component=ModelComponent(hook_point_name='blocks.7.hook_q_input', index=[:, :, 11]) with attribution 0.01259270403534174\n",
      "NOT PRUNING upstream_component=ModelComponent(hook_point_name='blocks.5.hook_mlp_out', index=[:]) downstream_component=ModelComponent(hook_point_name='blocks.7.hook_q_input', index=[:, :, 9]) with attribution 0.015959296375513077\n",
      "NOT PRUNING upstream_component=ModelComponent(hook_point_name='blocks.5.hook_mlp_out', index=[:]) downstream_component=ModelComponent(hook_point_name='blocks.7.hook_q_input', index=[:, :, 6]) with attribution 0.013862291350960732\n",
      "NOT PRUNING upstream_component=ModelComponent(hook_point_name='blocks.5.hook_mlp_out', index=[:]) downstream_component=ModelComponent(hook_point_name='blocks.7.hook_q_input', index=[:, :, 5]) with attribution 0.021467866376042366\n",
      "NOT PRUNING upstream_component=ModelComponent(hook_point_name='blocks.5.hook_mlp_out', index=[:]) downstream_component=ModelComponent(hook_point_name='blocks.7.hook_q_input', index=[:, :, 1]) with attribution 0.054649680852890015\n",
      "NOT PRUNING upstream_component=ModelComponent(hook_point_name='blocks.5.hook_mlp_out', index=[:]) downstream_component=ModelComponent(hook_point_name='blocks.6.hook_mlp_in', index=[:]) with attribution 0.3732718229293823\n",
      "NOT PRUNING upstream_component=ModelComponent(hook_point_name='blocks.5.hook_mlp_out', index=[:]) downstream_component=ModelComponent(hook_point_name='blocks.6.hook_v_input', index=[:, :, 9]) with attribution 0.009632211178541183\n",
      "NOT PRUNING upstream_component=ModelComponent(hook_point_name='blocks.5.hook_mlp_out', index=[:]) downstream_component=ModelComponent(hook_point_name='blocks.6.hook_v_input', index=[:, :, 8]) with attribution 0.008330724202096462\n",
      "NOT PRUNING upstream_component=ModelComponent(hook_point_name='blocks.5.hook_mlp_out', index=[:]) downstream_component=ModelComponent(hook_point_name='blocks.6.hook_v_input', index=[:, :, 6]) with attribution 0.016376793384552002\n",
      "NOT PRUNING upstream_component=ModelComponent(hook_point_name='blocks.5.hook_mlp_out', index=[:]) downstream_component=ModelComponent(hook_point_name='blocks.6.hook_v_input', index=[:, :, 2]) with attribution 0.024046486243605614\n",
      "NOT PRUNING upstream_component=ModelComponent(hook_point_name='blocks.5.hook_mlp_out', index=[:]) downstream_component=ModelComponent(hook_point_name='blocks.6.hook_v_input', index=[:, :, 0]) with attribution 0.02795112319290638\n",
      "NOT PRUNING upstream_component=ModelComponent(hook_point_name='blocks.5.hook_mlp_out', index=[:]) downstream_component=ModelComponent(hook_point_name='blocks.6.hook_k_input', index=[:, :, 9]) with attribution 0.05401549115777016\n",
      "NOT PRUNING upstream_component=ModelComponent(hook_point_name='blocks.5.hook_mlp_out', index=[:]) downstream_component=ModelComponent(hook_point_name='blocks.6.hook_k_input', index=[:, :, 6]) with attribution 0.020378416404128075\n",
      "NOT PRUNING upstream_component=ModelComponent(hook_point_name='blocks.5.hook_mlp_out', index=[:]) downstream_component=ModelComponent(hook_point_name='blocks.6.hook_k_input', index=[:, :, 5]) with attribution 0.016977064311504364\n",
      "NOT PRUNING upstream_component=ModelComponent(hook_point_name='blocks.5.hook_mlp_out', index=[:]) downstream_component=ModelComponent(hook_point_name='blocks.6.hook_k_input', index=[:, :, 1]) with attribution 0.036645129323005676\n"
     ]
    },
    {
     "name": "stderr",
     "output_type": "stream",
     "text": []
    },
    {
     "name": "stdout",
     "output_type": "stream",
     "text": [
      "NOT PRUNING upstream_component=ModelComponent(hook_point_name='blocks.5.hook_mlp_out', index=[:]) downstream_component=ModelComponent(hook_point_name='blocks.6.hook_q_input', index=[:, :, 9]) with attribution 0.11068667471408844\n",
      "NOT PRUNING upstream_component=ModelComponent(hook_point_name='blocks.5.hook_mlp_out', index=[:]) downstream_component=ModelComponent(hook_point_name='blocks.6.hook_q_input', index=[:, :, 7]) with attribution 0.011633995920419693\n",
      "NOT PRUNING upstream_component=ModelComponent(hook_point_name='blocks.5.hook_mlp_out', index=[:]) downstream_component=ModelComponent(hook_point_name='blocks.6.hook_q_input', index=[:, :, 6]) with attribution 0.0074438173323869705\n",
      "NOT PRUNING upstream_component=ModelComponent(hook_point_name='blocks.5.hook_mlp_out', index=[:]) downstream_component=ModelComponent(hook_point_name='blocks.6.hook_q_input', index=[:, :, 5]) with attribution 0.009158858098089695\n",
      "NOT PRUNING upstream_component=ModelComponent(hook_point_name='blocks.5.hook_mlp_out', index=[:]) downstream_component=ModelComponent(hook_point_name='blocks.6.hook_q_input', index=[:, :, 4]) with attribution 0.02487820014357567\n",
      "NOT PRUNING upstream_component=ModelComponent(hook_point_name='blocks.5.hook_mlp_out', index=[:]) downstream_component=ModelComponent(hook_point_name='blocks.6.hook_q_input', index=[:, :, 1]) with attribution 0.007061894051730633\n",
      "NOT PRUNING upstream_component=ModelComponent(hook_point_name='blocks.5.attn.hook_result', index=[:, :, 11]) downstream_component=ModelComponent(hook_point_name='blocks.11.hook_resid_post', index=[:]) with attribution 0.0064592985436320305\n",
      "NOT PRUNING upstream_component=ModelComponent(hook_point_name='blocks.5.attn.hook_result', index=[:, :, 11]) downstream_component=ModelComponent(hook_point_name='blocks.10.hook_k_input', index=[:, :, 7]) with attribution 0.006035928148776293\n"
     ]
    },
    {
     "name": "stderr",
     "output_type": "stream",
     "text": []
    },
    {
     "name": "stdout",
     "output_type": "stream",
     "text": [
      "NOT PRUNING upstream_component=ModelComponent(hook_point_name='blocks.5.attn.hook_result', index=[:, :, 11]) downstream_component=ModelComponent(hook_point_name='blocks.9.hook_k_input', index=[:, :, 7]) with attribution 0.005656812340021133\n",
      "NOT PRUNING upstream_component=ModelComponent(hook_point_name='blocks.5.attn.hook_result', index=[:, :, 11]) downstream_component=ModelComponent(hook_point_name='blocks.9.hook_q_input', index=[:, :, 4]) with attribution 0.0050397589802742004\n",
      "NOT PRUNING upstream_component=ModelComponent(hook_point_name='blocks.5.attn.hook_result', index=[:, :, 11]) downstream_component=ModelComponent(hook_point_name='blocks.8.hook_k_input', index=[:, :, 10]) with attribution 0.010423294268548489\n",
      "NOT PRUNING upstream_component=ModelComponent(hook_point_name='blocks.5.attn.hook_result', index=[:, :, 11]) downstream_component=ModelComponent(hook_point_name='blocks.8.hook_k_input', index=[:, :, 6]) with attribution 0.011748837307095528\n",
      "NOT PRUNING upstream_component=ModelComponent(hook_point_name='blocks.5.attn.hook_result', index=[:, :, 11]) downstream_component=ModelComponent(hook_point_name='blocks.7.hook_mlp_in', index=[:]) with attribution 0.01106329821050167\n",
      "NOT PRUNING upstream_component=ModelComponent(hook_point_name='blocks.5.attn.hook_result', index=[:, :, 11]) downstream_component=ModelComponent(hook_point_name='blocks.7.hook_v_input', index=[:, :, 3]) with attribution 0.005280640907585621\n"
     ]
    },
    {
     "name": "stderr",
     "output_type": "stream",
     "text": []
    },
    {
     "name": "stdout",
     "output_type": "stream",
     "text": [
      "NOT PRUNING upstream_component=ModelComponent(hook_point_name='blocks.5.attn.hook_result', index=[:, :, 11]) downstream_component=ModelComponent(hook_point_name='blocks.7.hook_k_input', index=[:, :, 9]) with attribution 0.006208832375705242\n",
      "NOT PRUNING upstream_component=ModelComponent(hook_point_name='blocks.5.attn.hook_result', index=[:, :, 11]) downstream_component=ModelComponent(hook_point_name='blocks.6.hook_mlp_in', index=[:]) with attribution 0.01130588911473751\n",
      "NOT PRUNING upstream_component=ModelComponent(hook_point_name='blocks.5.attn.hook_result', index=[:, :, 11]) downstream_component=ModelComponent(hook_point_name='blocks.6.hook_k_input', index=[:, :, 9]) with attribution 0.016565699130296707\n"
     ]
    },
    {
     "name": "stderr",
     "output_type": "stream",
     "text": []
    },
    {
     "name": "stdout",
     "output_type": "stream",
     "text": [
      "NOT PRUNING upstream_component=ModelComponent(hook_point_name='blocks.5.attn.hook_result', index=[:, :, 11]) downstream_component=ModelComponent(hook_point_name='blocks.6.hook_q_input', index=[:, :, 9]) with attribution 0.0074834637343883514\n",
      "NOT PRUNING upstream_component=ModelComponent(hook_point_name='blocks.5.attn.hook_result', index=[:, :, 11]) downstream_component=ModelComponent(hook_point_name='blocks.6.hook_q_input', index=[:, :, 6]) with attribution 0.006412644404917955\n"
     ]
    },
    {
     "name": "stderr",
     "output_type": "stream",
     "text": []
    },
    {
     "name": "stdout",
     "output_type": "stream",
     "text": [
      "NOT PRUNING upstream_component=ModelComponent(hook_point_name='blocks.5.attn.hook_result', index=[:, :, 11]) downstream_component=ModelComponent(hook_point_name='blocks.5.hook_mlp_in', index=[:]) with attribution 0.02484207972884178\n",
      "NOT PRUNING upstream_component=ModelComponent(hook_point_name='blocks.5.attn.hook_result', index=[:, :, 10]) downstream_component=ModelComponent(hook_point_name='blocks.11.hook_k_input', index=[:, :, 10]) with attribution 0.0137398149818182\n",
      "NOT PRUNING upstream_component=ModelComponent(hook_point_name='blocks.5.attn.hook_result', index=[:, :, 10]) downstream_component=ModelComponent(hook_point_name='blocks.10.hook_k_input', index=[:, :, 7]) with attribution 0.018742799758911133\n"
     ]
    },
    {
     "name": "stderr",
     "output_type": "stream",
     "text": [
      "\n"
     ]
    },
    {
     "name": "stdout",
     "output_type": "stream",
     "text": [
      "NOT PRUNING upstream_component=ModelComponent(hook_point_name='blocks.5.attn.hook_result', index=[:, :, 10]) downstream_component=ModelComponent(hook_point_name='blocks.9.hook_mlp_in', index=[:]) with attribution 0.008397980593144894\n"
     ]
    },
    {
     "name": "stderr",
     "output_type": "stream",
     "text": [
      " 51%|█████▏    | 35685/69420 [03:10<06:14, 90.16it/s] \u001b[A"
     ]
    },
    {
     "name": "stdout",
     "output_type": "stream",
     "text": [
      "NOT PRUNING upstream_component=ModelComponent(hook_point_name='blocks.5.attn.hook_result', index=[:, :, 10]) downstream_component=ModelComponent(hook_point_name='blocks.9.hook_k_input', index=[:, :, 7]) with attribution 0.013609600253403187\n",
      "NOT PRUNING upstream_component=ModelComponent(hook_point_name='blocks.5.attn.hook_result', index=[:, :, 10]) downstream_component=ModelComponent(hook_point_name='blocks.9.hook_k_input', index=[:, :, 4]) with attribution 0.010103560984134674\n",
      "NOT PRUNING upstream_component=ModelComponent(hook_point_name='blocks.5.attn.hook_result', index=[:, :, 10]) downstream_component=ModelComponent(hook_point_name='blocks.8.hook_mlp_in', index=[:]) with attribution 0.01010170578956604\n",
      "NOT PRUNING upstream_component=ModelComponent(hook_point_name='blocks.5.attn.hook_result', index=[:, :, 10]) downstream_component=ModelComponent(hook_point_name='blocks.8.hook_v_input', index=[:, :, 10]) with attribution 0.012233077548444271\n",
      "NOT PRUNING upstream_component=ModelComponent(hook_point_name='blocks.5.attn.hook_result', index=[:, :, 10]) downstream_component=ModelComponent(hook_point_name='blocks.8.hook_v_input', index=[:, :, 6]) with attribution 0.009141024202108383\n",
      "NOT PRUNING upstream_component=ModelComponent(hook_point_name='blocks.5.attn.hook_result', index=[:, :, 10]) downstream_component=ModelComponent(hook_point_name='blocks.8.hook_k_input', index=[:, :, 10]) with attribution 0.026509931311011314\n",
      "NOT PRUNING upstream_component=ModelComponent(hook_point_name='blocks.5.attn.hook_result', index=[:, :, 10]) downstream_component=ModelComponent(hook_point_name='blocks.8.hook_k_input', index=[:, :, 6]) with attribution 0.02254398539662361\n"
     ]
    },
    {
     "name": "stderr",
     "output_type": "stream",
     "text": []
    },
    {
     "name": "stdout",
     "output_type": "stream",
     "text": [
      "NOT PRUNING upstream_component=ModelComponent(hook_point_name='blocks.5.attn.hook_result', index=[:, :, 10]) downstream_component=ModelComponent(hook_point_name='blocks.7.hook_mlp_in', index=[:]) with attribution 0.030905336141586304\n",
      "NOT PRUNING upstream_component=ModelComponent(hook_point_name='blocks.5.attn.hook_result', index=[:, :, 10]) downstream_component=ModelComponent(hook_point_name='blocks.7.hook_v_input', index=[:, :, 9]) with attribution 0.008967543952167034\n",
      "NOT PRUNING upstream_component=ModelComponent(hook_point_name='blocks.5.attn.hook_result', index=[:, :, 10]) downstream_component=ModelComponent(hook_point_name='blocks.7.hook_v_input', index=[:, :, 8]) with attribution 0.00507768988609314\n",
      "NOT PRUNING upstream_component=ModelComponent(hook_point_name='blocks.5.attn.hook_result', index=[:, :, 10]) downstream_component=ModelComponent(hook_point_name='blocks.7.hook_k_input', index=[:, :, 9]) with attribution 0.01569245755672455\n"
     ]
    },
    {
     "name": "stderr",
     "output_type": "stream",
     "text": []
    },
    {
     "name": "stdout",
     "output_type": "stream",
     "text": [
      "NOT PRUNING upstream_component=ModelComponent(hook_point_name='blocks.5.attn.hook_result', index=[:, :, 10]) downstream_component=ModelComponent(hook_point_name='blocks.7.hook_q_input', index=[:, :, 1]) with attribution 0.0158072579652071\n",
      "NOT PRUNING upstream_component=ModelComponent(hook_point_name='blocks.5.attn.hook_result', index=[:, :, 10]) downstream_component=ModelComponent(hook_point_name='blocks.6.hook_mlp_in', index=[:]) with attribution 0.05334651097655296\n",
      "NOT PRUNING upstream_component=ModelComponent(hook_point_name='blocks.5.attn.hook_result', index=[:, :, 10]) downstream_component=ModelComponent(hook_point_name='blocks.6.hook_v_input', index=[:, :, 6]) with attribution 0.014065696857869625\n",
      "NOT PRUNING upstream_component=ModelComponent(hook_point_name='blocks.5.attn.hook_result', index=[:, :, 10]) downstream_component=ModelComponent(hook_point_name='blocks.6.hook_v_input', index=[:, :, 0]) with attribution 0.012642094865441322\n",
      "NOT PRUNING upstream_component=ModelComponent(hook_point_name='blocks.5.attn.hook_result', index=[:, :, 10]) downstream_component=ModelComponent(hook_point_name='blocks.6.hook_k_input', index=[:, :, 6]) with attribution 0.014608417637646198\n"
     ]
    },
    {
     "name": "stderr",
     "output_type": "stream",
     "text": []
    },
    {
     "name": "stdout",
     "output_type": "stream",
     "text": [
      "NOT PRUNING upstream_component=ModelComponent(hook_point_name='blocks.5.attn.hook_result', index=[:, :, 10]) downstream_component=ModelComponent(hook_point_name='blocks.6.hook_q_input', index=[:, :, 9]) with attribution 0.024375446140766144\n",
      "NOT PRUNING upstream_component=ModelComponent(hook_point_name='blocks.5.attn.hook_result', index=[:, :, 10]) downstream_component=ModelComponent(hook_point_name='blocks.6.hook_q_input', index=[:, :, 6]) with attribution 0.02284022606909275\n"
     ]
    },
    {
     "name": "stderr",
     "output_type": "stream",
     "text": []
    },
    {
     "name": "stdout",
     "output_type": "stream",
     "text": [
      "NOT PRUNING upstream_component=ModelComponent(hook_point_name='blocks.5.attn.hook_result', index=[:, :, 10]) downstream_component=ModelComponent(hook_point_name='blocks.5.hook_mlp_in', index=[:]) with attribution 0.07736331969499588\n",
      "NOT PRUNING upstream_component=ModelComponent(hook_point_name='blocks.5.attn.hook_result', index=[:, :, 9]) downstream_component=ModelComponent(hook_point_name='blocks.11.hook_k_input', index=[:, :, 10]) with attribution 0.01817270554602146\n",
      "NOT PRUNING upstream_component=ModelComponent(hook_point_name='blocks.5.attn.hook_result', index=[:, :, 9]) downstream_component=ModelComponent(hook_point_name='blocks.11.hook_k_input', index=[:, :, 6]) with attribution 0.006676745135337114\n",
      "NOT PRUNING upstream_component=ModelComponent(hook_point_name='blocks.5.attn.hook_result', index=[:, :, 9]) downstream_component=ModelComponent(hook_point_name='blocks.11.hook_k_input', index=[:, :, 2]) with attribution 0.009114550426602364\n",
      "NOT PRUNING upstream_component=ModelComponent(hook_point_name='blocks.5.attn.hook_result', index=[:, :, 9]) downstream_component=ModelComponent(hook_point_name='blocks.10.hook_k_input', index=[:, :, 10]) with attribution 0.006196010857820511\n",
      "NOT PRUNING upstream_component=ModelComponent(hook_point_name='blocks.5.attn.hook_result', index=[:, :, 9]) downstream_component=ModelComponent(hook_point_name='blocks.10.hook_k_input', index=[:, :, 7]) with attribution 0.031009932979941368\n",
      "NOT PRUNING upstream_component=ModelComponent(hook_point_name='blocks.5.attn.hook_result', index=[:, :, 9]) downstream_component=ModelComponent(hook_point_name='blocks.10.hook_k_input', index=[:, :, 6]) with attribution 0.01585223339498043\n",
      "NOT PRUNING upstream_component=ModelComponent(hook_point_name='blocks.5.attn.hook_result', index=[:, :, 9]) downstream_component=ModelComponent(hook_point_name='blocks.10.hook_k_input', index=[:, :, 2]) with attribution 0.011879184283316135\n",
      "NOT PRUNING upstream_component=ModelComponent(hook_point_name='blocks.5.attn.hook_result', index=[:, :, 9]) downstream_component=ModelComponent(hook_point_name='blocks.10.hook_k_input', index=[:, :, 1]) with attribution 0.007589613553136587\n",
      "NOT PRUNING upstream_component=ModelComponent(hook_point_name='blocks.5.attn.hook_result', index=[:, :, 9]) downstream_component=ModelComponent(hook_point_name='blocks.10.hook_k_input', index=[:, :, 0]) with attribution 0.01902526058256626\n"
     ]
    },
    {
     "name": "stderr",
     "output_type": "stream",
     "text": []
    },
    {
     "name": "stdout",
     "output_type": "stream",
     "text": [
      "NOT PRUNING upstream_component=ModelComponent(hook_point_name='blocks.5.attn.hook_result', index=[:, :, 9]) downstream_component=ModelComponent(hook_point_name='blocks.9.hook_mlp_in', index=[:]) with attribution 0.025720244273543358\n",
      "NOT PRUNING upstream_component=ModelComponent(hook_point_name='blocks.5.attn.hook_result', index=[:, :, 9]) downstream_component=ModelComponent(hook_point_name='blocks.9.hook_v_input', index=[:, :, 7]) with attribution 0.00839882344007492\n",
      "NOT PRUNING upstream_component=ModelComponent(hook_point_name='blocks.5.attn.hook_result', index=[:, :, 9]) downstream_component=ModelComponent(hook_point_name='blocks.9.hook_k_input', index=[:, :, 9]) with attribution 0.019954532384872437\n",
      "NOT PRUNING upstream_component=ModelComponent(hook_point_name='blocks.5.attn.hook_result', index=[:, :, 9]) downstream_component=ModelComponent(hook_point_name='blocks.9.hook_k_input', index=[:, :, 7]) with attribution 0.019553786143660545\n",
      "NOT PRUNING upstream_component=ModelComponent(hook_point_name='blocks.5.attn.hook_result', index=[:, :, 9]) downstream_component=ModelComponent(hook_point_name='blocks.9.hook_k_input', index=[:, :, 4]) with attribution 0.0053678411059081554\n",
      "NOT PRUNING upstream_component=ModelComponent(hook_point_name='blocks.5.attn.hook_result', index=[:, :, 9]) downstream_component=ModelComponent(hook_point_name='blocks.9.hook_q_input', index=[:, :, 7]) with attribution 0.016096364706754684\n",
      "NOT PRUNING upstream_component=ModelComponent(hook_point_name='blocks.5.attn.hook_result', index=[:, :, 9]) downstream_component=ModelComponent(hook_point_name='blocks.9.hook_q_input', index=[:, :, 0]) with attribution 0.0060185580514371395\n",
      "NOT PRUNING upstream_component=ModelComponent(hook_point_name='blocks.5.attn.hook_result', index=[:, :, 9]) downstream_component=ModelComponent(hook_point_name='blocks.8.hook_mlp_in', index=[:]) with attribution 0.008643822744488716\n",
      "NOT PRUNING upstream_component=ModelComponent(hook_point_name='blocks.5.attn.hook_result', index=[:, :, 9]) downstream_component=ModelComponent(hook_point_name='blocks.8.hook_v_input', index=[:, :, 10]) with attribution 0.02366611734032631\n",
      "NOT PRUNING upstream_component=ModelComponent(hook_point_name='blocks.5.attn.hook_result', index=[:, :, 9]) downstream_component=ModelComponent(hook_point_name='blocks.8.hook_v_input', index=[:, :, 6]) with attribution 0.035105641931295395\n",
      "NOT PRUNING upstream_component=ModelComponent(hook_point_name='blocks.5.attn.hook_result', index=[:, :, 9]) downstream_component=ModelComponent(hook_point_name='blocks.8.hook_v_input', index=[:, :, 5]) with attribution 0.009372528642416\n",
      "NOT PRUNING upstream_component=ModelComponent(hook_point_name='blocks.5.attn.hook_result', index=[:, :, 9]) downstream_component=ModelComponent(hook_point_name='blocks.8.hook_k_input', index=[:, :, 10]) with attribution 0.07102721184492111\n"
     ]
    },
    {
     "name": "stderr",
     "output_type": "stream",
     "text": []
    },
    {
     "name": "stdout",
     "output_type": "stream",
     "text": [
      "NOT PRUNING upstream_component=ModelComponent(hook_point_name='blocks.5.attn.hook_result', index=[:, :, 9]) downstream_component=ModelComponent(hook_point_name='blocks.8.hook_k_input', index=[:, :, 3]) with attribution 0.01004794891923666\n",
      "NOT PRUNING upstream_component=ModelComponent(hook_point_name='blocks.5.attn.hook_result', index=[:, :, 9]) downstream_component=ModelComponent(hook_point_name='blocks.8.hook_q_input', index=[:, :, 10]) with attribution 0.008306346833705902\n",
      "NOT PRUNING upstream_component=ModelComponent(hook_point_name='blocks.5.attn.hook_result', index=[:, :, 9]) downstream_component=ModelComponent(hook_point_name='blocks.8.hook_q_input', index=[:, :, 9]) with attribution 0.007370340637862682\n",
      "NOT PRUNING upstream_component=ModelComponent(hook_point_name='blocks.5.attn.hook_result', index=[:, :, 9]) downstream_component=ModelComponent(hook_point_name='blocks.8.hook_q_input', index=[:, :, 3]) with attribution 0.006588979158550501\n",
      "NOT PRUNING upstream_component=ModelComponent(hook_point_name='blocks.5.attn.hook_result', index=[:, :, 9]) downstream_component=ModelComponent(hook_point_name='blocks.7.hook_mlp_in', index=[:]) with attribution 0.06771466135978699\n"
     ]
    },
    {
     "name": "stderr",
     "output_type": "stream",
     "text": []
    },
    {
     "name": "stdout",
     "output_type": "stream",
     "text": [
      "NOT PRUNING upstream_component=ModelComponent(hook_point_name='blocks.5.attn.hook_result', index=[:, :, 9]) downstream_component=ModelComponent(hook_point_name='blocks.7.hook_v_input', index=[:, :, 3]) with attribution 0.016274431720376015\n",
      "NOT PRUNING upstream_component=ModelComponent(hook_point_name='blocks.5.attn.hook_result', index=[:, :, 9]) downstream_component=ModelComponent(hook_point_name='blocks.7.hook_k_input', index=[:, :, 9]) with attribution 0.04630185291171074\n",
      "NOT PRUNING upstream_component=ModelComponent(hook_point_name='blocks.5.attn.hook_result', index=[:, :, 9]) downstream_component=ModelComponent(hook_point_name='blocks.7.hook_k_input', index=[:, :, 3]) with attribution 0.010623152367770672\n",
      "NOT PRUNING upstream_component=ModelComponent(hook_point_name='blocks.5.attn.hook_result', index=[:, :, 9]) downstream_component=ModelComponent(hook_point_name='blocks.7.hook_q_input', index=[:, :, 11]) with attribution 0.00587519071996212\n",
      "NOT PRUNING upstream_component=ModelComponent(hook_point_name='blocks.5.attn.hook_result', index=[:, :, 9]) downstream_component=ModelComponent(hook_point_name='blocks.7.hook_q_input', index=[:, :, 7]) with attribution 0.009734376333653927\n",
      "NOT PRUNING upstream_component=ModelComponent(hook_point_name='blocks.5.attn.hook_result', index=[:, :, 9]) downstream_component=ModelComponent(hook_point_name='blocks.7.hook_q_input', index=[:, :, 6]) with attribution 0.009812915697693825\n",
      "NOT PRUNING upstream_component=ModelComponent(hook_point_name='blocks.5.attn.hook_result', index=[:, :, 9]) downstream_component=ModelComponent(hook_point_name='blocks.7.hook_q_input', index=[:, :, 5]) with attribution 0.007232476957142353\n",
      "NOT PRUNING upstream_component=ModelComponent(hook_point_name='blocks.5.attn.hook_result', index=[:, :, 9]) downstream_component=ModelComponent(hook_point_name='blocks.7.hook_q_input', index=[:, :, 3]) with attribution 0.01149741094559431\n",
      "NOT PRUNING upstream_component=ModelComponent(hook_point_name='blocks.5.attn.hook_result', index=[:, :, 9]) downstream_component=ModelComponent(hook_point_name='blocks.7.hook_q_input', index=[:, :, 1]) with attribution 0.07062578946352005\n",
      "NOT PRUNING upstream_component=ModelComponent(hook_point_name='blocks.5.attn.hook_result', index=[:, :, 9]) downstream_component=ModelComponent(hook_point_name='blocks.6.hook_mlp_in', index=[:]) with attribution 0.021783430129289627\n"
     ]
    },
    {
     "name": "stderr",
     "output_type": "stream",
     "text": []
    },
    {
     "name": "stdout",
     "output_type": "stream",
     "text": [
      "NOT PRUNING upstream_component=ModelComponent(hook_point_name='blocks.5.attn.hook_result', index=[:, :, 9]) downstream_component=ModelComponent(hook_point_name='blocks.6.hook_v_input', index=[:, :, 7]) with attribution 0.007341516669839621\n",
      "NOT PRUNING upstream_component=ModelComponent(hook_point_name='blocks.5.attn.hook_result', index=[:, :, 9]) downstream_component=ModelComponent(hook_point_name='blocks.6.hook_v_input', index=[:, :, 6]) with attribution 0.0170795489102602\n",
      "NOT PRUNING upstream_component=ModelComponent(hook_point_name='blocks.5.attn.hook_result', index=[:, :, 9]) downstream_component=ModelComponent(hook_point_name='blocks.6.hook_v_input', index=[:, :, 0]) with attribution 0.023768652230501175\n",
      "NOT PRUNING upstream_component=ModelComponent(hook_point_name='blocks.5.attn.hook_result', index=[:, :, 9]) downstream_component=ModelComponent(hook_point_name='blocks.6.hook_k_input', index=[:, :, 6]) with attribution 0.019818568602204323\n",
      "NOT PRUNING upstream_component=ModelComponent(hook_point_name='blocks.5.attn.hook_result', index=[:, :, 9]) downstream_component=ModelComponent(hook_point_name='blocks.6.hook_k_input', index=[:, :, 1]) with attribution 0.0070374030619859695\n",
      "NOT PRUNING upstream_component=ModelComponent(hook_point_name='blocks.5.attn.hook_result', index=[:, :, 9]) downstream_component=ModelComponent(hook_point_name='blocks.6.hook_q_input', index=[:, :, 11]) with attribution 0.005034875124692917\n",
      "NOT PRUNING upstream_component=ModelComponent(hook_point_name='blocks.5.attn.hook_result', index=[:, :, 9]) downstream_component=ModelComponent(hook_point_name='blocks.6.hook_q_input', index=[:, :, 9]) with attribution 0.019589321687817574\n"
     ]
    },
    {
     "name": "stderr",
     "output_type": "stream",
     "text": []
    },
    {
     "name": "stdout",
     "output_type": "stream",
     "text": [
      "NOT PRUNING upstream_component=ModelComponent(hook_point_name='blocks.5.attn.hook_result', index=[:, :, 9]) downstream_component=ModelComponent(hook_point_name='blocks.6.hook_q_input', index=[:, :, 6]) with attribution 0.06238887086510658\n",
      "NOT PRUNING upstream_component=ModelComponent(hook_point_name='blocks.5.attn.hook_result', index=[:, :, 9]) downstream_component=ModelComponent(hook_point_name='blocks.6.hook_q_input', index=[:, :, 4]) with attribution 0.024713410064578056\n",
      "NOT PRUNING upstream_component=ModelComponent(hook_point_name='blocks.5.attn.hook_result', index=[:, :, 9]) downstream_component=ModelComponent(hook_point_name='blocks.6.hook_q_input', index=[:, :, 3]) with attribution 0.01192926149815321\n",
      "NOT PRUNING upstream_component=ModelComponent(hook_point_name='blocks.5.attn.hook_result', index=[:, :, 9]) downstream_component=ModelComponent(hook_point_name='blocks.6.hook_q_input', index=[:, :, 1]) with attribution 0.005295228213071823\n",
      "NOT PRUNING upstream_component=ModelComponent(hook_point_name='blocks.5.attn.hook_result', index=[:, :, 9]) downstream_component=ModelComponent(hook_point_name='blocks.5.hook_mlp_in', index=[:]) with attribution 0.13498125970363617\n"
     ]
    },
    {
     "name": "stderr",
     "output_type": "stream",
     "text": []
    },
    {
     "name": "stdout",
     "output_type": "stream",
     "text": [
      "NOT PRUNING upstream_component=ModelComponent(hook_point_name='blocks.5.attn.hook_result', index=[:, :, 8]) downstream_component=ModelComponent(hook_point_name='blocks.11.hook_k_input', index=[:, :, 10]) with attribution 0.009673231281340122\n",
      "NOT PRUNING upstream_component=ModelComponent(hook_point_name='blocks.5.attn.hook_result', index=[:, :, 8]) downstream_component=ModelComponent(hook_point_name='blocks.11.hook_k_input', index=[:, :, 2]) with attribution 0.007420438341796398\n",
      "NOT PRUNING upstream_component=ModelComponent(hook_point_name='blocks.5.attn.hook_result', index=[:, :, 8]) downstream_component=ModelComponent(hook_point_name='blocks.10.hook_k_input', index=[:, :, 0]) with attribution 0.006644568871706724\n"
     ]
    },
    {
     "name": "stderr",
     "output_type": "stream",
     "text": []
    },
    {
     "name": "stdout",
     "output_type": "stream",
     "text": [
      "NOT PRUNING upstream_component=ModelComponent(hook_point_name='blocks.5.attn.hook_result', index=[:, :, 8]) downstream_component=ModelComponent(hook_point_name='blocks.9.hook_v_input', index=[:, :, 7]) with attribution 0.016010835766792297\n",
      "NOT PRUNING upstream_component=ModelComponent(hook_point_name='blocks.5.attn.hook_result', index=[:, :, 8]) downstream_component=ModelComponent(hook_point_name='blocks.9.hook_k_input', index=[:, :, 9]) with attribution 0.008551910519599915\n",
      "NOT PRUNING upstream_component=ModelComponent(hook_point_name='blocks.5.attn.hook_result', index=[:, :, 8]) downstream_component=ModelComponent(hook_point_name='blocks.9.hook_k_input', index=[:, :, 7]) with attribution 0.010001135058701038\n"
     ]
    },
    {
     "name": "stderr",
     "output_type": "stream",
     "text": []
    },
    {
     "name": "stdout",
     "output_type": "stream",
     "text": [
      "NOT PRUNING upstream_component=ModelComponent(hook_point_name='blocks.5.attn.hook_result', index=[:, :, 8]) downstream_component=ModelComponent(hook_point_name='blocks.8.hook_v_input', index=[:, :, 10]) with attribution 0.033376310020685196\n",
      "NOT PRUNING upstream_component=ModelComponent(hook_point_name='blocks.5.attn.hook_result', index=[:, :, 8]) downstream_component=ModelComponent(hook_point_name='blocks.8.hook_v_input', index=[:, :, 6]) with attribution 0.013349455781280994\n",
      "NOT PRUNING upstream_component=ModelComponent(hook_point_name='blocks.5.attn.hook_result', index=[:, :, 8]) downstream_component=ModelComponent(hook_point_name='blocks.8.hook_v_input', index=[:, :, 5]) with attribution 0.008569267578423023\n",
      "NOT PRUNING upstream_component=ModelComponent(hook_point_name='blocks.5.attn.hook_result', index=[:, :, 8]) downstream_component=ModelComponent(hook_point_name='blocks.8.hook_k_input', index=[:, :, 10]) with attribution 0.0187003742903471\n",
      "NOT PRUNING upstream_component=ModelComponent(hook_point_name='blocks.5.attn.hook_result', index=[:, :, 8]) downstream_component=ModelComponent(hook_point_name='blocks.8.hook_k_input', index=[:, :, 3]) with attribution 0.005405133590102196\n",
      "NOT PRUNING upstream_component=ModelComponent(hook_point_name='blocks.5.attn.hook_result', index=[:, :, 8]) downstream_component=ModelComponent(hook_point_name='blocks.7.hook_mlp_in', index=[:]) with attribution 0.028890546411275864\n",
      "NOT PRUNING upstream_component=ModelComponent(hook_point_name='blocks.5.attn.hook_result', index=[:, :, 8]) downstream_component=ModelComponent(hook_point_name='blocks.7.hook_v_input', index=[:, :, 9]) with attribution 0.011597832664847374\n"
     ]
    },
    {
     "name": "stderr",
     "output_type": "stream",
     "text": []
    },
    {
     "name": "stdout",
     "output_type": "stream",
     "text": [
      "NOT PRUNING upstream_component=ModelComponent(hook_point_name='blocks.5.attn.hook_result', index=[:, :, 8]) downstream_component=ModelComponent(hook_point_name='blocks.7.hook_k_input', index=[:, :, 9]) with attribution 0.034413110464811325\n"
     ]
    },
    {
     "name": "stderr",
     "output_type": "stream",
     "text": []
    },
    {
     "name": "stdout",
     "output_type": "stream",
     "text": [
      "NOT PRUNING upstream_component=ModelComponent(hook_point_name='blocks.5.attn.hook_result', index=[:, :, 8]) downstream_component=ModelComponent(hook_point_name='blocks.7.hook_q_input', index=[:, :, 9]) with attribution 0.006130870431661606\n",
      "NOT PRUNING upstream_component=ModelComponent(hook_point_name='blocks.5.attn.hook_result', index=[:, :, 8]) downstream_component=ModelComponent(hook_point_name='blocks.7.hook_q_input', index=[:, :, 5]) with attribution 0.0070834713988006115\n",
      "NOT PRUNING upstream_component=ModelComponent(hook_point_name='blocks.5.attn.hook_result', index=[:, :, 8]) downstream_component=ModelComponent(hook_point_name='blocks.7.hook_q_input', index=[:, :, 1]) with attribution 0.013705301098525524\n",
      "NOT PRUNING upstream_component=ModelComponent(hook_point_name='blocks.5.attn.hook_result', index=[:, :, 8]) downstream_component=ModelComponent(hook_point_name='blocks.6.hook_mlp_in', index=[:]) with attribution 0.04310675710439682\n",
      "NOT PRUNING upstream_component=ModelComponent(hook_point_name='blocks.5.attn.hook_result', index=[:, :, 8]) downstream_component=ModelComponent(hook_point_name='blocks.6.hook_v_input', index=[:, :, 6]) with attribution 0.011000138707458973\n"
     ]
    },
    {
     "name": "stderr",
     "output_type": "stream",
     "text": []
    },
    {
     "name": "stdout",
     "output_type": "stream",
     "text": [
      "NOT PRUNING upstream_component=ModelComponent(hook_point_name='blocks.5.attn.hook_result', index=[:, :, 8]) downstream_component=ModelComponent(hook_point_name='blocks.6.hook_k_input', index=[:, :, 6]) with attribution 0.019779706373810768\n",
      "NOT PRUNING upstream_component=ModelComponent(hook_point_name='blocks.5.attn.hook_result', index=[:, :, 8]) downstream_component=ModelComponent(hook_point_name='blocks.6.hook_q_input', index=[:, :, 9]) with attribution 0.045655179768800735\n",
      "NOT PRUNING upstream_component=ModelComponent(hook_point_name='blocks.5.attn.hook_result', index=[:, :, 8]) downstream_component=ModelComponent(hook_point_name='blocks.6.hook_q_input', index=[:, :, 6]) with attribution 0.018637720495462418\n"
     ]
    },
    {
     "name": "stderr",
     "output_type": "stream",
     "text": []
    },
    {
     "name": "stdout",
     "output_type": "stream",
     "text": [
      "NOT PRUNING upstream_component=ModelComponent(hook_point_name='blocks.5.attn.hook_result', index=[:, :, 8]) downstream_component=ModelComponent(hook_point_name='blocks.6.hook_q_input', index=[:, :, 3]) with attribution 0.005698875989764929\n",
      "NOT PRUNING upstream_component=ModelComponent(hook_point_name='blocks.5.attn.hook_result', index=[:, :, 8]) downstream_component=ModelComponent(hook_point_name='blocks.5.hook_mlp_in', index=[:]) with attribution 0.09107646346092224\n"
     ]
    },
    {
     "name": "stderr",
     "output_type": "stream",
     "text": []
    },
    {
     "name": "stdout",
     "output_type": "stream",
     "text": [
      "NOT PRUNING upstream_component=ModelComponent(hook_point_name='blocks.5.attn.hook_result', index=[:, :, 6]) downstream_component=ModelComponent(hook_point_name='blocks.7.hook_k_input', index=[:, :, 10]) with attribution 0.005473944824188948\n"
     ]
    },
    {
     "name": "stderr",
     "output_type": "stream",
     "text": []
    },
    {
     "name": "stdout",
     "output_type": "stream",
     "text": [
      "NOT PRUNING upstream_component=ModelComponent(hook_point_name='blocks.5.attn.hook_result', index=[:, :, 6]) downstream_component=ModelComponent(hook_point_name='blocks.6.hook_k_input', index=[:, :, 9]) with attribution 0.16396501660346985\n"
     ]
    },
    {
     "name": "stderr",
     "output_type": "stream",
     "text": []
    },
    {
     "name": "stdout",
     "output_type": "stream",
     "text": [
      "NOT PRUNING upstream_component=ModelComponent(hook_point_name='blocks.5.attn.hook_result', index=[:, :, 6]) downstream_component=ModelComponent(hook_point_name='blocks.5.hook_mlp_in', index=[:]) with attribution 0.12671725451946259\n",
      "NOT PRUNING upstream_component=ModelComponent(hook_point_name='blocks.5.attn.hook_result', index=[:, :, 5]) downstream_component=ModelComponent(hook_point_name='blocks.11.hook_v_input', index=[:, :, 10]) with attribution 0.006522407289594412\n",
      "NOT PRUNING upstream_component=ModelComponent(hook_point_name='blocks.5.attn.hook_result', index=[:, :, 5]) downstream_component=ModelComponent(hook_point_name='blocks.11.hook_k_input', index=[:, :, 10]) with attribution 0.06396119296550751\n",
      "NOT PRUNING upstream_component=ModelComponent(hook_point_name='blocks.5.attn.hook_result', index=[:, :, 5]) downstream_component=ModelComponent(hook_point_name='blocks.11.hook_k_input', index=[:, :, 9]) with attribution 0.006239947862923145\n",
      "NOT PRUNING upstream_component=ModelComponent(hook_point_name='blocks.5.attn.hook_result', index=[:, :, 5]) downstream_component=ModelComponent(hook_point_name='blocks.11.hook_k_input', index=[:, :, 6]) with attribution 0.015720533207058907\n",
      "NOT PRUNING upstream_component=ModelComponent(hook_point_name='blocks.5.attn.hook_result', index=[:, :, 5]) downstream_component=ModelComponent(hook_point_name='blocks.11.hook_k_input', index=[:, :, 2]) with attribution 0.010260846465826035\n",
      "NOT PRUNING upstream_component=ModelComponent(hook_point_name='blocks.5.attn.hook_result', index=[:, :, 5]) downstream_component=ModelComponent(hook_point_name='blocks.10.hook_v_input', index=[:, :, 7]) with attribution 0.0065717026591300964\n",
      "NOT PRUNING upstream_component=ModelComponent(hook_point_name='blocks.5.attn.hook_result', index=[:, :, 5]) downstream_component=ModelComponent(hook_point_name='blocks.10.hook_k_input', index=[:, :, 10]) with attribution 0.005563144106417894\n",
      "NOT PRUNING upstream_component=ModelComponent(hook_point_name='blocks.5.attn.hook_result', index=[:, :, 5]) downstream_component=ModelComponent(hook_point_name='blocks.10.hook_k_input', index=[:, :, 7]) with attribution 0.08859949558973312\n",
      "NOT PRUNING upstream_component=ModelComponent(hook_point_name='blocks.5.attn.hook_result', index=[:, :, 5]) downstream_component=ModelComponent(hook_point_name='blocks.10.hook_k_input', index=[:, :, 6]) with attribution 0.009242798201739788\n",
      "NOT PRUNING upstream_component=ModelComponent(hook_point_name='blocks.5.attn.hook_result', index=[:, :, 5]) downstream_component=ModelComponent(hook_point_name='blocks.10.hook_k_input', index=[:, :, 2]) with attribution 0.02130846120417118\n",
      "NOT PRUNING upstream_component=ModelComponent(hook_point_name='blocks.5.attn.hook_result', index=[:, :, 5]) downstream_component=ModelComponent(hook_point_name='blocks.10.hook_k_input', index=[:, :, 1]) with attribution 0.009141616523265839\n",
      "NOT PRUNING upstream_component=ModelComponent(hook_point_name='blocks.5.attn.hook_result', index=[:, :, 5]) downstream_component=ModelComponent(hook_point_name='blocks.10.hook_q_input', index=[:, :, 7]) with attribution 0.006456884555518627\n"
     ]
    },
    {
     "name": "stderr",
     "output_type": "stream",
     "text": []
    },
    {
     "name": "stdout",
     "output_type": "stream",
     "text": [
      "NOT PRUNING upstream_component=ModelComponent(hook_point_name='blocks.5.attn.hook_result', index=[:, :, 5]) downstream_component=ModelComponent(hook_point_name='blocks.9.hook_mlp_in', index=[:]) with attribution 0.030909324064850807\n",
      "NOT PRUNING upstream_component=ModelComponent(hook_point_name='blocks.5.attn.hook_result', index=[:, :, 5]) downstream_component=ModelComponent(hook_point_name='blocks.9.hook_v_input', index=[:, :, 7]) with attribution 0.04654398933053017\n",
      "NOT PRUNING upstream_component=ModelComponent(hook_point_name='blocks.5.attn.hook_result', index=[:, :, 5]) downstream_component=ModelComponent(hook_point_name='blocks.9.hook_v_input', index=[:, :, 6]) with attribution 0.0053145685233175755\n",
      "NOT PRUNING upstream_component=ModelComponent(hook_point_name='blocks.5.attn.hook_result', index=[:, :, 5]) downstream_component=ModelComponent(hook_point_name='blocks.9.hook_k_input', index=[:, :, 9]) with attribution 0.010205918923020363\n",
      "NOT PRUNING upstream_component=ModelComponent(hook_point_name='blocks.5.attn.hook_result', index=[:, :, 5]) downstream_component=ModelComponent(hook_point_name='blocks.9.hook_k_input', index=[:, :, 7]) with attribution 0.09224077314138412\n",
      "NOT PRUNING upstream_component=ModelComponent(hook_point_name='blocks.5.attn.hook_result', index=[:, :, 5]) downstream_component=ModelComponent(hook_point_name='blocks.9.hook_k_input', index=[:, :, 5]) with attribution 0.006371541880071163\n",
      "NOT PRUNING upstream_component=ModelComponent(hook_point_name='blocks.5.attn.hook_result', index=[:, :, 5]) downstream_component=ModelComponent(hook_point_name='blocks.9.hook_q_input', index=[:, :, 7]) with attribution 0.015089230611920357\n",
      "NOT PRUNING upstream_component=ModelComponent(hook_point_name='blocks.5.attn.hook_result', index=[:, :, 5]) downstream_component=ModelComponent(hook_point_name='blocks.9.hook_q_input', index=[:, :, 5]) with attribution 0.0075166053138673306\n",
      "NOT PRUNING upstream_component=ModelComponent(hook_point_name='blocks.5.attn.hook_result', index=[:, :, 5]) downstream_component=ModelComponent(hook_point_name='blocks.9.hook_q_input', index=[:, :, 4]) with attribution 0.006814774125814438\n",
      "NOT PRUNING upstream_component=ModelComponent(hook_point_name='blocks.5.attn.hook_result', index=[:, :, 5]) downstream_component=ModelComponent(hook_point_name='blocks.9.hook_q_input', index=[:, :, 0]) with attribution 0.009396091103553772\n",
      "NOT PRUNING upstream_component=ModelComponent(hook_point_name='blocks.5.attn.hook_result', index=[:, :, 5]) downstream_component=ModelComponent(hook_point_name='blocks.8.hook_mlp_in', index=[:]) with attribution 0.023860277608036995\n",
      "NOT PRUNING upstream_component=ModelComponent(hook_point_name='blocks.5.attn.hook_result', index=[:, :, 5]) downstream_component=ModelComponent(hook_point_name='blocks.8.hook_v_input', index=[:, :, 10]) with attribution 0.21981510519981384\n",
      "NOT PRUNING upstream_component=ModelComponent(hook_point_name='blocks.5.attn.hook_result', index=[:, :, 5]) downstream_component=ModelComponent(hook_point_name='blocks.8.hook_v_input', index=[:, :, 6]) with attribution 0.5853720307350159\n",
      "NOT PRUNING upstream_component=ModelComponent(hook_point_name='blocks.5.attn.hook_result', index=[:, :, 5]) downstream_component=ModelComponent(hook_point_name='blocks.8.hook_v_input', index=[:, :, 5]) with attribution 0.008022017776966095\n",
      "NOT PRUNING upstream_component=ModelComponent(hook_point_name='blocks.5.attn.hook_result', index=[:, :, 5]) downstream_component=ModelComponent(hook_point_name='blocks.8.hook_k_input', index=[:, :, 10]) with attribution 0.16170738637447357\n",
      "NOT PRUNING upstream_component=ModelComponent(hook_point_name='blocks.5.attn.hook_result', index=[:, :, 5]) downstream_component=ModelComponent(hook_point_name='blocks.8.hook_k_input', index=[:, :, 6]) with attribution 0.12081638723611832\n",
      "NOT PRUNING upstream_component=ModelComponent(hook_point_name='blocks.5.attn.hook_result', index=[:, :, 5]) downstream_component=ModelComponent(hook_point_name='blocks.8.hook_k_input', index=[:, :, 5]) with attribution 0.006725383922457695\n",
      "NOT PRUNING upstream_component=ModelComponent(hook_point_name='blocks.5.attn.hook_result', index=[:, :, 5]) downstream_component=ModelComponent(hook_point_name='blocks.8.hook_k_input', index=[:, :, 3]) with attribution 0.0063349781557917595\n"
     ]
    },
    {
     "name": "stderr",
     "output_type": "stream",
     "text": []
    },
    {
     "name": "stdout",
     "output_type": "stream",
     "text": [
      "NOT PRUNING upstream_component=ModelComponent(hook_point_name='blocks.5.attn.hook_result', index=[:, :, 5]) downstream_component=ModelComponent(hook_point_name='blocks.8.hook_q_input', index=[:, :, 10]) with attribution 0.00990738533437252\n",
      "NOT PRUNING upstream_component=ModelComponent(hook_point_name='blocks.5.attn.hook_result', index=[:, :, 5]) downstream_component=ModelComponent(hook_point_name='blocks.8.hook_q_input', index=[:, :, 9]) with attribution 0.010450886562466621\n",
      "NOT PRUNING upstream_component=ModelComponent(hook_point_name='blocks.5.attn.hook_result', index=[:, :, 5]) downstream_component=ModelComponent(hook_point_name='blocks.8.hook_q_input', index=[:, :, 3]) with attribution 0.015168743208050728\n",
      "NOT PRUNING upstream_component=ModelComponent(hook_point_name='blocks.5.attn.hook_result', index=[:, :, 5]) downstream_component=ModelComponent(hook_point_name='blocks.7.hook_mlp_in', index=[:]) with attribution 0.10067693889141083\n",
      "NOT PRUNING upstream_component=ModelComponent(hook_point_name='blocks.5.attn.hook_result', index=[:, :, 5]) downstream_component=ModelComponent(hook_point_name='blocks.7.hook_v_input', index=[:, :, 9]) with attribution 0.2506375014781952\n",
      "NOT PRUNING upstream_component=ModelComponent(hook_point_name='blocks.5.attn.hook_result', index=[:, :, 5]) downstream_component=ModelComponent(hook_point_name='blocks.7.hook_v_input', index=[:, :, 3]) with attribution 0.052810169756412506\n",
      "NOT PRUNING upstream_component=ModelComponent(hook_point_name='blocks.5.attn.hook_result', index=[:, :, 5]) downstream_component=ModelComponent(hook_point_name='blocks.7.hook_k_input', index=[:, :, 9]) with attribution 0.08647538721561432\n",
      "NOT PRUNING upstream_component=ModelComponent(hook_point_name='blocks.5.attn.hook_result', index=[:, :, 5]) downstream_component=ModelComponent(hook_point_name='blocks.7.hook_k_input', index=[:, :, 3]) with attribution 0.030613571405410767\n"
     ]
    },
    {
     "name": "stderr",
     "output_type": "stream",
     "text": []
    },
    {
     "name": "stdout",
     "output_type": "stream",
     "text": [
      "NOT PRUNING upstream_component=ModelComponent(hook_point_name='blocks.5.attn.hook_result', index=[:, :, 5]) downstream_component=ModelComponent(hook_point_name='blocks.7.hook_q_input', index=[:, :, 10]) with attribution 0.005844657309353352\n",
      "NOT PRUNING upstream_component=ModelComponent(hook_point_name='blocks.5.attn.hook_result', index=[:, :, 5]) downstream_component=ModelComponent(hook_point_name='blocks.7.hook_q_input', index=[:, :, 7]) with attribution 0.007513918913900852\n",
      "NOT PRUNING upstream_component=ModelComponent(hook_point_name='blocks.5.attn.hook_result', index=[:, :, 5]) downstream_component=ModelComponent(hook_point_name='blocks.7.hook_q_input', index=[:, :, 6]) with attribution 0.011318863369524479\n",
      "NOT PRUNING upstream_component=ModelComponent(hook_point_name='blocks.5.attn.hook_result', index=[:, :, 5]) downstream_component=ModelComponent(hook_point_name='blocks.7.hook_q_input', index=[:, :, 5]) with attribution 0.023079540580511093\n",
      "NOT PRUNING upstream_component=ModelComponent(hook_point_name='blocks.5.attn.hook_result', index=[:, :, 5]) downstream_component=ModelComponent(hook_point_name='blocks.7.hook_q_input', index=[:, :, 3]) with attribution 0.021635843440890312\n",
      "NOT PRUNING upstream_component=ModelComponent(hook_point_name='blocks.5.attn.hook_result', index=[:, :, 5]) downstream_component=ModelComponent(hook_point_name='blocks.7.hook_q_input', index=[:, :, 1]) with attribution 0.1591511368751526\n",
      "NOT PRUNING upstream_component=ModelComponent(hook_point_name='blocks.5.attn.hook_result', index=[:, :, 5]) downstream_component=ModelComponent(hook_point_name='blocks.6.hook_mlp_in', index=[:]) with attribution 0.3082297742366791\n",
      "NOT PRUNING upstream_component=ModelComponent(hook_point_name='blocks.5.attn.hook_result', index=[:, :, 5]) downstream_component=ModelComponent(hook_point_name='blocks.6.hook_v_input', index=[:, :, 8]) with attribution 0.005938137881457806\n",
      "NOT PRUNING upstream_component=ModelComponent(hook_point_name='blocks.5.attn.hook_result', index=[:, :, 5]) downstream_component=ModelComponent(hook_point_name='blocks.6.hook_v_input', index=[:, :, 7]) with attribution 0.01118936762213707\n",
      "NOT PRUNING upstream_component=ModelComponent(hook_point_name='blocks.5.attn.hook_result', index=[:, :, 5]) downstream_component=ModelComponent(hook_point_name='blocks.6.hook_v_input', index=[:, :, 6]) with attribution 0.086628258228302\n",
      "NOT PRUNING upstream_component=ModelComponent(hook_point_name='blocks.5.attn.hook_result', index=[:, :, 5]) downstream_component=ModelComponent(hook_point_name='blocks.6.hook_v_input', index=[:, :, 5]) with attribution 0.01739431358873844\n",
      "NOT PRUNING upstream_component=ModelComponent(hook_point_name='blocks.5.attn.hook_result', index=[:, :, 5]) downstream_component=ModelComponent(hook_point_name='blocks.6.hook_v_input', index=[:, :, 2]) with attribution 0.01605277694761753\n",
      "NOT PRUNING upstream_component=ModelComponent(hook_point_name='blocks.5.attn.hook_result', index=[:, :, 5]) downstream_component=ModelComponent(hook_point_name='blocks.6.hook_v_input', index=[:, :, 1]) with attribution 0.026270944625139236\n",
      "NOT PRUNING upstream_component=ModelComponent(hook_point_name='blocks.5.attn.hook_result', index=[:, :, 5]) downstream_component=ModelComponent(hook_point_name='blocks.6.hook_v_input', index=[:, :, 0]) with attribution 0.03696819767355919\n",
      "NOT PRUNING upstream_component=ModelComponent(hook_point_name='blocks.5.attn.hook_result', index=[:, :, 5]) downstream_component=ModelComponent(hook_point_name='blocks.6.hook_k_input', index=[:, :, 6]) with attribution 0.04333252087235451\n",
      "NOT PRUNING upstream_component=ModelComponent(hook_point_name='blocks.5.attn.hook_result', index=[:, :, 5]) downstream_component=ModelComponent(hook_point_name='blocks.6.hook_k_input', index=[:, :, 5]) with attribution 0.019058270379900932\n"
     ]
    },
    {
     "name": "stderr",
     "output_type": "stream",
     "text": []
    },
    {
     "name": "stdout",
     "output_type": "stream",
     "text": [
      "NOT PRUNING upstream_component=ModelComponent(hook_point_name='blocks.5.attn.hook_result', index=[:, :, 5]) downstream_component=ModelComponent(hook_point_name='blocks.6.hook_k_input', index=[:, :, 3]) with attribution 0.006442842539399862\n",
      "NOT PRUNING upstream_component=ModelComponent(hook_point_name='blocks.5.attn.hook_result', index=[:, :, 5]) downstream_component=ModelComponent(hook_point_name='blocks.6.hook_k_input', index=[:, :, 1]) with attribution 0.013384558260440826\n",
      "NOT PRUNING upstream_component=ModelComponent(hook_point_name='blocks.5.attn.hook_result', index=[:, :, 5]) downstream_component=ModelComponent(hook_point_name='blocks.6.hook_q_input', index=[:, :, 11]) with attribution 0.005550488829612732\n",
      "NOT PRUNING upstream_component=ModelComponent(hook_point_name='blocks.5.attn.hook_result', index=[:, :, 5]) downstream_component=ModelComponent(hook_point_name='blocks.6.hook_q_input', index=[:, :, 9]) with attribution 0.40838098526000977\n",
      "NOT PRUNING upstream_component=ModelComponent(hook_point_name='blocks.5.attn.hook_result', index=[:, :, 5]) downstream_component=ModelComponent(hook_point_name='blocks.6.hook_q_input', index=[:, :, 6]) with attribution 0.08732842653989792\n"
     ]
    },
    {
     "name": "stderr",
     "output_type": "stream",
     "text": []
    },
    {
     "name": "stdout",
     "output_type": "stream",
     "text": [
      "NOT PRUNING upstream_component=ModelComponent(hook_point_name='blocks.5.attn.hook_result', index=[:, :, 5]) downstream_component=ModelComponent(hook_point_name='blocks.6.hook_q_input', index=[:, :, 5]) with attribution 0.005673809442669153\n",
      "NOT PRUNING upstream_component=ModelComponent(hook_point_name='blocks.5.attn.hook_result', index=[:, :, 5]) downstream_component=ModelComponent(hook_point_name='blocks.6.hook_q_input', index=[:, :, 4]) with attribution 0.03291034325957298\n",
      "NOT PRUNING upstream_component=ModelComponent(hook_point_name='blocks.5.attn.hook_result', index=[:, :, 5]) downstream_component=ModelComponent(hook_point_name='blocks.6.hook_q_input', index=[:, :, 3]) with attribution 0.020604901015758514\n",
      "NOT PRUNING upstream_component=ModelComponent(hook_point_name='blocks.5.attn.hook_result', index=[:, :, 5]) downstream_component=ModelComponent(hook_point_name='blocks.6.hook_q_input', index=[:, :, 1]) with attribution 0.008374902419745922\n",
      "NOT PRUNING upstream_component=ModelComponent(hook_point_name='blocks.5.attn.hook_result', index=[:, :, 5]) downstream_component=ModelComponent(hook_point_name='blocks.5.hook_mlp_in', index=[:]) with attribution 0.5229592323303223\n"
     ]
    },
    {
     "name": "stderr",
     "output_type": "stream",
     "text": []
    },
    {
     "name": "stdout",
     "output_type": "stream",
     "text": [
      "NOT PRUNING upstream_component=ModelComponent(hook_point_name='blocks.5.attn.hook_result', index=[:, :, 4]) downstream_component=ModelComponent(hook_point_name='blocks.7.hook_mlp_in', index=[:]) with attribution 0.005969854071736336\n"
     ]
    },
    {
     "name": "stderr",
     "output_type": "stream",
     "text": []
    },
    {
     "name": "stdout",
     "output_type": "stream",
     "text": [
      "NOT PRUNING upstream_component=ModelComponent(hook_point_name='blocks.5.attn.hook_result', index=[:, :, 4]) downstream_component=ModelComponent(hook_point_name='blocks.5.hook_mlp_in', index=[:]) with attribution 0.005294987000524998\n"
     ]
    },
    {
     "name": "stderr",
     "output_type": "stream",
     "text": []
    },
    {
     "name": "stdout",
     "output_type": "stream",
     "text": [
      "NOT PRUNING upstream_component=ModelComponent(hook_point_name='blocks.5.attn.hook_result', index=[:, :, 3]) downstream_component=ModelComponent(hook_point_name='blocks.9.hook_k_input', index=[:, :, 7]) with attribution 0.006084635388106108\n"
     ]
    },
    {
     "name": "stderr",
     "output_type": "stream",
     "text": []
    },
    {
     "name": "stdout",
     "output_type": "stream",
     "text": [
      "NOT PRUNING upstream_component=ModelComponent(hook_point_name='blocks.5.attn.hook_result', index=[:, :, 3]) downstream_component=ModelComponent(hook_point_name='blocks.8.hook_k_input', index=[:, :, 10]) with attribution 0.011945518665015697\n",
      "NOT PRUNING upstream_component=ModelComponent(hook_point_name='blocks.5.attn.hook_result', index=[:, :, 3]) downstream_component=ModelComponent(hook_point_name='blocks.8.hook_k_input', index=[:, :, 6]) with attribution 0.01243530586361885\n"
     ]
    },
    {
     "name": "stderr",
     "output_type": "stream",
     "text": []
    },
    {
     "name": "stdout",
     "output_type": "stream",
     "text": [
      "NOT PRUNING upstream_component=ModelComponent(hook_point_name='blocks.5.attn.hook_result', index=[:, :, 3]) downstream_component=ModelComponent(hook_point_name='blocks.8.hook_q_input', index=[:, :, 10]) with attribution 0.005642819683998823\n",
      "NOT PRUNING upstream_component=ModelComponent(hook_point_name='blocks.5.attn.hook_result', index=[:, :, 3]) downstream_component=ModelComponent(hook_point_name='blocks.8.hook_q_input', index=[:, :, 6]) with attribution 0.00533379428088665\n"
     ]
    },
    {
     "name": "stderr",
     "output_type": "stream",
     "text": []
    },
    {
     "name": "stdout",
     "output_type": "stream",
     "text": [
      "NOT PRUNING upstream_component=ModelComponent(hook_point_name='blocks.5.attn.hook_result', index=[:, :, 3]) downstream_component=ModelComponent(hook_point_name='blocks.7.hook_mlp_in', index=[:]) with attribution 0.00972873717546463\n"
     ]
    },
    {
     "name": "stderr",
     "output_type": "stream",
     "text": []
    },
    {
     "name": "stdout",
     "output_type": "stream",
     "text": [
      "NOT PRUNING upstream_component=ModelComponent(hook_point_name='blocks.5.attn.hook_result', index=[:, :, 3]) downstream_component=ModelComponent(hook_point_name='blocks.7.hook_k_input', index=[:, :, 9]) with attribution 0.012554632499814034\n"
     ]
    },
    {
     "name": "stderr",
     "output_type": "stream",
     "text": []
    },
    {
     "name": "stdout",
     "output_type": "stream",
     "text": [
      "NOT PRUNING upstream_component=ModelComponent(hook_point_name='blocks.5.attn.hook_result', index=[:, :, 3]) downstream_component=ModelComponent(hook_point_name='blocks.7.hook_k_input', index=[:, :, 3]) with attribution 0.006593727972358465\n"
     ]
    },
    {
     "name": "stderr",
     "output_type": "stream",
     "text": []
    },
    {
     "name": "stdout",
     "output_type": "stream",
     "text": [
      "NOT PRUNING upstream_component=ModelComponent(hook_point_name='blocks.5.attn.hook_result', index=[:, :, 3]) downstream_component=ModelComponent(hook_point_name='blocks.6.hook_mlp_in', index=[:]) with attribution 0.016644148156046867\n"
     ]
    },
    {
     "name": "stderr",
     "output_type": "stream",
     "text": []
    },
    {
     "name": "stdout",
     "output_type": "stream",
     "text": [
      "NOT PRUNING upstream_component=ModelComponent(hook_point_name='blocks.5.attn.hook_result', index=[:, :, 3]) downstream_component=ModelComponent(hook_point_name='blocks.6.hook_k_input', index=[:, :, 6]) with attribution 0.00785578228533268\n"
     ]
    },
    {
     "name": "stderr",
     "output_type": "stream",
     "text": []
    },
    {
     "name": "stdout",
     "output_type": "stream",
     "text": [
      "NOT PRUNING upstream_component=ModelComponent(hook_point_name='blocks.5.attn.hook_result', index=[:, :, 2]) downstream_component=ModelComponent(hook_point_name='blocks.11.hook_q_input', index=[:, :, 10]) with attribution 0.005771482829004526\n"
     ]
    },
    {
     "name": "stderr",
     "output_type": "stream",
     "text": []
    },
    {
     "name": "stdout",
     "output_type": "stream",
     "text": [
      "NOT PRUNING upstream_component=ModelComponent(hook_point_name='blocks.5.attn.hook_result', index=[:, :, 2]) downstream_component=ModelComponent(hook_point_name='blocks.6.hook_mlp_in', index=[:]) with attribution 0.007976825349032879\n"
     ]
    },
    {
     "name": "stderr",
     "output_type": "stream",
     "text": []
    },
    {
     "name": "stdout",
     "output_type": "stream",
     "text": [
      "NOT PRUNING upstream_component=ModelComponent(hook_point_name='blocks.5.attn.hook_result', index=[:, :, 2]) downstream_component=ModelComponent(hook_point_name='blocks.6.hook_k_input', index=[:, :, 9]) with attribution 0.018800612539052963\n"
     ]
    },
    {
     "name": "stderr",
     "output_type": "stream",
     "text": []
    },
    {
     "name": "stdout",
     "output_type": "stream",
     "text": [
      "NOT PRUNING upstream_component=ModelComponent(hook_point_name='blocks.5.attn.hook_result', index=[:, :, 1]) downstream_component=ModelComponent(hook_point_name='blocks.8.hook_v_input', index=[:, :, 10]) with attribution 0.01117271650582552\n",
      "NOT PRUNING upstream_component=ModelComponent(hook_point_name='blocks.5.attn.hook_result', index=[:, :, 1]) downstream_component=ModelComponent(hook_point_name='blocks.8.hook_v_input', index=[:, :, 6]) with attribution 0.014261065050959587\n"
     ]
    },
    {
     "name": "stderr",
     "output_type": "stream",
     "text": []
    },
    {
     "name": "stdout",
     "output_type": "stream",
     "text": [
      "NOT PRUNING upstream_component=ModelComponent(hook_point_name='blocks.5.attn.hook_result', index=[:, :, 1]) downstream_component=ModelComponent(hook_point_name='blocks.7.hook_mlp_in', index=[:]) with attribution 0.0050012096762657166\n",
      "NOT PRUNING upstream_component=ModelComponent(hook_point_name='blocks.5.attn.hook_result', index=[:, :, 1]) downstream_component=ModelComponent(hook_point_name='blocks.7.hook_v_input', index=[:, :, 9]) with attribution 0.017447268590331078\n"
     ]
    },
    {
     "name": "stderr",
     "output_type": "stream",
     "text": []
    },
    {
     "name": "stdout",
     "output_type": "stream",
     "text": [
      "NOT PRUNING upstream_component=ModelComponent(hook_point_name='blocks.5.attn.hook_result', index=[:, :, 1]) downstream_component=ModelComponent(hook_point_name='blocks.7.hook_q_input', index=[:, :, 1]) with attribution 0.007361036725342274\n",
      "NOT PRUNING upstream_component=ModelComponent(hook_point_name='blocks.5.attn.hook_result', index=[:, :, 1]) downstream_component=ModelComponent(hook_point_name='blocks.6.hook_mlp_in', index=[:]) with attribution 0.011678376235067844\n"
     ]
    },
    {
     "name": "stderr",
     "output_type": "stream",
     "text": []
    },
    {
     "name": "stdout",
     "output_type": "stream",
     "text": [
      "NOT PRUNING upstream_component=ModelComponent(hook_point_name='blocks.5.attn.hook_result', index=[:, :, 1]) downstream_component=ModelComponent(hook_point_name='blocks.6.hook_q_input', index=[:, :, 9]) with attribution 0.017674503847956657\n",
      "NOT PRUNING upstream_component=ModelComponent(hook_point_name='blocks.5.attn.hook_result', index=[:, :, 1]) downstream_component=ModelComponent(hook_point_name='blocks.6.hook_q_input', index=[:, :, 6]) with attribution 0.009004785679280758\n"
     ]
    },
    {
     "name": "stderr",
     "output_type": "stream",
     "text": []
    },
    {
     "name": "stdout",
     "output_type": "stream",
     "text": [
      "NOT PRUNING upstream_component=ModelComponent(hook_point_name='blocks.5.attn.hook_result', index=[:, :, 0]) downstream_component=ModelComponent(hook_point_name='blocks.11.hook_k_input', index=[:, :, 6]) with attribution 0.00508495420217514\n",
      "NOT PRUNING upstream_component=ModelComponent(hook_point_name='blocks.5.attn.hook_result', index=[:, :, 0]) downstream_component=ModelComponent(hook_point_name='blocks.11.hook_k_input', index=[:, :, 2]) with attribution 0.00993895623832941\n",
      "NOT PRUNING upstream_component=ModelComponent(hook_point_name='blocks.5.attn.hook_result', index=[:, :, 0]) downstream_component=ModelComponent(hook_point_name='blocks.10.hook_k_input', index=[:, :, 2]) with attribution 0.010348654352128506\n",
      "NOT PRUNING upstream_component=ModelComponent(hook_point_name='blocks.5.attn.hook_result', index=[:, :, 0]) downstream_component=ModelComponent(hook_point_name='blocks.10.hook_k_input', index=[:, :, 0]) with attribution 0.008530262857675552\n"
     ]
    },
    {
     "name": "stderr",
     "output_type": "stream",
     "text": []
    },
    {
     "name": "stdout",
     "output_type": "stream",
     "text": [
      "NOT PRUNING upstream_component=ModelComponent(hook_point_name='blocks.5.attn.hook_result', index=[:, :, 0]) downstream_component=ModelComponent(hook_point_name='blocks.9.hook_mlp_in', index=[:]) with attribution 0.009247953072190285\n",
      "NOT PRUNING upstream_component=ModelComponent(hook_point_name='blocks.5.attn.hook_result', index=[:, :, 0]) downstream_component=ModelComponent(hook_point_name='blocks.9.hook_k_input', index=[:, :, 4]) with attribution 0.006900344509631395\n"
     ]
    },
    {
     "name": "stderr",
     "output_type": "stream",
     "text": []
    },
    {
     "name": "stdout",
     "output_type": "stream",
     "text": [
      "NOT PRUNING upstream_component=ModelComponent(hook_point_name='blocks.5.attn.hook_result', index=[:, :, 0]) downstream_component=ModelComponent(hook_point_name='blocks.8.hook_mlp_in', index=[:]) with attribution 0.021087460219860077\n"
     ]
    },
    {
     "name": "stderr",
     "output_type": "stream",
     "text": []
    },
    {
     "name": "stdout",
     "output_type": "stream",
     "text": [
      "NOT PRUNING upstream_component=ModelComponent(hook_point_name='blocks.5.attn.hook_result', index=[:, :, 0]) downstream_component=ModelComponent(hook_point_name='blocks.7.hook_mlp_in', index=[:]) with attribution 0.009241102263331413\n",
      "NOT PRUNING upstream_component=ModelComponent(hook_point_name='blocks.5.attn.hook_result', index=[:, :, 0]) downstream_component=ModelComponent(hook_point_name='blocks.7.hook_v_input', index=[:, :, 3]) with attribution 0.00512101361528039\n"
     ]
    },
    {
     "name": "stderr",
     "output_type": "stream",
     "text": []
    },
    {
     "name": "stdout",
     "output_type": "stream",
     "text": [
      "NOT PRUNING upstream_component=ModelComponent(hook_point_name='blocks.5.attn.hook_result', index=[:, :, 0]) downstream_component=ModelComponent(hook_point_name='blocks.6.hook_mlp_in', index=[:]) with attribution 0.01624242402613163\n"
     ]
    },
    {
     "name": "stderr",
     "output_type": "stream",
     "text": []
    },
    {
     "name": "stdout",
     "output_type": "stream",
     "text": [
      "NOT PRUNING upstream_component=ModelComponent(hook_point_name='blocks.5.attn.hook_result', index=[:, :, 0]) downstream_component=ModelComponent(hook_point_name='blocks.6.hook_k_input', index=[:, :, 6]) with attribution 0.005031621549278498\n"
     ]
    },
    {
     "name": "stderr",
     "output_type": "stream",
     "text": []
    },
    {
     "name": "stdout",
     "output_type": "stream",
     "text": [
      "NOT PRUNING upstream_component=ModelComponent(hook_point_name='blocks.5.attn.hook_result', index=[:, :, 0]) downstream_component=ModelComponent(hook_point_name='blocks.5.hook_mlp_in', index=[:]) with attribution 0.015253057703375816\n",
      "NOT PRUNING upstream_component=ModelComponent(hook_point_name='blocks.4.hook_mlp_out', index=[:]) downstream_component=ModelComponent(hook_point_name='blocks.11.hook_resid_post', index=[:]) with attribution 0.013162259943783283\n",
      "NOT PRUNING upstream_component=ModelComponent(hook_point_name='blocks.4.hook_mlp_out', index=[:]) downstream_component=ModelComponent(hook_point_name='blocks.11.hook_v_input', index=[:, :, 10]) with attribution 0.03586345165967941\n",
      "NOT PRUNING upstream_component=ModelComponent(hook_point_name='blocks.4.hook_mlp_out', index=[:]) downstream_component=ModelComponent(hook_point_name='blocks.11.hook_k_input', index=[:, :, 10]) with attribution 0.11910614371299744\n",
      "NOT PRUNING upstream_component=ModelComponent(hook_point_name='blocks.4.hook_mlp_out', index=[:]) downstream_component=ModelComponent(hook_point_name='blocks.11.hook_k_input', index=[:, :, 9]) with attribution 0.008402864448726177\n",
      "NOT PRUNING upstream_component=ModelComponent(hook_point_name='blocks.4.hook_mlp_out', index=[:]) downstream_component=ModelComponent(hook_point_name='blocks.11.hook_k_input', index=[:, :, 6]) with attribution 0.023916441947221756\n",
      "NOT PRUNING upstream_component=ModelComponent(hook_point_name='blocks.4.hook_mlp_out', index=[:]) downstream_component=ModelComponent(hook_point_name='blocks.11.hook_k_input', index=[:, :, 2]) with attribution 0.043695878237485886\n",
      "NOT PRUNING upstream_component=ModelComponent(hook_point_name='blocks.4.hook_mlp_out', index=[:]) downstream_component=ModelComponent(hook_point_name='blocks.11.hook_k_input', index=[:, :, 1]) with attribution 0.02641664817929268\n",
      "NOT PRUNING upstream_component=ModelComponent(hook_point_name='blocks.4.hook_mlp_out', index=[:]) downstream_component=ModelComponent(hook_point_name='blocks.10.hook_mlp_in', index=[:]) with attribution 0.007398541551083326\n",
      "NOT PRUNING upstream_component=ModelComponent(hook_point_name='blocks.4.hook_mlp_out', index=[:]) downstream_component=ModelComponent(hook_point_name='blocks.10.hook_v_input', index=[:, :, 7]) with attribution 0.02514875866472721\n",
      "NOT PRUNING upstream_component=ModelComponent(hook_point_name='blocks.4.hook_mlp_out', index=[:]) downstream_component=ModelComponent(hook_point_name='blocks.10.hook_v_input', index=[:, :, 6]) with attribution 0.00785879511386156\n",
      "NOT PRUNING upstream_component=ModelComponent(hook_point_name='blocks.4.hook_mlp_out', index=[:]) downstream_component=ModelComponent(hook_point_name='blocks.10.hook_v_input', index=[:, :, 0]) with attribution 0.014816255308687687\n",
      "NOT PRUNING upstream_component=ModelComponent(hook_point_name='blocks.4.hook_mlp_out', index=[:]) downstream_component=ModelComponent(hook_point_name='blocks.10.hook_k_input', index=[:, :, 10]) with attribution 0.009964396245777607\n",
      "NOT PRUNING upstream_component=ModelComponent(hook_point_name='blocks.4.hook_mlp_out', index=[:]) downstream_component=ModelComponent(hook_point_name='blocks.10.hook_k_input', index=[:, :, 7]) with attribution 0.08819586038589478\n",
      "NOT PRUNING upstream_component=ModelComponent(hook_point_name='blocks.4.hook_mlp_out', index=[:]) downstream_component=ModelComponent(hook_point_name='blocks.10.hook_k_input', index=[:, :, 6]) with attribution 0.015257381834089756\n",
      "NOT PRUNING upstream_component=ModelComponent(hook_point_name='blocks.4.hook_mlp_out', index=[:]) downstream_component=ModelComponent(hook_point_name='blocks.10.hook_k_input', index=[:, :, 3]) with attribution 0.010809010826051235\n",
      "NOT PRUNING upstream_component=ModelComponent(hook_point_name='blocks.4.hook_mlp_out', index=[:]) downstream_component=ModelComponent(hook_point_name='blocks.10.hook_k_input', index=[:, :, 2]) with attribution 0.02111213095486164\n",
      "NOT PRUNING upstream_component=ModelComponent(hook_point_name='blocks.4.hook_mlp_out', index=[:]) downstream_component=ModelComponent(hook_point_name='blocks.10.hook_k_input', index=[:, :, 1]) with attribution 0.021074485033750534\n",
      "NOT PRUNING upstream_component=ModelComponent(hook_point_name='blocks.4.hook_mlp_out', index=[:]) downstream_component=ModelComponent(hook_point_name='blocks.10.hook_k_input', index=[:, :, 0]) with attribution 0.0534769631922245\n",
      "NOT PRUNING upstream_component=ModelComponent(hook_point_name='blocks.4.hook_mlp_out', index=[:]) downstream_component=ModelComponent(hook_point_name='blocks.10.hook_q_input', index=[:, :, 7]) with attribution 0.005104204639792442\n"
     ]
    },
    {
     "name": "stderr",
     "output_type": "stream",
     "text": []
    },
    {
     "name": "stdout",
     "output_type": "stream",
     "text": [
      "NOT PRUNING upstream_component=ModelComponent(hook_point_name='blocks.4.hook_mlp_out', index=[:]) downstream_component=ModelComponent(hook_point_name='blocks.9.hook_mlp_in', index=[:]) with attribution 0.055409807711839676\n",
      "NOT PRUNING upstream_component=ModelComponent(hook_point_name='blocks.4.hook_mlp_out', index=[:]) downstream_component=ModelComponent(hook_point_name='blocks.9.hook_v_input', index=[:, :, 9]) with attribution 0.005635215900838375\n",
      "NOT PRUNING upstream_component=ModelComponent(hook_point_name='blocks.4.hook_mlp_out', index=[:]) downstream_component=ModelComponent(hook_point_name='blocks.9.hook_v_input', index=[:, :, 8]) with attribution 0.006714267656207085\n",
      "NOT PRUNING upstream_component=ModelComponent(hook_point_name='blocks.4.hook_mlp_out', index=[:]) downstream_component=ModelComponent(hook_point_name='blocks.9.hook_v_input', index=[:, :, 7]) with attribution 0.005959021858870983\n",
      "NOT PRUNING upstream_component=ModelComponent(hook_point_name='blocks.4.hook_mlp_out', index=[:]) downstream_component=ModelComponent(hook_point_name='blocks.9.hook_v_input', index=[:, :, 6]) with attribution 0.0075759366154670715\n",
      "NOT PRUNING upstream_component=ModelComponent(hook_point_name='blocks.4.hook_mlp_out', index=[:]) downstream_component=ModelComponent(hook_point_name='blocks.9.hook_k_input', index=[:, :, 9]) with attribution 0.021149935200810432\n",
      "NOT PRUNING upstream_component=ModelComponent(hook_point_name='blocks.4.hook_mlp_out', index=[:]) downstream_component=ModelComponent(hook_point_name='blocks.9.hook_k_input', index=[:, :, 8]) with attribution 0.02098960429430008\n",
      "NOT PRUNING upstream_component=ModelComponent(hook_point_name='blocks.4.hook_mlp_out', index=[:]) downstream_component=ModelComponent(hook_point_name='blocks.9.hook_k_input', index=[:, :, 7]) with attribution 0.060439348220825195\n",
      "NOT PRUNING upstream_component=ModelComponent(hook_point_name='blocks.4.hook_mlp_out', index=[:]) downstream_component=ModelComponent(hook_point_name='blocks.9.hook_k_input', index=[:, :, 5]) with attribution 0.008396082557737827\n",
      "NOT PRUNING upstream_component=ModelComponent(hook_point_name='blocks.4.hook_mlp_out', index=[:]) downstream_component=ModelComponent(hook_point_name='blocks.9.hook_k_input', index=[:, :, 2]) with attribution 0.006098405458033085\n",
      "NOT PRUNING upstream_component=ModelComponent(hook_point_name='blocks.4.hook_mlp_out', index=[:]) downstream_component=ModelComponent(hook_point_name='blocks.9.hook_q_input', index=[:, :, 7]) with attribution 0.005062958691269159\n",
      "NOT PRUNING upstream_component=ModelComponent(hook_point_name='blocks.4.hook_mlp_out', index=[:]) downstream_component=ModelComponent(hook_point_name='blocks.8.hook_mlp_in', index=[:]) with attribution 0.03603201359510422\n",
      "NOT PRUNING upstream_component=ModelComponent(hook_point_name='blocks.4.hook_mlp_out', index=[:]) downstream_component=ModelComponent(hook_point_name='blocks.8.hook_v_input', index=[:, :, 10]) with attribution 0.005159994587302208\n",
      "NOT PRUNING upstream_component=ModelComponent(hook_point_name='blocks.4.hook_mlp_out', index=[:]) downstream_component=ModelComponent(hook_point_name='blocks.8.hook_v_input', index=[:, :, 6]) with attribution 0.011568392626941204\n"
     ]
    },
    {
     "name": "stderr",
     "output_type": "stream",
     "text": []
    },
    {
     "name": "stdout",
     "output_type": "stream",
     "text": [
      "NOT PRUNING upstream_component=ModelComponent(hook_point_name='blocks.4.hook_mlp_out', index=[:]) downstream_component=ModelComponent(hook_point_name='blocks.8.hook_v_input', index=[:, :, 3]) with attribution 0.0050912355072796345\n",
      "NOT PRUNING upstream_component=ModelComponent(hook_point_name='blocks.4.hook_mlp_out', index=[:]) downstream_component=ModelComponent(hook_point_name='blocks.8.hook_v_input', index=[:, :, 2]) with attribution 0.005681927315890789\n",
      "NOT PRUNING upstream_component=ModelComponent(hook_point_name='blocks.4.hook_mlp_out', index=[:]) downstream_component=ModelComponent(hook_point_name='blocks.8.hook_k_input', index=[:, :, 11]) with attribution 0.005934144835919142\n",
      "NOT PRUNING upstream_component=ModelComponent(hook_point_name='blocks.4.hook_mlp_out', index=[:]) downstream_component=ModelComponent(hook_point_name='blocks.8.hook_k_input', index=[:, :, 10]) with attribution 0.11986816674470901\n",
      "NOT PRUNING upstream_component=ModelComponent(hook_point_name='blocks.4.hook_mlp_out', index=[:]) downstream_component=ModelComponent(hook_point_name='blocks.8.hook_k_input', index=[:, :, 6]) with attribution 0.03681932017207146\n",
      "NOT PRUNING upstream_component=ModelComponent(hook_point_name='blocks.4.hook_mlp_out', index=[:]) downstream_component=ModelComponent(hook_point_name='blocks.8.hook_k_input', index=[:, :, 3]) with attribution 0.015372585505247116\n",
      "NOT PRUNING upstream_component=ModelComponent(hook_point_name='blocks.4.hook_mlp_out', index=[:]) downstream_component=ModelComponent(hook_point_name='blocks.8.hook_q_input', index=[:, :, 3]) with attribution 0.006223784293979406\n",
      "NOT PRUNING upstream_component=ModelComponent(hook_point_name='blocks.4.hook_mlp_out', index=[:]) downstream_component=ModelComponent(hook_point_name='blocks.7.hook_mlp_in', index=[:]) with attribution 0.010456676594913006\n",
      "NOT PRUNING upstream_component=ModelComponent(hook_point_name='blocks.4.hook_mlp_out', index=[:]) downstream_component=ModelComponent(hook_point_name='blocks.7.hook_v_input', index=[:, :, 9]) with attribution 0.02159067615866661\n",
      "NOT PRUNING upstream_component=ModelComponent(hook_point_name='blocks.4.hook_mlp_out', index=[:]) downstream_component=ModelComponent(hook_point_name='blocks.7.hook_v_input', index=[:, :, 5]) with attribution 0.005972018465399742\n",
      "NOT PRUNING upstream_component=ModelComponent(hook_point_name='blocks.4.hook_mlp_out', index=[:]) downstream_component=ModelComponent(hook_point_name='blocks.7.hook_v_input', index=[:, :, 4]) with attribution 0.0067588817328214645\n",
      "NOT PRUNING upstream_component=ModelComponent(hook_point_name='blocks.4.hook_mlp_out', index=[:]) downstream_component=ModelComponent(hook_point_name='blocks.7.hook_v_input', index=[:, :, 3]) with attribution 0.010598873719573021\n",
      "NOT PRUNING upstream_component=ModelComponent(hook_point_name='blocks.4.hook_mlp_out', index=[:]) downstream_component=ModelComponent(hook_point_name='blocks.7.hook_k_input', index=[:, :, 9]) with attribution 0.07327882945537567\n"
     ]
    },
    {
     "name": "stderr",
     "output_type": "stream",
     "text": []
    },
    {
     "name": "stdout",
     "output_type": "stream",
     "text": [
      "NOT PRUNING upstream_component=ModelComponent(hook_point_name='blocks.4.hook_mlp_out', index=[:]) downstream_component=ModelComponent(hook_point_name='blocks.7.hook_k_input', index=[:, :, 6]) with attribution 0.006395313423126936\n",
      "NOT PRUNING upstream_component=ModelComponent(hook_point_name='blocks.4.hook_mlp_out', index=[:]) downstream_component=ModelComponent(hook_point_name='blocks.7.hook_k_input', index=[:, :, 4]) with attribution 0.006748414598405361\n",
      "NOT PRUNING upstream_component=ModelComponent(hook_point_name='blocks.4.hook_mlp_out', index=[:]) downstream_component=ModelComponent(hook_point_name='blocks.7.hook_k_input', index=[:, :, 3]) with attribution 0.02010466158390045\n",
      "NOT PRUNING upstream_component=ModelComponent(hook_point_name='blocks.4.hook_mlp_out', index=[:]) downstream_component=ModelComponent(hook_point_name='blocks.7.hook_k_input', index=[:, :, 1]) with attribution 0.013647999614477158\n",
      "NOT PRUNING upstream_component=ModelComponent(hook_point_name='blocks.4.hook_mlp_out', index=[:]) downstream_component=ModelComponent(hook_point_name='blocks.7.hook_q_input', index=[:, :, 10]) with attribution 0.005473950877785683\n",
      "NOT PRUNING upstream_component=ModelComponent(hook_point_name='blocks.4.hook_mlp_out', index=[:]) downstream_component=ModelComponent(hook_point_name='blocks.7.hook_q_input', index=[:, :, 6]) with attribution 0.0062311869114637375\n",
      "NOT PRUNING upstream_component=ModelComponent(hook_point_name='blocks.4.hook_mlp_out', index=[:]) downstream_component=ModelComponent(hook_point_name='blocks.7.hook_q_input', index=[:, :, 1]) with attribution 0.018996110185980797\n",
      "NOT PRUNING upstream_component=ModelComponent(hook_point_name='blocks.4.hook_mlp_out', index=[:]) downstream_component=ModelComponent(hook_point_name='blocks.6.hook_mlp_in', index=[:]) with attribution 0.03948833420872688\n",
      "NOT PRUNING upstream_component=ModelComponent(hook_point_name='blocks.4.hook_mlp_out', index=[:]) downstream_component=ModelComponent(hook_point_name='blocks.6.hook_v_input', index=[:, :, 8]) with attribution 0.005136305466294289\n",
      "NOT PRUNING upstream_component=ModelComponent(hook_point_name='blocks.4.hook_mlp_out', index=[:]) downstream_component=ModelComponent(hook_point_name='blocks.6.hook_v_input', index=[:, :, 7]) with attribution 0.008679358288645744\n",
      "NOT PRUNING upstream_component=ModelComponent(hook_point_name='blocks.4.hook_mlp_out', index=[:]) downstream_component=ModelComponent(hook_point_name='blocks.6.hook_v_input', index=[:, :, 6]) with attribution 0.008337078616023064\n",
      "NOT PRUNING upstream_component=ModelComponent(hook_point_name='blocks.4.hook_mlp_out', index=[:]) downstream_component=ModelComponent(hook_point_name='blocks.6.hook_v_input', index=[:, :, 5]) with attribution 0.012241194024682045\n"
     ]
    },
    {
     "name": "stderr",
     "output_type": "stream",
     "text": []
    },
    {
     "name": "stdout",
     "output_type": "stream",
     "text": [
      "NOT PRUNING upstream_component=ModelComponent(hook_point_name='blocks.4.hook_mlp_out', index=[:]) downstream_component=ModelComponent(hook_point_name='blocks.6.hook_v_input', index=[:, :, 2]) with attribution 0.008979324251413345\n",
      "NOT PRUNING upstream_component=ModelComponent(hook_point_name='blocks.4.hook_mlp_out', index=[:]) downstream_component=ModelComponent(hook_point_name='blocks.6.hook_k_input', index=[:, :, 9]) with attribution 0.11168412119150162\n",
      "NOT PRUNING upstream_component=ModelComponent(hook_point_name='blocks.4.hook_mlp_out', index=[:]) downstream_component=ModelComponent(hook_point_name='blocks.6.hook_k_input', index=[:, :, 6]) with attribution 0.05135832354426384\n",
      "NOT PRUNING upstream_component=ModelComponent(hook_point_name='blocks.4.hook_mlp_out', index=[:]) downstream_component=ModelComponent(hook_point_name='blocks.6.hook_k_input', index=[:, :, 5]) with attribution 0.013981819152832031\n",
      "NOT PRUNING upstream_component=ModelComponent(hook_point_name='blocks.4.hook_mlp_out', index=[:]) downstream_component=ModelComponent(hook_point_name='blocks.6.hook_k_input', index=[:, :, 3]) with attribution 0.0055270716547966\n",
      "NOT PRUNING upstream_component=ModelComponent(hook_point_name='blocks.4.hook_mlp_out', index=[:]) downstream_component=ModelComponent(hook_point_name='blocks.6.hook_k_input', index=[:, :, 1]) with attribution 0.009166842326521873\n",
      "NOT PRUNING upstream_component=ModelComponent(hook_point_name='blocks.4.hook_mlp_out', index=[:]) downstream_component=ModelComponent(hook_point_name='blocks.6.hook_q_input', index=[:, :, 9]) with attribution 0.1673433482646942\n"
     ]
    },
    {
     "name": "stderr",
     "output_type": "stream",
     "text": []
    },
    {
     "name": "stdout",
     "output_type": "stream",
     "text": [
      "NOT PRUNING upstream_component=ModelComponent(hook_point_name='blocks.4.hook_mlp_out', index=[:]) downstream_component=ModelComponent(hook_point_name='blocks.6.hook_q_input', index=[:, :, 4]) with attribution 0.01439547911286354\n",
      "NOT PRUNING upstream_component=ModelComponent(hook_point_name='blocks.4.hook_mlp_out', index=[:]) downstream_component=ModelComponent(hook_point_name='blocks.5.hook_mlp_in', index=[:]) with attribution 0.1554868519306183\n",
      "NOT PRUNING upstream_component=ModelComponent(hook_point_name='blocks.4.hook_mlp_out', index=[:]) downstream_component=ModelComponent(hook_point_name='blocks.5.hook_v_input', index=[:, :, 10]) with attribution 0.010654415003955364\n",
      "NOT PRUNING upstream_component=ModelComponent(hook_point_name='blocks.4.hook_mlp_out', index=[:]) downstream_component=ModelComponent(hook_point_name='blocks.5.hook_v_input', index=[:, :, 9]) with attribution 0.019346661865711212\n",
      "NOT PRUNING upstream_component=ModelComponent(hook_point_name='blocks.4.hook_mlp_out', index=[:]) downstream_component=ModelComponent(hook_point_name='blocks.5.hook_v_input', index=[:, :, 8]) with attribution 0.005311848595738411\n",
      "NOT PRUNING upstream_component=ModelComponent(hook_point_name='blocks.4.hook_mlp_out', index=[:]) downstream_component=ModelComponent(hook_point_name='blocks.5.hook_v_input', index=[:, :, 3]) with attribution 0.019703049212694168\n",
      "NOT PRUNING upstream_component=ModelComponent(hook_point_name='blocks.4.hook_mlp_out', index=[:]) downstream_component=ModelComponent(hook_point_name='blocks.5.hook_v_input', index=[:, :, 2]) with attribution 0.005339025054126978\n",
      "NOT PRUNING upstream_component=ModelComponent(hook_point_name='blocks.4.hook_mlp_out', index=[:]) downstream_component=ModelComponent(hook_point_name='blocks.5.hook_k_input', index=[:, :, 10]) with attribution 0.028289547190070152\n",
      "NOT PRUNING upstream_component=ModelComponent(hook_point_name='blocks.4.hook_mlp_out', index=[:]) downstream_component=ModelComponent(hook_point_name='blocks.5.hook_k_input', index=[:, :, 9]) with attribution 0.03850414976477623\n",
      "NOT PRUNING upstream_component=ModelComponent(hook_point_name='blocks.4.hook_mlp_out', index=[:]) downstream_component=ModelComponent(hook_point_name='blocks.5.hook_k_input', index=[:, :, 8]) with attribution 0.006967653054744005\n",
      "NOT PRUNING upstream_component=ModelComponent(hook_point_name='blocks.4.hook_mlp_out', index=[:]) downstream_component=ModelComponent(hook_point_name='blocks.5.hook_k_input', index=[:, :, 6]) with attribution 0.013309996575117111\n",
      "NOT PRUNING upstream_component=ModelComponent(hook_point_name='blocks.4.hook_mlp_out', index=[:]) downstream_component=ModelComponent(hook_point_name='blocks.5.hook_k_input', index=[:, :, 5]) with attribution 0.031297650188207626\n",
      "NOT PRUNING upstream_component=ModelComponent(hook_point_name='blocks.4.hook_mlp_out', index=[:]) downstream_component=ModelComponent(hook_point_name='blocks.5.hook_q_input', index=[:, :, 11]) with attribution 0.007567295338958502\n"
     ]
    },
    {
     "name": "stderr",
     "output_type": "stream",
     "text": []
    },
    {
     "name": "stdout",
     "output_type": "stream",
     "text": [
      "NOT PRUNING upstream_component=ModelComponent(hook_point_name='blocks.4.hook_mlp_out', index=[:]) downstream_component=ModelComponent(hook_point_name='blocks.5.hook_q_input', index=[:, :, 10]) with attribution 0.02119436301290989\n",
      "NOT PRUNING upstream_component=ModelComponent(hook_point_name='blocks.4.hook_mlp_out', index=[:]) downstream_component=ModelComponent(hook_point_name='blocks.5.hook_q_input', index=[:, :, 9]) with attribution 0.05176788941025734\n",
      "NOT PRUNING upstream_component=ModelComponent(hook_point_name='blocks.4.hook_mlp_out', index=[:]) downstream_component=ModelComponent(hook_point_name='blocks.5.hook_q_input', index=[:, :, 8]) with attribution 0.0053244344890117645\n",
      "NOT PRUNING upstream_component=ModelComponent(hook_point_name='blocks.4.hook_mlp_out', index=[:]) downstream_component=ModelComponent(hook_point_name='blocks.5.hook_q_input', index=[:, :, 6]) with attribution 0.014894723892211914\n",
      "NOT PRUNING upstream_component=ModelComponent(hook_point_name='blocks.4.hook_mlp_out', index=[:]) downstream_component=ModelComponent(hook_point_name='blocks.5.hook_q_input', index=[:, :, 5]) with attribution 0.036855727434158325\n",
      "NOT PRUNING upstream_component=ModelComponent(hook_point_name='blocks.4.hook_mlp_out', index=[:]) downstream_component=ModelComponent(hook_point_name='blocks.5.hook_q_input', index=[:, :, 1]) with attribution 0.006186176091432571\n"
     ]
    },
    {
     "name": "stderr",
     "output_type": "stream",
     "text": []
    },
    {
     "name": "stdout",
     "output_type": "stream",
     "text": [
      "NOT PRUNING upstream_component=ModelComponent(hook_point_name='blocks.4.attn.hook_result', index=[:, :, 11]) downstream_component=ModelComponent(hook_point_name='blocks.9.hook_v_input', index=[:, :, 4]) with attribution 0.008073286153376102\n"
     ]
    },
    {
     "name": "stderr",
     "output_type": "stream",
     "text": []
    },
    {
     "name": "stdout",
     "output_type": "stream",
     "text": [
      "NOT PRUNING upstream_component=ModelComponent(hook_point_name='blocks.4.attn.hook_result', index=[:, :, 11]) downstream_component=ModelComponent(hook_point_name='blocks.8.hook_v_input', index=[:, :, 3]) with attribution 0.010015549138188362\n"
     ]
    },
    {
     "name": "stderr",
     "output_type": "stream",
     "text": []
    },
    {
     "name": "stdout",
     "output_type": "stream",
     "text": [
      "NOT PRUNING upstream_component=ModelComponent(hook_point_name='blocks.4.attn.hook_result', index=[:, :, 11]) downstream_component=ModelComponent(hook_point_name='blocks.7.hook_k_input', index=[:, :, 10]) with attribution 0.00830601342022419\n"
     ]
    },
    {
     "name": "stderr",
     "output_type": "stream",
     "text": []
    },
    {
     "name": "stdout",
     "output_type": "stream",
     "text": [
      "NOT PRUNING upstream_component=ModelComponent(hook_point_name='blocks.4.attn.hook_result', index=[:, :, 11]) downstream_component=ModelComponent(hook_point_name='blocks.6.hook_mlp_in', index=[:]) with attribution 0.006348972208797932\n"
     ]
    },
    {
     "name": "stderr",
     "output_type": "stream",
     "text": []
    },
    {
     "name": "stdout",
     "output_type": "stream",
     "text": [
      "NOT PRUNING upstream_component=ModelComponent(hook_point_name='blocks.4.attn.hook_result', index=[:, :, 11]) downstream_component=ModelComponent(hook_point_name='blocks.6.hook_v_input', index=[:, :, 0]) with attribution 0.005339290481060743\n",
      "NOT PRUNING upstream_component=ModelComponent(hook_point_name='blocks.4.attn.hook_result', index=[:, :, 11]) downstream_component=ModelComponent(hook_point_name='blocks.6.hook_k_input', index=[:, :, 9]) with attribution 0.3736114203929901\n"
     ]
    },
    {
     "name": "stderr",
     "output_type": "stream",
     "text": []
    },
    {
     "name": "stdout",
     "output_type": "stream",
     "text": [
      "NOT PRUNING upstream_component=ModelComponent(hook_point_name='blocks.4.attn.hook_result', index=[:, :, 11]) downstream_component=ModelComponent(hook_point_name='blocks.5.hook_mlp_in', index=[:]) with attribution 0.30361562967300415\n",
      "NOT PRUNING upstream_component=ModelComponent(hook_point_name='blocks.4.attn.hook_result', index=[:, :, 11]) downstream_component=ModelComponent(hook_point_name='blocks.5.hook_v_input', index=[:, :, 8]) with attribution 0.008872575126588345\n"
     ]
    },
    {
     "name": "stderr",
     "output_type": "stream",
     "text": []
    },
    {
     "name": "stdout",
     "output_type": "stream",
     "text": [
      "NOT PRUNING upstream_component=ModelComponent(hook_point_name='blocks.4.attn.hook_result', index=[:, :, 11]) downstream_component=ModelComponent(hook_point_name='blocks.5.hook_v_input', index=[:, :, 0]) with attribution 0.006611696444451809\n",
      "NOT PRUNING upstream_component=ModelComponent(hook_point_name='blocks.4.attn.hook_result', index=[:, :, 11]) downstream_component=ModelComponent(hook_point_name='blocks.5.hook_k_input', index=[:, :, 8]) with attribution 0.007593080401420593\n",
      "NOT PRUNING upstream_component=ModelComponent(hook_point_name='blocks.4.attn.hook_result', index=[:, :, 11]) downstream_component=ModelComponent(hook_point_name='blocks.5.hook_k_input', index=[:, :, 6]) with attribution 0.009005937725305557\n",
      "NOT PRUNING upstream_component=ModelComponent(hook_point_name='blocks.4.attn.hook_result', index=[:, :, 11]) downstream_component=ModelComponent(hook_point_name='blocks.5.hook_k_input', index=[:, :, 5]) with attribution 0.19761338829994202\n"
     ]
    },
    {
     "name": "stderr",
     "output_type": "stream",
     "text": []
    },
    {
     "name": "stdout",
     "output_type": "stream",
     "text": [
      "NOT PRUNING upstream_component=ModelComponent(hook_point_name='blocks.4.attn.hook_result', index=[:, :, 11]) downstream_component=ModelComponent(hook_point_name='blocks.5.hook_k_input', index=[:, :, 1]) with attribution 0.012657569721341133\n",
      "NOT PRUNING upstream_component=ModelComponent(hook_point_name='blocks.4.attn.hook_result', index=[:, :, 11]) downstream_component=ModelComponent(hook_point_name='blocks.5.hook_k_input', index=[:, :, 0]) with attribution 0.00729132816195488\n",
      "NOT PRUNING upstream_component=ModelComponent(hook_point_name='blocks.4.attn.hook_result', index=[:, :, 11]) downstream_component=ModelComponent(hook_point_name='blocks.5.hook_q_input', index=[:, :, 6]) with attribution 0.01830219104886055\n"
     ]
    },
    {
     "name": "stderr",
     "output_type": "stream",
     "text": []
    },
    {
     "name": "stdout",
     "output_type": "stream",
     "text": [
      "NOT PRUNING upstream_component=ModelComponent(hook_point_name='blocks.4.attn.hook_result', index=[:, :, 11]) downstream_component=ModelComponent(hook_point_name='blocks.4.hook_mlp_in', index=[:]) with attribution 0.24793410301208496\n"
     ]
    },
    {
     "name": "stderr",
     "output_type": "stream",
     "text": []
    },
    {
     "name": "stdout",
     "output_type": "stream",
     "text": [
      "NOT PRUNING upstream_component=ModelComponent(hook_point_name='blocks.4.attn.hook_result', index=[:, :, 10]) downstream_component=ModelComponent(hook_point_name='blocks.8.hook_k_input', index=[:, :, 10]) with attribution 0.007540490478277206\n"
     ]
    },
    {
     "name": "stderr",
     "output_type": "stream",
     "text": []
    },
    {
     "name": "stdout",
     "output_type": "stream",
     "text": [
      "NOT PRUNING upstream_component=ModelComponent(hook_point_name='blocks.4.attn.hook_result', index=[:, :, 10]) downstream_component=ModelComponent(hook_point_name='blocks.7.hook_mlp_in', index=[:]) with attribution 0.011900568380951881\n"
     ]
    },
    {
     "name": "stderr",
     "output_type": "stream",
     "text": []
    },
    {
     "name": "stdout",
     "output_type": "stream",
     "text": [
      "NOT PRUNING upstream_component=ModelComponent(hook_point_name='blocks.4.attn.hook_result', index=[:, :, 10]) downstream_component=ModelComponent(hook_point_name='blocks.7.hook_k_input', index=[:, :, 9]) with attribution 0.005910866428166628\n"
     ]
    },
    {
     "name": "stderr",
     "output_type": "stream",
     "text": []
    },
    {
     "name": "stdout",
     "output_type": "stream",
     "text": [
      "NOT PRUNING upstream_component=ModelComponent(hook_point_name='blocks.4.attn.hook_result', index=[:, :, 10]) downstream_component=ModelComponent(hook_point_name='blocks.6.hook_mlp_in', index=[:]) with attribution 0.009314320050179958\n"
     ]
    },
    {
     "name": "stderr",
     "output_type": "stream",
     "text": [
      "\n"
     ]
    },
    {
     "name": "stdout",
     "output_type": "stream",
     "text": [
      "NOT PRUNING upstream_component=ModelComponent(hook_point_name='blocks.4.attn.hook_result', index=[:, :, 10]) downstream_component=ModelComponent(hook_point_name='blocks.5.hook_q_input', index=[:, :, 9]) with attribution 0.006118618883192539\n"
     ]
    },
    {
     "name": "stderr",
     "output_type": "stream",
     "text": [
      " 60%|█████▉    | 41639/69420 [04:27<22:10, 20.88it/s]\u001b[A"
     ]
    },
    {
     "name": "stdout",
     "output_type": "stream",
     "text": [
      "NOT PRUNING upstream_component=ModelComponent(hook_point_name='blocks.4.attn.hook_result', index=[:, :, 10]) downstream_component=ModelComponent(hook_point_name='blocks.4.hook_mlp_in', index=[:]) with attribution 0.00885072723031044\n"
     ]
    },
    {
     "name": "stderr",
     "output_type": "stream",
     "text": []
    },
    {
     "name": "stdout",
     "output_type": "stream",
     "text": [
      "NOT PRUNING upstream_component=ModelComponent(hook_point_name='blocks.4.attn.hook_result', index=[:, :, 9]) downstream_component=ModelComponent(hook_point_name='blocks.4.hook_mlp_in', index=[:]) with attribution 0.006044373381882906\n",
      "NOT PRUNING upstream_component=ModelComponent(hook_point_name='blocks.4.attn.hook_result', index=[:, :, 8]) downstream_component=ModelComponent(hook_point_name='blocks.11.hook_k_input', index=[:, :, 10]) with attribution 0.010952034033834934\n",
      "NOT PRUNING upstream_component=ModelComponent(hook_point_name='blocks.4.attn.hook_result', index=[:, :, 8]) downstream_component=ModelComponent(hook_point_name='blocks.11.hook_k_input', index=[:, :, 2]) with attribution 0.005360894370824099\n"
     ]
    },
    {
     "name": "stderr",
     "output_type": "stream",
     "text": []
    },
    {
     "name": "stdout",
     "output_type": "stream",
     "text": [
      "NOT PRUNING upstream_component=ModelComponent(hook_point_name='blocks.4.attn.hook_result', index=[:, :, 8]) downstream_component=ModelComponent(hook_point_name='blocks.10.hook_k_input', index=[:, :, 7]) with attribution 0.007821442559361458\n",
      "NOT PRUNING upstream_component=ModelComponent(hook_point_name='blocks.4.attn.hook_result', index=[:, :, 8]) downstream_component=ModelComponent(hook_point_name='blocks.10.hook_k_input', index=[:, :, 0]) with attribution 0.007286931853741407\n",
      "NOT PRUNING upstream_component=ModelComponent(hook_point_name='blocks.4.attn.hook_result', index=[:, :, 8]) downstream_component=ModelComponent(hook_point_name='blocks.9.hook_mlp_in', index=[:]) with attribution 0.00627122214064002\n",
      "NOT PRUNING upstream_component=ModelComponent(hook_point_name='blocks.4.attn.hook_result', index=[:, :, 8]) downstream_component=ModelComponent(hook_point_name='blocks.9.hook_k_input', index=[:, :, 9]) with attribution 0.005106371361762285\n",
      "NOT PRUNING upstream_component=ModelComponent(hook_point_name='blocks.4.attn.hook_result', index=[:, :, 8]) downstream_component=ModelComponent(hook_point_name='blocks.9.hook_k_input', index=[:, :, 7]) with attribution 0.016440249979496002\n"
     ]
    },
    {
     "name": "stderr",
     "output_type": "stream",
     "text": []
    },
    {
     "name": "stdout",
     "output_type": "stream",
     "text": [
      "NOT PRUNING upstream_component=ModelComponent(hook_point_name='blocks.4.attn.hook_result', index=[:, :, 8]) downstream_component=ModelComponent(hook_point_name='blocks.8.hook_v_input', index=[:, :, 6]) with attribution 0.009165145456790924\n",
      "NOT PRUNING upstream_component=ModelComponent(hook_point_name='blocks.4.attn.hook_result', index=[:, :, 8]) downstream_component=ModelComponent(hook_point_name='blocks.8.hook_k_input', index=[:, :, 10]) with attribution 0.043251048773527145\n",
      "NOT PRUNING upstream_component=ModelComponent(hook_point_name='blocks.4.attn.hook_result', index=[:, :, 8]) downstream_component=ModelComponent(hook_point_name='blocks.8.hook_k_input', index=[:, :, 6]) with attribution 0.02423226833343506\n"
     ]
    },
    {
     "name": "stderr",
     "output_type": "stream",
     "text": []
    },
    {
     "name": "stdout",
     "output_type": "stream",
     "text": [
      "NOT PRUNING upstream_component=ModelComponent(hook_point_name='blocks.4.attn.hook_result', index=[:, :, 8]) downstream_component=ModelComponent(hook_point_name='blocks.7.hook_mlp_in', index=[:]) with attribution 0.04088509827852249\n",
      "NOT PRUNING upstream_component=ModelComponent(hook_point_name='blocks.4.attn.hook_result', index=[:, :, 8]) downstream_component=ModelComponent(hook_point_name='blocks.7.hook_v_input', index=[:, :, 9]) with attribution 0.007537234574556351\n"
     ]
    },
    {
     "name": "stderr",
     "output_type": "stream",
     "text": []
    },
    {
     "name": "stdout",
     "output_type": "stream",
     "text": [
      "NOT PRUNING upstream_component=ModelComponent(hook_point_name='blocks.4.attn.hook_result', index=[:, :, 8]) downstream_component=ModelComponent(hook_point_name='blocks.7.hook_k_input', index=[:, :, 9]) with attribution 0.018924973905086517\n"
     ]
    },
    {
     "name": "stderr",
     "output_type": "stream",
     "text": []
    },
    {
     "name": "stdout",
     "output_type": "stream",
     "text": [
      "NOT PRUNING upstream_component=ModelComponent(hook_point_name='blocks.4.attn.hook_result', index=[:, :, 8]) downstream_component=ModelComponent(hook_point_name='blocks.6.hook_mlp_in', index=[:]) with attribution 0.006958296522498131\n"
     ]
    },
    {
     "name": "stderr",
     "output_type": "stream",
     "text": []
    },
    {
     "name": "stdout",
     "output_type": "stream",
     "text": [
      "NOT PRUNING upstream_component=ModelComponent(hook_point_name='blocks.4.attn.hook_result', index=[:, :, 8]) downstream_component=ModelComponent(hook_point_name='blocks.6.hook_k_input', index=[:, :, 6]) with attribution 0.01286605466157198\n",
      "NOT PRUNING upstream_component=ModelComponent(hook_point_name='blocks.4.attn.hook_result', index=[:, :, 8]) downstream_component=ModelComponent(hook_point_name='blocks.6.hook_q_input', index=[:, :, 9]) with attribution 0.011892421171069145\n"
     ]
    },
    {
     "name": "stderr",
     "output_type": "stream",
     "text": []
    },
    {
     "name": "stdout",
     "output_type": "stream",
     "text": [
      "NOT PRUNING upstream_component=ModelComponent(hook_point_name='blocks.4.attn.hook_result', index=[:, :, 8]) downstream_component=ModelComponent(hook_point_name='blocks.6.hook_q_input', index=[:, :, 6]) with attribution 0.00731086079031229\n",
      "NOT PRUNING upstream_component=ModelComponent(hook_point_name='blocks.4.attn.hook_result', index=[:, :, 8]) downstream_component=ModelComponent(hook_point_name='blocks.5.hook_mlp_in', index=[:]) with attribution 0.01602083072066307\n"
     ]
    },
    {
     "name": "stderr",
     "output_type": "stream",
     "text": []
    },
    {
     "name": "stdout",
     "output_type": "stream",
     "text": [
      "NOT PRUNING upstream_component=ModelComponent(hook_point_name='blocks.4.attn.hook_result', index=[:, :, 8]) downstream_component=ModelComponent(hook_point_name='blocks.5.hook_q_input', index=[:, :, 9]) with attribution 0.006937827914953232\n"
     ]
    },
    {
     "name": "stderr",
     "output_type": "stream",
     "text": []
    },
    {
     "name": "stdout",
     "output_type": "stream",
     "text": [
      "NOT PRUNING upstream_component=ModelComponent(hook_point_name='blocks.4.attn.hook_result', index=[:, :, 8]) downstream_component=ModelComponent(hook_point_name='blocks.4.hook_mlp_in', index=[:]) with attribution 0.0174822136759758\n"
     ]
    },
    {
     "name": "stderr",
     "output_type": "stream",
     "text": []
    },
    {
     "name": "stdout",
     "output_type": "stream",
     "text": [
      "NOT PRUNING upstream_component=ModelComponent(hook_point_name='blocks.4.attn.hook_result', index=[:, :, 7]) downstream_component=ModelComponent(hook_point_name='blocks.9.hook_v_input', index=[:, :, 4]) with attribution 0.005739178974181414\n"
     ]
    },
    {
     "name": "stderr",
     "output_type": "stream",
     "text": []
    },
    {
     "name": "stdout",
     "output_type": "stream",
     "text": [
      "NOT PRUNING upstream_component=ModelComponent(hook_point_name='blocks.4.attn.hook_result', index=[:, :, 7]) downstream_component=ModelComponent(hook_point_name='blocks.9.hook_k_input', index=[:, :, 4]) with attribution 0.006857820320874453\n",
      "NOT PRUNING upstream_component=ModelComponent(hook_point_name='blocks.4.attn.hook_result', index=[:, :, 7]) downstream_component=ModelComponent(hook_point_name='blocks.8.hook_v_input', index=[:, :, 3]) with attribution 0.010568616911768913\n"
     ]
    },
    {
     "name": "stderr",
     "output_type": "stream",
     "text": []
    },
    {
     "name": "stdout",
     "output_type": "stream",
     "text": [
      "NOT PRUNING upstream_component=ModelComponent(hook_point_name='blocks.4.attn.hook_result', index=[:, :, 7]) downstream_component=ModelComponent(hook_point_name='blocks.7.hook_k_input', index=[:, :, 9]) with attribution 0.007710665464401245\n"
     ]
    },
    {
     "name": "stderr",
     "output_type": "stream",
     "text": [
      "\n",
      " 62%|██████▏   | 42897/69420 [04:46<11:07, 39.72it/s]"
     ]
    },
    {
     "name": "stdout",
     "output_type": "stream",
     "text": [
      "NOT PRUNING upstream_component=ModelComponent(hook_point_name='blocks.4.attn.hook_result', index=[:, :, 7]) downstream_component=ModelComponent(hook_point_name='blocks.7.hook_k_input', index=[:, :, 1]) with attribution 0.006023836322128773\n"
     ]
    },
    {
     "name": "stderr",
     "output_type": "stream",
     "text": [
      "\u001b[A"
     ]
    },
    {
     "name": "stdout",
     "output_type": "stream",
     "text": [
      "NOT PRUNING upstream_component=ModelComponent(hook_point_name='blocks.4.attn.hook_result', index=[:, :, 7]) downstream_component=ModelComponent(hook_point_name='blocks.6.hook_mlp_in', index=[:]) with attribution 0.0120512954890728\n"
     ]
    },
    {
     "name": "stderr",
     "output_type": "stream",
     "text": []
    },
    {
     "name": "stdout",
     "output_type": "stream",
     "text": [
      "NOT PRUNING upstream_component=ModelComponent(hook_point_name='blocks.4.attn.hook_result', index=[:, :, 7]) downstream_component=ModelComponent(hook_point_name='blocks.6.hook_v_input', index=[:, :, 8]) with attribution 0.005170132964849472\n"
     ]
    },
    {
     "name": "stderr",
     "output_type": "stream",
     "text": []
    },
    {
     "name": "stdout",
     "output_type": "stream",
     "text": [
      "NOT PRUNING upstream_component=ModelComponent(hook_point_name='blocks.4.attn.hook_result', index=[:, :, 7]) downstream_component=ModelComponent(hook_point_name='blocks.6.hook_v_input', index=[:, :, 0]) with attribution 0.012083584442734718\n",
      "NOT PRUNING upstream_component=ModelComponent(hook_point_name='blocks.4.attn.hook_result', index=[:, :, 7]) downstream_component=ModelComponent(hook_point_name='blocks.6.hook_k_input', index=[:, :, 9]) with attribution 0.11474378407001495\n"
     ]
    },
    {
     "name": "stderr",
     "output_type": "stream",
     "text": []
    },
    {
     "name": "stdout",
     "output_type": "stream",
     "text": [
      "NOT PRUNING upstream_component=ModelComponent(hook_point_name='blocks.4.attn.hook_result', index=[:, :, 7]) downstream_component=ModelComponent(hook_point_name='blocks.5.hook_mlp_in', index=[:]) with attribution 0.11633522063493729\n"
     ]
    },
    {
     "name": "stderr",
     "output_type": "stream",
     "text": []
    },
    {
     "name": "stdout",
     "output_type": "stream",
     "text": [
      "NOT PRUNING upstream_component=ModelComponent(hook_point_name='blocks.4.attn.hook_result', index=[:, :, 7]) downstream_component=ModelComponent(hook_point_name='blocks.5.hook_v_input', index=[:, :, 2]) with attribution 0.007343578618019819\n",
      "NOT PRUNING upstream_component=ModelComponent(hook_point_name='blocks.4.attn.hook_result', index=[:, :, 7]) downstream_component=ModelComponent(hook_point_name='blocks.5.hook_k_input', index=[:, :, 9]) with attribution 0.006172320805490017\n"
     ]
    },
    {
     "name": "stderr",
     "output_type": "stream",
     "text": []
    },
    {
     "name": "stdout",
     "output_type": "stream",
     "text": [
      "NOT PRUNING upstream_component=ModelComponent(hook_point_name='blocks.4.attn.hook_result', index=[:, :, 7]) downstream_component=ModelComponent(hook_point_name='blocks.5.hook_k_input', index=[:, :, 6]) with attribution 0.005336399655789137\n",
      "NOT PRUNING upstream_component=ModelComponent(hook_point_name='blocks.4.attn.hook_result', index=[:, :, 7]) downstream_component=ModelComponent(hook_point_name='blocks.5.hook_k_input', index=[:, :, 5]) with attribution 0.03858344629406929\n"
     ]
    },
    {
     "name": "stderr",
     "output_type": "stream",
     "text": []
    },
    {
     "name": "stdout",
     "output_type": "stream",
     "text": [
      "NOT PRUNING upstream_component=ModelComponent(hook_point_name='blocks.4.attn.hook_result', index=[:, :, 7]) downstream_component=ModelComponent(hook_point_name='blocks.5.hook_k_input', index=[:, :, 1]) with attribution 0.006228228099644184\n"
     ]
    },
    {
     "name": "stderr",
     "output_type": "stream",
     "text": []
    },
    {
     "name": "stdout",
     "output_type": "stream",
     "text": [
      "NOT PRUNING upstream_component=ModelComponent(hook_point_name='blocks.4.attn.hook_result', index=[:, :, 7]) downstream_component=ModelComponent(hook_point_name='blocks.5.hook_q_input', index=[:, :, 6]) with attribution 0.0108332559466362\n"
     ]
    },
    {
     "name": "stderr",
     "output_type": "stream",
     "text": []
    },
    {
     "name": "stdout",
     "output_type": "stream",
     "text": [
      "NOT PRUNING upstream_component=ModelComponent(hook_point_name='blocks.4.attn.hook_result', index=[:, :, 7]) downstream_component=ModelComponent(hook_point_name='blocks.4.hook_mlp_in', index=[:]) with attribution 0.09609943628311157\n",
      "NOT PRUNING upstream_component=ModelComponent(hook_point_name='blocks.4.attn.hook_result', index=[:, :, 6]) downstream_component=ModelComponent(hook_point_name='blocks.11.hook_k_input', index=[:, :, 10]) with attribution 0.005670743528753519\n"
     ]
    },
    {
     "name": "stderr",
     "output_type": "stream",
     "text": []
    },
    {
     "name": "stdout",
     "output_type": "stream",
     "text": [
      "NOT PRUNING upstream_component=ModelComponent(hook_point_name='blocks.4.attn.hook_result', index=[:, :, 6]) downstream_component=ModelComponent(hook_point_name='blocks.10.hook_k_input', index=[:, :, 7]) with attribution 0.007225619629025459\n",
      "NOT PRUNING upstream_component=ModelComponent(hook_point_name='blocks.4.attn.hook_result', index=[:, :, 6]) downstream_component=ModelComponent(hook_point_name='blocks.9.hook_k_input', index=[:, :, 7]) with attribution 0.007995269261300564\n"
     ]
    },
    {
     "name": "stderr",
     "output_type": "stream",
     "text": []
    },
    {
     "name": "stdout",
     "output_type": "stream",
     "text": [
      "NOT PRUNING upstream_component=ModelComponent(hook_point_name='blocks.4.attn.hook_result', index=[:, :, 6]) downstream_component=ModelComponent(hook_point_name='blocks.8.hook_mlp_in', index=[:]) with attribution 0.006406047847121954\n",
      "NOT PRUNING upstream_component=ModelComponent(hook_point_name='blocks.4.attn.hook_result', index=[:, :, 6]) downstream_component=ModelComponent(hook_point_name='blocks.8.hook_k_input', index=[:, :, 10]) with attribution 0.011149978265166283\n",
      "NOT PRUNING upstream_component=ModelComponent(hook_point_name='blocks.4.attn.hook_result', index=[:, :, 6]) downstream_component=ModelComponent(hook_point_name='blocks.8.hook_k_input', index=[:, :, 6]) with attribution 0.018338866531848907\n"
     ]
    },
    {
     "name": "stderr",
     "output_type": "stream",
     "text": []
    },
    {
     "name": "stdout",
     "output_type": "stream",
     "text": [
      "NOT PRUNING upstream_component=ModelComponent(hook_point_name='blocks.4.attn.hook_result', index=[:, :, 6]) downstream_component=ModelComponent(hook_point_name='blocks.7.hook_k_input', index=[:, :, 9]) with attribution 0.029871243983507156\n"
     ]
    },
    {
     "name": "stderr",
     "output_type": "stream",
     "text": []
    },
    {
     "name": "stdout",
     "output_type": "stream",
     "text": [
      "NOT PRUNING upstream_component=ModelComponent(hook_point_name='blocks.4.attn.hook_result', index=[:, :, 6]) downstream_component=ModelComponent(hook_point_name='blocks.6.hook_mlp_in', index=[:]) with attribution 0.012280436232686043\n"
     ]
    },
    {
     "name": "stderr",
     "output_type": "stream",
     "text": []
    },
    {
     "name": "stdout",
     "output_type": "stream",
     "text": [
      "NOT PRUNING upstream_component=ModelComponent(hook_point_name='blocks.4.attn.hook_result', index=[:, :, 6]) downstream_component=ModelComponent(hook_point_name='blocks.6.hook_k_input', index=[:, :, 9]) with attribution 0.006917718797922134\n",
      "NOT PRUNING upstream_component=ModelComponent(hook_point_name='blocks.4.attn.hook_result', index=[:, :, 6]) downstream_component=ModelComponent(hook_point_name='blocks.6.hook_k_input', index=[:, :, 6]) with attribution 0.009845265187323093\n"
     ]
    },
    {
     "name": "stderr",
     "output_type": "stream",
     "text": []
    },
    {
     "name": "stdout",
     "output_type": "stream",
     "text": [
      "NOT PRUNING upstream_component=ModelComponent(hook_point_name='blocks.4.attn.hook_result', index=[:, :, 6]) downstream_component=ModelComponent(hook_point_name='blocks.6.hook_k_input', index=[:, :, 1]) with attribution 0.005233084782958031\n",
      "NOT PRUNING upstream_component=ModelComponent(hook_point_name='blocks.4.attn.hook_result', index=[:, :, 6]) downstream_component=ModelComponent(hook_point_name='blocks.6.hook_q_input', index=[:, :, 9]) with attribution 0.008897810243070126\n"
     ]
    },
    {
     "name": "stderr",
     "output_type": "stream",
     "text": []
    },
    {
     "name": "stdout",
     "output_type": "stream",
     "text": [
      "NOT PRUNING upstream_component=ModelComponent(hook_point_name='blocks.4.attn.hook_result', index=[:, :, 6]) downstream_component=ModelComponent(hook_point_name='blocks.5.hook_mlp_in', index=[:]) with attribution 0.009951675310730934\n"
     ]
    },
    {
     "name": "stderr",
     "output_type": "stream",
     "text": []
    },
    {
     "name": "stdout",
     "output_type": "stream",
     "text": [
      "NOT PRUNING upstream_component=ModelComponent(hook_point_name='blocks.4.attn.hook_result', index=[:, :, 6]) downstream_component=ModelComponent(hook_point_name='blocks.5.hook_k_input', index=[:, :, 9]) with attribution 0.005659541580826044\n",
      "NOT PRUNING upstream_component=ModelComponent(hook_point_name='blocks.4.attn.hook_result', index=[:, :, 6]) downstream_component=ModelComponent(hook_point_name='blocks.5.hook_k_input', index=[:, :, 5]) with attribution 0.007043845020234585\n"
     ]
    },
    {
     "name": "stderr",
     "output_type": "stream",
     "text": []
    },
    {
     "name": "stdout",
     "output_type": "stream",
     "text": [
      "NOT PRUNING upstream_component=ModelComponent(hook_point_name='blocks.4.attn.hook_result', index=[:, :, 6]) downstream_component=ModelComponent(hook_point_name='blocks.5.hook_q_input', index=[:, :, 9]) with attribution 0.007180201821029186\n"
     ]
    },
    {
     "name": "stderr",
     "output_type": "stream",
     "text": []
    },
    {
     "name": "stdout",
     "output_type": "stream",
     "text": [
      "NOT PRUNING upstream_component=ModelComponent(hook_point_name='blocks.4.attn.hook_result', index=[:, :, 6]) downstream_component=ModelComponent(hook_point_name='blocks.4.hook_mlp_in', index=[:]) with attribution 0.012679011560976505\n"
     ]
    },
    {
     "name": "stderr",
     "output_type": "stream",
     "text": []
    },
    {
     "name": "stdout",
     "output_type": "stream",
     "text": [
      "NOT PRUNING upstream_component=ModelComponent(hook_point_name='blocks.4.attn.hook_result', index=[:, :, 5]) downstream_component=ModelComponent(hook_point_name='blocks.6.hook_mlp_in', index=[:]) with attribution 0.01264900527894497\n"
     ]
    },
    {
     "name": "stderr",
     "output_type": "stream",
     "text": [
      "\n"
     ]
    },
    {
     "name": "stdout",
     "output_type": "stream",
     "text": [
      "NOT PRUNING upstream_component=ModelComponent(hook_point_name='blocks.4.attn.hook_result', index=[:, :, 4]) downstream_component=ModelComponent(hook_point_name='blocks.10.hook_k_input', index=[:, :, 7]) with attribution 0.0066622341983020306\n"
     ]
    },
    {
     "name": "stderr",
     "output_type": "stream",
     "text": [
      " 64%|██████▎   | 44115/69420 [05:06<03:31, 119.72it/s]\u001b[A"
     ]
    },
    {
     "name": "stdout",
     "output_type": "stream",
     "text": [
      "NOT PRUNING upstream_component=ModelComponent(hook_point_name='blocks.4.attn.hook_result', index=[:, :, 4]) downstream_component=ModelComponent(hook_point_name='blocks.10.hook_k_input', index=[:, :, 2]) with attribution 0.005772375967353582\n"
     ]
    },
    {
     "name": "stderr",
     "output_type": "stream",
     "text": []
    },
    {
     "name": "stdout",
     "output_type": "stream",
     "text": [
      "NOT PRUNING upstream_component=ModelComponent(hook_point_name='blocks.4.attn.hook_result', index=[:, :, 4]) downstream_component=ModelComponent(hook_point_name='blocks.8.hook_mlp_in', index=[:]) with attribution 0.008308045566082\n",
      "NOT PRUNING upstream_component=ModelComponent(hook_point_name='blocks.4.attn.hook_result', index=[:, :, 4]) downstream_component=ModelComponent(hook_point_name='blocks.8.hook_v_input', index=[:, :, 10]) with attribution 0.012433702126145363\n",
      "NOT PRUNING upstream_component=ModelComponent(hook_point_name='blocks.4.attn.hook_result', index=[:, :, 4]) downstream_component=ModelComponent(hook_point_name='blocks.8.hook_v_input', index=[:, :, 6]) with attribution 0.011429828591644764\n"
     ]
    },
    {
     "name": "stderr",
     "output_type": "stream",
     "text": []
    },
    {
     "name": "stdout",
     "output_type": "stream",
     "text": [
      "NOT PRUNING upstream_component=ModelComponent(hook_point_name='blocks.4.attn.hook_result', index=[:, :, 4]) downstream_component=ModelComponent(hook_point_name='blocks.8.hook_k_input', index=[:, :, 10]) with attribution 0.009628303349018097\n",
      "NOT PRUNING upstream_component=ModelComponent(hook_point_name='blocks.4.attn.hook_result', index=[:, :, 4]) downstream_component=ModelComponent(hook_point_name='blocks.8.hook_k_input', index=[:, :, 6]) with attribution 0.03299935907125473\n",
      "NOT PRUNING upstream_component=ModelComponent(hook_point_name='blocks.4.attn.hook_result', index=[:, :, 4]) downstream_component=ModelComponent(hook_point_name='blocks.7.hook_mlp_in', index=[:]) with attribution 0.0222189798951149\n",
      "NOT PRUNING upstream_component=ModelComponent(hook_point_name='blocks.4.attn.hook_result', index=[:, :, 4]) downstream_component=ModelComponent(hook_point_name='blocks.7.hook_v_input', index=[:, :, 9]) with attribution 0.005507738795131445\n"
     ]
    },
    {
     "name": "stderr",
     "output_type": "stream",
     "text": []
    },
    {
     "name": "stdout",
     "output_type": "stream",
     "text": [
      "NOT PRUNING upstream_component=ModelComponent(hook_point_name='blocks.4.attn.hook_result', index=[:, :, 4]) downstream_component=ModelComponent(hook_point_name='blocks.7.hook_v_input', index=[:, :, 3]) with attribution 0.010108930990099907\n"
     ]
    },
    {
     "name": "stderr",
     "output_type": "stream",
     "text": []
    },
    {
     "name": "stdout",
     "output_type": "stream",
     "text": [
      "NOT PRUNING upstream_component=ModelComponent(hook_point_name='blocks.4.attn.hook_result', index=[:, :, 4]) downstream_component=ModelComponent(hook_point_name='blocks.7.hook_q_input', index=[:, :, 5]) with attribution 0.005139988847076893\n",
      "NOT PRUNING upstream_component=ModelComponent(hook_point_name='blocks.4.attn.hook_result', index=[:, :, 4]) downstream_component=ModelComponent(hook_point_name='blocks.7.hook_q_input', index=[:, :, 1]) with attribution 0.0216826181858778\n",
      "NOT PRUNING upstream_component=ModelComponent(hook_point_name='blocks.4.attn.hook_result', index=[:, :, 4]) downstream_component=ModelComponent(hook_point_name='blocks.6.hook_mlp_in', index=[:]) with attribution 0.028947528451681137\n"
     ]
    },
    {
     "name": "stderr",
     "output_type": "stream",
     "text": []
    },
    {
     "name": "stdout",
     "output_type": "stream",
     "text": [
      "NOT PRUNING upstream_component=ModelComponent(hook_point_name='blocks.4.attn.hook_result', index=[:, :, 4]) downstream_component=ModelComponent(hook_point_name='blocks.6.hook_k_input', index=[:, :, 9]) with attribution 0.026553381234407425\n",
      "NOT PRUNING upstream_component=ModelComponent(hook_point_name='blocks.4.attn.hook_result', index=[:, :, 4]) downstream_component=ModelComponent(hook_point_name='blocks.6.hook_k_input', index=[:, :, 6]) with attribution 0.010176343843340874\n"
     ]
    },
    {
     "name": "stderr",
     "output_type": "stream",
     "text": []
    },
    {
     "name": "stdout",
     "output_type": "stream",
     "text": [
      "NOT PRUNING upstream_component=ModelComponent(hook_point_name='blocks.4.attn.hook_result', index=[:, :, 4]) downstream_component=ModelComponent(hook_point_name='blocks.6.hook_q_input', index=[:, :, 9]) with attribution 0.07868171483278275\n",
      "NOT PRUNING upstream_component=ModelComponent(hook_point_name='blocks.4.attn.hook_result', index=[:, :, 4]) downstream_component=ModelComponent(hook_point_name='blocks.6.hook_q_input', index=[:, :, 6]) with attribution 0.015510648488998413\n",
      "NOT PRUNING upstream_component=ModelComponent(hook_point_name='blocks.4.attn.hook_result', index=[:, :, 4]) downstream_component=ModelComponent(hook_point_name='blocks.6.hook_q_input', index=[:, :, 4]) with attribution 0.006627200171351433\n"
     ]
    },
    {
     "name": "stderr",
     "output_type": "stream",
     "text": []
    },
    {
     "name": "stdout",
     "output_type": "stream",
     "text": [
      "NOT PRUNING upstream_component=ModelComponent(hook_point_name='blocks.4.attn.hook_result', index=[:, :, 4]) downstream_component=ModelComponent(hook_point_name='blocks.5.hook_mlp_in', index=[:]) with attribution 0.058563828468322754\n"
     ]
    },
    {
     "name": "stderr",
     "output_type": "stream",
     "text": []
    },
    {
     "name": "stdout",
     "output_type": "stream",
     "text": [
      "NOT PRUNING upstream_component=ModelComponent(hook_point_name='blocks.4.attn.hook_result', index=[:, :, 4]) downstream_component=ModelComponent(hook_point_name='blocks.5.hook_k_input', index=[:, :, 5]) with attribution 0.013514857739210129\n"
     ]
    },
    {
     "name": "stderr",
     "output_type": "stream",
     "text": []
    },
    {
     "name": "stdout",
     "output_type": "stream",
     "text": [
      "NOT PRUNING upstream_component=ModelComponent(hook_point_name='blocks.4.attn.hook_result', index=[:, :, 4]) downstream_component=ModelComponent(hook_point_name='blocks.5.hook_q_input', index=[:, :, 10]) with attribution 0.006197969429194927\n",
      "NOT PRUNING upstream_component=ModelComponent(hook_point_name='blocks.4.attn.hook_result', index=[:, :, 4]) downstream_component=ModelComponent(hook_point_name='blocks.5.hook_q_input', index=[:, :, 9]) with attribution 0.022308388724923134\n",
      "NOT PRUNING upstream_component=ModelComponent(hook_point_name='blocks.4.attn.hook_result', index=[:, :, 4]) downstream_component=ModelComponent(hook_point_name='blocks.5.hook_q_input', index=[:, :, 8]) with attribution 0.006372741423547268\n",
      "NOT PRUNING upstream_component=ModelComponent(hook_point_name='blocks.4.attn.hook_result', index=[:, :, 4]) downstream_component=ModelComponent(hook_point_name='blocks.5.hook_q_input', index=[:, :, 5]) with attribution 0.025815654546022415\n"
     ]
    },
    {
     "name": "stderr",
     "output_type": "stream",
     "text": []
    },
    {
     "name": "stdout",
     "output_type": "stream",
     "text": [
      "NOT PRUNING upstream_component=ModelComponent(hook_point_name='blocks.4.attn.hook_result', index=[:, :, 4]) downstream_component=ModelComponent(hook_point_name='blocks.4.hook_mlp_in', index=[:]) with attribution 0.09989847242832184\n"
     ]
    },
    {
     "name": "stderr",
     "output_type": "stream",
     "text": []
    },
    {
     "name": "stdout",
     "output_type": "stream",
     "text": [
      "NOT PRUNING upstream_component=ModelComponent(hook_point_name='blocks.4.attn.hook_result', index=[:, :, 3]) downstream_component=ModelComponent(hook_point_name='blocks.9.hook_v_input', index=[:, :, 5]) with attribution 0.006543004885315895\n",
      "NOT PRUNING upstream_component=ModelComponent(hook_point_name='blocks.4.attn.hook_result', index=[:, :, 3]) downstream_component=ModelComponent(hook_point_name='blocks.9.hook_v_input', index=[:, :, 3]) with attribution 0.005157179664820433\n"
     ]
    },
    {
     "name": "stderr",
     "output_type": "stream",
     "text": []
    },
    {
     "name": "stdout",
     "output_type": "stream",
     "text": [
      "NOT PRUNING upstream_component=ModelComponent(hook_point_name='blocks.4.attn.hook_result', index=[:, :, 3]) downstream_component=ModelComponent(hook_point_name='blocks.9.hook_k_input', index=[:, :, 4]) with attribution 0.011151828803122044\n"
     ]
    },
    {
     "name": "stderr",
     "output_type": "stream",
     "text": []
    },
    {
     "name": "stdout",
     "output_type": "stream",
     "text": [
      "NOT PRUNING upstream_component=ModelComponent(hook_point_name='blocks.4.attn.hook_result', index=[:, :, 3]) downstream_component=ModelComponent(hook_point_name='blocks.8.hook_v_input', index=[:, :, 10]) with attribution 0.015538381412625313\n"
     ]
    },
    {
     "name": "stderr",
     "output_type": "stream",
     "text": []
    },
    {
     "name": "stdout",
     "output_type": "stream",
     "text": [
      "NOT PRUNING upstream_component=ModelComponent(hook_point_name='blocks.4.attn.hook_result', index=[:, :, 3]) downstream_component=ModelComponent(hook_point_name='blocks.7.hook_v_input', index=[:, :, 9]) with attribution 0.008475660346448421\n",
      "NOT PRUNING upstream_component=ModelComponent(hook_point_name='blocks.4.attn.hook_result', index=[:, :, 3]) downstream_component=ModelComponent(hook_point_name='blocks.7.hook_v_input', index=[:, :, 8]) with attribution 0.007446239702403545\n",
      "NOT PRUNING upstream_component=ModelComponent(hook_point_name='blocks.4.attn.hook_result', index=[:, :, 3]) downstream_component=ModelComponent(hook_point_name='blocks.7.hook_v_input', index=[:, :, 5]) with attribution 0.012136480771005154\n",
      "NOT PRUNING upstream_component=ModelComponent(hook_point_name='blocks.4.attn.hook_result', index=[:, :, 3]) downstream_component=ModelComponent(hook_point_name='blocks.7.hook_v_input', index=[:, :, 3]) with attribution 0.05964977666735649\n"
     ]
    },
    {
     "name": "stderr",
     "output_type": "stream",
     "text": []
    },
    {
     "name": "stdout",
     "output_type": "stream",
     "text": [
      "NOT PRUNING upstream_component=ModelComponent(hook_point_name='blocks.4.attn.hook_result', index=[:, :, 3]) downstream_component=ModelComponent(hook_point_name='blocks.7.hook_k_input', index=[:, :, 1]) with attribution 0.010801587253808975\n"
     ]
    },
    {
     "name": "stderr",
     "output_type": "stream",
     "text": []
    },
    {
     "name": "stdout",
     "output_type": "stream",
     "text": [
      "NOT PRUNING upstream_component=ModelComponent(hook_point_name='blocks.4.attn.hook_result', index=[:, :, 3]) downstream_component=ModelComponent(hook_point_name='blocks.6.hook_v_input', index=[:, :, 11]) with attribution 0.005422917660325766\n",
      "NOT PRUNING upstream_component=ModelComponent(hook_point_name='blocks.4.attn.hook_result', index=[:, :, 3]) downstream_component=ModelComponent(hook_point_name='blocks.6.hook_v_input', index=[:, :, 9]) with attribution 0.0051810299046337605\n",
      "NOT PRUNING upstream_component=ModelComponent(hook_point_name='blocks.4.attn.hook_result', index=[:, :, 3]) downstream_component=ModelComponent(hook_point_name='blocks.6.hook_v_input', index=[:, :, 6]) with attribution 0.012836318463087082\n"
     ]
    },
    {
     "name": "stderr",
     "output_type": "stream",
     "text": []
    },
    {
     "name": "stdout",
     "output_type": "stream",
     "text": [
      "NOT PRUNING upstream_component=ModelComponent(hook_point_name='blocks.4.attn.hook_result', index=[:, :, 3]) downstream_component=ModelComponent(hook_point_name='blocks.6.hook_v_input', index=[:, :, 0]) with attribution 0.035062529146671295\n",
      "NOT PRUNING upstream_component=ModelComponent(hook_point_name='blocks.4.attn.hook_result', index=[:, :, 3]) downstream_component=ModelComponent(hook_point_name='blocks.6.hook_k_input', index=[:, :, 9]) with attribution 0.09214694052934647\n"
     ]
    },
    {
     "name": "stderr",
     "output_type": "stream",
     "text": []
    },
    {
     "name": "stdout",
     "output_type": "stream",
     "text": [
      "NOT PRUNING upstream_component=ModelComponent(hook_point_name='blocks.4.attn.hook_result', index=[:, :, 3]) downstream_component=ModelComponent(hook_point_name='blocks.6.hook_q_input', index=[:, :, 9]) with attribution 0.018474986776709557\n"
     ]
    },
    {
     "name": "stderr",
     "output_type": "stream",
     "text": []
    },
    {
     "name": "stdout",
     "output_type": "stream",
     "text": [
      "NOT PRUNING upstream_component=ModelComponent(hook_point_name='blocks.4.attn.hook_result', index=[:, :, 3]) downstream_component=ModelComponent(hook_point_name='blocks.5.hook_mlp_in', index=[:]) with attribution 0.141726553440094\n"
     ]
    },
    {
     "name": "stderr",
     "output_type": "stream",
     "text": []
    },
    {
     "name": "stdout",
     "output_type": "stream",
     "text": [
      "NOT PRUNING upstream_component=ModelComponent(hook_point_name='blocks.4.attn.hook_result', index=[:, :, 3]) downstream_component=ModelComponent(hook_point_name='blocks.5.hook_v_input', index=[:, :, 5]) with attribution 0.008986552245914936\n",
      "NOT PRUNING upstream_component=ModelComponent(hook_point_name='blocks.4.attn.hook_result', index=[:, :, 3]) downstream_component=ModelComponent(hook_point_name='blocks.5.hook_v_input', index=[:, :, 2]) with attribution 0.007552844472229481\n",
      "NOT PRUNING upstream_component=ModelComponent(hook_point_name='blocks.4.attn.hook_result', index=[:, :, 3]) downstream_component=ModelComponent(hook_point_name='blocks.5.hook_k_input', index=[:, :, 10]) with attribution 0.008841415867209435\n"
     ]
    },
    {
     "name": "stderr",
     "output_type": "stream",
     "text": []
    },
    {
     "name": "stdout",
     "output_type": "stream",
     "text": [
      "NOT PRUNING upstream_component=ModelComponent(hook_point_name='blocks.4.attn.hook_result', index=[:, :, 3]) downstream_component=ModelComponent(hook_point_name='blocks.5.hook_k_input', index=[:, :, 9]) with attribution 0.005250569432973862\n",
      "NOT PRUNING upstream_component=ModelComponent(hook_point_name='blocks.4.attn.hook_result', index=[:, :, 3]) downstream_component=ModelComponent(hook_point_name='blocks.5.hook_k_input', index=[:, :, 8]) with attribution 0.005962918046861887\n",
      "NOT PRUNING upstream_component=ModelComponent(hook_point_name='blocks.4.attn.hook_result', index=[:, :, 3]) downstream_component=ModelComponent(hook_point_name='blocks.5.hook_k_input', index=[:, :, 5]) with attribution 0.026577306911349297\n"
     ]
    },
    {
     "name": "stderr",
     "output_type": "stream",
     "text": [
      "\n"
     ]
    },
    {
     "name": "stdout",
     "output_type": "stream",
     "text": [
      "NOT PRUNING upstream_component=ModelComponent(hook_point_name='blocks.4.attn.hook_result', index=[:, :, 3]) downstream_component=ModelComponent(hook_point_name='blocks.5.hook_q_input', index=[:, :, 9]) with attribution 0.008148624561727047\n",
      "NOT PRUNING upstream_component=ModelComponent(hook_point_name='blocks.4.attn.hook_result', index=[:, :, 3]) downstream_component=ModelComponent(hook_point_name='blocks.5.hook_q_input', index=[:, :, 5]) with attribution 0.013576813973486423\n"
     ]
    },
    {
     "name": "stderr",
     "output_type": "stream",
     "text": [
      " 64%|██████▍   | 44757/69420 [05:18<11:59, 34.29it/s]\u001b[A"
     ]
    },
    {
     "name": "stdout",
     "output_type": "stream",
     "text": [
      "NOT PRUNING upstream_component=ModelComponent(hook_point_name='blocks.4.attn.hook_result', index=[:, :, 3]) downstream_component=ModelComponent(hook_point_name='blocks.4.hook_mlp_in', index=[:]) with attribution 0.09340554475784302\n",
      "NOT PRUNING upstream_component=ModelComponent(hook_point_name='blocks.4.attn.hook_result', index=[:, :, 2]) downstream_component=ModelComponent(hook_point_name='blocks.11.hook_k_input', index=[:, :, 10]) with attribution 0.006444814149290323\n"
     ]
    },
    {
     "name": "stderr",
     "output_type": "stream",
     "text": []
    },
    {
     "name": "stdout",
     "output_type": "stream",
     "text": [
      "NOT PRUNING upstream_component=ModelComponent(hook_point_name='blocks.4.attn.hook_result', index=[:, :, 2]) downstream_component=ModelComponent(hook_point_name='blocks.10.hook_k_input', index=[:, :, 7]) with attribution 0.006134614814072847\n",
      "NOT PRUNING upstream_component=ModelComponent(hook_point_name='blocks.4.attn.hook_result', index=[:, :, 2]) downstream_component=ModelComponent(hook_point_name='blocks.10.hook_k_input', index=[:, :, 0]) with attribution 0.005916865076869726\n"
     ]
    },
    {
     "name": "stderr",
     "output_type": "stream",
     "text": []
    },
    {
     "name": "stdout",
     "output_type": "stream",
     "text": [
      "NOT PRUNING upstream_component=ModelComponent(hook_point_name='blocks.4.attn.hook_result', index=[:, :, 2]) downstream_component=ModelComponent(hook_point_name='blocks.9.hook_k_input', index=[:, :, 7]) with attribution 0.007138000801205635\n"
     ]
    },
    {
     "name": "stderr",
     "output_type": "stream",
     "text": []
    },
    {
     "name": "stdout",
     "output_type": "stream",
     "text": [
      "NOT PRUNING upstream_component=ModelComponent(hook_point_name='blocks.4.attn.hook_result', index=[:, :, 2]) downstream_component=ModelComponent(hook_point_name='blocks.8.hook_k_input', index=[:, :, 10]) with attribution 0.009862616658210754\n",
      "NOT PRUNING upstream_component=ModelComponent(hook_point_name='blocks.4.attn.hook_result', index=[:, :, 2]) downstream_component=ModelComponent(hook_point_name='blocks.8.hook_k_input', index=[:, :, 6]) with attribution 0.01149910967797041\n"
     ]
    },
    {
     "name": "stderr",
     "output_type": "stream",
     "text": []
    },
    {
     "name": "stdout",
     "output_type": "stream",
     "text": [
      "NOT PRUNING upstream_component=ModelComponent(hook_point_name='blocks.4.attn.hook_result', index=[:, :, 2]) downstream_component=ModelComponent(hook_point_name='blocks.7.hook_mlp_in', index=[:]) with attribution 0.007157331798225641\n"
     ]
    },
    {
     "name": "stderr",
     "output_type": "stream",
     "text": []
    },
    {
     "name": "stdout",
     "output_type": "stream",
     "text": [
      "NOT PRUNING upstream_component=ModelComponent(hook_point_name='blocks.4.attn.hook_result', index=[:, :, 2]) downstream_component=ModelComponent(hook_point_name='blocks.7.hook_k_input', index=[:, :, 9]) with attribution 0.00563509576022625\n"
     ]
    },
    {
     "name": "stderr",
     "output_type": "stream",
     "text": []
    },
    {
     "name": "stdout",
     "output_type": "stream",
     "text": [
      "NOT PRUNING upstream_component=ModelComponent(hook_point_name='blocks.4.attn.hook_result', index=[:, :, 2]) downstream_component=ModelComponent(hook_point_name='blocks.6.hook_mlp_in', index=[:]) with attribution 0.005205748602747917\n"
     ]
    },
    {
     "name": "stderr",
     "output_type": "stream",
     "text": [
      "\n",
      " 65%|██████▌   | 45176/69420 [05:24<11:00, 36.73it/s]"
     ]
    },
    {
     "name": "stdout",
     "output_type": "stream",
     "text": [
      "NOT PRUNING upstream_component=ModelComponent(hook_point_name='blocks.4.attn.hook_result', index=[:, :, 2]) downstream_component=ModelComponent(hook_point_name='blocks.5.hook_mlp_in', index=[:]) with attribution 0.005052581429481506\n"
     ]
    },
    {
     "name": "stderr",
     "output_type": "stream",
     "text": [
      "\u001b[A"
     ]
    },
    {
     "name": "stdout",
     "output_type": "stream",
     "text": [
      "NOT PRUNING upstream_component=ModelComponent(hook_point_name='blocks.4.attn.hook_result', index=[:, :, 2]) downstream_component=ModelComponent(hook_point_name='blocks.5.hook_q_input', index=[:, :, 9]) with attribution 0.005765048321336508\n"
     ]
    },
    {
     "name": "stderr",
     "output_type": "stream",
     "text": []
    },
    {
     "name": "stdout",
     "output_type": "stream",
     "text": [
      "NOT PRUNING upstream_component=ModelComponent(hook_point_name='blocks.4.attn.hook_result', index=[:, :, 1]) downstream_component=ModelComponent(hook_point_name='blocks.4.hook_mlp_in', index=[:]) with attribution 0.008941923268139362\n"
     ]
    },
    {
     "name": "stderr",
     "output_type": "stream",
     "text": []
    },
    {
     "name": "stdout",
     "output_type": "stream",
     "text": [
      "NOT PRUNING upstream_component=ModelComponent(hook_point_name='blocks.4.attn.hook_result', index=[:, :, 0]) downstream_component=ModelComponent(hook_point_name='blocks.6.hook_mlp_in', index=[:]) with attribution 0.007687031757086515\n"
     ]
    },
    {
     "name": "stderr",
     "output_type": "stream",
     "text": []
    },
    {
     "name": "stdout",
     "output_type": "stream",
     "text": [
      "NOT PRUNING upstream_component=ModelComponent(hook_point_name='blocks.4.attn.hook_result', index=[:, :, 0]) downstream_component=ModelComponent(hook_point_name='blocks.5.hook_k_input', index=[:, :, 9]) with attribution 0.005889830645173788\n"
     ]
    },
    {
     "name": "stderr",
     "output_type": "stream",
     "text": []
    },
    {
     "name": "stdout",
     "output_type": "stream",
     "text": [
      "NOT PRUNING upstream_component=ModelComponent(hook_point_name='blocks.4.attn.hook_result', index=[:, :, 0]) downstream_component=ModelComponent(hook_point_name='blocks.4.hook_mlp_in', index=[:]) with attribution 0.0102917505428195\n",
      "NOT PRUNING upstream_component=ModelComponent(hook_point_name='blocks.3.hook_mlp_out', index=[:]) downstream_component=ModelComponent(hook_point_name='blocks.11.hook_resid_post', index=[:]) with attribution 0.008035287261009216\n",
      "NOT PRUNING upstream_component=ModelComponent(hook_point_name='blocks.3.hook_mlp_out', index=[:]) downstream_component=ModelComponent(hook_point_name='blocks.11.hook_v_input', index=[:, :, 10]) with attribution 0.04160387068986893\n",
      "NOT PRUNING upstream_component=ModelComponent(hook_point_name='blocks.3.hook_mlp_out', index=[:]) downstream_component=ModelComponent(hook_point_name='blocks.11.hook_v_input', index=[:, :, 2]) with attribution 0.005988297052681446\n",
      "NOT PRUNING upstream_component=ModelComponent(hook_point_name='blocks.3.hook_mlp_out', index=[:]) downstream_component=ModelComponent(hook_point_name='blocks.11.hook_k_input', index=[:, :, 10]) with attribution 0.10600749403238297\n",
      "NOT PRUNING upstream_component=ModelComponent(hook_point_name='blocks.3.hook_mlp_out', index=[:]) downstream_component=ModelComponent(hook_point_name='blocks.11.hook_k_input', index=[:, :, 6]) with attribution 0.010610661469399929\n",
      "NOT PRUNING upstream_component=ModelComponent(hook_point_name='blocks.3.hook_mlp_out', index=[:]) downstream_component=ModelComponent(hook_point_name='blocks.11.hook_k_input', index=[:, :, 2]) with attribution 0.010008352808654308\n",
      "NOT PRUNING upstream_component=ModelComponent(hook_point_name='blocks.3.hook_mlp_out', index=[:]) downstream_component=ModelComponent(hook_point_name='blocks.11.hook_k_input', index=[:, :, 1]) with attribution 0.017180096358060837\n",
      "NOT PRUNING upstream_component=ModelComponent(hook_point_name='blocks.3.hook_mlp_out', index=[:]) downstream_component=ModelComponent(hook_point_name='blocks.10.hook_mlp_in', index=[:]) with attribution 0.021825376898050308\n",
      "NOT PRUNING upstream_component=ModelComponent(hook_point_name='blocks.3.hook_mlp_out', index=[:]) downstream_component=ModelComponent(hook_point_name='blocks.10.hook_v_input', index=[:, :, 7]) with attribution 0.04344961792230606\n",
      "NOT PRUNING upstream_component=ModelComponent(hook_point_name='blocks.3.hook_mlp_out', index=[:]) downstream_component=ModelComponent(hook_point_name='blocks.10.hook_v_input', index=[:, :, 6]) with attribution 0.009704649448394775\n",
      "NOT PRUNING upstream_component=ModelComponent(hook_point_name='blocks.3.hook_mlp_out', index=[:]) downstream_component=ModelComponent(hook_point_name='blocks.10.hook_v_input', index=[:, :, 2]) with attribution 0.007178140804171562\n",
      "NOT PRUNING upstream_component=ModelComponent(hook_point_name='blocks.3.hook_mlp_out', index=[:]) downstream_component=ModelComponent(hook_point_name='blocks.10.hook_v_input', index=[:, :, 0]) with attribution 0.01403657253831625\n",
      "NOT PRUNING upstream_component=ModelComponent(hook_point_name='blocks.3.hook_mlp_out', index=[:]) downstream_component=ModelComponent(hook_point_name='blocks.10.hook_k_input', index=[:, :, 10]) with attribution 0.005186731927096844\n"
     ]
    },
    {
     "name": "stderr",
     "output_type": "stream",
     "text": []
    },
    {
     "name": "stdout",
     "output_type": "stream",
     "text": [
      "NOT PRUNING upstream_component=ModelComponent(hook_point_name='blocks.3.hook_mlp_out', index=[:]) downstream_component=ModelComponent(hook_point_name='blocks.10.hook_k_input', index=[:, :, 7]) with attribution 0.06040411815047264\n",
      "NOT PRUNING upstream_component=ModelComponent(hook_point_name='blocks.3.hook_mlp_out', index=[:]) downstream_component=ModelComponent(hook_point_name='blocks.10.hook_k_input', index=[:, :, 6]) with attribution 0.011173086240887642\n",
      "NOT PRUNING upstream_component=ModelComponent(hook_point_name='blocks.3.hook_mlp_out', index=[:]) downstream_component=ModelComponent(hook_point_name='blocks.10.hook_k_input', index=[:, :, 3]) with attribution 0.006846444681286812\n",
      "NOT PRUNING upstream_component=ModelComponent(hook_point_name='blocks.3.hook_mlp_out', index=[:]) downstream_component=ModelComponent(hook_point_name='blocks.10.hook_k_input', index=[:, :, 2]) with attribution 0.010034393519163132\n",
      "NOT PRUNING upstream_component=ModelComponent(hook_point_name='blocks.3.hook_mlp_out', index=[:]) downstream_component=ModelComponent(hook_point_name='blocks.9.hook_v_input', index=[:, :, 9]) with attribution 0.02091195434331894\n",
      "NOT PRUNING upstream_component=ModelComponent(hook_point_name='blocks.3.hook_mlp_out', index=[:]) downstream_component=ModelComponent(hook_point_name='blocks.9.hook_v_input', index=[:, :, 7]) with attribution 0.018086783587932587\n",
      "NOT PRUNING upstream_component=ModelComponent(hook_point_name='blocks.3.hook_mlp_out', index=[:]) downstream_component=ModelComponent(hook_point_name='blocks.9.hook_v_input', index=[:, :, 6]) with attribution 0.005205060821026564\n",
      "NOT PRUNING upstream_component=ModelComponent(hook_point_name='blocks.3.hook_mlp_out', index=[:]) downstream_component=ModelComponent(hook_point_name='blocks.9.hook_k_input', index=[:, :, 9]) with attribution 0.025355704128742218\n",
      "NOT PRUNING upstream_component=ModelComponent(hook_point_name='blocks.3.hook_mlp_out', index=[:]) downstream_component=ModelComponent(hook_point_name='blocks.9.hook_k_input', index=[:, :, 7]) with attribution 0.04442370682954788\n",
      "NOT PRUNING upstream_component=ModelComponent(hook_point_name='blocks.3.hook_mlp_out', index=[:]) downstream_component=ModelComponent(hook_point_name='blocks.9.hook_k_input', index=[:, :, 6]) with attribution 0.01819523796439171\n",
      "NOT PRUNING upstream_component=ModelComponent(hook_point_name='blocks.3.hook_mlp_out', index=[:]) downstream_component=ModelComponent(hook_point_name='blocks.9.hook_k_input', index=[:, :, 2]) with attribution 0.00618060352280736\n"
     ]
    },
    {
     "name": "stderr",
     "output_type": "stream",
     "text": []
    },
    {
     "name": "stdout",
     "output_type": "stream",
     "text": [
      "NOT PRUNING upstream_component=ModelComponent(hook_point_name='blocks.3.hook_mlp_out', index=[:]) downstream_component=ModelComponent(hook_point_name='blocks.9.hook_q_input', index=[:, :, 7]) with attribution 0.006043805740773678\n",
      "NOT PRUNING upstream_component=ModelComponent(hook_point_name='blocks.3.hook_mlp_out', index=[:]) downstream_component=ModelComponent(hook_point_name='blocks.9.hook_q_input', index=[:, :, 0]) with attribution 0.005492778494954109\n",
      "NOT PRUNING upstream_component=ModelComponent(hook_point_name='blocks.3.hook_mlp_out', index=[:]) downstream_component=ModelComponent(hook_point_name='blocks.8.hook_mlp_in', index=[:]) with attribution 0.019922001287341118\n",
      "NOT PRUNING upstream_component=ModelComponent(hook_point_name='blocks.3.hook_mlp_out', index=[:]) downstream_component=ModelComponent(hook_point_name='blocks.8.hook_v_input', index=[:, :, 10]) with attribution 0.005569408647716045\n",
      "NOT PRUNING upstream_component=ModelComponent(hook_point_name='blocks.3.hook_mlp_out', index=[:]) downstream_component=ModelComponent(hook_point_name='blocks.8.hook_v_input', index=[:, :, 6]) with attribution 0.009957805275917053\n",
      "NOT PRUNING upstream_component=ModelComponent(hook_point_name='blocks.3.hook_mlp_out', index=[:]) downstream_component=ModelComponent(hook_point_name='blocks.8.hook_k_input', index=[:, :, 10]) with attribution 0.10863295942544937\n",
      "NOT PRUNING upstream_component=ModelComponent(hook_point_name='blocks.3.hook_mlp_out', index=[:]) downstream_component=ModelComponent(hook_point_name='blocks.8.hook_k_input', index=[:, :, 6]) with attribution 0.06640999764204025\n",
      "NOT PRUNING upstream_component=ModelComponent(hook_point_name='blocks.3.hook_mlp_out', index=[:]) downstream_component=ModelComponent(hook_point_name='blocks.8.hook_k_input', index=[:, :, 3]) with attribution 0.010979386046528816\n"
     ]
    },
    {
     "name": "stderr",
     "output_type": "stream",
     "text": []
    },
    {
     "name": "stdout",
     "output_type": "stream",
     "text": [
      "NOT PRUNING upstream_component=ModelComponent(hook_point_name='blocks.3.hook_mlp_out', index=[:]) downstream_component=ModelComponent(hook_point_name='blocks.7.hook_mlp_in', index=[:]) with attribution 0.019510967656970024\n",
      "NOT PRUNING upstream_component=ModelComponent(hook_point_name='blocks.3.hook_mlp_out', index=[:]) downstream_component=ModelComponent(hook_point_name='blocks.7.hook_v_input', index=[:, :, 9]) with attribution 0.01910066418349743\n",
      "NOT PRUNING upstream_component=ModelComponent(hook_point_name='blocks.3.hook_mlp_out', index=[:]) downstream_component=ModelComponent(hook_point_name='blocks.7.hook_v_input', index=[:, :, 3]) with attribution 0.023452917113900185\n",
      "NOT PRUNING upstream_component=ModelComponent(hook_point_name='blocks.3.hook_mlp_out', index=[:]) downstream_component=ModelComponent(hook_point_name='blocks.7.hook_k_input', index=[:, :, 9]) with attribution 0.05617748945951462\n"
     ]
    },
    {
     "name": "stderr",
     "output_type": "stream",
     "text": []
    },
    {
     "name": "stdout",
     "output_type": "stream",
     "text": [
      "NOT PRUNING upstream_component=ModelComponent(hook_point_name='blocks.3.hook_mlp_out', index=[:]) downstream_component=ModelComponent(hook_point_name='blocks.7.hook_k_input', index=[:, :, 3]) with attribution 0.021373605355620384\n",
      "NOT PRUNING upstream_component=ModelComponent(hook_point_name='blocks.3.hook_mlp_out', index=[:]) downstream_component=ModelComponent(hook_point_name='blocks.7.hook_q_input', index=[:, :, 1]) with attribution 0.05979902669787407\n",
      "NOT PRUNING upstream_component=ModelComponent(hook_point_name='blocks.3.hook_mlp_out', index=[:]) downstream_component=ModelComponent(hook_point_name='blocks.6.hook_mlp_in', index=[:]) with attribution 0.11165247857570648\n"
     ]
    },
    {
     "name": "stderr",
     "output_type": "stream",
     "text": []
    },
    {
     "name": "stdout",
     "output_type": "stream",
     "text": [
      "NOT PRUNING upstream_component=ModelComponent(hook_point_name='blocks.3.hook_mlp_out', index=[:]) downstream_component=ModelComponent(hook_point_name='blocks.6.hook_v_input', index=[:, :, 8]) with attribution 0.008336205035448074\n",
      "NOT PRUNING upstream_component=ModelComponent(hook_point_name='blocks.3.hook_mlp_out', index=[:]) downstream_component=ModelComponent(hook_point_name='blocks.6.hook_v_input', index=[:, :, 7]) with attribution 0.005390066187828779\n",
      "NOT PRUNING upstream_component=ModelComponent(hook_point_name='blocks.3.hook_mlp_out', index=[:]) downstream_component=ModelComponent(hook_point_name='blocks.6.hook_v_input', index=[:, :, 6]) with attribution 0.00883446354418993\n",
      "NOT PRUNING upstream_component=ModelComponent(hook_point_name='blocks.3.hook_mlp_out', index=[:]) downstream_component=ModelComponent(hook_point_name='blocks.6.hook_v_input', index=[:, :, 5]) with attribution 0.008166179060935974\n",
      "NOT PRUNING upstream_component=ModelComponent(hook_point_name='blocks.3.hook_mlp_out', index=[:]) downstream_component=ModelComponent(hook_point_name='blocks.6.hook_k_input', index=[:, :, 9]) with attribution 0.008167490363121033\n",
      "NOT PRUNING upstream_component=ModelComponent(hook_point_name='blocks.3.hook_mlp_out', index=[:]) downstream_component=ModelComponent(hook_point_name='blocks.6.hook_k_input', index=[:, :, 6]) with attribution 0.05955095589160919\n",
      "NOT PRUNING upstream_component=ModelComponent(hook_point_name='blocks.3.hook_mlp_out', index=[:]) downstream_component=ModelComponent(hook_point_name='blocks.6.hook_k_input', index=[:, :, 4]) with attribution 0.009693772532045841\n",
      "NOT PRUNING upstream_component=ModelComponent(hook_point_name='blocks.3.hook_mlp_out', index=[:]) downstream_component=ModelComponent(hook_point_name='blocks.6.hook_k_input', index=[:, :, 3]) with attribution 0.006307891570031643\n",
      "NOT PRUNING upstream_component=ModelComponent(hook_point_name='blocks.3.hook_mlp_out', index=[:]) downstream_component=ModelComponent(hook_point_name='blocks.6.hook_k_input', index=[:, :, 1]) with attribution 0.005364668555557728\n"
     ]
    },
    {
     "name": "stderr",
     "output_type": "stream",
     "text": []
    },
    {
     "name": "stdout",
     "output_type": "stream",
     "text": [
      "NOT PRUNING upstream_component=ModelComponent(hook_point_name='blocks.3.hook_mlp_out', index=[:]) downstream_component=ModelComponent(hook_point_name='blocks.6.hook_q_input', index=[:, :, 9]) with attribution 0.06526768207550049\n",
      "NOT PRUNING upstream_component=ModelComponent(hook_point_name='blocks.3.hook_mlp_out', index=[:]) downstream_component=ModelComponent(hook_point_name='blocks.6.hook_q_input', index=[:, :, 8]) with attribution 0.005772453732788563\n",
      "NOT PRUNING upstream_component=ModelComponent(hook_point_name='blocks.3.hook_mlp_out', index=[:]) downstream_component=ModelComponent(hook_point_name='blocks.6.hook_q_input', index=[:, :, 6]) with attribution 0.031475264579057693\n",
      "NOT PRUNING upstream_component=ModelComponent(hook_point_name='blocks.3.hook_mlp_out', index=[:]) downstream_component=ModelComponent(hook_point_name='blocks.6.hook_q_input', index=[:, :, 4]) with attribution 0.01022431068122387\n",
      "NOT PRUNING upstream_component=ModelComponent(hook_point_name='blocks.3.hook_mlp_out', index=[:]) downstream_component=ModelComponent(hook_point_name='blocks.5.hook_mlp_in', index=[:]) with attribution 0.07907110452651978\n",
      "NOT PRUNING upstream_component=ModelComponent(hook_point_name='blocks.3.hook_mlp_out', index=[:]) downstream_component=ModelComponent(hook_point_name='blocks.5.hook_v_input', index=[:, :, 10]) with attribution 0.011777381412684917\n"
     ]
    },
    {
     "name": "stderr",
     "output_type": "stream",
     "text": []
    },
    {
     "name": "stdout",
     "output_type": "stream",
     "text": [
      "NOT PRUNING upstream_component=ModelComponent(hook_point_name='blocks.3.hook_mlp_out', index=[:]) downstream_component=ModelComponent(hook_point_name='blocks.5.hook_v_input', index=[:, :, 6]) with attribution 0.006404459476470947\n",
      "NOT PRUNING upstream_component=ModelComponent(hook_point_name='blocks.3.hook_mlp_out', index=[:]) downstream_component=ModelComponent(hook_point_name='blocks.5.hook_v_input', index=[:, :, 5]) with attribution 0.03205951675772667\n",
      "NOT PRUNING upstream_component=ModelComponent(hook_point_name='blocks.3.hook_mlp_out', index=[:]) downstream_component=ModelComponent(hook_point_name='blocks.5.hook_v_input', index=[:, :, 3]) with attribution 0.005044948309659958\n",
      "NOT PRUNING upstream_component=ModelComponent(hook_point_name='blocks.3.hook_mlp_out', index=[:]) downstream_component=ModelComponent(hook_point_name='blocks.5.hook_v_input', index=[:, :, 2]) with attribution 0.009079507552087307\n",
      "NOT PRUNING upstream_component=ModelComponent(hook_point_name='blocks.3.hook_mlp_out', index=[:]) downstream_component=ModelComponent(hook_point_name='blocks.5.hook_v_input', index=[:, :, 0]) with attribution 0.010593712329864502\n",
      "NOT PRUNING upstream_component=ModelComponent(hook_point_name='blocks.3.hook_mlp_out', index=[:]) downstream_component=ModelComponent(hook_point_name='blocks.5.hook_k_input', index=[:, :, 9]) with attribution 0.026993753388524055\n",
      "NOT PRUNING upstream_component=ModelComponent(hook_point_name='blocks.3.hook_mlp_out', index=[:]) downstream_component=ModelComponent(hook_point_name='blocks.5.hook_q_input', index=[:, :, 10]) with attribution 0.014664252288639545\n",
      "NOT PRUNING upstream_component=ModelComponent(hook_point_name='blocks.3.hook_mlp_out', index=[:]) downstream_component=ModelComponent(hook_point_name='blocks.5.hook_q_input', index=[:, :, 9]) with attribution 0.01450837217271328\n"
     ]
    },
    {
     "name": "stderr",
     "output_type": "stream",
     "text": []
    },
    {
     "name": "stdout",
     "output_type": "stream",
     "text": [
      "NOT PRUNING upstream_component=ModelComponent(hook_point_name='blocks.3.hook_mlp_out', index=[:]) downstream_component=ModelComponent(hook_point_name='blocks.5.hook_q_input', index=[:, :, 8]) with attribution 0.008865146897733212\n",
      "NOT PRUNING upstream_component=ModelComponent(hook_point_name='blocks.3.hook_mlp_out', index=[:]) downstream_component=ModelComponent(hook_point_name='blocks.5.hook_q_input', index=[:, :, 5]) with attribution 0.016524428501725197\n",
      "NOT PRUNING upstream_component=ModelComponent(hook_point_name='blocks.3.hook_mlp_out', index=[:]) downstream_component=ModelComponent(hook_point_name='blocks.5.hook_q_input', index=[:, :, 0]) with attribution 0.008628826588392258\n",
      "NOT PRUNING upstream_component=ModelComponent(hook_point_name='blocks.3.hook_mlp_out', index=[:]) downstream_component=ModelComponent(hook_point_name='blocks.4.hook_mlp_in', index=[:]) with attribution 0.04716186597943306\n",
      "NOT PRUNING upstream_component=ModelComponent(hook_point_name='blocks.3.hook_mlp_out', index=[:]) downstream_component=ModelComponent(hook_point_name='blocks.4.hook_v_input', index=[:, :, 11]) with attribution 0.007258078083395958\n",
      "NOT PRUNING upstream_component=ModelComponent(hook_point_name='blocks.3.hook_mlp_out', index=[:]) downstream_component=ModelComponent(hook_point_name='blocks.4.hook_v_input', index=[:, :, 9]) with attribution 0.006309187039732933\n",
      "NOT PRUNING upstream_component=ModelComponent(hook_point_name='blocks.3.hook_mlp_out', index=[:]) downstream_component=ModelComponent(hook_point_name='blocks.4.hook_v_input', index=[:, :, 7]) with attribution 0.018677081912755966\n",
      "NOT PRUNING upstream_component=ModelComponent(hook_point_name='blocks.3.hook_mlp_out', index=[:]) downstream_component=ModelComponent(hook_point_name='blocks.4.hook_v_input', index=[:, :, 4]) with attribution 0.005637099966406822\n",
      "NOT PRUNING upstream_component=ModelComponent(hook_point_name='blocks.3.hook_mlp_out', index=[:]) downstream_component=ModelComponent(hook_point_name='blocks.4.hook_v_input', index=[:, :, 3]) with attribution 0.009155248291790485\n",
      "NOT PRUNING upstream_component=ModelComponent(hook_point_name='blocks.3.hook_mlp_out', index=[:]) downstream_component=ModelComponent(hook_point_name='blocks.4.hook_v_input', index=[:, :, 1]) with attribution 0.006954545620828867\n"
     ]
    },
    {
     "name": "stderr",
     "output_type": "stream",
     "text": []
    },
    {
     "name": "stdout",
     "output_type": "stream",
     "text": [
      "NOT PRUNING upstream_component=ModelComponent(hook_point_name='blocks.3.hook_mlp_out', index=[:]) downstream_component=ModelComponent(hook_point_name='blocks.4.hook_k_input', index=[:, :, 8]) with attribution 0.005849957466125488\n",
      "NOT PRUNING upstream_component=ModelComponent(hook_point_name='blocks.3.hook_mlp_out', index=[:]) downstream_component=ModelComponent(hook_point_name='blocks.4.hook_k_input', index=[:, :, 6]) with attribution 0.00908841472119093\n",
      "NOT PRUNING upstream_component=ModelComponent(hook_point_name='blocks.3.hook_mlp_out', index=[:]) downstream_component=ModelComponent(hook_point_name='blocks.4.hook_k_input', index=[:, :, 4]) with attribution 0.010736202821135521\n",
      "NOT PRUNING upstream_component=ModelComponent(hook_point_name='blocks.3.hook_mlp_out', index=[:]) downstream_component=ModelComponent(hook_point_name='blocks.4.hook_k_input', index=[:, :, 3]) with attribution 0.008465556427836418\n"
     ]
    },
    {
     "name": "stderr",
     "output_type": "stream",
     "text": []
    },
    {
     "name": "stdout",
     "output_type": "stream",
     "text": [
      "NOT PRUNING upstream_component=ModelComponent(hook_point_name='blocks.3.hook_mlp_out', index=[:]) downstream_component=ModelComponent(hook_point_name='blocks.4.hook_q_input', index=[:, :, 8]) with attribution 0.01707954704761505\n",
      "NOT PRUNING upstream_component=ModelComponent(hook_point_name='blocks.3.hook_mlp_out', index=[:]) downstream_component=ModelComponent(hook_point_name='blocks.4.hook_q_input', index=[:, :, 0]) with attribution 0.007460716180503368\n"
     ]
    },
    {
     "name": "stderr",
     "output_type": "stream",
     "text": [
      "\n",
      " 68%|██████▊   | 46957/69420 [05:49<09:25, 39.74it/s]"
     ]
    },
    {
     "name": "stdout",
     "output_type": "stream",
     "text": [
      "NOT PRUNING upstream_component=ModelComponent(hook_point_name='blocks.3.attn.hook_result', index=[:, :, 11]) downstream_component=ModelComponent(hook_point_name='blocks.5.hook_mlp_in', index=[:]) with attribution 0.005366344470530748\n"
     ]
    },
    {
     "name": "stderr",
     "output_type": "stream",
     "text": [
      "\u001b[A"
     ]
    },
    {
     "name": "stdout",
     "output_type": "stream",
     "text": [
      "NOT PRUNING upstream_component=ModelComponent(hook_point_name='blocks.3.attn.hook_result', index=[:, :, 10]) downstream_component=ModelComponent(hook_point_name='blocks.11.hook_k_input', index=[:, :, 10]) with attribution 0.009667614474892616\n",
      "NOT PRUNING upstream_component=ModelComponent(hook_point_name='blocks.3.attn.hook_result', index=[:, :, 10]) downstream_component=ModelComponent(hook_point_name='blocks.11.hook_k_input', index=[:, :, 2]) with attribution 0.005139223299920559\n"
     ]
    },
    {
     "name": "stderr",
     "output_type": "stream",
     "text": []
    },
    {
     "name": "stdout",
     "output_type": "stream",
     "text": [
      "NOT PRUNING upstream_component=ModelComponent(hook_point_name='blocks.3.attn.hook_result', index=[:, :, 10]) downstream_component=ModelComponent(hook_point_name='blocks.10.hook_k_input', index=[:, :, 7]) with attribution 0.007634416222572327\n"
     ]
    },
    {
     "name": "stderr",
     "output_type": "stream",
     "text": []
    },
    {
     "name": "stdout",
     "output_type": "stream",
     "text": [
      "NOT PRUNING upstream_component=ModelComponent(hook_point_name='blocks.3.attn.hook_result', index=[:, :, 10]) downstream_component=ModelComponent(hook_point_name='blocks.9.hook_k_input', index=[:, :, 9]) with attribution 0.0057348511181771755\n"
     ]
    },
    {
     "name": "stderr",
     "output_type": "stream",
     "text": []
    },
    {
     "name": "stdout",
     "output_type": "stream",
     "text": [
      "NOT PRUNING upstream_component=ModelComponent(hook_point_name='blocks.3.attn.hook_result', index=[:, :, 10]) downstream_component=ModelComponent(hook_point_name='blocks.8.hook_mlp_in', index=[:]) with attribution 0.006500366143882275\n"
     ]
    },
    {
     "name": "stderr",
     "output_type": "stream",
     "text": []
    },
    {
     "name": "stdout",
     "output_type": "stream",
     "text": [
      "NOT PRUNING upstream_component=ModelComponent(hook_point_name='blocks.3.attn.hook_result', index=[:, :, 10]) downstream_component=ModelComponent(hook_point_name='blocks.8.hook_k_input', index=[:, :, 10]) with attribution 0.01590142771601677\n",
      "NOT PRUNING upstream_component=ModelComponent(hook_point_name='blocks.3.attn.hook_result', index=[:, :, 10]) downstream_component=ModelComponent(hook_point_name='blocks.8.hook_k_input', index=[:, :, 6]) with attribution 0.0061005521565675735\n"
     ]
    },
    {
     "name": "stderr",
     "output_type": "stream",
     "text": []
    },
    {
     "name": "stdout",
     "output_type": "stream",
     "text": [
      "NOT PRUNING upstream_component=ModelComponent(hook_point_name='blocks.3.attn.hook_result', index=[:, :, 10]) downstream_component=ModelComponent(hook_point_name='blocks.7.hook_mlp_in', index=[:]) with attribution 0.02557384967803955\n"
     ]
    },
    {
     "name": "stderr",
     "output_type": "stream",
     "text": []
    },
    {
     "name": "stdout",
     "output_type": "stream",
     "text": [
      "NOT PRUNING upstream_component=ModelComponent(hook_point_name='blocks.3.attn.hook_result', index=[:, :, 10]) downstream_component=ModelComponent(hook_point_name='blocks.7.hook_q_input', index=[:, :, 9]) with attribution 0.006077348720282316\n"
     ]
    },
    {
     "name": "stderr",
     "output_type": "stream",
     "text": []
    },
    {
     "name": "stdout",
     "output_type": "stream",
     "text": [
      "NOT PRUNING upstream_component=ModelComponent(hook_point_name='blocks.3.attn.hook_result', index=[:, :, 10]) downstream_component=ModelComponent(hook_point_name='blocks.7.hook_q_input', index=[:, :, 1]) with attribution 0.005399566143751144\n",
      "NOT PRUNING upstream_component=ModelComponent(hook_point_name='blocks.3.attn.hook_result', index=[:, :, 10]) downstream_component=ModelComponent(hook_point_name='blocks.6.hook_mlp_in', index=[:]) with attribution 0.00868232548236847\n"
     ]
    },
    {
     "name": "stderr",
     "output_type": "stream",
     "text": []
    },
    {
     "name": "stdout",
     "output_type": "stream",
     "text": [
      "NOT PRUNING upstream_component=ModelComponent(hook_point_name='blocks.3.attn.hook_result', index=[:, :, 10]) downstream_component=ModelComponent(hook_point_name='blocks.6.hook_k_input', index=[:, :, 9]) with attribution 0.03356996178627014\n",
      "NOT PRUNING upstream_component=ModelComponent(hook_point_name='blocks.3.attn.hook_result', index=[:, :, 10]) downstream_component=ModelComponent(hook_point_name='blocks.6.hook_k_input', index=[:, :, 6]) with attribution 0.009985842742025852\n"
     ]
    },
    {
     "name": "stderr",
     "output_type": "stream",
     "text": []
    },
    {
     "name": "stdout",
     "output_type": "stream",
     "text": [
      "NOT PRUNING upstream_component=ModelComponent(hook_point_name='blocks.3.attn.hook_result', index=[:, :, 10]) downstream_component=ModelComponent(hook_point_name='blocks.6.hook_q_input', index=[:, :, 9]) with attribution 0.009522979147732258\n"
     ]
    },
    {
     "name": "stderr",
     "output_type": "stream",
     "text": []
    },
    {
     "name": "stdout",
     "output_type": "stream",
     "text": [
      "NOT PRUNING upstream_component=ModelComponent(hook_point_name='blocks.3.attn.hook_result', index=[:, :, 10]) downstream_component=ModelComponent(hook_point_name='blocks.5.hook_mlp_in', index=[:]) with attribution 0.050524719059467316\n",
      "NOT PRUNING upstream_component=ModelComponent(hook_point_name='blocks.3.attn.hook_result', index=[:, :, 10]) downstream_component=ModelComponent(hook_point_name='blocks.5.hook_v_input', index=[:, :, 5]) with attribution 0.007621036376804113\n"
     ]
    },
    {
     "name": "stderr",
     "output_type": "stream",
     "text": []
    },
    {
     "name": "stdout",
     "output_type": "stream",
     "text": [
      "NOT PRUNING upstream_component=ModelComponent(hook_point_name='blocks.3.attn.hook_result', index=[:, :, 10]) downstream_component=ModelComponent(hook_point_name='blocks.5.hook_k_input', index=[:, :, 5]) with attribution 0.007967174984514713\n"
     ]
    },
    {
     "name": "stderr",
     "output_type": "stream",
     "text": []
    },
    {
     "name": "stdout",
     "output_type": "stream",
     "text": [
      "NOT PRUNING upstream_component=ModelComponent(hook_point_name='blocks.3.attn.hook_result', index=[:, :, 10]) downstream_component=ModelComponent(hook_point_name='blocks.5.hook_q_input', index=[:, :, 10]) with attribution 0.00861243437975645\n",
      "NOT PRUNING upstream_component=ModelComponent(hook_point_name='blocks.3.attn.hook_result', index=[:, :, 10]) downstream_component=ModelComponent(hook_point_name='blocks.5.hook_q_input', index=[:, :, 9]) with attribution 0.011211655102670193\n"
     ]
    },
    {
     "name": "stderr",
     "output_type": "stream",
     "text": []
    },
    {
     "name": "stdout",
     "output_type": "stream",
     "text": [
      "NOT PRUNING upstream_component=ModelComponent(hook_point_name='blocks.3.attn.hook_result', index=[:, :, 10]) downstream_component=ModelComponent(hook_point_name='blocks.4.hook_mlp_in', index=[:]) with attribution 0.041020140051841736\n",
      "NOT PRUNING upstream_component=ModelComponent(hook_point_name='blocks.3.attn.hook_result', index=[:, :, 10]) downstream_component=ModelComponent(hook_point_name='blocks.4.hook_v_input', index=[:, :, 7]) with attribution 0.009136337786912918\n"
     ]
    },
    {
     "name": "stderr",
     "output_type": "stream",
     "text": []
    },
    {
     "name": "stdout",
     "output_type": "stream",
     "text": [
      "NOT PRUNING upstream_component=ModelComponent(hook_point_name='blocks.3.attn.hook_result', index=[:, :, 10]) downstream_component=ModelComponent(hook_point_name='blocks.3.hook_mlp_in', index=[:]) with attribution 0.009651546366512775\n"
     ]
    },
    {
     "name": "stderr",
     "output_type": "stream",
     "text": []
    },
    {
     "name": "stdout",
     "output_type": "stream",
     "text": [
      "NOT PRUNING upstream_component=ModelComponent(hook_point_name='blocks.3.attn.hook_result', index=[:, :, 9]) downstream_component=ModelComponent(hook_point_name='blocks.5.hook_mlp_in', index=[:]) with attribution 0.00717918062582612\n"
     ]
    },
    {
     "name": "stderr",
     "output_type": "stream",
     "text": []
    },
    {
     "name": "stdout",
     "output_type": "stream",
     "text": [
      "NOT PRUNING upstream_component=ModelComponent(hook_point_name='blocks.3.attn.hook_result', index=[:, :, 9]) downstream_component=ModelComponent(hook_point_name='blocks.4.hook_mlp_in', index=[:]) with attribution 0.005779190920293331\n"
     ]
    },
    {
     "name": "stderr",
     "output_type": "stream",
     "text": []
    },
    {
     "name": "stdout",
     "output_type": "stream",
     "text": [
      "NOT PRUNING upstream_component=ModelComponent(hook_point_name='blocks.3.attn.hook_result', index=[:, :, 9]) downstream_component=ModelComponent(hook_point_name='blocks.3.hook_mlp_in', index=[:]) with attribution 0.00626980559900403\n"
     ]
    },
    {
     "name": "stderr",
     "output_type": "stream",
     "text": []
    },
    {
     "name": "stdout",
     "output_type": "stream",
     "text": [
      "NOT PRUNING upstream_component=ModelComponent(hook_point_name='blocks.3.attn.hook_result', index=[:, :, 8]) downstream_component=ModelComponent(hook_point_name='blocks.3.hook_mlp_in', index=[:]) with attribution 0.0060326894745230675\n"
     ]
    },
    {
     "name": "stderr",
     "output_type": "stream",
     "text": []
    },
    {
     "name": "stdout",
     "output_type": "stream",
     "text": [
      "NOT PRUNING upstream_component=ModelComponent(hook_point_name='blocks.3.attn.hook_result', index=[:, :, 7]) downstream_component=ModelComponent(hook_point_name='blocks.8.hook_mlp_in', index=[:]) with attribution 0.006527191959321499\n",
      "NOT PRUNING upstream_component=ModelComponent(hook_point_name='blocks.3.attn.hook_result', index=[:, :, 7]) downstream_component=ModelComponent(hook_point_name='blocks.8.hook_v_input', index=[:, :, 3]) with attribution 0.0065306732431054115\n"
     ]
    },
    {
     "name": "stderr",
     "output_type": "stream",
     "text": []
    },
    {
     "name": "stdout",
     "output_type": "stream",
     "text": [
      "NOT PRUNING upstream_component=ModelComponent(hook_point_name='blocks.3.attn.hook_result', index=[:, :, 7]) downstream_component=ModelComponent(hook_point_name='blocks.7.hook_k_input', index=[:, :, 1]) with attribution 0.006408237852156162\n"
     ]
    },
    {
     "name": "stderr",
     "output_type": "stream",
     "text": []
    },
    {
     "name": "stdout",
     "output_type": "stream",
     "text": [
      "NOT PRUNING upstream_component=ModelComponent(hook_point_name='blocks.3.attn.hook_result', index=[:, :, 7]) downstream_component=ModelComponent(hook_point_name='blocks.6.hook_k_input', index=[:, :, 9]) with attribution 0.08582118898630142\n"
     ]
    },
    {
     "name": "stderr",
     "output_type": "stream",
     "text": []
    },
    {
     "name": "stdout",
     "output_type": "stream",
     "text": [
      "NOT PRUNING upstream_component=ModelComponent(hook_point_name='blocks.3.attn.hook_result', index=[:, :, 7]) downstream_component=ModelComponent(hook_point_name='blocks.5.hook_mlp_in', index=[:]) with attribution 0.08075059950351715\n",
      "NOT PRUNING upstream_component=ModelComponent(hook_point_name='blocks.3.attn.hook_result', index=[:, :, 7]) downstream_component=ModelComponent(hook_point_name='blocks.5.hook_v_input', index=[:, :, 8]) with attribution 0.0067236716859042645\n"
     ]
    },
    {
     "name": "stderr",
     "output_type": "stream",
     "text": []
    },
    {
     "name": "stdout",
     "output_type": "stream",
     "text": [
      "NOT PRUNING upstream_component=ModelComponent(hook_point_name='blocks.3.attn.hook_result', index=[:, :, 7]) downstream_component=ModelComponent(hook_point_name='blocks.5.hook_v_input', index=[:, :, 5]) with attribution 0.012968210503458977\n"
     ]
    },
    {
     "name": "stderr",
     "output_type": "stream",
     "text": []
    },
    {
     "name": "stdout",
     "output_type": "stream",
     "text": [
      "NOT PRUNING upstream_component=ModelComponent(hook_point_name='blocks.3.attn.hook_result', index=[:, :, 7]) downstream_component=ModelComponent(hook_point_name='blocks.5.hook_k_input', index=[:, :, 9]) with attribution 0.008688917383551598\n",
      "NOT PRUNING upstream_component=ModelComponent(hook_point_name='blocks.3.attn.hook_result', index=[:, :, 7]) downstream_component=ModelComponent(hook_point_name='blocks.5.hook_k_input', index=[:, :, 8]) with attribution 0.00905455183237791\n",
      "NOT PRUNING upstream_component=ModelComponent(hook_point_name='blocks.3.attn.hook_result', index=[:, :, 7]) downstream_component=ModelComponent(hook_point_name='blocks.5.hook_k_input', index=[:, :, 5]) with attribution 0.05638078227639198\n"
     ]
    },
    {
     "name": "stderr",
     "output_type": "stream",
     "text": []
    },
    {
     "name": "stdout",
     "output_type": "stream",
     "text": [
      "NOT PRUNING upstream_component=ModelComponent(hook_point_name='blocks.3.attn.hook_result', index=[:, :, 7]) downstream_component=ModelComponent(hook_point_name='blocks.5.hook_q_input', index=[:, :, 6]) with attribution 0.005671685561537743\n"
     ]
    },
    {
     "name": "stderr",
     "output_type": "stream",
     "text": []
    },
    {
     "name": "stdout",
     "output_type": "stream",
     "text": [
      "NOT PRUNING upstream_component=ModelComponent(hook_point_name='blocks.3.attn.hook_result', index=[:, :, 7]) downstream_component=ModelComponent(hook_point_name='blocks.4.hook_mlp_in', index=[:]) with attribution 0.07376758009195328\n",
      "NOT PRUNING upstream_component=ModelComponent(hook_point_name='blocks.3.attn.hook_result', index=[:, :, 7]) downstream_component=ModelComponent(hook_point_name='blocks.4.hook_v_input', index=[:, :, 11]) with attribution 0.006530620623379946\n"
     ]
    },
    {
     "name": "stderr",
     "output_type": "stream",
     "text": []
    },
    {
     "name": "stdout",
     "output_type": "stream",
     "text": [
      "NOT PRUNING upstream_component=ModelComponent(hook_point_name='blocks.3.attn.hook_result', index=[:, :, 6]) downstream_component=ModelComponent(hook_point_name='blocks.11.hook_resid_post', index=[:]) with attribution 0.009437983855605125\n"
     ]
    },
    {
     "name": "stderr",
     "output_type": "stream",
     "text": []
    },
    {
     "name": "stdout",
     "output_type": "stream",
     "text": [
      "NOT PRUNING upstream_component=ModelComponent(hook_point_name='blocks.3.attn.hook_result', index=[:, :, 6]) downstream_component=ModelComponent(hook_point_name='blocks.8.hook_v_input', index=[:, :, 10]) with attribution 0.01126298401504755\n"
     ]
    },
    {
     "name": "stderr",
     "output_type": "stream",
     "text": []
    },
    {
     "name": "stdout",
     "output_type": "stream",
     "text": [
      "NOT PRUNING upstream_component=ModelComponent(hook_point_name='blocks.3.attn.hook_result', index=[:, :, 6]) downstream_component=ModelComponent(hook_point_name='blocks.8.hook_k_input', index=[:, :, 10]) with attribution 0.005332107190042734\n",
      "NOT PRUNING upstream_component=ModelComponent(hook_point_name='blocks.3.attn.hook_result', index=[:, :, 6]) downstream_component=ModelComponent(hook_point_name='blocks.8.hook_k_input', index=[:, :, 6]) with attribution 0.011950941756367683\n"
     ]
    },
    {
     "name": "stderr",
     "output_type": "stream",
     "text": []
    },
    {
     "name": "stdout",
     "output_type": "stream",
     "text": [
      "NOT PRUNING upstream_component=ModelComponent(hook_point_name='blocks.3.attn.hook_result', index=[:, :, 6]) downstream_component=ModelComponent(hook_point_name='blocks.7.hook_v_input', index=[:, :, 3]) with attribution 0.020006896927952766\n"
     ]
    },
    {
     "name": "stderr",
     "output_type": "stream",
     "text": []
    },
    {
     "name": "stdout",
     "output_type": "stream",
     "text": [
      "NOT PRUNING upstream_component=ModelComponent(hook_point_name='blocks.3.attn.hook_result', index=[:, :, 6]) downstream_component=ModelComponent(hook_point_name='blocks.6.hook_mlp_in', index=[:]) with attribution 0.011959878727793694\n"
     ]
    },
    {
     "name": "stderr",
     "output_type": "stream",
     "text": []
    },
    {
     "name": "stdout",
     "output_type": "stream",
     "text": [
      "NOT PRUNING upstream_component=ModelComponent(hook_point_name='blocks.3.attn.hook_result', index=[:, :, 6]) downstream_component=ModelComponent(hook_point_name='blocks.6.hook_v_input', index=[:, :, 8]) with attribution 0.006365566980093718\n",
      "NOT PRUNING upstream_component=ModelComponent(hook_point_name='blocks.3.attn.hook_result', index=[:, :, 6]) downstream_component=ModelComponent(hook_point_name='blocks.6.hook_v_input', index=[:, :, 6]) with attribution 0.007008290383964777\n"
     ]
    },
    {
     "name": "stderr",
     "output_type": "stream",
     "text": []
    },
    {
     "name": "stdout",
     "output_type": "stream",
     "text": [
      "NOT PRUNING upstream_component=ModelComponent(hook_point_name='blocks.3.attn.hook_result', index=[:, :, 6]) downstream_component=ModelComponent(hook_point_name='blocks.6.hook_v_input', index=[:, :, 0]) with attribution 0.011748755350708961\n",
      "NOT PRUNING upstream_component=ModelComponent(hook_point_name='blocks.3.attn.hook_result', index=[:, :, 6]) downstream_component=ModelComponent(hook_point_name='blocks.6.hook_k_input', index=[:, :, 9]) with attribution 0.05334797501564026\n"
     ]
    },
    {
     "name": "stderr",
     "output_type": "stream",
     "text": []
    },
    {
     "name": "stdout",
     "output_type": "stream",
     "text": [
      "NOT PRUNING upstream_component=ModelComponent(hook_point_name='blocks.3.attn.hook_result', index=[:, :, 6]) downstream_component=ModelComponent(hook_point_name='blocks.6.hook_q_input', index=[:, :, 9]) with attribution 0.006103231105953455\n"
     ]
    },
    {
     "name": "stderr",
     "output_type": "stream",
     "text": []
    },
    {
     "name": "stdout",
     "output_type": "stream",
     "text": [
      "NOT PRUNING upstream_component=ModelComponent(hook_point_name='blocks.3.attn.hook_result', index=[:, :, 6]) downstream_component=ModelComponent(hook_point_name='blocks.5.hook_mlp_in', index=[:]) with attribution 0.07174596935510635\n",
      "NOT PRUNING upstream_component=ModelComponent(hook_point_name='blocks.3.attn.hook_result', index=[:, :, 6]) downstream_component=ModelComponent(hook_point_name='blocks.5.hook_v_input', index=[:, :, 9]) with attribution 0.01047657523304224\n"
     ]
    },
    {
     "name": "stderr",
     "output_type": "stream",
     "text": []
    },
    {
     "name": "stdout",
     "output_type": "stream",
     "text": [
      "NOT PRUNING upstream_component=ModelComponent(hook_point_name='blocks.3.attn.hook_result', index=[:, :, 6]) downstream_component=ModelComponent(hook_point_name='blocks.5.hook_v_input', index=[:, :, 5]) with attribution 0.0116070955991745\n",
      "NOT PRUNING upstream_component=ModelComponent(hook_point_name='blocks.3.attn.hook_result', index=[:, :, 6]) downstream_component=ModelComponent(hook_point_name='blocks.5.hook_v_input', index=[:, :, 4]) with attribution 0.005133357364684343\n",
      "NOT PRUNING upstream_component=ModelComponent(hook_point_name='blocks.3.attn.hook_result', index=[:, :, 6]) downstream_component=ModelComponent(hook_point_name='blocks.5.hook_v_input', index=[:, :, 2]) with attribution 0.011961966753005981\n"
     ]
    },
    {
     "name": "stderr",
     "output_type": "stream",
     "text": []
    },
    {
     "name": "stdout",
     "output_type": "stream",
     "text": [
      "NOT PRUNING upstream_component=ModelComponent(hook_point_name='blocks.3.attn.hook_result', index=[:, :, 6]) downstream_component=ModelComponent(hook_point_name='blocks.5.hook_k_input', index=[:, :, 9]) with attribution 0.012867996469140053\n",
      "NOT PRUNING upstream_component=ModelComponent(hook_point_name='blocks.3.attn.hook_result', index=[:, :, 6]) downstream_component=ModelComponent(hook_point_name='blocks.5.hook_k_input', index=[:, :, 5]) with attribution 0.0327739380300045\n"
     ]
    },
    {
     "name": "stderr",
     "output_type": "stream",
     "text": []
    },
    {
     "name": "stdout",
     "output_type": "stream",
     "text": [
      "NOT PRUNING upstream_component=ModelComponent(hook_point_name='blocks.3.attn.hook_result', index=[:, :, 6]) downstream_component=ModelComponent(hook_point_name='blocks.4.hook_mlp_in', index=[:]) with attribution 0.04215491563081741\n",
      "NOT PRUNING upstream_component=ModelComponent(hook_point_name='blocks.3.attn.hook_result', index=[:, :, 6]) downstream_component=ModelComponent(hook_point_name='blocks.4.hook_v_input', index=[:, :, 11]) with attribution 0.006358727812767029\n",
      "NOT PRUNING upstream_component=ModelComponent(hook_point_name='blocks.3.attn.hook_result', index=[:, :, 6]) downstream_component=ModelComponent(hook_point_name='blocks.4.hook_v_input', index=[:, :, 9]) with attribution 0.00698554003611207\n",
      "NOT PRUNING upstream_component=ModelComponent(hook_point_name='blocks.3.attn.hook_result', index=[:, :, 6]) downstream_component=ModelComponent(hook_point_name='blocks.4.hook_v_input', index=[:, :, 7]) with attribution 0.012884467840194702\n"
     ]
    },
    {
     "name": "stderr",
     "output_type": "stream",
     "text": []
    },
    {
     "name": "stdout",
     "output_type": "stream",
     "text": [
      "NOT PRUNING upstream_component=ModelComponent(hook_point_name='blocks.3.attn.hook_result', index=[:, :, 6]) downstream_component=ModelComponent(hook_point_name='blocks.3.hook_mlp_in', index=[:]) with attribution 0.013467892073094845\n",
      "NOT PRUNING upstream_component=ModelComponent(hook_point_name='blocks.3.attn.hook_result', index=[:, :, 5]) downstream_component=ModelComponent(hook_point_name='blocks.11.hook_k_input', index=[:, :, 10]) with attribution 0.010718596167862415\n",
      "NOT PRUNING upstream_component=ModelComponent(hook_point_name='blocks.3.attn.hook_result', index=[:, :, 5]) downstream_component=ModelComponent(hook_point_name='blocks.11.hook_k_input', index=[:, :, 2]) with attribution 0.005596269853413105\n"
     ]
    },
    {
     "name": "stderr",
     "output_type": "stream",
     "text": []
    },
    {
     "name": "stdout",
     "output_type": "stream",
     "text": [
      "NOT PRUNING upstream_component=ModelComponent(hook_point_name='blocks.3.attn.hook_result', index=[:, :, 5]) downstream_component=ModelComponent(hook_point_name='blocks.10.hook_k_input', index=[:, :, 7]) with attribution 0.008983751758933067\n"
     ]
    },
    {
     "name": "stderr",
     "output_type": "stream",
     "text": []
    },
    {
     "name": "stdout",
     "output_type": "stream",
     "text": [
      "NOT PRUNING upstream_component=ModelComponent(hook_point_name='blocks.3.attn.hook_result', index=[:, :, 5]) downstream_component=ModelComponent(hook_point_name='blocks.9.hook_k_input', index=[:, :, 7]) with attribution 0.008583351038396358\n"
     ]
    },
    {
     "name": "stderr",
     "output_type": "stream",
     "text": []
    },
    {
     "name": "stdout",
     "output_type": "stream",
     "text": [
      "NOT PRUNING upstream_component=ModelComponent(hook_point_name='blocks.3.attn.hook_result', index=[:, :, 5]) downstream_component=ModelComponent(hook_point_name='blocks.8.hook_k_input', index=[:, :, 10]) with attribution 0.01583358459174633\n",
      "NOT PRUNING upstream_component=ModelComponent(hook_point_name='blocks.3.attn.hook_result', index=[:, :, 5]) downstream_component=ModelComponent(hook_point_name='blocks.8.hook_k_input', index=[:, :, 6]) with attribution 0.006825610995292664\n"
     ]
    },
    {
     "name": "stderr",
     "output_type": "stream",
     "text": []
    },
    {
     "name": "stdout",
     "output_type": "stream",
     "text": [
      "NOT PRUNING upstream_component=ModelComponent(hook_point_name='blocks.3.attn.hook_result', index=[:, :, 5]) downstream_component=ModelComponent(hook_point_name='blocks.7.hook_mlp_in', index=[:]) with attribution 0.027064846828579903\n"
     ]
    },
    {
     "name": "stderr",
     "output_type": "stream",
     "text": []
    },
    {
     "name": "stdout",
     "output_type": "stream",
     "text": [
      "NOT PRUNING upstream_component=ModelComponent(hook_point_name='blocks.3.attn.hook_result', index=[:, :, 5]) downstream_component=ModelComponent(hook_point_name='blocks.7.hook_v_input', index=[:, :, 3]) with attribution 0.005171285476535559\n",
      "NOT PRUNING upstream_component=ModelComponent(hook_point_name='blocks.3.attn.hook_result', index=[:, :, 5]) downstream_component=ModelComponent(hook_point_name='blocks.7.hook_k_input', index=[:, :, 9]) with attribution 0.011241467669606209\n",
      "NOT PRUNING upstream_component=ModelComponent(hook_point_name='blocks.3.attn.hook_result', index=[:, :, 5]) downstream_component=ModelComponent(hook_point_name='blocks.7.hook_k_input', index=[:, :, 3]) with attribution 0.005539704114198685\n"
     ]
    },
    {
     "name": "stderr",
     "output_type": "stream",
     "text": []
    },
    {
     "name": "stdout",
     "output_type": "stream",
     "text": [
      "NOT PRUNING upstream_component=ModelComponent(hook_point_name='blocks.3.attn.hook_result', index=[:, :, 5]) downstream_component=ModelComponent(hook_point_name='blocks.6.hook_k_input', index=[:, :, 6]) with attribution 0.007082059979438782\n",
      "NOT PRUNING upstream_component=ModelComponent(hook_point_name='blocks.3.attn.hook_result', index=[:, :, 5]) downstream_component=ModelComponent(hook_point_name='blocks.6.hook_q_input', index=[:, :, 9]) with attribution 0.0052498625591397285\n"
     ]
    },
    {
     "name": "stderr",
     "output_type": "stream",
     "text": []
    },
    {
     "name": "stdout",
     "output_type": "stream",
     "text": [
      "NOT PRUNING upstream_component=ModelComponent(hook_point_name='blocks.3.attn.hook_result', index=[:, :, 5]) downstream_component=ModelComponent(hook_point_name='blocks.5.hook_mlp_in', index=[:]) with attribution 0.01423647440969944\n",
      "NOT PRUNING upstream_component=ModelComponent(hook_point_name='blocks.3.attn.hook_result', index=[:, :, 5]) downstream_component=ModelComponent(hook_point_name='blocks.5.hook_v_input', index=[:, :, 5]) with attribution 0.00781397894024849\n"
     ]
    },
    {
     "name": "stderr",
     "output_type": "stream",
     "text": []
    },
    {
     "name": "stdout",
     "output_type": "stream",
     "text": [
      "NOT PRUNING upstream_component=ModelComponent(hook_point_name='blocks.3.attn.hook_result', index=[:, :, 5]) downstream_component=ModelComponent(hook_point_name='blocks.5.hook_q_input', index=[:, :, 9]) with attribution 0.006616154685616493\n"
     ]
    },
    {
     "name": "stderr",
     "output_type": "stream",
     "text": []
    },
    {
     "name": "stdout",
     "output_type": "stream",
     "text": [
      "NOT PRUNING upstream_component=ModelComponent(hook_point_name='blocks.3.attn.hook_result', index=[:, :, 5]) downstream_component=ModelComponent(hook_point_name='blocks.4.hook_mlp_in', index=[:]) with attribution 0.017808791249990463\n"
     ]
    },
    {
     "name": "stderr",
     "output_type": "stream",
     "text": []
    },
    {
     "name": "stdout",
     "output_type": "stream",
     "text": [
      "NOT PRUNING upstream_component=ModelComponent(hook_point_name='blocks.3.attn.hook_result', index=[:, :, 5]) downstream_component=ModelComponent(hook_point_name='blocks.3.hook_mlp_in', index=[:]) with attribution 0.008264308795332909\n",
      "NOT PRUNING upstream_component=ModelComponent(hook_point_name='blocks.3.attn.hook_result', index=[:, :, 4]) downstream_component=ModelComponent(hook_point_name='blocks.11.hook_k_input', index=[:, :, 10]) with attribution 0.007802597712725401\n",
      "NOT PRUNING upstream_component=ModelComponent(hook_point_name='blocks.3.attn.hook_result', index=[:, :, 4]) downstream_component=ModelComponent(hook_point_name='blocks.11.hook_k_input', index=[:, :, 2]) with attribution 0.006167725659906864\n"
     ]
    },
    {
     "name": "stderr",
     "output_type": "stream",
     "text": []
    },
    {
     "name": "stdout",
     "output_type": "stream",
     "text": [
      "NOT PRUNING upstream_component=ModelComponent(hook_point_name='blocks.3.attn.hook_result', index=[:, :, 4]) downstream_component=ModelComponent(hook_point_name='blocks.10.hook_k_input', index=[:, :, 7]) with attribution 0.00565514899790287\n",
      "NOT PRUNING upstream_component=ModelComponent(hook_point_name='blocks.3.attn.hook_result', index=[:, :, 4]) downstream_component=ModelComponent(hook_point_name='blocks.10.hook_k_input', index=[:, :, 0]) with attribution 0.005796309560537338\n"
     ]
    },
    {
     "name": "stderr",
     "output_type": "stream",
     "text": []
    },
    {
     "name": "stdout",
     "output_type": "stream",
     "text": [
      "NOT PRUNING upstream_component=ModelComponent(hook_point_name='blocks.3.attn.hook_result', index=[:, :, 4]) downstream_component=ModelComponent(hook_point_name='blocks.9.hook_v_input', index=[:, :, 7]) with attribution 0.006454949267208576\n"
     ]
    },
    {
     "name": "stderr",
     "output_type": "stream",
     "text": []
    },
    {
     "name": "stdout",
     "output_type": "stream",
     "text": [
      "NOT PRUNING upstream_component=ModelComponent(hook_point_name='blocks.3.attn.hook_result', index=[:, :, 4]) downstream_component=ModelComponent(hook_point_name='blocks.9.hook_k_input', index=[:, :, 9]) with attribution 0.005092016886919737\n"
     ]
    },
    {
     "name": "stderr",
     "output_type": "stream",
     "text": []
    },
    {
     "name": "stdout",
     "output_type": "stream",
     "text": [
      "NOT PRUNING upstream_component=ModelComponent(hook_point_name='blocks.3.attn.hook_result', index=[:, :, 4]) downstream_component=ModelComponent(hook_point_name='blocks.8.hook_v_input', index=[:, :, 10]) with attribution 0.02644820511341095\n",
      "NOT PRUNING upstream_component=ModelComponent(hook_point_name='blocks.3.attn.hook_result', index=[:, :, 4]) downstream_component=ModelComponent(hook_point_name='blocks.8.hook_v_input', index=[:, :, 6]) with attribution 0.014369633980095387\n"
     ]
    },
    {
     "name": "stderr",
     "output_type": "stream",
     "text": []
    },
    {
     "name": "stdout",
     "output_type": "stream",
     "text": [
      "NOT PRUNING upstream_component=ModelComponent(hook_point_name='blocks.3.attn.hook_result', index=[:, :, 4]) downstream_component=ModelComponent(hook_point_name='blocks.7.hook_mlp_in', index=[:]) with attribution 0.009266979992389679\n",
      "NOT PRUNING upstream_component=ModelComponent(hook_point_name='blocks.3.attn.hook_result', index=[:, :, 4]) downstream_component=ModelComponent(hook_point_name='blocks.7.hook_v_input', index=[:, :, 9]) with attribution 0.014469640329480171\n"
     ]
    },
    {
     "name": "stderr",
     "output_type": "stream",
     "text": []
    },
    {
     "name": "stdout",
     "output_type": "stream",
     "text": [
      "NOT PRUNING upstream_component=ModelComponent(hook_point_name='blocks.3.attn.hook_result', index=[:, :, 4]) downstream_component=ModelComponent(hook_point_name='blocks.7.hook_v_input', index=[:, :, 3]) with attribution 0.005800263024866581\n"
     ]
    },
    {
     "name": "stderr",
     "output_type": "stream",
     "text": []
    },
    {
     "name": "stdout",
     "output_type": "stream",
     "text": [
      "NOT PRUNING upstream_component=ModelComponent(hook_point_name='blocks.3.attn.hook_result', index=[:, :, 4]) downstream_component=ModelComponent(hook_point_name='blocks.7.hook_q_input', index=[:, :, 1]) with attribution 0.011833816766738892\n",
      "NOT PRUNING upstream_component=ModelComponent(hook_point_name='blocks.3.attn.hook_result', index=[:, :, 4]) downstream_component=ModelComponent(hook_point_name='blocks.6.hook_mlp_in', index=[:]) with attribution 0.018305934965610504\n"
     ]
    },
    {
     "name": "stderr",
     "output_type": "stream",
     "text": []
    },
    {
     "name": "stdout",
     "output_type": "stream",
     "text": [
      "NOT PRUNING upstream_component=ModelComponent(hook_point_name='blocks.3.attn.hook_result', index=[:, :, 4]) downstream_component=ModelComponent(hook_point_name='blocks.6.hook_v_input', index=[:, :, 0]) with attribution 0.009282156825065613\n"
     ]
    },
    {
     "name": "stderr",
     "output_type": "stream",
     "text": []
    },
    {
     "name": "stdout",
     "output_type": "stream",
     "text": [
      "NOT PRUNING upstream_component=ModelComponent(hook_point_name='blocks.3.attn.hook_result', index=[:, :, 4]) downstream_component=ModelComponent(hook_point_name='blocks.5.hook_q_input', index=[:, :, 10]) with attribution 0.008029740303754807\n",
      "NOT PRUNING upstream_component=ModelComponent(hook_point_name='blocks.3.attn.hook_result', index=[:, :, 4]) downstream_component=ModelComponent(hook_point_name='blocks.5.hook_q_input', index=[:, :, 9]) with attribution 0.052777715027332306\n"
     ]
    },
    {
     "name": "stderr",
     "output_type": "stream",
     "text": []
    },
    {
     "name": "stdout",
     "output_type": "stream",
     "text": [
      "NOT PRUNING upstream_component=ModelComponent(hook_point_name='blocks.3.attn.hook_result', index=[:, :, 4]) downstream_component=ModelComponent(hook_point_name='blocks.5.hook_q_input', index=[:, :, 0]) with attribution 0.008228754624724388\n",
      "NOT PRUNING upstream_component=ModelComponent(hook_point_name='blocks.3.attn.hook_result', index=[:, :, 4]) downstream_component=ModelComponent(hook_point_name='blocks.4.hook_mlp_in', index=[:]) with attribution 0.03210125491023064\n"
     ]
    },
    {
     "name": "stderr",
     "output_type": "stream",
     "text": []
    },
    {
     "name": "stdout",
     "output_type": "stream",
     "text": [
      "NOT PRUNING upstream_component=ModelComponent(hook_point_name='blocks.3.attn.hook_result', index=[:, :, 4]) downstream_component=ModelComponent(hook_point_name='blocks.4.hook_v_input', index=[:, :, 3]) with attribution 0.011716335080564022\n"
     ]
    },
    {
     "name": "stderr",
     "output_type": "stream",
     "text": []
    },
    {
     "name": "stdout",
     "output_type": "stream",
     "text": [
      "NOT PRUNING upstream_component=ModelComponent(hook_point_name='blocks.3.attn.hook_result', index=[:, :, 4]) downstream_component=ModelComponent(hook_point_name='blocks.4.hook_q_input', index=[:, :, 8]) with attribution 0.005572007969021797\n"
     ]
    },
    {
     "name": "stderr",
     "output_type": "stream",
     "text": []
    },
    {
     "name": "stdout",
     "output_type": "stream",
     "text": [
      "NOT PRUNING upstream_component=ModelComponent(hook_point_name='blocks.3.attn.hook_result', index=[:, :, 4]) downstream_component=ModelComponent(hook_point_name='blocks.3.hook_mlp_in', index=[:]) with attribution 0.013039585202932358\n"
     ]
    },
    {
     "name": "stderr",
     "output_type": "stream",
     "text": []
    },
    {
     "name": "stdout",
     "output_type": "stream",
     "text": [
      "NOT PRUNING upstream_component=ModelComponent(hook_point_name='blocks.3.attn.hook_result', index=[:, :, 3]) downstream_component=ModelComponent(hook_point_name='blocks.9.hook_mlp_in', index=[:]) with attribution 0.007723554037511349\n",
      "NOT PRUNING upstream_component=ModelComponent(hook_point_name='blocks.3.attn.hook_result', index=[:, :, 3]) downstream_component=ModelComponent(hook_point_name='blocks.9.hook_v_input', index=[:, :, 9]) with attribution 0.005338877439498901\n"
     ]
    },
    {
     "name": "stderr",
     "output_type": "stream",
     "text": []
    },
    {
     "name": "stdout",
     "output_type": "stream",
     "text": [
      "NOT PRUNING upstream_component=ModelComponent(hook_point_name='blocks.3.attn.hook_result', index=[:, :, 3]) downstream_component=ModelComponent(hook_point_name='blocks.8.hook_v_input', index=[:, :, 3]) with attribution 0.005281056277453899\n"
     ]
    },
    {
     "name": "stderr",
     "output_type": "stream",
     "text": []
    },
    {
     "name": "stdout",
     "output_type": "stream",
     "text": [
      "NOT PRUNING upstream_component=ModelComponent(hook_point_name='blocks.3.attn.hook_result', index=[:, :, 3]) downstream_component=ModelComponent(hook_point_name='blocks.6.hook_mlp_in', index=[:]) with attribution 0.008877217769622803\n"
     ]
    },
    {
     "name": "stderr",
     "output_type": "stream",
     "text": []
    },
    {
     "name": "stdout",
     "output_type": "stream",
     "text": [
      "NOT PRUNING upstream_component=ModelComponent(hook_point_name='blocks.3.attn.hook_result', index=[:, :, 3]) downstream_component=ModelComponent(hook_point_name='blocks.6.hook_k_input', index=[:, :, 9]) with attribution 0.0946793183684349\n"
     ]
    },
    {
     "name": "stderr",
     "output_type": "stream",
     "text": []
    },
    {
     "name": "stdout",
     "output_type": "stream",
     "text": [
      "NOT PRUNING upstream_component=ModelComponent(hook_point_name='blocks.3.attn.hook_result', index=[:, :, 3]) downstream_component=ModelComponent(hook_point_name='blocks.6.hook_q_input', index=[:, :, 9]) with attribution 0.017184626311063766\n"
     ]
    },
    {
     "name": "stderr",
     "output_type": "stream",
     "text": []
    },
    {
     "name": "stdout",
     "output_type": "stream",
     "text": [
      "NOT PRUNING upstream_component=ModelComponent(hook_point_name='blocks.3.attn.hook_result', index=[:, :, 3]) downstream_component=ModelComponent(hook_point_name='blocks.5.hook_mlp_in', index=[:]) with attribution 0.08987690508365631\n"
     ]
    },
    {
     "name": "stderr",
     "output_type": "stream",
     "text": []
    },
    {
     "name": "stdout",
     "output_type": "stream",
     "text": [
      "NOT PRUNING upstream_component=ModelComponent(hook_point_name='blocks.3.attn.hook_result', index=[:, :, 3]) downstream_component=ModelComponent(hook_point_name='blocks.5.hook_k_input', index=[:, :, 5]) with attribution 0.012197458185255527\n"
     ]
    },
    {
     "name": "stderr",
     "output_type": "stream",
     "text": []
    },
    {
     "name": "stdout",
     "output_type": "stream",
     "text": [
      "NOT PRUNING upstream_component=ModelComponent(hook_point_name='blocks.3.attn.hook_result', index=[:, :, 3]) downstream_component=ModelComponent(hook_point_name='blocks.4.hook_mlp_in', index=[:]) with attribution 0.07200536131858826\n",
      "NOT PRUNING upstream_component=ModelComponent(hook_point_name='blocks.3.attn.hook_result', index=[:, :, 3]) downstream_component=ModelComponent(hook_point_name='blocks.4.hook_v_input', index=[:, :, 11]) with attribution 0.0151675371453166\n",
      "NOT PRUNING upstream_component=ModelComponent(hook_point_name='blocks.3.attn.hook_result', index=[:, :, 3]) downstream_component=ModelComponent(hook_point_name='blocks.4.hook_v_input', index=[:, :, 7]) with attribution 0.018304910510778427\n"
     ]
    },
    {
     "name": "stderr",
     "output_type": "stream",
     "text": []
    },
    {
     "name": "stdout",
     "output_type": "stream",
     "text": [
      "NOT PRUNING upstream_component=ModelComponent(hook_point_name='blocks.3.attn.hook_result', index=[:, :, 3]) downstream_component=ModelComponent(hook_point_name='blocks.3.hook_mlp_in', index=[:]) with attribution 0.006499482784420252\n"
     ]
    },
    {
     "name": "stderr",
     "output_type": "stream",
     "text": []
    },
    {
     "name": "stdout",
     "output_type": "stream",
     "text": [
      "NOT PRUNING upstream_component=ModelComponent(hook_point_name='blocks.3.attn.hook_result', index=[:, :, 2]) downstream_component=ModelComponent(hook_point_name='blocks.9.hook_k_input', index=[:, :, 4]) with attribution 0.005754127167165279\n"
     ]
    },
    {
     "name": "stderr",
     "output_type": "stream",
     "text": []
    },
    {
     "name": "stdout",
     "output_type": "stream",
     "text": [
      "NOT PRUNING upstream_component=ModelComponent(hook_point_name='blocks.3.attn.hook_result', index=[:, :, 2]) downstream_component=ModelComponent(hook_point_name='blocks.7.hook_v_input', index=[:, :, 3]) with attribution 0.005284655839204788\n",
      "NOT PRUNING upstream_component=ModelComponent(hook_point_name='blocks.3.attn.hook_result', index=[:, :, 2]) downstream_component=ModelComponent(hook_point_name='blocks.7.hook_k_input', index=[:, :, 9]) with attribution 0.005217681173235178\n"
     ]
    },
    {
     "name": "stderr",
     "output_type": "stream",
     "text": []
    },
    {
     "name": "stdout",
     "output_type": "stream",
     "text": [
      "NOT PRUNING upstream_component=ModelComponent(hook_point_name='blocks.3.attn.hook_result', index=[:, :, 2]) downstream_component=ModelComponent(hook_point_name='blocks.6.hook_mlp_in', index=[:]) with attribution 0.007162264082580805\n"
     ]
    },
    {
     "name": "stderr",
     "output_type": "stream",
     "text": []
    },
    {
     "name": "stdout",
     "output_type": "stream",
     "text": [
      "NOT PRUNING upstream_component=ModelComponent(hook_point_name='blocks.3.attn.hook_result', index=[:, :, 2]) downstream_component=ModelComponent(hook_point_name='blocks.5.hook_k_input', index=[:, :, 9]) with attribution 0.00534153264015913\n"
     ]
    },
    {
     "name": "stderr",
     "output_type": "stream",
     "text": []
    },
    {
     "name": "stdout",
     "output_type": "stream",
     "text": [
      "NOT PRUNING upstream_component=ModelComponent(hook_point_name='blocks.3.attn.hook_result', index=[:, :, 2]) downstream_component=ModelComponent(hook_point_name='blocks.3.hook_mlp_in', index=[:]) with attribution 0.010112563148140907\n"
     ]
    },
    {
     "name": "stderr",
     "output_type": "stream",
     "text": []
    },
    {
     "name": "stdout",
     "output_type": "stream",
     "text": [
      "NOT PRUNING upstream_component=ModelComponent(hook_point_name='blocks.3.attn.hook_result', index=[:, :, 1]) downstream_component=ModelComponent(hook_point_name='blocks.7.hook_mlp_in', index=[:]) with attribution 0.007617231924086809\n"
     ]
    },
    {
     "name": "stderr",
     "output_type": "stream",
     "text": []
    },
    {
     "name": "stdout",
     "output_type": "stream",
     "text": [
      "NOT PRUNING upstream_component=ModelComponent(hook_point_name='blocks.3.attn.hook_result', index=[:, :, 1]) downstream_component=ModelComponent(hook_point_name='blocks.7.hook_k_input', index=[:, :, 9]) with attribution 0.01060832291841507\n"
     ]
    },
    {
     "name": "stderr",
     "output_type": "stream",
     "text": []
    },
    {
     "name": "stdout",
     "output_type": "stream",
     "text": [
      "NOT PRUNING upstream_component=ModelComponent(hook_point_name='blocks.3.attn.hook_result', index=[:, :, 1]) downstream_component=ModelComponent(hook_point_name='blocks.5.hook_mlp_in', index=[:]) with attribution 0.0058732409961521626\n"
     ]
    },
    {
     "name": "stderr",
     "output_type": "stream",
     "text": []
    },
    {
     "name": "stdout",
     "output_type": "stream",
     "text": [
      "NOT PRUNING upstream_component=ModelComponent(hook_point_name='blocks.3.attn.hook_result', index=[:, :, 1]) downstream_component=ModelComponent(hook_point_name='blocks.3.hook_mlp_in', index=[:]) with attribution 0.006845137570053339\n",
      "NOT PRUNING upstream_component=ModelComponent(hook_point_name='blocks.3.attn.hook_result', index=[:, :, 0]) downstream_component=ModelComponent(hook_point_name='blocks.11.hook_k_input', index=[:, :, 10]) with attribution 0.02096891961991787\n"
     ]
    },
    {
     "name": "stderr",
     "output_type": "stream",
     "text": []
    },
    {
     "name": "stdout",
     "output_type": "stream",
     "text": [
      "NOT PRUNING upstream_component=ModelComponent(hook_point_name='blocks.3.attn.hook_result', index=[:, :, 0]) downstream_component=ModelComponent(hook_point_name='blocks.10.hook_k_input', index=[:, :, 7]) with attribution 0.052758410573005676\n",
      "NOT PRUNING upstream_component=ModelComponent(hook_point_name='blocks.3.attn.hook_result', index=[:, :, 0]) downstream_component=ModelComponent(hook_point_name='blocks.10.hook_k_input', index=[:, :, 2]) with attribution 0.01057859230786562\n",
      "NOT PRUNING upstream_component=ModelComponent(hook_point_name='blocks.3.attn.hook_result', index=[:, :, 0]) downstream_component=ModelComponent(hook_point_name='blocks.10.hook_q_input', index=[:, :, 7]) with attribution 0.005127031356096268\n",
      "NOT PRUNING upstream_component=ModelComponent(hook_point_name='blocks.3.attn.hook_result', index=[:, :, 0]) downstream_component=ModelComponent(hook_point_name='blocks.9.hook_mlp_in', index=[:]) with attribution 0.023168465122580528\n"
     ]
    },
    {
     "name": "stderr",
     "output_type": "stream",
     "text": []
    },
    {
     "name": "stdout",
     "output_type": "stream",
     "text": [
      "NOT PRUNING upstream_component=ModelComponent(hook_point_name='blocks.3.attn.hook_result', index=[:, :, 0]) downstream_component=ModelComponent(hook_point_name='blocks.9.hook_v_input', index=[:, :, 7]) with attribution 0.014384285546839237\n",
      "NOT PRUNING upstream_component=ModelComponent(hook_point_name='blocks.3.attn.hook_result', index=[:, :, 0]) downstream_component=ModelComponent(hook_point_name='blocks.9.hook_k_input', index=[:, :, 9]) with attribution 0.015306813642382622\n",
      "NOT PRUNING upstream_component=ModelComponent(hook_point_name='blocks.3.attn.hook_result', index=[:, :, 0]) downstream_component=ModelComponent(hook_point_name='blocks.9.hook_k_input', index=[:, :, 8]) with attribution 0.0055293310433626175\n",
      "NOT PRUNING upstream_component=ModelComponent(hook_point_name='blocks.3.attn.hook_result', index=[:, :, 0]) downstream_component=ModelComponent(hook_point_name='blocks.9.hook_k_input', index=[:, :, 7]) with attribution 0.028542853891849518\n"
     ]
    },
    {
     "name": "stderr",
     "output_type": "stream",
     "text": []
    },
    {
     "name": "stdout",
     "output_type": "stream",
     "text": [
      "NOT PRUNING upstream_component=ModelComponent(hook_point_name='blocks.3.attn.hook_result', index=[:, :, 0]) downstream_component=ModelComponent(hook_point_name='blocks.9.hook_q_input', index=[:, :, 7]) with attribution 0.018360113725066185\n",
      "NOT PRUNING upstream_component=ModelComponent(hook_point_name='blocks.3.attn.hook_result', index=[:, :, 0]) downstream_component=ModelComponent(hook_point_name='blocks.9.hook_q_input', index=[:, :, 5]) with attribution 0.006076853722333908\n",
      "NOT PRUNING upstream_component=ModelComponent(hook_point_name='blocks.3.attn.hook_result', index=[:, :, 0]) downstream_component=ModelComponent(hook_point_name='blocks.9.hook_q_input', index=[:, :, 0]) with attribution 0.007847276516258717\n",
      "NOT PRUNING upstream_component=ModelComponent(hook_point_name='blocks.3.attn.hook_result', index=[:, :, 0]) downstream_component=ModelComponent(hook_point_name='blocks.8.hook_mlp_in', index=[:]) with attribution 0.01972634717822075\n",
      "NOT PRUNING upstream_component=ModelComponent(hook_point_name='blocks.3.attn.hook_result', index=[:, :, 0]) downstream_component=ModelComponent(hook_point_name='blocks.8.hook_v_input', index=[:, :, 10]) with attribution 0.13250048458576202\n",
      "NOT PRUNING upstream_component=ModelComponent(hook_point_name='blocks.3.attn.hook_result', index=[:, :, 0]) downstream_component=ModelComponent(hook_point_name='blocks.8.hook_v_input', index=[:, :, 6]) with attribution 0.07520151883363724\n",
      "NOT PRUNING upstream_component=ModelComponent(hook_point_name='blocks.3.attn.hook_result', index=[:, :, 0]) downstream_component=ModelComponent(hook_point_name='blocks.8.hook_v_input', index=[:, :, 5]) with attribution 0.008456814102828503\n",
      "NOT PRUNING upstream_component=ModelComponent(hook_point_name='blocks.3.attn.hook_result', index=[:, :, 0]) downstream_component=ModelComponent(hook_point_name='blocks.8.hook_v_input', index=[:, :, 3]) with attribution 0.005638676695525646\n"
     ]
    },
    {
     "name": "stderr",
     "output_type": "stream",
     "text": []
    },
    {
     "name": "stdout",
     "output_type": "stream",
     "text": [
      "NOT PRUNING upstream_component=ModelComponent(hook_point_name='blocks.3.attn.hook_result', index=[:, :, 0]) downstream_component=ModelComponent(hook_point_name='blocks.8.hook_k_input', index=[:, :, 10]) with attribution 0.10334643721580505\n",
      "NOT PRUNING upstream_component=ModelComponent(hook_point_name='blocks.3.attn.hook_result', index=[:, :, 0]) downstream_component=ModelComponent(hook_point_name='blocks.8.hook_k_input', index=[:, :, 6]) with attribution 0.05511564388871193\n"
     ]
    },
    {
     "name": "stderr",
     "output_type": "stream",
     "text": []
    },
    {
     "name": "stdout",
     "output_type": "stream",
     "text": [
      "NOT PRUNING upstream_component=ModelComponent(hook_point_name='blocks.3.attn.hook_result', index=[:, :, 0]) downstream_component=ModelComponent(hook_point_name='blocks.8.hook_q_input', index=[:, :, 10]) with attribution 0.005461220629513264\n",
      "NOT PRUNING upstream_component=ModelComponent(hook_point_name='blocks.3.attn.hook_result', index=[:, :, 0]) downstream_component=ModelComponent(hook_point_name='blocks.8.hook_q_input', index=[:, :, 9]) with attribution 0.007170845288783312\n",
      "NOT PRUNING upstream_component=ModelComponent(hook_point_name='blocks.3.attn.hook_result', index=[:, :, 0]) downstream_component=ModelComponent(hook_point_name='blocks.8.hook_q_input', index=[:, :, 3]) with attribution 0.006890617776662111\n"
     ]
    },
    {
     "name": "stderr",
     "output_type": "stream",
     "text": []
    },
    {
     "name": "stdout",
     "output_type": "stream",
     "text": [
      "NOT PRUNING upstream_component=ModelComponent(hook_point_name='blocks.3.attn.hook_result', index=[:, :, 0]) downstream_component=ModelComponent(hook_point_name='blocks.7.hook_mlp_in', index=[:]) with attribution 0.03573570027947426\n",
      "NOT PRUNING upstream_component=ModelComponent(hook_point_name='blocks.3.attn.hook_result', index=[:, :, 0]) downstream_component=ModelComponent(hook_point_name='blocks.7.hook_v_input', index=[:, :, 9]) with attribution 0.042218126356601715\n",
      "NOT PRUNING upstream_component=ModelComponent(hook_point_name='blocks.3.attn.hook_result', index=[:, :, 0]) downstream_component=ModelComponent(hook_point_name='blocks.7.hook_v_input', index=[:, :, 6]) with attribution 0.005587011110037565\n",
      "NOT PRUNING upstream_component=ModelComponent(hook_point_name='blocks.3.attn.hook_result', index=[:, :, 0]) downstream_component=ModelComponent(hook_point_name='blocks.7.hook_v_input', index=[:, :, 3]) with attribution 0.05020968243479729\n"
     ]
    },
    {
     "name": "stderr",
     "output_type": "stream",
     "text": []
    },
    {
     "name": "stdout",
     "output_type": "stream",
     "text": [
      "NOT PRUNING upstream_component=ModelComponent(hook_point_name='blocks.3.attn.hook_result', index=[:, :, 0]) downstream_component=ModelComponent(hook_point_name='blocks.7.hook_k_input', index=[:, :, 9]) with attribution 0.08197318017482758\n",
      "NOT PRUNING upstream_component=ModelComponent(hook_point_name='blocks.3.attn.hook_result', index=[:, :, 0]) downstream_component=ModelComponent(hook_point_name='blocks.7.hook_k_input', index=[:, :, 3]) with attribution 0.0244823656976223\n"
     ]
    },
    {
     "name": "stderr",
     "output_type": "stream",
     "text": [
      "\n"
     ]
    },
    {
     "name": "stdout",
     "output_type": "stream",
     "text": [
      "NOT PRUNING upstream_component=ModelComponent(hook_point_name='blocks.3.attn.hook_result', index=[:, :, 0]) downstream_component=ModelComponent(hook_point_name='blocks.7.hook_q_input', index=[:, :, 11]) with attribution 0.01061628945171833\n",
      "NOT PRUNING upstream_component=ModelComponent(hook_point_name='blocks.3.attn.hook_result', index=[:, :, 0]) downstream_component=ModelComponent(hook_point_name='blocks.7.hook_q_input', index=[:, :, 10]) with attribution 0.00755721889436245\n",
      "NOT PRUNING upstream_component=ModelComponent(hook_point_name='blocks.3.attn.hook_result', index=[:, :, 0]) downstream_component=ModelComponent(hook_point_name='blocks.7.hook_q_input', index=[:, :, 7]) with attribution 0.007188563700765371\n",
      "NOT PRUNING upstream_component=ModelComponent(hook_point_name='blocks.3.attn.hook_result', index=[:, :, 0]) downstream_component=ModelComponent(hook_point_name='blocks.7.hook_q_input', index=[:, :, 6]) with attribution 0.010560084134340286\n",
      "NOT PRUNING upstream_component=ModelComponent(hook_point_name='blocks.3.attn.hook_result', index=[:, :, 0]) downstream_component=ModelComponent(hook_point_name='blocks.7.hook_q_input', index=[:, :, 5]) with attribution 0.014148104004561901\n",
      "NOT PRUNING upstream_component=ModelComponent(hook_point_name='blocks.3.attn.hook_result', index=[:, :, 0]) downstream_component=ModelComponent(hook_point_name='blocks.7.hook_q_input', index=[:, :, 3]) with attribution 0.009280914440751076\n"
     ]
    },
    {
     "name": "stderr",
     "output_type": "stream",
     "text": [
      " 75%|███████▍  | 51804/69420 [07:12<05:51, 50.17it/s]\u001b[A"
     ]
    },
    {
     "name": "stdout",
     "output_type": "stream",
     "text": [
      "NOT PRUNING upstream_component=ModelComponent(hook_point_name='blocks.3.attn.hook_result', index=[:, :, 0]) downstream_component=ModelComponent(hook_point_name='blocks.7.hook_q_input', index=[:, :, 1]) with attribution 0.14247874915599823\n",
      "NOT PRUNING upstream_component=ModelComponent(hook_point_name='blocks.3.attn.hook_result', index=[:, :, 0]) downstream_component=ModelComponent(hook_point_name='blocks.6.hook_mlp_in', index=[:]) with attribution 0.06201101094484329\n",
      "NOT PRUNING upstream_component=ModelComponent(hook_point_name='blocks.3.attn.hook_result', index=[:, :, 0]) downstream_component=ModelComponent(hook_point_name='blocks.6.hook_v_input', index=[:, :, 7]) with attribution 0.007051040884107351\n"
     ]
    },
    {
     "name": "stderr",
     "output_type": "stream",
     "text": []
    },
    {
     "name": "stdout",
     "output_type": "stream",
     "text": [
      "NOT PRUNING upstream_component=ModelComponent(hook_point_name='blocks.3.attn.hook_result', index=[:, :, 0]) downstream_component=ModelComponent(hook_point_name='blocks.6.hook_v_input', index=[:, :, 6]) with attribution 0.047694891691207886\n",
      "NOT PRUNING upstream_component=ModelComponent(hook_point_name='blocks.3.attn.hook_result', index=[:, :, 0]) downstream_component=ModelComponent(hook_point_name='blocks.6.hook_v_input', index=[:, :, 5]) with attribution 0.008290881291031837\n",
      "NOT PRUNING upstream_component=ModelComponent(hook_point_name='blocks.3.attn.hook_result', index=[:, :, 0]) downstream_component=ModelComponent(hook_point_name='blocks.6.hook_v_input', index=[:, :, 2]) with attribution 0.007834007032215595\n",
      "NOT PRUNING upstream_component=ModelComponent(hook_point_name='blocks.3.attn.hook_result', index=[:, :, 0]) downstream_component=ModelComponent(hook_point_name='blocks.6.hook_v_input', index=[:, :, 0]) with attribution 0.0505053773522377\n"
     ]
    },
    {
     "name": "stderr",
     "output_type": "stream",
     "text": []
    },
    {
     "name": "stdout",
     "output_type": "stream",
     "text": [
      "NOT PRUNING upstream_component=ModelComponent(hook_point_name='blocks.3.attn.hook_result', index=[:, :, 0]) downstream_component=ModelComponent(hook_point_name='blocks.6.hook_k_input', index=[:, :, 6]) with attribution 0.006179220508784056\n",
      "NOT PRUNING upstream_component=ModelComponent(hook_point_name='blocks.3.attn.hook_result', index=[:, :, 0]) downstream_component=ModelComponent(hook_point_name='blocks.6.hook_k_input', index=[:, :, 5]) with attribution 0.007009698543697596\n",
      "NOT PRUNING upstream_component=ModelComponent(hook_point_name='blocks.3.attn.hook_result', index=[:, :, 0]) downstream_component=ModelComponent(hook_point_name='blocks.6.hook_k_input', index=[:, :, 1]) with attribution 0.008762877434492111\n"
     ]
    },
    {
     "name": "stderr",
     "output_type": "stream",
     "text": []
    },
    {
     "name": "stdout",
     "output_type": "stream",
     "text": [
      "NOT PRUNING upstream_component=ModelComponent(hook_point_name='blocks.3.attn.hook_result', index=[:, :, 0]) downstream_component=ModelComponent(hook_point_name='blocks.6.hook_q_input', index=[:, :, 9]) with attribution 0.16302600502967834\n",
      "NOT PRUNING upstream_component=ModelComponent(hook_point_name='blocks.3.attn.hook_result', index=[:, :, 0]) downstream_component=ModelComponent(hook_point_name='blocks.6.hook_q_input', index=[:, :, 6]) with attribution 0.07750906050205231\n",
      "NOT PRUNING upstream_component=ModelComponent(hook_point_name='blocks.3.attn.hook_result', index=[:, :, 0]) downstream_component=ModelComponent(hook_point_name='blocks.6.hook_q_input', index=[:, :, 5]) with attribution 0.005217025522142649\n",
      "NOT PRUNING upstream_component=ModelComponent(hook_point_name='blocks.3.attn.hook_result', index=[:, :, 0]) downstream_component=ModelComponent(hook_point_name='blocks.6.hook_q_input', index=[:, :, 4]) with attribution 0.033560074865818024\n",
      "NOT PRUNING upstream_component=ModelComponent(hook_point_name='blocks.3.attn.hook_result', index=[:, :, 0]) downstream_component=ModelComponent(hook_point_name='blocks.6.hook_q_input', index=[:, :, 3]) with attribution 0.009928376413881779\n",
      "NOT PRUNING upstream_component=ModelComponent(hook_point_name='blocks.3.attn.hook_result', index=[:, :, 0]) downstream_component=ModelComponent(hook_point_name='blocks.6.hook_q_input', index=[:, :, 1]) with attribution 0.005446922034025192\n"
     ]
    },
    {
     "name": "stderr",
     "output_type": "stream",
     "text": []
    },
    {
     "name": "stdout",
     "output_type": "stream",
     "text": [
      "NOT PRUNING upstream_component=ModelComponent(hook_point_name='blocks.3.attn.hook_result', index=[:, :, 0]) downstream_component=ModelComponent(hook_point_name='blocks.6.hook_q_input', index=[:, :, 0]) with attribution 0.0070639848709106445\n",
      "NOT PRUNING upstream_component=ModelComponent(hook_point_name='blocks.3.attn.hook_result', index=[:, :, 0]) downstream_component=ModelComponent(hook_point_name='blocks.5.hook_mlp_in', index=[:]) with attribution 0.3676580488681793\n",
      "NOT PRUNING upstream_component=ModelComponent(hook_point_name='blocks.3.attn.hook_result', index=[:, :, 0]) downstream_component=ModelComponent(hook_point_name='blocks.5.hook_v_input', index=[:, :, 10]) with attribution 0.006777500733733177\n",
      "NOT PRUNING upstream_component=ModelComponent(hook_point_name='blocks.3.attn.hook_result', index=[:, :, 0]) downstream_component=ModelComponent(hook_point_name='blocks.5.hook_v_input', index=[:, :, 9]) with attribution 0.021103624254465103\n"
     ]
    },
    {
     "name": "stderr",
     "output_type": "stream",
     "text": []
    },
    {
     "name": "stdout",
     "output_type": "stream",
     "text": [
      "NOT PRUNING upstream_component=ModelComponent(hook_point_name='blocks.3.attn.hook_result', index=[:, :, 0]) downstream_component=ModelComponent(hook_point_name='blocks.5.hook_v_input', index=[:, :, 3]) with attribution 0.006600437685847282\n",
      "NOT PRUNING upstream_component=ModelComponent(hook_point_name='blocks.3.attn.hook_result', index=[:, :, 0]) downstream_component=ModelComponent(hook_point_name='blocks.5.hook_k_input', index=[:, :, 9]) with attribution 0.011732461862266064\n"
     ]
    },
    {
     "name": "stderr",
     "output_type": "stream",
     "text": []
    },
    {
     "name": "stdout",
     "output_type": "stream",
     "text": [
      "NOT PRUNING upstream_component=ModelComponent(hook_point_name='blocks.3.attn.hook_result', index=[:, :, 0]) downstream_component=ModelComponent(hook_point_name='blocks.5.hook_q_input', index=[:, :, 10]) with attribution 0.0364362932741642\n",
      "NOT PRUNING upstream_component=ModelComponent(hook_point_name='blocks.3.attn.hook_result', index=[:, :, 0]) downstream_component=ModelComponent(hook_point_name='blocks.5.hook_q_input', index=[:, :, 9]) with attribution 0.11123256385326385\n",
      "NOT PRUNING upstream_component=ModelComponent(hook_point_name='blocks.3.attn.hook_result', index=[:, :, 0]) downstream_component=ModelComponent(hook_point_name='blocks.5.hook_q_input', index=[:, :, 8]) with attribution 0.02288549207150936\n",
      "NOT PRUNING upstream_component=ModelComponent(hook_point_name='blocks.3.attn.hook_result', index=[:, :, 0]) downstream_component=ModelComponent(hook_point_name='blocks.5.hook_q_input', index=[:, :, 5]) with attribution 0.0747164934873581\n"
     ]
    },
    {
     "name": "stderr",
     "output_type": "stream",
     "text": []
    },
    {
     "name": "stdout",
     "output_type": "stream",
     "text": [
      "NOT PRUNING upstream_component=ModelComponent(hook_point_name='blocks.3.attn.hook_result', index=[:, :, 0]) downstream_component=ModelComponent(hook_point_name='blocks.5.hook_q_input', index=[:, :, 0]) with attribution 0.005070095881819725\n",
      "NOT PRUNING upstream_component=ModelComponent(hook_point_name='blocks.3.attn.hook_result', index=[:, :, 0]) downstream_component=ModelComponent(hook_point_name='blocks.4.hook_mlp_in', index=[:]) with attribution 0.30368831753730774\n",
      "NOT PRUNING upstream_component=ModelComponent(hook_point_name='blocks.3.attn.hook_result', index=[:, :, 0]) downstream_component=ModelComponent(hook_point_name='blocks.4.hook_v_input', index=[:, :, 11]) with attribution 0.0054748705588281155\n"
     ]
    },
    {
     "name": "stderr",
     "output_type": "stream",
     "text": []
    },
    {
     "name": "stdout",
     "output_type": "stream",
     "text": [
      "NOT PRUNING upstream_component=ModelComponent(hook_point_name='blocks.3.attn.hook_result', index=[:, :, 0]) downstream_component=ModelComponent(hook_point_name='blocks.4.hook_v_input', index=[:, :, 3]) with attribution 0.03459486365318298\n"
     ]
    },
    {
     "name": "stderr",
     "output_type": "stream",
     "text": []
    },
    {
     "name": "stdout",
     "output_type": "stream",
     "text": [
      "NOT PRUNING upstream_component=ModelComponent(hook_point_name='blocks.3.attn.hook_result', index=[:, :, 0]) downstream_component=ModelComponent(hook_point_name='blocks.4.hook_q_input', index=[:, :, 8]) with attribution 0.01242965366691351\n",
      "NOT PRUNING upstream_component=ModelComponent(hook_point_name='blocks.3.attn.hook_result', index=[:, :, 0]) downstream_component=ModelComponent(hook_point_name='blocks.4.hook_q_input', index=[:, :, 6]) with attribution 0.006441317964345217\n",
      "NOT PRUNING upstream_component=ModelComponent(hook_point_name='blocks.3.attn.hook_result', index=[:, :, 0]) downstream_component=ModelComponent(hook_point_name='blocks.4.hook_q_input', index=[:, :, 4]) with attribution 0.017042746767401695\n",
      "NOT PRUNING upstream_component=ModelComponent(hook_point_name='blocks.3.attn.hook_result', index=[:, :, 0]) downstream_component=ModelComponent(hook_point_name='blocks.3.hook_mlp_in', index=[:]) with attribution 0.07036934792995453\n"
     ]
    },
    {
     "name": "stderr",
     "output_type": "stream",
     "text": []
    },
    {
     "name": "stdout",
     "output_type": "stream",
     "text": [
      "NOT PRUNING upstream_component=ModelComponent(hook_point_name='blocks.2.hook_mlp_out', index=[:]) downstream_component=ModelComponent(hook_point_name='blocks.11.hook_v_input', index=[:, :, 10]) with attribution 0.038599465042352676\n",
      "NOT PRUNING upstream_component=ModelComponent(hook_point_name='blocks.2.hook_mlp_out', index=[:]) downstream_component=ModelComponent(hook_point_name='blocks.11.hook_v_input', index=[:, :, 2]) with attribution 0.005369327962398529\n",
      "NOT PRUNING upstream_component=ModelComponent(hook_point_name='blocks.2.hook_mlp_out', index=[:]) downstream_component=ModelComponent(hook_point_name='blocks.11.hook_k_input', index=[:, :, 10]) with attribution 0.08349184691905975\n",
      "NOT PRUNING upstream_component=ModelComponent(hook_point_name='blocks.2.hook_mlp_out', index=[:]) downstream_component=ModelComponent(hook_point_name='blocks.11.hook_k_input', index=[:, :, 6]) with attribution 0.013093573972582817\n",
      "NOT PRUNING upstream_component=ModelComponent(hook_point_name='blocks.2.hook_mlp_out', index=[:]) downstream_component=ModelComponent(hook_point_name='blocks.11.hook_k_input', index=[:, :, 2]) with attribution 0.01830374449491501\n",
      "NOT PRUNING upstream_component=ModelComponent(hook_point_name='blocks.2.hook_mlp_out', index=[:]) downstream_component=ModelComponent(hook_point_name='blocks.11.hook_k_input', index=[:, :, 1]) with attribution 0.009245678782463074\n",
      "NOT PRUNING upstream_component=ModelComponent(hook_point_name='blocks.2.hook_mlp_out', index=[:]) downstream_component=ModelComponent(hook_point_name='blocks.10.hook_v_input', index=[:, :, 10]) with attribution 0.00804649107158184\n"
     ]
    },
    {
     "name": "stderr",
     "output_type": "stream",
     "text": []
    },
    {
     "name": "stdout",
     "output_type": "stream",
     "text": [
      "NOT PRUNING upstream_component=ModelComponent(hook_point_name='blocks.2.hook_mlp_out', index=[:]) downstream_component=ModelComponent(hook_point_name='blocks.10.hook_v_input', index=[:, :, 7]) with attribution 0.047335825860500336\n",
      "NOT PRUNING upstream_component=ModelComponent(hook_point_name='blocks.2.hook_mlp_out', index=[:]) downstream_component=ModelComponent(hook_point_name='blocks.10.hook_v_input', index=[:, :, 6]) with attribution 0.016343437135219574\n",
      "NOT PRUNING upstream_component=ModelComponent(hook_point_name='blocks.2.hook_mlp_out', index=[:]) downstream_component=ModelComponent(hook_point_name='blocks.10.hook_v_input', index=[:, :, 2]) with attribution 0.007714811712503433\n",
      "NOT PRUNING upstream_component=ModelComponent(hook_point_name='blocks.2.hook_mlp_out', index=[:]) downstream_component=ModelComponent(hook_point_name='blocks.10.hook_v_input', index=[:, :, 1]) with attribution 0.005142821464687586\n",
      "NOT PRUNING upstream_component=ModelComponent(hook_point_name='blocks.2.hook_mlp_out', index=[:]) downstream_component=ModelComponent(hook_point_name='blocks.10.hook_v_input', index=[:, :, 0]) with attribution 0.01734674721956253\n",
      "NOT PRUNING upstream_component=ModelComponent(hook_point_name='blocks.2.hook_mlp_out', index=[:]) downstream_component=ModelComponent(hook_point_name='blocks.10.hook_k_input', index=[:, :, 10]) with attribution 0.010060681961476803\n",
      "NOT PRUNING upstream_component=ModelComponent(hook_point_name='blocks.2.hook_mlp_out', index=[:]) downstream_component=ModelComponent(hook_point_name='blocks.10.hook_k_input', index=[:, :, 7]) with attribution 0.09420488774776459\n",
      "NOT PRUNING upstream_component=ModelComponent(hook_point_name='blocks.2.hook_mlp_out', index=[:]) downstream_component=ModelComponent(hook_point_name='blocks.10.hook_k_input', index=[:, :, 6]) with attribution 0.008654814213514328\n",
      "NOT PRUNING upstream_component=ModelComponent(hook_point_name='blocks.2.hook_mlp_out', index=[:]) downstream_component=ModelComponent(hook_point_name='blocks.10.hook_k_input', index=[:, :, 2]) with attribution 0.008151102811098099\n",
      "NOT PRUNING upstream_component=ModelComponent(hook_point_name='blocks.2.hook_mlp_out', index=[:]) downstream_component=ModelComponent(hook_point_name='blocks.10.hook_k_input', index=[:, :, 1]) with attribution 0.008367585018277168\n",
      "NOT PRUNING upstream_component=ModelComponent(hook_point_name='blocks.2.hook_mlp_out', index=[:]) downstream_component=ModelComponent(hook_point_name='blocks.10.hook_k_input', index=[:, :, 0]) with attribution 0.022296514362096786\n"
     ]
    },
    {
     "name": "stderr",
     "output_type": "stream",
     "text": []
    },
    {
     "name": "stdout",
     "output_type": "stream",
     "text": [
      "NOT PRUNING upstream_component=ModelComponent(hook_point_name='blocks.2.hook_mlp_out', index=[:]) downstream_component=ModelComponent(hook_point_name='blocks.9.hook_mlp_in', index=[:]) with attribution 0.01677153818309307\n",
      "NOT PRUNING upstream_component=ModelComponent(hook_point_name='blocks.2.hook_mlp_out', index=[:]) downstream_component=ModelComponent(hook_point_name='blocks.9.hook_v_input', index=[:, :, 9]) with attribution 0.012125525623559952\n",
      "NOT PRUNING upstream_component=ModelComponent(hook_point_name='blocks.2.hook_mlp_out', index=[:]) downstream_component=ModelComponent(hook_point_name='blocks.9.hook_v_input', index=[:, :, 7]) with attribution 0.01189547311514616\n",
      "NOT PRUNING upstream_component=ModelComponent(hook_point_name='blocks.2.hook_mlp_out', index=[:]) downstream_component=ModelComponent(hook_point_name='blocks.9.hook_v_input', index=[:, :, 6]) with attribution 0.013902466744184494\n",
      "NOT PRUNING upstream_component=ModelComponent(hook_point_name='blocks.2.hook_mlp_out', index=[:]) downstream_component=ModelComponent(hook_point_name='blocks.9.hook_v_input', index=[:, :, 4]) with attribution 0.005163803696632385\n",
      "NOT PRUNING upstream_component=ModelComponent(hook_point_name='blocks.2.hook_mlp_out', index=[:]) downstream_component=ModelComponent(hook_point_name='blocks.9.hook_k_input', index=[:, :, 8]) with attribution 0.006935947109013796\n",
      "NOT PRUNING upstream_component=ModelComponent(hook_point_name='blocks.2.hook_mlp_out', index=[:]) downstream_component=ModelComponent(hook_point_name='blocks.9.hook_k_input', index=[:, :, 7]) with attribution 0.010591571219265461\n",
      "NOT PRUNING upstream_component=ModelComponent(hook_point_name='blocks.2.hook_mlp_out', index=[:]) downstream_component=ModelComponent(hook_point_name='blocks.9.hook_k_input', index=[:, :, 4]) with attribution 0.009380239993333817\n",
      "NOT PRUNING upstream_component=ModelComponent(hook_point_name='blocks.2.hook_mlp_out', index=[:]) downstream_component=ModelComponent(hook_point_name='blocks.9.hook_q_input', index=[:, :, 7]) with attribution 0.006044110283255577\n",
      "NOT PRUNING upstream_component=ModelComponent(hook_point_name='blocks.2.hook_mlp_out', index=[:]) downstream_component=ModelComponent(hook_point_name='blocks.8.hook_mlp_in', index=[:]) with attribution 0.006166975479573011\n",
      "NOT PRUNING upstream_component=ModelComponent(hook_point_name='blocks.2.hook_mlp_out', index=[:]) downstream_component=ModelComponent(hook_point_name='blocks.8.hook_v_input', index=[:, :, 6]) with attribution 0.015030533075332642\n"
     ]
    },
    {
     "name": "stderr",
     "output_type": "stream",
     "text": []
    },
    {
     "name": "stdout",
     "output_type": "stream",
     "text": [
      "NOT PRUNING upstream_component=ModelComponent(hook_point_name='blocks.2.hook_mlp_out', index=[:]) downstream_component=ModelComponent(hook_point_name='blocks.8.hook_k_input', index=[:, :, 10]) with attribution 0.014148710295557976\n",
      "NOT PRUNING upstream_component=ModelComponent(hook_point_name='blocks.2.hook_mlp_out', index=[:]) downstream_component=ModelComponent(hook_point_name='blocks.8.hook_k_input', index=[:, :, 6]) with attribution 0.06164488568902016\n"
     ]
    },
    {
     "name": "stderr",
     "output_type": "stream",
     "text": []
    },
    {
     "name": "stdout",
     "output_type": "stream",
     "text": [
      "NOT PRUNING upstream_component=ModelComponent(hook_point_name='blocks.2.hook_mlp_out', index=[:]) downstream_component=ModelComponent(hook_point_name='blocks.7.hook_mlp_in', index=[:]) with attribution 0.07313604652881622\n",
      "NOT PRUNING upstream_component=ModelComponent(hook_point_name='blocks.2.hook_mlp_out', index=[:]) downstream_component=ModelComponent(hook_point_name='blocks.7.hook_v_input', index=[:, :, 9]) with attribution 0.008794686757028103\n",
      "NOT PRUNING upstream_component=ModelComponent(hook_point_name='blocks.2.hook_mlp_out', index=[:]) downstream_component=ModelComponent(hook_point_name='blocks.7.hook_k_input', index=[:, :, 9]) with attribution 0.024491077288985252\n"
     ]
    },
    {
     "name": "stderr",
     "output_type": "stream",
     "text": []
    },
    {
     "name": "stdout",
     "output_type": "stream",
     "text": [
      "NOT PRUNING upstream_component=ModelComponent(hook_point_name='blocks.2.hook_mlp_out', index=[:]) downstream_component=ModelComponent(hook_point_name='blocks.7.hook_k_input', index=[:, :, 1]) with attribution 0.006241228431463242\n",
      "NOT PRUNING upstream_component=ModelComponent(hook_point_name='blocks.2.hook_mlp_out', index=[:]) downstream_component=ModelComponent(hook_point_name='blocks.7.hook_q_input', index=[:, :, 11]) with attribution 0.005784580484032631\n",
      "NOT PRUNING upstream_component=ModelComponent(hook_point_name='blocks.2.hook_mlp_out', index=[:]) downstream_component=ModelComponent(hook_point_name='blocks.7.hook_q_input', index=[:, :, 9]) with attribution 0.005630030762404203\n",
      "NOT PRUNING upstream_component=ModelComponent(hook_point_name='blocks.2.hook_mlp_out', index=[:]) downstream_component=ModelComponent(hook_point_name='blocks.7.hook_q_input', index=[:, :, 6]) with attribution 0.010422268882393837\n",
      "NOT PRUNING upstream_component=ModelComponent(hook_point_name='blocks.2.hook_mlp_out', index=[:]) downstream_component=ModelComponent(hook_point_name='blocks.7.hook_q_input', index=[:, :, 5]) with attribution 0.005555185955017805\n",
      "NOT PRUNING upstream_component=ModelComponent(hook_point_name='blocks.2.hook_mlp_out', index=[:]) downstream_component=ModelComponent(hook_point_name='blocks.7.hook_q_input', index=[:, :, 1]) with attribution 0.02519594132900238\n",
      "NOT PRUNING upstream_component=ModelComponent(hook_point_name='blocks.2.hook_mlp_out', index=[:]) downstream_component=ModelComponent(hook_point_name='blocks.6.hook_mlp_in', index=[:]) with attribution 0.01423637941479683\n",
      "NOT PRUNING upstream_component=ModelComponent(hook_point_name='blocks.2.hook_mlp_out', index=[:]) downstream_component=ModelComponent(hook_point_name='blocks.6.hook_v_input', index=[:, :, 8]) with attribution 0.006683876737952232\n"
     ]
    },
    {
     "name": "stderr",
     "output_type": "stream",
     "text": []
    },
    {
     "name": "stdout",
     "output_type": "stream",
     "text": [
      "NOT PRUNING upstream_component=ModelComponent(hook_point_name='blocks.2.hook_mlp_out', index=[:]) downstream_component=ModelComponent(hook_point_name='blocks.6.hook_v_input', index=[:, :, 3]) with attribution 0.0067486814223229885\n",
      "NOT PRUNING upstream_component=ModelComponent(hook_point_name='blocks.2.hook_mlp_out', index=[:]) downstream_component=ModelComponent(hook_point_name='blocks.6.hook_v_input', index=[:, :, 2]) with attribution 0.007129976525902748\n",
      "NOT PRUNING upstream_component=ModelComponent(hook_point_name='blocks.2.hook_mlp_out', index=[:]) downstream_component=ModelComponent(hook_point_name='blocks.6.hook_v_input', index=[:, :, 1]) with attribution 0.005306406877934933\n",
      "NOT PRUNING upstream_component=ModelComponent(hook_point_name='blocks.2.hook_mlp_out', index=[:]) downstream_component=ModelComponent(hook_point_name='blocks.6.hook_k_input', index=[:, :, 9]) with attribution 0.023376652970910072\n",
      "NOT PRUNING upstream_component=ModelComponent(hook_point_name='blocks.2.hook_mlp_out', index=[:]) downstream_component=ModelComponent(hook_point_name='blocks.6.hook_k_input', index=[:, :, 5]) with attribution 0.007373076397925615\n",
      "NOT PRUNING upstream_component=ModelComponent(hook_point_name='blocks.2.hook_mlp_out', index=[:]) downstream_component=ModelComponent(hook_point_name='blocks.6.hook_k_input', index=[:, :, 4]) with attribution 0.008476946502923965\n",
      "NOT PRUNING upstream_component=ModelComponent(hook_point_name='blocks.2.hook_mlp_out', index=[:]) downstream_component=ModelComponent(hook_point_name='blocks.6.hook_k_input', index=[:, :, 0]) with attribution 0.005276958458125591\n"
     ]
    },
    {
     "name": "stderr",
     "output_type": "stream",
     "text": []
    },
    {
     "name": "stdout",
     "output_type": "stream",
     "text": [
      "NOT PRUNING upstream_component=ModelComponent(hook_point_name='blocks.2.hook_mlp_out', index=[:]) downstream_component=ModelComponent(hook_point_name='blocks.6.hook_q_input', index=[:, :, 9]) with attribution 0.027369726449251175\n",
      "NOT PRUNING upstream_component=ModelComponent(hook_point_name='blocks.2.hook_mlp_out', index=[:]) downstream_component=ModelComponent(hook_point_name='blocks.6.hook_q_input', index=[:, :, 5]) with attribution 0.006226651836186647\n",
      "NOT PRUNING upstream_component=ModelComponent(hook_point_name='blocks.2.hook_mlp_out', index=[:]) downstream_component=ModelComponent(hook_point_name='blocks.6.hook_q_input', index=[:, :, 4]) with attribution 0.010552124120295048\n",
      "NOT PRUNING upstream_component=ModelComponent(hook_point_name='blocks.2.hook_mlp_out', index=[:]) downstream_component=ModelComponent(hook_point_name='blocks.6.hook_q_input', index=[:, :, 1]) with attribution 0.006860485300421715\n",
      "NOT PRUNING upstream_component=ModelComponent(hook_point_name='blocks.2.hook_mlp_out', index=[:]) downstream_component=ModelComponent(hook_point_name='blocks.5.hook_mlp_in', index=[:]) with attribution 0.11927830427885056\n",
      "NOT PRUNING upstream_component=ModelComponent(hook_point_name='blocks.2.hook_mlp_out', index=[:]) downstream_component=ModelComponent(hook_point_name='blocks.5.hook_v_input', index=[:, :, 10]) with attribution 0.006471345201134682\n",
      "NOT PRUNING upstream_component=ModelComponent(hook_point_name='blocks.2.hook_mlp_out', index=[:]) downstream_component=ModelComponent(hook_point_name='blocks.5.hook_v_input', index=[:, :, 9]) with attribution 0.008880537003278732\n",
      "NOT PRUNING upstream_component=ModelComponent(hook_point_name='blocks.2.hook_mlp_out', index=[:]) downstream_component=ModelComponent(hook_point_name='blocks.5.hook_v_input', index=[:, :, 5]) with attribution 0.02389298938214779\n"
     ]
    },
    {
     "name": "stderr",
     "output_type": "stream",
     "text": [
      "\n"
     ]
    },
    {
     "name": "stdout",
     "output_type": "stream",
     "text": [
      "NOT PRUNING upstream_component=ModelComponent(hook_point_name='blocks.2.hook_mlp_out', index=[:]) downstream_component=ModelComponent(hook_point_name='blocks.5.hook_k_input', index=[:, :, 10]) with attribution 0.010926696471869946\n",
      "NOT PRUNING upstream_component=ModelComponent(hook_point_name='blocks.2.hook_mlp_out', index=[:]) downstream_component=ModelComponent(hook_point_name='blocks.5.hook_k_input', index=[:, :, 9]) with attribution 0.010638341307640076\n",
      "NOT PRUNING upstream_component=ModelComponent(hook_point_name='blocks.2.hook_mlp_out', index=[:]) downstream_component=ModelComponent(hook_point_name='blocks.5.hook_q_input', index=[:, :, 10]) with attribution 0.006373783573508263\n",
      "NOT PRUNING upstream_component=ModelComponent(hook_point_name='blocks.2.hook_mlp_out', index=[:]) downstream_component=ModelComponent(hook_point_name='blocks.5.hook_q_input', index=[:, :, 9]) with attribution 0.01650853268802166\n",
      "NOT PRUNING upstream_component=ModelComponent(hook_point_name='blocks.2.hook_mlp_out', index=[:]) downstream_component=ModelComponent(hook_point_name='blocks.5.hook_q_input', index=[:, :, 8]) with attribution 0.01343584805727005\n",
      "NOT PRUNING upstream_component=ModelComponent(hook_point_name='blocks.2.hook_mlp_out', index=[:]) downstream_component=ModelComponent(hook_point_name='blocks.5.hook_q_input', index=[:, :, 5]) with attribution 0.021182332187891006\n"
     ]
    },
    {
     "name": "stderr",
     "output_type": "stream",
     "text": [
      " 75%|███████▌  | 52323/69420 [07:18<02:58, 95.82it/s]\u001b[A"
     ]
    },
    {
     "name": "stdout",
     "output_type": "stream",
     "text": [
      "NOT PRUNING upstream_component=ModelComponent(hook_point_name='blocks.2.hook_mlp_out', index=[:]) downstream_component=ModelComponent(hook_point_name='blocks.4.hook_mlp_in', index=[:]) with attribution 0.030931388959288597\n",
      "NOT PRUNING upstream_component=ModelComponent(hook_point_name='blocks.2.hook_mlp_out', index=[:]) downstream_component=ModelComponent(hook_point_name='blocks.4.hook_v_input', index=[:, :, 6]) with attribution 0.012195606715977192\n",
      "NOT PRUNING upstream_component=ModelComponent(hook_point_name='blocks.2.hook_mlp_out', index=[:]) downstream_component=ModelComponent(hook_point_name='blocks.4.hook_v_input', index=[:, :, 3]) with attribution 0.006474745459854603\n",
      "NOT PRUNING upstream_component=ModelComponent(hook_point_name='blocks.2.hook_mlp_out', index=[:]) downstream_component=ModelComponent(hook_point_name='blocks.4.hook_k_input', index=[:, :, 4]) with attribution 0.00554923340678215\n"
     ]
    },
    {
     "name": "stderr",
     "output_type": "stream",
     "text": []
    },
    {
     "name": "stdout",
     "output_type": "stream",
     "text": [
      "NOT PRUNING upstream_component=ModelComponent(hook_point_name='blocks.2.hook_mlp_out', index=[:]) downstream_component=ModelComponent(hook_point_name='blocks.4.hook_q_input', index=[:, :, 10]) with attribution 0.006087237503379583\n",
      "NOT PRUNING upstream_component=ModelComponent(hook_point_name='blocks.2.hook_mlp_out', index=[:]) downstream_component=ModelComponent(hook_point_name='blocks.4.hook_q_input', index=[:, :, 4]) with attribution 0.011498130857944489\n",
      "NOT PRUNING upstream_component=ModelComponent(hook_point_name='blocks.2.hook_mlp_out', index=[:]) downstream_component=ModelComponent(hook_point_name='blocks.4.hook_q_input', index=[:, :, 1]) with attribution 0.005649034399539232\n",
      "NOT PRUNING upstream_component=ModelComponent(hook_point_name='blocks.2.hook_mlp_out', index=[:]) downstream_component=ModelComponent(hook_point_name='blocks.4.hook_q_input', index=[:, :, 0]) with attribution 0.006123914383351803\n",
      "NOT PRUNING upstream_component=ModelComponent(hook_point_name='blocks.2.hook_mlp_out', index=[:]) downstream_component=ModelComponent(hook_point_name='blocks.3.hook_mlp_in', index=[:]) with attribution 0.04260130971670151\n",
      "NOT PRUNING upstream_component=ModelComponent(hook_point_name='blocks.2.hook_mlp_out', index=[:]) downstream_component=ModelComponent(hook_point_name='blocks.3.hook_v_input', index=[:, :, 7]) with attribution 0.006390654947608709\n",
      "NOT PRUNING upstream_component=ModelComponent(hook_point_name='blocks.2.hook_mlp_out', index=[:]) downstream_component=ModelComponent(hook_point_name='blocks.3.hook_v_input', index=[:, :, 6]) with attribution 0.013284213840961456\n"
     ]
    },
    {
     "name": "stderr",
     "output_type": "stream",
     "text": []
    },
    {
     "name": "stdout",
     "output_type": "stream",
     "text": [
      "NOT PRUNING upstream_component=ModelComponent(hook_point_name='blocks.2.hook_mlp_out', index=[:]) downstream_component=ModelComponent(hook_point_name='blocks.3.hook_v_input', index=[:, :, 5]) with attribution 0.00828264094889164\n",
      "NOT PRUNING upstream_component=ModelComponent(hook_point_name='blocks.2.hook_mlp_out', index=[:]) downstream_component=ModelComponent(hook_point_name='blocks.3.hook_v_input', index=[:, :, 0]) with attribution 0.02436293289065361\n",
      "NOT PRUNING upstream_component=ModelComponent(hook_point_name='blocks.2.hook_mlp_out', index=[:]) downstream_component=ModelComponent(hook_point_name='blocks.3.hook_k_input', index=[:, :, 10]) with attribution 0.00527834752574563\n",
      "NOT PRUNING upstream_component=ModelComponent(hook_point_name='blocks.2.hook_mlp_out', index=[:]) downstream_component=ModelComponent(hook_point_name='blocks.3.hook_k_input', index=[:, :, 7]) with attribution 0.005300623364746571\n",
      "NOT PRUNING upstream_component=ModelComponent(hook_point_name='blocks.2.hook_mlp_out', index=[:]) downstream_component=ModelComponent(hook_point_name='blocks.3.hook_k_input', index=[:, :, 6]) with attribution 0.010769184678792953\n"
     ]
    },
    {
     "name": "stderr",
     "output_type": "stream",
     "text": []
    },
    {
     "name": "stdout",
     "output_type": "stream",
     "text": [
      "NOT PRUNING upstream_component=ModelComponent(hook_point_name='blocks.2.hook_mlp_out', index=[:]) downstream_component=ModelComponent(hook_point_name='blocks.3.hook_k_input', index=[:, :, 4]) with attribution 0.01375263836234808\n",
      "NOT PRUNING upstream_component=ModelComponent(hook_point_name='blocks.2.hook_mlp_out', index=[:]) downstream_component=ModelComponent(hook_point_name='blocks.3.hook_k_input', index=[:, :, 3]) with attribution 0.00922369584441185\n",
      "NOT PRUNING upstream_component=ModelComponent(hook_point_name='blocks.2.hook_mlp_out', index=[:]) downstream_component=ModelComponent(hook_point_name='blocks.3.hook_k_input', index=[:, :, 0]) with attribution 0.05077628791332245\n",
      "NOT PRUNING upstream_component=ModelComponent(hook_point_name='blocks.2.hook_mlp_out', index=[:]) downstream_component=ModelComponent(hook_point_name='blocks.3.hook_q_input', index=[:, :, 6]) with attribution 0.009960059076547623\n",
      "NOT PRUNING upstream_component=ModelComponent(hook_point_name='blocks.2.hook_mlp_out', index=[:]) downstream_component=ModelComponent(hook_point_name='blocks.3.hook_q_input', index=[:, :, 4]) with attribution 0.006716503761708736\n",
      "NOT PRUNING upstream_component=ModelComponent(hook_point_name='blocks.2.hook_mlp_out', index=[:]) downstream_component=ModelComponent(hook_point_name='blocks.3.hook_q_input', index=[:, :, 3]) with attribution 0.010715391486883163\n"
     ]
    },
    {
     "name": "stderr",
     "output_type": "stream",
     "text": []
    },
    {
     "name": "stdout",
     "output_type": "stream",
     "text": [
      "NOT PRUNING upstream_component=ModelComponent(hook_point_name='blocks.2.hook_mlp_out', index=[:]) downstream_component=ModelComponent(hook_point_name='blocks.3.hook_q_input', index=[:, :, 1]) with attribution 0.013263094238936901\n",
      "NOT PRUNING upstream_component=ModelComponent(hook_point_name='blocks.2.hook_mlp_out', index=[:]) downstream_component=ModelComponent(hook_point_name='blocks.3.hook_q_input', index=[:, :, 0]) with attribution 0.06555631756782532\n"
     ]
    },
    {
     "name": "stderr",
     "output_type": "stream",
     "text": []
    },
    {
     "name": "stdout",
     "output_type": "stream",
     "text": [
      "NOT PRUNING upstream_component=ModelComponent(hook_point_name='blocks.2.attn.hook_result', index=[:, :, 11]) downstream_component=ModelComponent(hook_point_name='blocks.7.hook_k_input', index=[:, :, 9]) with attribution 0.008472214452922344\n"
     ]
    },
    {
     "name": "stderr",
     "output_type": "stream",
     "text": []
    },
    {
     "name": "stdout",
     "output_type": "stream",
     "text": [
      "NOT PRUNING upstream_component=ModelComponent(hook_point_name='blocks.2.attn.hook_result', index=[:, :, 11]) downstream_component=ModelComponent(hook_point_name='blocks.6.hook_q_input', index=[:, :, 9]) with attribution 0.00569714093580842\n"
     ]
    },
    {
     "name": "stderr",
     "output_type": "stream",
     "text": []
    },
    {
     "name": "stdout",
     "output_type": "stream",
     "text": [
      "NOT PRUNING upstream_component=ModelComponent(hook_point_name='blocks.2.attn.hook_result', index=[:, :, 11]) downstream_component=ModelComponent(hook_point_name='blocks.5.hook_mlp_in', index=[:]) with attribution 0.009011846967041492\n"
     ]
    },
    {
     "name": "stderr",
     "output_type": "stream",
     "text": []
    },
    {
     "name": "stdout",
     "output_type": "stream",
     "text": [
      "NOT PRUNING upstream_component=ModelComponent(hook_point_name='blocks.2.attn.hook_result', index=[:, :, 11]) downstream_component=ModelComponent(hook_point_name='blocks.2.hook_mlp_in', index=[:]) with attribution 0.009746287018060684\n",
      "NOT PRUNING upstream_component=ModelComponent(hook_point_name='blocks.2.attn.hook_result', index=[:, :, 10]) downstream_component=ModelComponent(hook_point_name='blocks.11.hook_k_input', index=[:, :, 10]) with attribution 0.007407147437334061\n"
     ]
    },
    {
     "name": "stderr",
     "output_type": "stream",
     "text": []
    },
    {
     "name": "stdout",
     "output_type": "stream",
     "text": [
      "NOT PRUNING upstream_component=ModelComponent(hook_point_name='blocks.2.attn.hook_result', index=[:, :, 10]) downstream_component=ModelComponent(hook_point_name='blocks.9.hook_k_input', index=[:, :, 7]) with attribution 0.007820762693881989\n"
     ]
    },
    {
     "name": "stderr",
     "output_type": "stream",
     "text": []
    },
    {
     "name": "stdout",
     "output_type": "stream",
     "text": [
      "NOT PRUNING upstream_component=ModelComponent(hook_point_name='blocks.2.attn.hook_result', index=[:, :, 10]) downstream_component=ModelComponent(hook_point_name='blocks.9.hook_q_input', index=[:, :, 7]) with attribution 0.005306468345224857\n"
     ]
    },
    {
     "name": "stderr",
     "output_type": "stream",
     "text": []
    }
   ],
   "source": [
    "from ACDCPPExperiment import ACDCPPExperiment\n",
    "THRESHOLDS = np.arange(0.005, 0.155, 0.005)\n",
    "RUN_NAME = 'noabs_value'\n",
    "acdcpp_exp = ACDCPPExperiment(model,\n",
    "    clean_dataset.toks,\n",
    "    corr_dataset.toks,\n",
    "    negative_ioi_metric, \n",
    "    negative_ioi_metric, # Arthur changed both to negative_ioi_metric as otherwise it was finding the negative things...\n",
    "    THRESHOLDS,\n",
    "    run_name=RUN_NAME,\n",
    "    verbose=True,\n",
    "    attr_absolute_val=True,\n",
    "    save_graphs_after=0.07,\n",
    "    pruning_mode=\"edge\",\n",
    ")\n",
    "pruned_heads, num_passes, pruned_attrs = acdcpp_exp.run()"
   ]
  },
  {
   "attachments": {},
   "cell_type": "markdown",
   "id": "f3c0b5e5-7732-42da-b92e-687536aca96c",
   "metadata": {},
   "source": [
    "# Save Data"
   ]
  },
  {
   "cell_type": "code",
   "execution_count": null,
   "id": "e9fdca38-9c1a-45ee-8625-93c06b569533",
   "metadata": {},
   "outputs": [],
   "source": [
    "import json\n",
    "\n",
    "for thresh in pruned_heads.keys():\n",
    "   pruned_heads[thresh][0] = list(pruned_heads[thresh][0])\n",
    "   pruned_heads[thresh][1] = list(pruned_heads[thresh][1])\n",
    "\n",
    "cleaned_attrs = {}\n",
    "for thresh in pruned_attrs.keys():\n",
    "    cleaned_attrs[thresh] = {}\n",
    "    for (layer, head), attr in pruned_attrs[thresh].items():\n",
    "        cleaned_attrs[thresh][f'L{layer}H{head}'] = attr\n",
    "        \n",
    "with open(f'{RUN_NAME}_pruned_heads.json', 'w') as f:\n",
    "    json.dump(pruned_heads, f)\n",
    "with open(f'{RUN_NAME}_num_passes.json', 'w') as f:\n",
    "    json.dump(num_passes, f)\n",
    "with open(f'{RUN_NAME}_pruned_attrs.json', 'w') as f:\n",
    "    json.dump(cleaned_attrs, f)"
   ]
  }
 ],
 "metadata": {
  "kernelspec": {
   "display_name": "Python 3 (ipykernel)",
   "language": "python",
   "name": "python3"
  },
  "language_info": {
   "codemirror_mode": {
    "name": "ipython",
    "version": 3
   },
   "file_extension": ".py",
   "mimetype": "text/x-python",
   "name": "python",
   "nbconvert_exporter": "python",
   "pygments_lexer": "ipython3",
   "version": "3.10.0"
  }
 },
 "nbformat": 4,
 "nbformat_minor": 5
}
