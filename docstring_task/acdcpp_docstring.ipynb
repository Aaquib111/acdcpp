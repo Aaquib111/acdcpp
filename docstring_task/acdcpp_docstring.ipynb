{
 "cells": [
  {
   "cell_type": "code",
   "execution_count": null,
   "id": "2861525f-e65f-4dc8-9774-84a5a292a2e5",
   "metadata": {},
   "outputs": [],
   "source": [
    "import os\n",
    "import sys\n",
    "sys.path.append('..')\n",
    "sys.path.append('../Automatic-Circuit-Discovery/')\n",
    "sys.path.append('../tracr/')\n",
    "import IPython\n",
    "ipython = get_ipython()\n",
    "if ipython is not None:\n",
    "    ipython.magic('load_ext autoreload')\n",
    "    ipython.magic('autoreload 2')\n",
    "import torch as t\n",
    "from torch import Tensor\n",
    "\n",
    "from acdc.docstring.utils import get_all_docstring_things\n",
    "device = t.device(\"cuda\" if t.cuda.is_available() else \"CPU\")\n",
    "print(device)"
   ]
  },
  {
   "cell_type": "code",
   "execution_count": null,
   "id": "5306b51d-26b3-47b8-9c08-f77b6a9350ff",
   "metadata": {},
   "outputs": [],
   "source": [
    "all_docstring_items = get_all_docstring_things(num_examples=40, seq_len=5, device=device, metric_name='docstring_metric', correct_incorrect_wandb=False)\n",
    "\n",
    "tl_model = all_docstring_items.tl_model\n",
    "validation_metric = all_docstring_items.validation_metric\n",
    "validation_data = all_docstring_items.validation_data\n",
    "validation_labels = all_docstring_items.validation_labels\n",
    "validation_patch_data = all_docstring_items.validation_patch_data\n",
    "test_metrics = all_docstring_items.test_metrics\n",
    "test_data = all_docstring_items.test_data\n",
    "test_labels = all_docstring_items.test_labels\n",
    "test_patch_data = all_docstring_items.test_patch_data"
   ]
  },
  {
   "cell_type": "code",
   "execution_count": null,
   "id": "15465560-54a2-4433-8c8a-e13a152849e5",
   "metadata": {},
   "outputs": [],
   "source": [
    "def neg_abs_docstring_metric(logits):\n",
    "    return -abs(test_metrics['docstring_metric'](logits))"
   ]
  },
  {
   "cell_type": "code",
   "execution_count": null,
   "id": "73b607c0-cedd-417f-91bb-bd3a430f3068",
   "metadata": {
    "scrolled": false
   },
   "outputs": [],
   "source": [
    "from ACDCPPExperiment import ACDCPPExperiment\n",
    "import numpy as np\n",
    "THRESHOLDS = [-10]#np.logspace(-4, 1, num=20, base=5) # [0.0473844]\n",
    "# I'm just using one threshold so I can move fast!\n",
    "\n",
    "tl_model.reset_hooks()\n",
    "RUN_NAME = 'acdc_edges'\n",
    "acdcpp_exp = ACDCPPExperiment(\n",
    "    model=tl_model,\n",
    "    clean_data=test_data,\n",
    "    corr_data=test_patch_data,\n",
    "    acdc_metric=neg_abs_docstring_metric,\n",
    "    acdcpp_metric=test_metrics['docstring_metric'],\n",
    "    thresholds=THRESHOLDS,\n",
    "    run_name=RUN_NAME,\n",
    "    verbose=True,\n",
    "    attr_absolute_val=True,\n",
    "    save_graphs_after=0,\n",
    "    run_acdcpp=True,\n",
    "    run_acdc=False,\n",
    "    pruning_mode='edge',\n",
    "    no_pruned_nodes_attr=1,\n",
    ")\n",
    "\n",
    "pruned_heads, num_passes, acdcpp_pruned_attrs, acdc_pruned_attrs, edges_after_acdcpp, edges_after_acdc = acdcpp_exp.run()"
   ]
  },
  {
   "attachments": {},
   "cell_type": "markdown",
   "id": "f365601d",
   "metadata": {},
   "source": [
    "## Just run the cell below to save ACDC++ attribution scores"
   ]
  },
  {
   "cell_type": "code",
   "execution_count": null,
   "id": "ffa130cd",
   "metadata": {},
   "outputs": [],
   "source": [
    "print(RUN_NAME)\n",
    "\n",
    "import json\n",
    "with open(f'{RUN_NAME}_acdcpp_scores.json', 'w') as f:\n",
    "    json.dump(acdcpp_pruned_attrs, f)"
   ]
  },
  {
   "cell_type": "code",
   "execution_count": 13,
   "id": "8de54af5",
   "metadata": {},
   "outputs": [
    {
     "data": {
      "text/plain": [
       "4.554133415222168"
      ]
     },
     "execution_count": 13,
     "metadata": {},
     "output_type": "execute_result"
    }
   ],
   "source": [
    "max(acdcpp_pruned_attrs[-10].values()) # 4.55, for blocks.1.hook_k_input[:, :, 4]blocks.0.hook_resid_pre[:]"
   ]
  }
 ],
 "metadata": {
  "kernelspec": {
   "display_name": "Python 3 (ipykernel)",
   "language": "python",
   "name": "python3"
  },
  "language_info": {
   "codemirror_mode": {
    "name": "ipython",
    "version": 3
   },
   "file_extension": ".py",
   "mimetype": "text/x-python",
   "name": "python",
   "nbconvert_exporter": "python",
   "pygments_lexer": "ipython3",
   "version": "3.11.5"
  }
 },
 "nbformat": 4,
 "nbformat_minor": 5
}
