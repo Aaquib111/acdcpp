{
 "cells": [
  {
   "cell_type": "code",
   "execution_count": 1,
   "id": "2861525f-e65f-4dc8-9774-84a5a292a2e5",
   "metadata": {},
   "outputs": [
    {
     "name": "stderr",
     "output_type": "stream",
     "text": [
      "/tmp/ipykernel_56198/1528838084.py:9: DeprecationWarning: `magic(...)` is deprecated since IPython 0.13 (warning added in 8.1), use run_line_magic(magic_name, parameter_s).\n",
      "  ipython.magic('load_ext autoreload')\n",
      "/tmp/ipykernel_56198/1528838084.py:10: DeprecationWarning: `magic(...)` is deprecated since IPython 0.13 (warning added in 8.1), use run_line_magic(magic_name, parameter_s).\n",
      "  ipython.magic('autoreload 2')\n"
     ]
    },
    {
     "name": "stdout",
     "output_type": "stream",
     "text": [
      "cuda\n"
     ]
    }
   ],
   "source": [
    "import os\n",
    "import sys\n",
    "sys.path.append('..')\n",
    "sys.path.append('../Automatic-Circuit-Discovery/')\n",
    "sys.path.append('../tracr/')\n",
    "import IPython\n",
    "ipython = get_ipython()\n",
    "if ipython is not None:\n",
    "    ipython.magic('load_ext autoreload')\n",
    "    ipython.magic('autoreload 2')\n",
    "import torch as t\n",
    "from torch import Tensor\n",
    "\n",
    "from acdc.docstring.utils import get_all_docstring_things\n",
    "device = t.device(\"cuda\" if t.cuda.is_available() else \"CPU\")\n",
    "print(device)"
   ]
  },
  {
   "cell_type": "code",
   "execution_count": 2,
   "id": "5306b51d-26b3-47b8-9c08-f77b6a9350ff",
   "metadata": {},
   "outputs": [
    {
     "name": "stdout",
     "output_type": "stream",
     "text": [
      "Loaded pretrained model attn-only-4l into HookedTransformer\n",
      "Moving model to device:  cuda\n"
     ]
    }
   ],
   "source": [
    "all_docstring_items = get_all_docstring_things(num_examples=40, seq_len=5, device=device, metric_name='docstring_metric', correct_incorrect_wandb=False)\n",
    "\n",
    "tl_model = all_docstring_items.tl_model\n",
    "validation_metric = all_docstring_items.validation_metric\n",
    "validation_data = all_docstring_items.validation_data\n",
    "validation_labels = all_docstring_items.validation_labels\n",
    "validation_patch_data = all_docstring_items.validation_patch_data\n",
    "test_metrics = all_docstring_items.test_metrics\n",
    "test_data = all_docstring_items.test_data\n",
    "test_labels = all_docstring_items.test_labels\n",
    "test_patch_data = all_docstring_items.test_patch_data"
   ]
  },
  {
   "cell_type": "code",
   "execution_count": 3,
   "id": "15465560-54a2-4433-8c8a-e13a152849e5",
   "metadata": {},
   "outputs": [],
   "source": [
    "def neg_abs_docstring_metric(logits):\n",
    "    return -abs(test_metrics['docstring_metric'](logits))"
   ]
  },
  {
   "cell_type": "code",
   "execution_count": null,
   "id": "73b607c0-cedd-417f-91bb-bd3a430f3068",
   "metadata": {
    "scrolled": false
   },
   "outputs": [
    {
     "name": "stderr",
     "output_type": "stream",
     "text": [
      "  0%|          | 0/1 [00:00<?, ?it/s]WARNING:root:cache_all is deprecated and will eventually be removed, use add_caching_hooks or run_with_cache\n",
      "WARNING:root:cache_all is deprecated and will eventually be removed, use add_caching_hooks or run_with_cache\n"
     ]
    },
    {
     "name": "stdout",
     "output_type": "stream",
     "text": [
      "hi\n",
      "self.current_node=TLACDCInterpNode(blocks.3.hook_resid_post, [:])\n"
     ]
    }
   ],
   "source": [
    "from ACDCPPExperiment import ACDCPPExperiment\n",
    "import numpy as np\n",
    "THRESHOLDS = [-10]#np.logspace(-4, 1, num=20, base=5) # [0.0473844]\n",
    "# I'm just using one threshold so I can move fast!\n",
    "\n",
    "tl_model.reset_hooks()\n",
    "RUN_NAME = 'acdc_edges'\n",
    "acdcpp_exp = ACDCPPExperiment(\n",
    "    model=tl_model,\n",
    "    clean_data=test_data,\n",
    "    corr_data=test_patch_data,\n",
    "    acdc_metric=neg_abs_docstring_metric,\n",
    "    acdcpp_metric=test_metrics['docstring_metric'],\n",
    "    thresholds=THRESHOLDS,\n",
    "    run_name=RUN_NAME,\n",
    "    verbose=False,\n",
    "    attr_absolute_val=True,\n",
    "    save_graphs_after=0,\n",
    "    run_acdcpp=False,\n",
    "    run_acdc=True,\n",
    "    pruning_mode='edge',\n",
    "    no_pruned_nodes_attr=1,\n",
    ")\n",
    "\n",
    "pruned_heads, num_passes, acdcpp_pruned_attrs, acdc_pruned_attrs, edges_after_acdcpp, edges_after_acdc = acdcpp_exp.run()"
   ]
  },
  {
   "cell_type": "markdown",
   "id": "f365601d",
   "metadata": {},
   "source": [
    "## Just run the cell below to save ACDC++ attribution scores"
   ]
  },
  {
   "cell_type": "code",
   "execution_count": 5,
   "id": "ffa130cd",
   "metadata": {},
   "outputs": [],
   "source": [
    "import json\n",
    "with open(f'{RUN_NAME}_acdcpp_scores.json', 'w') as f:\n",
    "    json.dump(acdcpp_pruned_attrs, f)"
   ]
  },
  {
   "cell_type": "markdown",
   "id": "12464573",
   "metadata": {},
   "source": [
    "import json\n",
    "\n",
    "cleaned_pp_attrs = {}\n",
    "for thresh in acdcpp_pruned_attrs.keys():\n",
    "    cleaned_pp_attrs[thresh] = {}\n",
    "    for (parent, child), attr in acdcpp_pruned_attrs[thresh].items():\n",
    "        cleaned_pp_attrs[thresh]\\\n",
    "        [f'{child.hook_point_name}{child.replace_parens(child.index)}{parent.hook_point_name}{parent.replace_parens(parent.index)}'] = attr\n",
    "\n",
    "with open(f'{RUN_NAME}_acdc_pruned_attrs.json', 'w') as f:\n",
    "    json.dump(cleaned_pp_attrs, f)"
   ]
  },
  {
   "cell_type": "markdown",
   "id": "d47e68af",
   "metadata": {},
   "source": [
    "import json\n",
    "\n",
    "for thresh in pruned_heads.keys():\n",
    "    pruned_heads[thresh][0] = list(pruned_heads[thresh][0])\n",
    "    pruned_heads[thresh][1] = list(pruned_heads[thresh][1])\n",
    "    \n",
    "cleaned_pp_attrs = {}\n",
    "for thresh in acdcpp_pruned_attrs.keys():\n",
    "    cleaned_pp_attrs[thresh] = {}\n",
    "    for (parent, child), attr in acdcpp_pruned_attrs[thresh].items():\n",
    "        cleaned_pp_attrs[thresh]\\\n",
    "        [f'{child.hook_point_name}{child.replace_parens(child.index)}{parent.hook_point_name}{parent.replace_parens(parent.index)}'] = attr\n",
    "        \n",
    "# Cleaning the edges\n",
    "for thresh in edges_after_acdcpp.keys():\n",
    "    edges_after_acdcpp[thresh] = list(edges_after_acdcpp[thresh])\n",
    "    edges_after_acdc[thresh] = list(edges_after_acdc[thresh])\n",
    "    \n",
    "APPEND = False\n",
    "\n",
    "if APPEND:\n",
    "    with open(f'{RUN_NAME}_pruned_heads.json', 'r') as f:\n",
    "        old_pruned_heads = json.load(f)\n",
    "    with open(f'{RUN_NAME}_acdcpp_pruned_attrs.json', 'r') as f:\n",
    "        old_acdcpp_pruned_attrs = json.load(f)\n",
    "    with open(f'{RUN_NAME}_acdc_pruned_attrs.json', 'r') as f:\n",
    "        old_acdc_pruned_attrs = json.load(f)\n",
    "    with open(f'{RUN_NAME}_num_passes.json', 'r') as f:\n",
    "        old_num_passes = json.load(f)\n",
    "    with open(f'{RUN_NAME}_edges_after_acdcpp.json', 'r') as f:\n",
    "        old_edges_after_acdcpp = json.load(f)\n",
    "    with open(f'{RUN_NAME}_edges_after_acdc.json', 'r') as f:\n",
    "        old_edges_after_acdc = json.load(f)\n",
    "    \n",
    "    pruned_heads = pruned_heads.update(old_pruned_heads)\n",
    "    cleaned_pp_attrs = cleaned_pp_attrs.update(old_acdcpp_pruned_attrs)\n",
    "    acdc_pruned_attrs = acdc_pruned_attrs.update(old_acdc_pruned_attrs)\n",
    "    num_passes = num_passes.update(old_num_passes)\n",
    "    edges_after_acdcpp = edges_after_acdcpp.update(old_edges_after_acdcpp)\n",
    "    edges_after_acdc = edges_after_acdc.update(old_edges_after_acdc)\n",
    "\n",
    "with open(f'{RUN_NAME}_pruned_heads.json', 'w') as f:\n",
    "    json.dump(pruned_heads, f)\n",
    "with open(f'{RUN_NAME}_num_passes.json', 'w') as f:\n",
    "    json.dump(num_passes, f)\n",
    "with open(f'{RUN_NAME}_acdcpp_pruned_attrs.json', 'w') as f:\n",
    "    json.dump(cleaned_pp_attrs, f)\n",
    "with open(f'{RUN_NAME}_acdc_pruned_attrs.json', 'w') as f:\n",
    "    json.dump(acdc_pruned_attrs, f)\n",
    "\n",
    "with open(f'{RUN_NAME}_edges_after_acdcpp.json', 'w') as f:\n",
    "    json.dump(edges_after_acdcpp, f)\n",
    "with open(f'{RUN_NAME}_edges_after_acdc.json', 'w') as f:\n",
    "    json.dump(edges_after_acdc, f)"
   ]
  },
  {
   "cell_type": "code",
   "execution_count": null,
   "id": "844df96e",
   "metadata": {},
   "outputs": [],
   "source": []
  }
 ],
 "metadata": {
  "kernelspec": {
   "display_name": "Python 3 (ipykernel)",
   "language": "python",
   "name": "python3"
  },
  "language_info": {
   "codemirror_mode": {
    "name": "ipython",
    "version": 3
   },
   "file_extension": ".py",
   "mimetype": "text/x-python",
   "name": "python",
   "nbconvert_exporter": "python",
   "pygments_lexer": "ipython3",
   "version": "3.10.11"
  }
 },
 "nbformat": 4,
 "nbformat_minor": 5
}
